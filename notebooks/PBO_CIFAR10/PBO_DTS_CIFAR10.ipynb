{
 "cells": [
  {
   "cell_type": "markdown",
   "metadata": {},
   "source": [
    "# Preferential Bayesian Optimization: Dueling-Thompson Sampling\n",
    "\n",
    "Implementation of the algorithm by Gonzalez et al (2017)."
   ]
  },
  {
   "cell_type": "code",
   "execution_count": null,
   "metadata": {
    "scrolled": false
   },
   "outputs": [],
   "source": [
    "import numpy as np\n",
    "import gpflow\n",
    "import tensorflow as tf\n",
    "import tensorflow_probability as tfp\n",
    "import matplotlib.pyplot as plt\n",
    "import sys\n",
    "import os\n",
    "import datetime\n",
    "import pickle\n",
    "\n",
    "from gpflow.utilities import set_trainable, print_summary\n",
    "gpflow.config.set_default_summary_fmt(\"notebook\")\n",
    "\n",
    "sys.path.append(os.path.split(os.path.split(os.path.split(os.getcwd())[0])[0])[0]) # Move 3 levels up directory to import PBO\n",
    "import PBO"
   ]
  },
  {
   "cell_type": "code",
   "execution_count": null,
   "metadata": {
    "scrolled": false
   },
   "outputs": [],
   "source": [
    "print(\"Num GPUs Available: \", len(tf.config.experimental.list_physical_devices('GPU')))"
   ]
  },
  {
   "cell_type": "code",
   "execution_count": null,
   "metadata": {},
   "outputs": [],
   "source": [
    "gpus = tf.config.experimental.list_physical_devices('GPU')\n",
    "if gpus:\n",
    "    # Restrict TensorFlow to only use the first GPU\n",
    "    try:\n",
    "        for gpu in gpus:\n",
    "              tf.config.experimental.set_memory_growth(gpu, True)\n",
    "        tf.config.experimental.set_visible_devices(gpus[3], 'GPU')\n",
    "        logical_gpus = tf.config.experimental.list_logical_devices('GPU')\n",
    "        print(len(gpus), \"Physical GPUs,\", len(logical_gpus), \"Logical GPU\")\n",
    "    except RuntimeError as e:\n",
    "        # Visible devices must be set before GPUs have been initialized\n",
    "        print(e)"
   ]
  },
  {
   "cell_type": "code",
   "execution_count": null,
   "metadata": {},
   "outputs": [],
   "source": [
    "lengthscale = 5.\n",
    "lengthscale_prior_alpha = tf.constant(2, dtype=tf.float64)\n",
    "lengthscale_prior_beta = tf.constant(0.4, dtype=tf.float64)"
   ]
  },
  {
   "cell_type": "code",
   "execution_count": null,
   "metadata": {},
   "outputs": [],
   "source": [
    "def log(message):\n",
    "    print(str(datetime.datetime.now()) + ': ' + message)"
   ]
  },
  {
   "cell_type": "code",
   "execution_count": null,
   "metadata": {},
   "outputs": [],
   "source": [
    "(xtrain, ytrain), (xtest, ytest) = tf.keras.datasets.cifar10.load_data()"
   ]
  },
  {
   "cell_type": "code",
   "execution_count": null,
   "metadata": {},
   "outputs": [],
   "source": [
    "cifar_embedding = pickle.load( open( \"cifar_embedding.p\", \"rb\" ) )"
   ]
  },
  {
   "cell_type": "code",
   "execution_count": null,
   "metadata": {},
   "outputs": [],
   "source": [
    "embedding_to_class = {}"
   ]
  },
  {
   "cell_type": "code",
   "execution_count": null,
   "metadata": {},
   "outputs": [],
   "source": [
    "for i in range(len(cifar_embedding)):\n",
    "    embedding_to_class[cifar_embedding[i].data.tobytes()] = ytrain[i][0]"
   ]
  },
  {
   "cell_type": "code",
   "execution_count": null,
   "metadata": {},
   "outputs": [],
   "source": [
    "objective = lambda x: PBO.objectives.cifar(x, embedding_to_class)\n",
    "objective_low = np.min(cifar_embedding)\n",
    "objective_high = np.max(cifar_embedding)\n",
    "objective_name = \"CIFAR\"\n",
    "acquisition_name = \"DTS\"\n",
    "experiment_name = \"PBO\" + \"_\" + acquisition_name + \"_\" + objective_name"
   ]
  },
  {
   "cell_type": "code",
   "execution_count": null,
   "metadata": {},
   "outputs": [],
   "source": [
    "def get_class(x):\n",
    "    \"\"\"\n",
    "    :param x: tensor of shape (..., 2). CIFAR-10 embeddings\n",
    "    :return: tensor of shape (..., 1). last dim is int from 0-9 representing class\n",
    "    \"\"\"\n",
    "    shape = x.shape[:-1]\n",
    "    raveled = np.reshape(x, [-1, 2])\n",
    "    raveled_shape = raveled.shape[:-1]\n",
    "    raveled_classes = np.zeros((raveled_shape[0], 1), dtype=np.int8)\n",
    "    \n",
    "    for i in range(raveled_shape[0]):\n",
    "        raveled_classes[i] = embedding_to_class[raveled[i].data.tobytes()]\n",
    "        \n",
    "    return np.reshape(raveled_classes, shape + (1,))"
   ]
  },
  {
   "cell_type": "code",
   "execution_count": null,
   "metadata": {},
   "outputs": [],
   "source": [
    "num_runs = 20\n",
    "num_evals = 20\n",
    "num_samples = 100\n",
    "num_choices = 2\n",
    "input_dims = 2\n",
    "num_maximizers = 20\n",
    "num_init_points = 3\n",
    "num_inducing_init = 3\n",
    "num_discrete_per_dim = 40 # Discretization of continuous input space"
   ]
  },
  {
   "cell_type": "code",
   "execution_count": null,
   "metadata": {},
   "outputs": [],
   "source": [
    "results_dir = os.getcwd() + '/results/' + experiment_name + '/'\n",
    "\n",
    "try:\n",
    "    # Create target Directory\n",
    "    os.makedirs(results_dir)\n",
    "    print(\"Directory \" , results_dir ,  \" created \") \n",
    "except FileExistsError:\n",
    "    print(\"Directory \" , results_dir ,  \" already exists\")"
   ]
  },
  {
   "cell_type": "code",
   "execution_count": null,
   "metadata": {
    "scrolled": true
   },
   "outputs": [],
   "source": [
    "def visualize_model(query_points, y, m, title=\"Model\", cmap=\"Spectral\"):\n",
    "    if query_points.shape[-1] != 2:\n",
    "        return\n",
    "\n",
    "    pos_vals = []\n",
    "    neg_vals = []\n",
    "    for i in range(len(y)):\n",
    "        if y[i]:\n",
    "            pos_vals.append(query_points[i])\n",
    "        else:\n",
    "            neg_vals.append(query_points[i])\n",
    "    pos_vals = np.array(pos_vals)\n",
    "    neg_vals = np.array(neg_vals)\n",
    "\n",
    "    num_discrete_points = num_discrete_per_dim\n",
    "    side = np.linspace(0, 1, num_discrete_points)\n",
    "    X,Y = np.meshgrid(side,side)\n",
    "    preds = tf.transpose(tf.reshape(m.predict_y(combs)[0], [num_discrete_points, num_discrete_points]))\n",
    "    variances = tf.transpose(tf.reshape(PBO.acquisitions.dts.variance_logistic_f(m, combs), [num_discrete_points, num_discrete_points]))\n",
    "\n",
    "    fig, (ax1, ax2) = plt.subplots(1, 2)\n",
    "    fig.suptitle(title)\n",
    "    fig.set_size_inches(18.5, 6.88)\n",
    "    fig.set_dpi((200))\n",
    "    \n",
    "    ax1.axis('equal')\n",
    "    if len(pos_vals) != 0:\n",
    "        ax1.scatter(*pos_vals.T, c=\"black\", marker=\"o\")\n",
    "    if len(neg_vals) != 0:\n",
    "        ax1.scatter(*neg_vals.T, c=\"black\", marker=\"x\")\n",
    "    im1 = ax1.imshow(preds, interpolation='nearest', extent=(0.0, 1.0, 0.0, 1.0), origin='lower', cmap=cmap)\n",
    "    ax1.set_title(\"Mean of y(x, x')\")\n",
    "    ax1.set_xlabel(\"x\")\n",
    "    ax1.set_ylabel(\"x'\")\n",
    "    ax1.axvline(x=0.757, linestyle='--')\n",
    "    fig.colorbar(im1, ax=ax1)\n",
    "\n",
    "    ax2.axis('equal')\n",
    "    if len(pos_vals) != 0:\n",
    "        ax2.scatter(*pos_vals.T, c=\"black\", marker=\"o\")\n",
    "    if len(neg_vals) != 0:\n",
    "        ax2.scatter(*neg_vals.T, c=\"black\", marker=\"x\")\n",
    "    im2 = ax2.imshow(variances, interpolation='nearest', extent=(0.0, 1.0, 0.0, 1.0), origin='lower', cmap=cmap)\n",
    "    ax2.set_title(\"Variance of y(x, x')\")\n",
    "    ax2.set_xlabel(\"x\")\n",
    "    ax2.set_ylabel(\"x'\")\n",
    "    fig.colorbar(im2, ax=ax2)\n",
    "    \n",
    "    plt.savefig(fname=results_dir + title + \".png\")\n",
    "\n",
    "    plt.show()"
   ]
  },
  {
   "cell_type": "code",
   "execution_count": null,
   "metadata": {},
   "outputs": [],
   "source": [
    "def visualize_f_sample(f_vals, cmap=\"Spectral\"):\n",
    "    fig, (ax1) = plt.subplots(1)\n",
    "    fig.suptitle('Sampled f values')\n",
    "    fig.set_size_inches(4, 3.3)\n",
    "    fig.set_dpi((100))\n",
    "    \n",
    "    ax1.axis('equal')\n",
    "    im1 = ax1.imshow(tf.transpose(tf.reshape(f_vals, [num_discrete_points, num_discrete_points])),\n",
    "                     interpolation='nearest', extent=(0.0, 1.0, 0.0, 1.0), origin='lower', cmap=cmap)\n",
    "    ax1.set_xlabel(\"x\")\n",
    "    ax1.set_ylabel(\"x'\")\n",
    "    ax1.axvline(x=0.757, linestyle='--')\n",
    "    fig.colorbar(im1, ax=ax1)"
   ]
  },
  {
   "cell_type": "code",
   "execution_count": null,
   "metadata": {},
   "outputs": [],
   "source": [
    "def std_representation(X, num_choices):\n",
    "    \"\"\"\n",
    "    :param X: tensor of shape (num_data, input_dims * num_choices)\n",
    "    :return: tensor of shape (num_data, num_choices, input_dims)\n",
    "    \"\"\"\n",
    "    input_dims = X.shape[-1] // num_choices\n",
    "    ret_val = np.zeros((X.shape[0], num_choices, input_dims))\n",
    "    \n",
    "    for i in range(num_choices):\n",
    "        ret_val[:, i, :] = X[:, input_dims*i:input_dims*(i+1)]\n",
    "        \n",
    "    return ret_val"
   ]
  },
  {
   "cell_type": "code",
   "execution_count": null,
   "metadata": {},
   "outputs": [],
   "source": [
    "def get_noisy_observation_dts(X, objective):\n",
    "    \"\"\"\n",
    "    :param X: tensor of shape (num_data, input_dims * 2)\n",
    "    :param objective: objective function\n",
    "    \"\"\"\n",
    "    num_data = X.shape[0]\n",
    "    X_std = std_representation(X, num_choices) # (num_data, num_choices, input_dims)\n",
    "    f = PBO.objectives.objective_get_f_neg(X_std, objective)\n",
    "    obs = np.array(PBO.observation_model.gen_observation_from_f(X_std, f, 1))  # (num_data, 1, input_dims)\n",
    "\n",
    "    ret_val = np.zeros((num_data, 1), dtype=np.int8)\n",
    "    for i in range(num_data):\n",
    "        if np.allclose(X_std[i, 0], obs[i, 0]):\n",
    "            ret_val[i] = 1\n",
    "    return ret_val"
   ]
  },
  {
   "cell_type": "code",
   "execution_count": null,
   "metadata": {},
   "outputs": [],
   "source": [
    "def train_and_visualize(X, y, lengthscale, title):\n",
    "    lengthscale_prior = tfp.distributions.Gamma(concentration=lengthscale_prior_alpha,\n",
    "                                               rate=lengthscale_prior_beta)\n",
    "    kernel = gpflow.kernels.Product([gpflow.kernels.RBF(lengthscale=lengthscale, \n",
    "                                                        active_dims=[i, i+input_dims]) \n",
    "                                     for i in range(input_dims)])\n",
    "    for k in kernel.kernels:\n",
    "        k.lengthscale.transform = gpflow.utilities.bijectors.positive(lower=gpflow.default_jitter())\n",
    "        k.lengthscale.prior = lengthscale_prior\n",
    "    \n",
    "    m = gpflow.models.VGP(data=(X, y),\n",
    "                      kernel=kernel,\n",
    "                      likelihood=gpflow.likelihoods.Bernoulli())\n",
    "    optimizer = gpflow.optimizers.Scipy()\n",
    "    optimizer.minimize(lambda: -m.log_likelihood(), m.trainable_variables)\n",
    "    visualize_model(X, y, m, title=title)\n",
    "    return m"
   ]
  },
  {
   "cell_type": "code",
   "execution_count": null,
   "metadata": {},
   "outputs": [],
   "source": [
    "def uniform_grid(input_dims, num_discrete_per_dim, low, high):\n",
    "    \"\"\"\n",
    "    Returns an array with all possible permutations of discrete values in input_dims number of dimensions.\n",
    "    :param input_dims: int\n",
    "    :param num_discrete_per_dim: int\n",
    "    :param low: int\n",
    "    :param high: int\n",
    "    :return: tensor of shape (num_discrete_per_dim ** input_dims, input_dims)\n",
    "    \"\"\"\n",
    "    num_points = num_discrete_per_dim ** input_dims\n",
    "    out = np.zeros([num_points, input_dims])\n",
    "    discrete_points = np.linspace(low, high, num_discrete_per_dim)\n",
    "    for i in range(num_points):\n",
    "        for dim in range(input_dims):\n",
    "            val = num_discrete_per_dim ** (dim)\n",
    "            out[i, dim] = discrete_points[int((i // val) % num_discrete_per_dim)]\n",
    "    return out"
   ]
  },
  {
   "cell_type": "code",
   "execution_count": null,
   "metadata": {},
   "outputs": [],
   "source": [
    "def best_guess(m, discrete_space, combs):\n",
    "    return PBO.acquisitions.dts.soft_copeland_maximizer(m.predict_f(combs)[0], discrete_space)"
   ]
  },
  {
   "cell_type": "code",
   "execution_count": null,
   "metadata": {},
   "outputs": [],
   "source": [
    "def pref_inversions(model):\n",
    "    \"\"\"\n",
    "    Method to evaluate models over discrete preference rankings. Given an objective preference ranking over classes, \n",
    "    we calculate the average mean the model assigns to each class, sort the classes according to this average mean,\n",
    "    then calculate the number of inversions required to reach the desired objective preference ranking. 0 inversions\n",
    "    means the model has learned the preference ranking perfectly. The more inversions, the further away the model is.\n",
    "    \"\"\"\n",
    "    def count_inversions(input_list):\n",
    "        def swap(lst, i, j):\n",
    "            tmp = lst[j]\n",
    "            lst[j] = lst[i]\n",
    "            lst[i] = tmp\n",
    "\n",
    "        lst = input_list.copy()\n",
    "        num_inversions = 0\n",
    "        changed = True\n",
    "        while changed:\n",
    "            changed = False\n",
    "            for i in range(len(lst) - 1):\n",
    "                if lst[i] > lst[i+1]:\n",
    "                    swap(lst, i, i+1)\n",
    "                    num_inversions += 1\n",
    "                    changed = True\n",
    "                    \n",
    "        return num_inversions\n",
    "    \n",
    "    \n",
    "    class_to_posval = {0: -0.1,\n",
    "                     1: -0.2,\n",
    "                     8: -0.3,\n",
    "                     9: -0.4,\n",
    "                     2: -0.5,\n",
    "                     3: -0.6,\n",
    "                     4: -0.7,\n",
    "                     5: -0.8,\n",
    "                     6: -0.9,\n",
    "                     7: -1.}  # higher is more preferred here\n",
    "    \n",
    "    fvals = model.predict_f(cifar_embedding)[0]\n",
    "    indices = get_class(cifar_embedding)\n",
    "    \n",
    "    average_f = tf.scatter_nd(indices=indices,\n",
    "                   updates=np.squeeze(fvals),\n",
    "                   shape=tf.constant([10]))/5000\n",
    "    sorted_f = sorted(list(zip(average_f, range(10))))\n",
    "    \n",
    "    model_posvals = []\n",
    "    for pair in sorted_f:\n",
    "        model_posvals.append(class_to_posval[pair[1]])\n",
    "        \n",
    "    return count_inversions(model_posvals)"
   ]
  },
  {
   "cell_type": "code",
   "execution_count": null,
   "metadata": {},
   "outputs": [],
   "source": [
    "def flip(X):\n",
    "    \"\"\"\n",
    "    :param X: tensor of shape (num_data, input_dims * 2)\n",
    "    :return: tensor of shape (num_data, input_dims * 2), where the first input_dims is swapped with the second\n",
    "    \"\"\"\n",
    "    input_dims = X.shape[-1] // 2\n",
    "    ret_val = np.zeros((X.shape))\n",
    "    for i in range(X.shape[0]):\n",
    "        ret_val[i, :input_dims] = X[i, input_dims:]\n",
    "        ret_val[i, input_dims:] = X[i, :input_dims]\n",
    "    return ret_val"
   ]
  },
  {
   "cell_type": "code",
   "execution_count": null,
   "metadata": {},
   "outputs": [],
   "source": [
    "def flip_y(y):\n",
    "    \"\"\"\n",
    "    :param y: tensor of shape (num_data, 1), with int values either 0 or 1\n",
    "    \"\"\"\n",
    "    return (y + 1) % 2"
   ]
  },
  {
   "cell_type": "markdown",
   "metadata": {},
   "source": [
    "Create the initial values for each run:"
   ]
  },
  {
   "cell_type": "code",
   "execution_count": null,
   "metadata": {},
   "outputs": [],
   "source": [
    "np.random.seed(0)\n",
    "random_indices = np.random.choice(cifar_embedding.shape[0], [num_runs, num_init_points], replace=False)\n",
    "init_points = np.take(cifar_embedding, random_indices, axis=0)\n",
    "num_combs = int((num_init_points-1) * num_init_points / 2)\n",
    "init_vals = np.zeros([num_runs, num_combs, num_choices, input_dims])\n",
    "for run in range(num_runs):\n",
    "    cur_idx = 0\n",
    "    for init_point in range(num_init_points-1):\n",
    "        for next_point in range(init_point+1, num_init_points):\n",
    "            init_vals[run, cur_idx, 0] = init_points[run, init_point]\n",
    "            init_vals[run, cur_idx, 1] = init_points[run, next_point]\n",
    "            cur_idx += 1\n",
    "\n",
    "init_vals = np.reshape(init_vals, [num_runs, num_combs, num_choices * input_dims])"
   ]
  },
  {
   "cell_type": "markdown",
   "metadata": {},
   "source": [
    "Store the results in these arrays:"
   ]
  },
  {
   "cell_type": "code",
   "execution_count": null,
   "metadata": {},
   "outputs": [],
   "source": [
    "num_data_at_end = (num_combs + num_evals) * 2\n",
    "X_results = np.zeros([num_runs, num_data_at_end, input_dims * num_choices])\n",
    "y_results = np.zeros([num_runs, num_data_at_end, 1])\n",
    "best_guess_results = np.zeros([num_runs, num_evals])"
   ]
  },
  {
   "cell_type": "code",
   "execution_count": null,
   "metadata": {
    "scrolled": true
   },
   "outputs": [],
   "source": [
    "for run in range(num_runs):\n",
    "    log(\"Starting run {}\".format(run))\n",
    "    #Fit a GP with kernel k to Dn\n",
    "    \n",
    "    X = init_vals[run]\n",
    "    y = get_noisy_observation_dts(X, objective)\n",
    "    \n",
    "    X = np.vstack([X, flip(X)])\n",
    "    y = np.vstack([y, flip_y(y)])\n",
    "    \n",
    "    model = train_and_visualize(X, y, lengthscale=lengthscale, title=\"Run_{}_Initial_model\".format(run))\n",
    "    \n",
    "    for evaluation in range(num_evals):\n",
    "        log(\"Starting evaluation \" + str(evaluation))\n",
    "        \n",
    "        # Get random subset of cifar_embedding to use per evaluation, as using the whole thing takes up too much space\n",
    "        subset_indices = np.random.choice(cifar_embedding.shape[0], num_discrete_per_dim ** 2, replace=False)\n",
    "        discrete_space = np.take(cifar_embedding, subset_indices, axis=0)\n",
    "        combs = PBO.acquisitions.dts.combinations(discrete_space)\n",
    "        \n",
    "        is_valid_query = False\n",
    "        num_tries = 0\n",
    "        while not is_valid_query:\n",
    "            # Sample f using RFF\n",
    "            f_vals = PBO.acquisitions.dts.sample_f(model, X, combs)\n",
    "\n",
    "            # 2 and 3. Compute the acquisition for duels alpha and get next duel\n",
    "            log(\"Computing acquisition function\")\n",
    "            x_next = PBO.acquisitions.dts.soft_copeland_maximizer(f_vals, discrete_space)        \n",
    "\n",
    "            all_pairs = np.concatenate([np.tile(x_next, (discrete_space.shape[0], 1)), discrete_space], axis=1)\n",
    "            next_vars = np.squeeze(PBO.acquisitions.dts.variance_logistic_f(model, all_pairs), \n",
    "                                   axis=1)\n",
    "            xprime_next = discrete_space[np.argmax(next_vars)]\n",
    "\n",
    "            x_xprime_next = np.expand_dims(np.concatenate([x_next, xprime_next]), axis=0)\n",
    "\n",
    "            # If both x and x' are equal, or the query has already been made, will cause Fourier features matrix\n",
    "            # to become non-invertible later on\n",
    "            if np.all(np.equal(x_xprime_next, flip(x_xprime_next))) or x_xprime_next in X:\n",
    "                log(\"Invalid query, resampling f\")\n",
    "                num_tries += 1\n",
    "                if num_tries >= 100:\n",
    "                    raise ValueError\n",
    "            else:\n",
    "                log(\"x and x_prime: \\n\" + str(x_xprime_next))\n",
    "                is_valid_query = True\n",
    "        \n",
    "        # 4. Run the duel and get y\n",
    "        y_next = get_noisy_observation_dts(x_xprime_next, objective)\n",
    "        log(\"y_next: \\n\" + str(y_next))\n",
    "        \n",
    "        # 5. Augment X and Y, and add symmetric points\n",
    "        X = np.vstack([X, x_xprime_next, flip(x_xprime_next)])\n",
    "        y = np.vstack([y, y_next, flip_y(y_next)])\n",
    "        \n",
    "        # Fit a GP with kernel k to Dj and learn pi(x).\n",
    "        model = train_and_visualize(X, y, lengthscale=lengthscale, title=\"Run_{}_Evaluation_{}\".format(run, evaluation))\n",
    "        \n",
    "        # Save model\n",
    "        kernels_variance = []\n",
    "        kernels_lengthscale = []\n",
    "        for k in model.kernel.kernels:\n",
    "            kernels_variance.append(k.variance.numpy())\n",
    "            kernels_lengthscale.append(k.lengthscale.numpy())\n",
    "\n",
    "        pickle.dump((X, y, \n",
    "                    tuple(kernels_variance),\n",
    "                    tuple(kernels_lengthscale),\n",
    "                    model.q_mu.numpy(),\n",
    "                    model.q_sqrt.numpy()), \n",
    "                 open(results_dir + \"Model_Run_{}_Evaluation_{}.p\".format(run, evaluation), \"wb\"))\n",
    "        \n",
    "        # Get current best guess\n",
    "        best_guess_results[run, evaluation] = pref_inversions(model)\n",
    "\n",
    "    X_results[run] = X\n",
    "    y_results[run] = y"
   ]
  },
  {
   "cell_type": "code",
   "execution_count": null,
   "metadata": {},
   "outputs": [],
   "source": [
    "pickle.dump((X_results, y_results, best_guess_results), open(results_dir + \"Xybestguess.p\", \"wb\"))"
   ]
  },
  {
   "cell_type": "code",
   "execution_count": null,
   "metadata": {
    "scrolled": false
   },
   "outputs": [],
   "source": [
    "for i in range(best_guess_results.shape[0]):    \n",
    "    x_axis = list(range(num_combs+1, num_combs+1+num_evals))\n",
    "    plt.figure(figsize=(12, 6))\n",
    "    plt.plot(x_axis, best_guess_results[i], 'kx', mew=2)\n",
    "    plt.xticks(x_axis)\n",
    "    plt.xlabel('Evaluations', fontsize=18)\n",
    "    plt.ylabel('Inversions', fontsize=16)\n",
    "    plt.title(\"Run %s\" % i)\n",
    "    plt.show()"
   ]
  },
  {
   "cell_type": "code",
   "execution_count": null,
   "metadata": {},
   "outputs": [],
   "source": []
  }
 ],
 "metadata": {
  "kernelspec": {
   "display_name": "Python 3",
   "language": "python",
   "name": "python3"
  },
  "language_info": {
   "codemirror_mode": {
    "name": "ipython",
    "version": 3
   },
   "file_extension": ".py",
   "mimetype": "text/x-python",
   "name": "python",
   "nbconvert_exporter": "python",
   "pygments_lexer": "ipython3",
   "version": "3.7.4"
  }
 },
 "nbformat": 4,
 "nbformat_minor": 2
}
