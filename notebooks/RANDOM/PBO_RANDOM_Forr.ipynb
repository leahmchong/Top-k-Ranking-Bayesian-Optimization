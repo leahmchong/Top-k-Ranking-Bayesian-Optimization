{
 "cells": [
  {
   "cell_type": "markdown",
   "metadata": {},
   "source": [
    "# Preferential Bayesian Optimization: RANDOM\n",
    "This notebook demonstrates the use of random querying on ordinal (preference) data.\n",
    "\n",
    "Formulation by Nguyen Quoc Phong."
   ]
  },
  {
   "cell_type": "code",
   "execution_count": 1,
   "metadata": {},
   "outputs": [],
   "source": [
    "import numpy as np\n",
    "import gpflow\n",
    "import tensorflow as tf\n",
    "import matplotlib.pyplot as plt\n",
    "import sys\n",
    "import os\n",
    "import pickle\n",
    "\n",
    "from gpflow.utilities import set_trainable, print_summary\n",
    "gpflow.config.set_default_summary_fmt(\"notebook\")\n",
    "\n",
    "sys.path.append(os.path.split(os.path.split(os.path.split(os.getcwd())[0])[0])[0]) # Move 3 levels up directory to import PBO\n",
    "import PBO"
   ]
  },
  {
   "cell_type": "code",
   "execution_count": 2,
   "metadata": {},
   "outputs": [],
   "source": [
    "objective = PBO.objectives.forrester\n",
    "objective_low = 0.\n",
    "objective_high = 1.\n",
    "objective_name = \"Forrester\"\n",
    "acquisition_name = \"RANDOM\"\n",
    "experiment_name = \"PBO\" + \"_\" + acquisition_name + \"_\" + objective_name"
   ]
  },
  {
   "cell_type": "code",
   "execution_count": 3,
   "metadata": {},
   "outputs": [],
   "source": [
    "num_runs = 20\n",
    "num_evals = 20\n",
    "num_samples = 100\n",
    "num_choices = 2\n",
    "input_dims = 1\n",
    "num_maximizers = 20\n",
    "num_init_points = 3\n",
    "num_inducing_init = 3\n",
    "num_discrete_per_dim = 10000 # Discretization of continuous input space"
   ]
  },
  {
   "cell_type": "code",
   "execution_count": 4,
   "metadata": {},
   "outputs": [
    {
     "name": "stdout",
     "output_type": "stream",
     "text": [
      "Directory  /home/sebtsh/PBO/notebooks/RANDOM/results/PBO_RANDOM_Forrester/  created \n"
     ]
    }
   ],
   "source": [
    "results_dir = os.getcwd() + '/results/' + experiment_name + '/'\n",
    "\n",
    "try:\n",
    "    # Create target Directory\n",
    "    os.makedirs(results_dir)\n",
    "    print(\"Directory \" , results_dir ,  \" created \") \n",
    "except FileExistsError:\n",
    "    print(\"Directory \" , results_dir ,  \" already exists\")"
   ]
  },
  {
   "cell_type": "markdown",
   "metadata": {},
   "source": [
    "Plot of the Forrester function (global min at ~0.757):"
   ]
  },
  {
   "cell_type": "code",
   "execution_count": 5,
   "metadata": {},
   "outputs": [
    {
     "data": {
      "text/plain": [
       "(-0.0, 1.0)"
      ]
     },
     "execution_count": 5,
     "metadata": {},
     "output_type": "execute_result"
    },
    {
     "data": {
      "image/png": "[encoded data removed]",
      "text/plain": [
       "<Figure size 864x432 with 1 Axes>"
      ]
     },
     "metadata": {
      "needs_background": "light"
     },
     "output_type": "display_data"
    }
   ],
   "source": [
    "xx = np.linspace(0.0, 1.0, 100).reshape(100, 1)\n",
    "plt.figure(figsize=(12, 6))\n",
    "plt.plot(xx, objective(xx), 'C0', linewidth=1)\n",
    "plt.xlim(-0.0, 1.0)"
   ]
  },
  {
   "cell_type": "code",
   "execution_count": 6,
   "metadata": {},
   "outputs": [],
   "source": [
    "def plot_gp(model, X, y, title, cmap=\"Spectral\"):\n",
    "    #Plotting code from GPflow authors\n",
    "\n",
    "    ## generate test points for prediction\n",
    "    xx = np.linspace(-0.1, 1.1, 100).reshape(100, 1)  # test points must be of shape (N, D)\n",
    "\n",
    "    ## predict mean and variance of latent GP at test points\n",
    "    mean, var = model.predict_f(xx)\n",
    "\n",
    "    ## generate 10 samples from posterior\n",
    "    samples = model.predict_f_samples(xx, 10)  # shape (10, 100, 1)\n",
    "\n",
    "    ## plot \n",
    "    plt.figure(figsize=(12, 6))\n",
    "    plt.plot(X, y, 'kx', mew=2)\n",
    "    plt.plot(xx, mean, 'C0', lw=2)\n",
    "    plt.fill_between(xx[:,0],\n",
    "                     mean[:,0] - 1.96 * np.sqrt(var[:,0]),\n",
    "                     mean[:,0] + 1.96 * np.sqrt(var[:,0]),\n",
    "                     color='C0', alpha=0.2)\n",
    "\n",
    "    plt.plot(xx, samples[:, :, 0].numpy().T, 'C0', linewidth=.5)\n",
    "    plt.xlim(-0.1, 1.1)\n",
    "    plt.title(title)\n",
    "\n",
    "    plt.savefig(fname=results_dir + title + \".png\")"
   ]
  },
  {
   "cell_type": "code",
   "execution_count": 7,
   "metadata": {},
   "outputs": [],
   "source": [
    "def get_noisy_observation(X, objective):\n",
    "    f = PBO.objectives.objective_get_f_neg(X, objective)\n",
    "    return PBO.observation_model.gen_observation_from_f(X, f, 1)"
   ]
  },
  {
   "cell_type": "code",
   "execution_count": 8,
   "metadata": {},
   "outputs": [],
   "source": [
    "def train_and_visualize(X, y, num_inducing, title):\n",
    "    \n",
    "    # Train model with data\n",
    "    q_mu, q_sqrt, u, inputs, k, indifference_threshold = PBO.models.learning_stochastic.train_model_fullcov(X, y, \n",
    "                                                                         num_inducing=num_inducing,\n",
    "                                                                         obj_low=objective_low,\n",
    "                                                                         obj_high=objective_high,\n",
    "                                                                         lengthscale=0.05,\n",
    "                                                                         num_steps=3000)\n",
    "    likelihood = gpflow.likelihoods.Gaussian()\n",
    "    model = PBO.models.learning.init_SVGP_fullcov(q_mu, q_sqrt, u, k, likelihood)\n",
    "    u_mean = q_mu.numpy()\n",
    "    inducing_vars = u.numpy()\n",
    "    \n",
    "    # Visualize model\n",
    "    plot_gp(model, inducing_vars, u_mean, title)\n",
    "    \n",
    "    return model, inputs, u_mean, inducing_vars"
   ]
  },
  {
   "cell_type": "code",
   "execution_count": 9,
   "metadata": {},
   "outputs": [],
   "source": [
    "def uniform_grid(input_dims, num_discrete_per_dim, low=0., high=1.):\n",
    "    \"\"\"\n",
    "    Returns an array with all possible permutations of discrete values in input_dims number of dimensions.\n",
    "    :param input_dims: int\n",
    "    :param num_discrete_per_dim: int\n",
    "    :param low: int\n",
    "    :param high: int\n",
    "    :return: tensor of shape (num_discrete_per_dim ** input_dims, input_dims)\n",
    "    \"\"\"\n",
    "    num_points = num_discrete_per_dim ** input_dims\n",
    "    out = np.zeros([num_points, input_dims])\n",
    "    discrete_points = np.linspace(low, high, num_discrete_per_dim)\n",
    "    for i in range(num_points):\n",
    "        for dim in range(input_dims):\n",
    "            val = num_discrete_per_dim ** (dim)\n",
    "            out[i, dim] = discrete_points[int((i // val) % num_discrete_per_dim)]\n",
    "    return out"
   ]
  },
  {
   "cell_type": "markdown",
   "metadata": {},
   "source": [
    "This function is our main metric for the performance of the acquisition function: The closer the model's best guess to the target (in this case, the global minimum of the Forrester function), the better."
   ]
  },
  {
   "cell_type": "code",
   "execution_count": 10,
   "metadata": {},
   "outputs": [],
   "source": [
    "def best_guess(model):\n",
    "    \"\"\"\n",
    "    :return: tensor of shape (input_dims) a GP model's best guess of the global maximum of f.\n",
    "    \"\"\"\n",
    "    xx = uniform_grid(input_dims, num_discrete_per_dim, low=objective_low, high=objective_high)\n",
    "    res = model.predict_f(xx)[0].numpy()\n",
    "    return xx[np.argmax(res)]"
   ]
  },
  {
   "cell_type": "markdown",
   "metadata": {},
   "source": [
    "Store the results in these arrays:"
   ]
  },
  {
   "cell_type": "code",
   "execution_count": 11,
   "metadata": {},
   "outputs": [],
   "source": [
    "num_data_at_end = int((num_init_points-1) * num_init_points / 2 + num_evals)\n",
    "X_results = np.zeros([num_runs, num_data_at_end, num_choices, input_dims])\n",
    "y_results = np.zeros([num_runs, num_data_at_end, 1, input_dims])\n",
    "best_guess_results = np.zeros([num_runs, num_evals, input_dims])"
   ]
  },
  {
   "cell_type": "code",
   "execution_count": 14,
   "metadata": {},
   "outputs": [],
   "source": [
    "y_results = np.zeros([num_runs, num_data_at_end, 1, input_dims])  # REMOVE LATER"
   ]
  },
  {
   "cell_type": "code",
   "execution_count": 15,
   "metadata": {},
   "outputs": [],
   "source": [
    "X_results[0] = X\n",
    "y_results[0] = y"
   ]
  },
  {
   "cell_type": "markdown",
   "metadata": {},
   "source": [
    "Create the initial values for each run:"
   ]
  },
  {
   "cell_type": "code",
   "execution_count": 12,
   "metadata": {},
   "outputs": [],
   "source": [
    "np.random.seed(0)\n",
    "init_points = np.random.uniform(low=objective_low, high=objective_high, size=[num_runs, num_init_points, input_dims])\n",
    "num_combs = int((num_init_points-1) * num_init_points / 2)\n",
    "init_vals = np.zeros([num_runs, num_combs, num_choices, input_dims])\n",
    "for run in range(num_runs):\n",
    "    cur_idx = 0\n",
    "    for init_point in range(num_init_points-1):\n",
    "        for next_point in range(init_point+1, num_init_points):\n",
    "            init_vals[run, cur_idx, 0] = init_points[run, init_point]\n",
    "            init_vals[run, cur_idx, 1] = init_points[run, next_point]\n",
    "            cur_idx += 1"
   ]
  },
  {
   "cell_type": "markdown",
   "metadata": {},
   "source": [
    "The following loops carry out the Bayesian optimization algorithm over a number of runs, with a fixed number of evaluations per run."
   ]
  },
  {
   "cell_type": "code",
   "execution_count": null,
   "metadata": {
    "scrolled": false
   },
   "outputs": [
    {
     "name": "stdout",
     "output_type": "stream",
     "text": [
      "Beginning run 1\n",
      "Indifference_threshold is trainable.\n",
      "Negative ELBO at step 0: 2.6190260095654883 in 0.3899s\n",
      "Negative ELBO at step 500: 2.2648449344707373 in 53.7838s\n",
      "Negative ELBO at step 1000: 1.9196635811703056 in 52.1307s\n",
      "Negative ELBO at step 1500: 1.9117469794477837 in 53.3287s\n",
      "Negative ELBO at step 2000: 1.8537290167787912 in 52.0696s\n",
      "Negative ELBO at step 2500: 1.716441402132271 in 50.8914s\n",
      "Beginning evaluation 0\n",
      "Evaluation 0: Next query is [[0.4236548]\n",
      " [0.3743232]]\n",
      "Evaluation 0: Training model\n",
      "Indifference_threshold is trainable.\n",
      "Negative ELBO at step 0: 6.598172704105455 in 0.2042s\n",
      "Negative ELBO at step 500: 2.8131201587915236 in 64.2867s\n",
      "Negative ELBO at step 1000: 2.680215266491444 in 62.3473s\n",
      "Negative ELBO at step 1500: 2.6027834347110628 in 64.7897s\n",
      "Negative ELBO at step 2000: 2.5577691462686047 in 63.4791s\n",
      "Negative ELBO at step 2500: 2.539756631024968 in 63.0727s\n",
      "Beginning evaluation 1\n",
      "Evaluation 1: Next query is [[0.54488318]\n",
      " [0.06530421]]\n",
      "Evaluation 1: Training model\n",
      "Indifference_threshold is trainable.\n",
      "Negative ELBO at step 0: 209.10323798148704 in 0.2148s\n",
      "Negative ELBO at step 500: 5.266698991083357 in 74.4015s\n",
      "Negative ELBO at step 1000: 4.423414521938926 in 75.6002s\n",
      "Negative ELBO at step 1500: 4.451420522141828 in 72.9094s\n",
      "Negative ELBO at step 2000: 4.062602545830649 in 77.9333s\n",
      "Negative ELBO at step 2500: 3.78224999385729 in 74.6305s\n",
      "Beginning evaluation 2\n",
      "Evaluation 2: Next query is [[0.54488318]\n",
      " [0.85394012]]\n",
      "Evaluation 2: Training model\n",
      "Indifference_threshold is trainable.\n",
      "Negative ELBO at step 0: 12.20206831909012 in 0.2461s\n",
      "Negative ELBO at step 500: 4.3087484570464945 in 86.0599s\n",
      "Negative ELBO at step 1000: 3.991258504369989 in 84.2926s\n",
      "Negative ELBO at step 1500: 4.057808977464898 in 85.9667s\n",
      "Negative ELBO at step 2000: 4.181564262572046 in 85.5494s\n",
      "Negative ELBO at step 2500: 4.1280945640357265 in 87.2658s\n",
      "Beginning evaluation 3\n",
      "Evaluation 3: Next query is [[0.06530421]\n",
      " [0.73868266]]\n",
      "Evaluation 3: Training model\n",
      "Indifference_threshold is trainable.\n",
      "Negative ELBO at step 0: 13.61614518132981 in 0.2487s\n",
      "Negative ELBO at step 500: 5.419245957166559 in 95.6680s\n",
      "Negative ELBO at step 1000: 4.831308991933917 in 97.4326s\n",
      "Negative ELBO at step 1500: 4.691490234626678 in 95.4170s\n",
      "Negative ELBO at step 2000: 4.565616402924651 in 97.0211s\n",
      "Negative ELBO at step 2500: 4.578508962940606 in 98.8219s\n",
      "Beginning evaluation 4\n",
      "Evaluation 4: Next query is [[0.3743232 ]\n",
      " [0.10590615]]\n",
      "Evaluation 4: Training model\n",
      "Indifference_threshold is trainable.\n",
      "Negative ELBO at step 0: 80.81391309968105 in 0.2715s\n",
      "Negative ELBO at step 500: 6.714453156239396 in 107.0417s\n",
      "Negative ELBO at step 1000: 6.140775301836231 in 106.7877s\n",
      "Negative ELBO at step 1500: 5.653414472739861 in 107.5916s\n",
      "Negative ELBO at step 2000: 5.511616960522549 in 107.2794s\n",
      "Negative ELBO at step 2500: 5.7350011307701285 in 105.6624s\n",
      "Beginning evaluation 5\n",
      "Evaluation 5: Next query is [[0.06530421]\n",
      " [0.68011554]]\n",
      "Evaluation 5: Training model\n",
      "Indifference_threshold is trainable.\n",
      "Negative ELBO at step 0: 777.8116065663716 in 0.3220s\n",
      "Negative ELBO at step 500: 9.796866999092648 in 119.1457s\n",
      "Negative ELBO at step 1000: 7.990148406392323 in 119.5201s\n",
      "Negative ELBO at step 1500: 6.559144015798163 in 119.5836s\n",
      "Negative ELBO at step 2000: 6.64420821356525 in 119.5526s\n",
      "Negative ELBO at step 2500: 6.4285659024882875 in 118.2881s\n",
      "Beginning evaluation 6\n",
      "Evaluation 6: Next query is [[0.4236548 ]\n",
      " [0.75076486]]\n",
      "Evaluation 6: Training model\n",
      "Indifference_threshold is trainable.\n",
      "Negative ELBO at step 0: 26.645466494189932 in 0.4386s\n",
      "Negative ELBO at step 500: 7.652035389716567 in 130.4437s\n",
      "Negative ELBO at step 1000: 7.191412364900258 in 128.8738s\n",
      "Negative ELBO at step 1500: 7.278054621398957 in 129.1729s\n",
      "Negative ELBO at step 2000: 6.4597825904881105 in 128.7908s\n",
      "Negative ELBO at step 2500: 6.130287219994626 in 127.7001s\n",
      "Beginning evaluation 7\n",
      "Evaluation 7: Next query is [[0.3743232 ]\n",
      " [0.07243445]]\n",
      "Evaluation 7: Training model\n",
      "Indifference_threshold is trainable.\n",
      "Negative ELBO at step 0: 11023.26698600069 in 0.4610s\n",
      "Negative ELBO at step 500: 42.05623314296441 in 145.5923s\n",
      "Negative ELBO at step 1000: 23.94867704698122 in 141.7794s\n",
      "Negative ELBO at step 1500: 15.402886777779575 in 141.7476s\n",
      "Negative ELBO at step 2000: 13.951047482294722 in 141.6760s\n",
      "Negative ELBO at step 2500: 12.985927331277294 in 141.7463s\n",
      "Beginning evaluation 8\n",
      "Evaluation 8: Next query is [[0.07243445]\n",
      " [0.37303486]]\n",
      "Evaluation 8: Training model\n",
      "Indifference_threshold is trainable.\n",
      "Negative ELBO at step 0: 47.8924571758653 in 0.4652s\n",
      "Negative ELBO at step 500: 8.433732202916298 in 154.5972s\n",
      "Negative ELBO at step 1000: 8.36302712670805 in 152.3401s\n",
      "Negative ELBO at step 1500: 8.211851120147273 in 152.9664s\n",
      "Negative ELBO at step 2000: 8.399279752125398 in 152.8649s\n",
      "Negative ELBO at step 2500: 8.09139092506798 in 152.7050s\n",
      "Beginning evaluation 9\n",
      "Evaluation 9: Next query is [[0.75076486]\n",
      " [0.89286225]]\n",
      "Evaluation 9: Training model\n",
      "Indifference_threshold is trainable.\n",
      "Negative ELBO at step 0: 378.0304084263145 in 0.4542s\n",
      "Negative ELBO at step 500: 13.204355216986643 in 167.4047s\n",
      "Negative ELBO at step 1000: 10.137925159137296 in 166.4090s\n",
      "Negative ELBO at step 1500: 9.305906449143508 in 165.3735s\n",
      "Negative ELBO at step 2000: 9.145796014803874 in 167.8089s\n",
      "Negative ELBO at step 2500: 8.825164911731697 in 166.1712s\n",
      "Beginning evaluation 10\n",
      "Evaluation 10: Next query is [[0.85394012]\n",
      " [0.34261098]]\n",
      "Evaluation 10: Training model\n",
      "Indifference_threshold is trainable.\n",
      "Negative ELBO at step 0: 31910.314650518034 in 0.4650s\n",
      "Negative ELBO at step 500: 236.50204505110196 in 177.3208s\n",
      "Negative ELBO at step 1000: 139.07395732811764 in 178.4821s\n",
      "Negative ELBO at step 1500: 79.25097305402767 in 170.6414s\n",
      "Negative ELBO at step 2000: 50.89418583738219 in 175.6490s\n",
      "Negative ELBO at step 2500: 40.20244759310104 in 174.7252s\n",
      "Beginning evaluation 11\n",
      "Evaluation 11: Next query is [[0.64589411]\n",
      " [0.68509199]]\n",
      "Evaluation 11: Training model\n",
      "Indifference_threshold is trainable.\n",
      "Negative ELBO at step 0: 151368.6046106499 in 0.6152s\n",
      "Negative ELBO at step 500: 373.24975852342305 in 188.0280s\n",
      "Negative ELBO at step 1000: 152.45229505054422 in 189.9392s\n",
      "Negative ELBO at step 1500: 131.08344634873572 in 188.0811s\n",
      "Negative ELBO at step 2000: 113.1288322011267 in 188.3978s\n",
      "Negative ELBO at step 2500: 72.46384822511266 in 186.1982s\n",
      "Beginning evaluation 12\n",
      "Evaluation 12: Next query is [[0.75076486]\n",
      " [0.54212945]]\n",
      "Evaluation 12: Training model\n",
      "Indifference_threshold is trainable.\n",
      "Negative ELBO at step 0: 732986.2584372881 in 0.6143s\n",
      "Negative ELBO at step 500: 5421.432698033725 in 196.6440s\n",
      "Negative ELBO at step 1000: 1936.0499287728182 in 201.5912s\n",
      "Negative ELBO at step 1500: 1179.303286129082 in 196.4590s\n",
      "Negative ELBO at step 2000: 847.4967270444104 in 194.4990s\n",
      "Negative ELBO at step 2500: 757.462213384279 in 197.2530s\n",
      "Beginning evaluation 13\n",
      "Evaluation 13: Next query is [[0.64589411]\n",
      " [0.69646314]]\n",
      "Evaluation 13: Training model\n",
      "Indifference_threshold is trainable.\n",
      "Negative ELBO at step 0: 4265.147697349193 in 0.5665s\n",
      "Negative ELBO at step 500: 56.611092615420695 in 213.2292s\n",
      "Negative ELBO at step 1000: 27.87280642112217 in 210.9284s\n",
      "Negative ELBO at step 1500: 23.038176303401556 in 211.9019s\n",
      "Negative ELBO at step 2000: 17.20915185883267 in 210.2756s\n",
      "Negative ELBO at step 2500: 16.05126673893098 in 209.4912s\n",
      "Beginning evaluation 14\n",
      "Evaluation 14: Next query is [[0.07243445]\n",
      " [0.92570215]]\n",
      "Evaluation 14: Training model\n",
      "Indifference_threshold is trainable.\n",
      "Negative ELBO at step 0: 2515309.9553265567 in 0.7518s\n",
      "Negative ELBO at step 500: 37268.617572030846 in 221.6929s\n",
      "Negative ELBO at step 1000: 18314.597063610934 in 219.4879s\n",
      "Negative ELBO at step 1500: 12506.416193228137 in 221.0129s\n",
      "Negative ELBO at step 2000: 8435.392054202828 in 219.6138s\n",
      "Negative ELBO at step 2500: 6066.475651903057 in 217.1930s\n",
      "Beginning evaluation 15\n",
      "Evaluation 15: Next query is [[0.10590615]\n",
      " [0.56406436]]\n",
      "Evaluation 15: Training model\n",
      "Indifference_threshold is trainable.\n",
      "Negative ELBO at step 0: 1519.0584310384952 in 0.7516s\n",
      "Negative ELBO at step 500: 26.627185698115174 in 231.8363s\n",
      "Negative ELBO at step 1000: 18.19312256979499 in 233.2516s\n",
      "Negative ELBO at step 1500: 15.158507926062754 in 235.5252s\n"
     ]
    },
    {
     "name": "stdout",
     "output_type": "stream",
     "text": [
      "Negative ELBO at step 2000: 14.019201489467191 in 228.9408s\n",
      "Negative ELBO at step 2500: 13.533786299125985 in 233.1464s\n",
      "Beginning evaluation 16\n",
      "Evaluation 16: Next query is [[0.10590615]\n",
      " [0.68493444]]\n",
      "Evaluation 16: Training model\n",
      "Indifference_threshold is trainable.\n",
      "Negative ELBO at step 0: 195812.88120635893 in 0.6285s\n",
      "Negative ELBO at step 500: 628.1479884543129 in 242.7770s\n",
      "Negative ELBO at step 1000: 336.3180645485011 in 243.2927s\n",
      "Negative ELBO at step 1500: 178.79109744442547 in 243.5132s\n",
      "Negative ELBO at step 2000: 125.70698032065863 in 239.6974s\n",
      "Negative ELBO at step 2500: 81.54258809099636 in 240.4510s\n",
      "Beginning evaluation 17\n",
      "Evaluation 17: Next query is [[0.4236548 ]\n",
      " [0.39916115]]\n",
      "Evaluation 17: Training model\n",
      "Indifference_threshold is trainable.\n",
      "Negative ELBO at step 0: 645894.550874361 in 0.7403s\n",
      "Negative ELBO at step 500: 4107.83892014516 in 251.8830s\n",
      "Negative ELBO at step 1000: 3409.4631404510865 in 253.1421s\n",
      "Negative ELBO at step 1500: 1973.1444581667618 in 254.3527s\n",
      "Negative ELBO at step 2000: 1235.5216512554957 in 255.2940s\n",
      "Negative ELBO at step 2500: 660.8114767888525 in 253.1923s\n",
      "Beginning evaluation 18\n",
      "Evaluation 18: Next query is [[0.68011554]\n",
      " [0.95830736]]\n",
      "Evaluation 18: Training model\n",
      "Indifference_threshold is trainable.\n",
      "Negative ELBO at step 0: 3841.2692053368582 in 0.7373s\n",
      "Negative ELBO at step 500: 30.04384261782978 in 263.6781s\n",
      "Negative ELBO at step 1000: 21.933906285327296 in 267.1532s\n",
      "Negative ELBO at step 1500: 18.97036327590137 in 263.0859s\n",
      "Negative ELBO at step 2000: 16.086403087216702 in 263.9490s\n",
      "Negative ELBO at step 2500: 15.682371696128751 in 265.5686s\n",
      "Beginning evaluation 19\n",
      "Evaluation 19: Next query is [[0.95830736]\n",
      " [0.34944029]]\n",
      "Evaluation 19: Training model\n",
      "Indifference_threshold is trainable.\n",
      "Negative ELBO at step 0: 668914.1773629881 in 0.7947s\n",
      "Negative ELBO at step 500: 6228.740687718523 in 276.6766s\n",
      "Negative ELBO at step 1000: 2870.268472982523 in 276.5754s\n",
      "Negative ELBO at step 1500: 1649.823063369627 in 275.6569s\n",
      "Negative ELBO at step 2000: 1164.387520810758 in 280.5176s\n",
      "Negative ELBO at step 2500: 1351.4535607909004 in 275.1007s\n"
     ]
    },
    {
     "name": "stderr",
     "output_type": "stream",
     "text": [
      "/home/sebtsh/anaconda3/envs/gpflow/lib/python3.6/site-packages/ipykernel_launcher.py:14: RuntimeWarning: More than 20 figures have been opened. Figures created through the pyplot interface (`matplotlib.pyplot.figure`) are retained until explicitly closed and may consume too much memory. (To control this warning, see the rcParam `figure.max_open_warning`).\n",
      "  \n"
     ]
    },
    {
     "name": "stdout",
     "output_type": "stream",
     "text": [
      "Beginning run 2\n",
      "Indifference_threshold is trainable.\n",
      "Negative ELBO at step 0: 2.9982499301555046 in 0.1426s\n",
      "Negative ELBO at step 500: 2.2423508124230938 in 53.4520s\n",
      "Negative ELBO at step 1000: 2.026195301699059 in 52.8417s\n",
      "Negative ELBO at step 1500: 1.8953096443823683 in 50.9811s\n",
      "Negative ELBO at step 2000: 1.9199292341569885 in 54.0955s\n",
      "Negative ELBO at step 2500: 1.8596718719027883 in 51.5747s\n"
     ]
    },
    {
     "name": "stderr",
     "output_type": "stream",
     "text": [
      "/home/sebtsh/anaconda3/envs/gpflow/lib/python3.6/site-packages/ipykernel_launcher.py:14: RuntimeWarning: More than 20 figures have been opened. Figures created through the pyplot interface (`matplotlib.pyplot.figure`) are retained until explicitly closed and may consume too much memory. (To control this warning, see the rcParam `figure.max_open_warning`).\n",
      "  \n"
     ]
    },
    {
     "name": "stdout",
     "output_type": "stream",
     "text": [
      "Beginning evaluation 0\n",
      "Evaluation 0: Next query is [[0.96366276]\n",
      " [0.80269214]]\n",
      "Evaluation 0: Training model\n",
      "Indifference_threshold is trainable.\n",
      "Negative ELBO at step 0: 453.31129538445725 in 0.1719s\n",
      "Negative ELBO at step 500: 15.272816225183856 in 64.5195s\n",
      "Negative ELBO at step 1000: 16.95361349202311 in 64.2663s\n",
      "Negative ELBO at step 1500: 16.38738135591823 in 62.9627s\n",
      "Negative ELBO at step 2000: 12.015437225135196 in 64.1040s\n",
      "Negative ELBO at step 2500: 9.249481438030898 in 62.0305s\n"
     ]
    },
    {
     "name": "stderr",
     "output_type": "stream",
     "text": [
      "/home/sebtsh/anaconda3/envs/gpflow/lib/python3.6/site-packages/ipykernel_launcher.py:14: RuntimeWarning: More than 20 figures have been opened. Figures created through the pyplot interface (`matplotlib.pyplot.figure`) are retained until explicitly closed and may consume too much memory. (To control this warning, see the rcParam `figure.max_open_warning`).\n",
      "  \n"
     ]
    },
    {
     "name": "stdout",
     "output_type": "stream",
     "text": [
      "Beginning evaluation 1\n",
      "Evaluation 1: Next query is [[0.80269214]\n",
      " [0.37191875]]\n",
      "Evaluation 1: Training model\n",
      "Indifference_threshold is trainable.\n",
      "Negative ELBO at step 0: 13.837773296162563 in 0.2252s\n",
      "Negative ELBO at step 500: 3.805920697397299 in 74.4512s\n",
      "Negative ELBO at step 1000: 3.588581627591011 in 75.7622s\n",
      "Negative ELBO at step 1500: 3.658506931568498 in 76.0321s\n",
      "Negative ELBO at step 2000: 3.9731987661633443 in 73.7017s\n",
      "Negative ELBO at step 2500: 3.669975185207815 in 75.9661s\n"
     ]
    },
    {
     "name": "stderr",
     "output_type": "stream",
     "text": [
      "/home/sebtsh/anaconda3/envs/gpflow/lib/python3.6/site-packages/ipykernel_launcher.py:14: RuntimeWarning: More than 20 figures have been opened. Figures created through the pyplot interface (`matplotlib.pyplot.figure`) are retained until explicitly closed and may consume too much memory. (To control this warning, see the rcParam `figure.max_open_warning`).\n",
      "  \n"
     ]
    },
    {
     "name": "stdout",
     "output_type": "stream",
     "text": [
      "Beginning evaluation 2\n",
      "Evaluation 2: Next query is [[0.37191875]\n",
      " [0.57184364]]\n",
      "Evaluation 2: Training model\n",
      "Indifference_threshold is trainable.\n",
      "Negative ELBO at step 0: 67.24799486891594 in 0.2834s\n",
      "Negative ELBO at step 500: 4.542950526758437 in 87.0786s\n",
      "Negative ELBO at step 1000: 4.21316008401839 in 86.7000s\n",
      "Negative ELBO at step 1500: 3.998079783867615 in 86.6413s\n",
      "Negative ELBO at step 2000: 3.971321615598429 in 86.3638s\n",
      "Negative ELBO at step 2500: 3.9621675941778642 in 84.1306s\n"
     ]
    },
    {
     "name": "stderr",
     "output_type": "stream",
     "text": [
      "/home/sebtsh/anaconda3/envs/gpflow/lib/python3.6/site-packages/ipykernel_launcher.py:14: RuntimeWarning: More than 20 figures have been opened. Figures created through the pyplot interface (`matplotlib.pyplot.figure`) are retained until explicitly closed and may consume too much memory. (To control this warning, see the rcParam `figure.max_open_warning`).\n",
      "  \n"
     ]
    },
    {
     "name": "stdout",
     "output_type": "stream",
     "text": [
      "Beginning evaluation 3\n",
      "Evaluation 3: Next query is [[0.43758721]\n",
      " [0.77303498]]\n",
      "Evaluation 3: Training model\n",
      "Indifference_threshold is trainable.\n",
      "Negative ELBO at step 0: 19.442036527786893 in 0.2600s\n",
      "Negative ELBO at step 500: 4.586729057535881 in 98.4485s\n",
      "Negative ELBO at step 1000: 4.342786825670371 in 97.8960s\n",
      "Negative ELBO at step 1500: 4.394557404236258 in 96.5627s\n",
      "Negative ELBO at step 2000: 4.387130455770963 in 95.8773s\n",
      "Negative ELBO at step 2500: 4.4113892419048755 in 98.2523s\n"
     ]
    },
    {
     "name": "stderr",
     "output_type": "stream",
     "text": [
      "/home/sebtsh/anaconda3/envs/gpflow/lib/python3.6/site-packages/ipykernel_launcher.py:14: RuntimeWarning: More than 20 figures have been opened. Figures created through the pyplot interface (`matplotlib.pyplot.figure`) are retained until explicitly closed and may consume too much memory. (To control this warning, see the rcParam `figure.max_open_warning`).\n",
      "  \n"
     ]
    },
    {
     "name": "stdout",
     "output_type": "stream",
     "text": [
      "Beginning evaluation 4\n",
      "Evaluation 4: Next query is [[0.77303498]\n",
      " [0.84285489]]\n",
      "Evaluation 4: Training model\n",
      "Indifference_threshold is trainable.\n",
      "Negative ELBO at step 0: 811.0345110950244 in 0.3487s\n",
      "Negative ELBO at step 500: 9.668388232410686 in 110.8817s\n",
      "Negative ELBO at step 1000: 8.63879823863213 in 108.0490s\n",
      "Negative ELBO at step 1500: 7.481191575346219 in 105.9885s\n",
      "Negative ELBO at step 2000: 6.836358398216758 in 109.1772s\n",
      "Negative ELBO at step 2500: 6.567553133571354 in 109.3778s\n"
     ]
    },
    {
     "name": "stderr",
     "output_type": "stream",
     "text": [
      "/home/sebtsh/anaconda3/envs/gpflow/lib/python3.6/site-packages/ipykernel_launcher.py:14: RuntimeWarning: More than 20 figures have been opened. Figures created through the pyplot interface (`matplotlib.pyplot.figure`) are retained until explicitly closed and may consume too much memory. (To control this warning, see the rcParam `figure.max_open_warning`).\n",
      "  \n"
     ]
    },
    {
     "name": "stdout",
     "output_type": "stream",
     "text": [
      "Beginning evaluation 5\n",
      "Evaluation 5: Next query is [[0.77303498]\n",
      " [0.93530189]]\n",
      "Evaluation 5: Training model\n",
      "Indifference_threshold is trainable.\n",
      "Negative ELBO at step 0: 1133.2937244913267 in 0.3278s\n",
      "Negative ELBO at step 500: 12.093780396199298 in 119.5222s\n",
      "Negative ELBO at step 1000: 7.891676937008208 in 118.8285s\n",
      "Negative ELBO at step 1500: 6.682898243682774 in 118.2272s\n",
      "Negative ELBO at step 2000: 6.167739153100882 in 121.1202s\n",
      "Negative ELBO at step 2500: 5.875896041131227 in 119.5875s\n"
     ]
    },
    {
     "name": "stderr",
     "output_type": "stream",
     "text": [
      "/home/sebtsh/anaconda3/envs/gpflow/lib/python3.6/site-packages/ipykernel_launcher.py:14: RuntimeWarning: More than 20 figures have been opened. Figures created through the pyplot interface (`matplotlib.pyplot.figure`) are retained until explicitly closed and may consume too much memory. (To control this warning, see the rcParam `figure.max_open_warning`).\n",
      "  \n"
     ]
    },
    {
     "name": "stdout",
     "output_type": "stream",
     "text": [
      "Beginning evaluation 6\n",
      "Evaluation 6: Next query is [[0.80269214]\n",
      " [0.59606499]]\n",
      "Evaluation 6: Training model\n",
      "Indifference_threshold is trainable.\n",
      "Negative ELBO at step 0: 319.73124339112263 in 0.3599s\n",
      "Negative ELBO at step 500: 11.595564115106876 in 127.5681s\n",
      "Negative ELBO at step 1000: 9.50326432938067 in 129.6328s\n",
      "Negative ELBO at step 1500: 7.342995527125616 in 130.8658s\n",
      "Negative ELBO at step 2000: 7.218316485046513 in 134.5543s\n",
      "Negative ELBO at step 2500: 6.891184314315561 in 130.9026s\n"
     ]
    },
    {
     "name": "stderr",
     "output_type": "stream",
     "text": [
      "/home/sebtsh/anaconda3/envs/gpflow/lib/python3.6/site-packages/ipykernel_launcher.py:14: RuntimeWarning: More than 20 figures have been opened. Figures created through the pyplot interface (`matplotlib.pyplot.figure`) are retained until explicitly closed and may consume too much memory. (To control this warning, see the rcParam `figure.max_open_warning`).\n",
      "  \n"
     ]
    },
    {
     "name": "stdout",
     "output_type": "stream",
     "text": [
      "Beginning evaluation 7\n",
      "Evaluation 7: Next query is [[0.37191875]\n",
      " [0.403026  ]]\n",
      "Evaluation 7: Training model\n",
      "Indifference_threshold is trainable.\n",
      "Negative ELBO at step 0: 71.43531516892222 in 0.3735s\n",
      "Negative ELBO at step 500: 7.628581390407973 in 142.0174s\n",
      "Negative ELBO at step 1000: 6.702984068538038 in 142.7267s\n",
      "Negative ELBO at step 1500: 6.376074013437295 in 143.8593s\n",
      "Negative ELBO at step 2000: 6.327295948977445 in 142.7544s\n",
      "Negative ELBO at step 2500: 6.191663532332502 in 146.1270s\n"
     ]
    },
    {
     "name": "stderr",
     "output_type": "stream",
     "text": [
      "/home/sebtsh/anaconda3/envs/gpflow/lib/python3.6/site-packages/ipykernel_launcher.py:14: RuntimeWarning: More than 20 figures have been opened. Figures created through the pyplot interface (`matplotlib.pyplot.figure`) are retained until explicitly closed and may consume too much memory. (To control this warning, see the rcParam `figure.max_open_warning`).\n",
      "  \n"
     ]
    },
    {
     "name": "stdout",
     "output_type": "stream",
     "text": [
      "Beginning evaluation 8\n",
      "Evaluation 8: Next query is [[0.93530189]\n",
      " [0.66331792]]\n",
      "Evaluation 8: Training model\n",
      "Indifference_threshold is trainable.\n",
      "Negative ELBO at step 0: 1630.1291363567273 in 0.4683s\n",
      "Negative ELBO at step 500: 14.20206662106063 in 152.2482s\n",
      "Negative ELBO at step 1000: 9.454311060669419 in 152.2885s\n",
      "Negative ELBO at step 1500: 8.044850231401446 in 153.6398s\n",
      "Negative ELBO at step 2000: 7.857505547212952 in 152.2730s\n",
      "Negative ELBO at step 2500: 7.264587422058502 in 152.5281s\n"
     ]
    },
    {
     "name": "stderr",
     "output_type": "stream",
     "text": [
      "/home/sebtsh/anaconda3/envs/gpflow/lib/python3.6/site-packages/ipykernel_launcher.py:14: RuntimeWarning: More than 20 figures have been opened. Figures created through the pyplot interface (`matplotlib.pyplot.figure`) are retained until explicitly closed and may consume too much memory. (To control this warning, see the rcParam `figure.max_open_warning`).\n",
      "  \n"
     ]
    },
    {
     "name": "stdout",
     "output_type": "stream",
     "text": [
      "Beginning evaluation 9\n",
      "Evaluation 9: Next query is [[0.80269214]\n",
      " [0.73328913]]\n",
      "Evaluation 9: Training model\n",
      "Indifference_threshold is trainable.\n",
      "Negative ELBO at step 0: 103.36235970748214 in 0.4563s\n",
      "Negative ELBO at step 500: 9.570027545373103 in 164.5288s\n",
      "Negative ELBO at step 1000: 7.941263964699612 in 164.4497s\n",
      "Negative ELBO at step 1500: 7.549051651471167 in 168.7367s\n",
      "Negative ELBO at step 2000: 7.591180458452557 in 167.6276s\n",
      "Negative ELBO at step 2500: 7.541667312618657 in 163.5975s\n"
     ]
    },
    {
     "name": "stderr",
     "output_type": "stream",
     "text": [
      "/home/sebtsh/anaconda3/envs/gpflow/lib/python3.6/site-packages/ipykernel_launcher.py:14: RuntimeWarning: More than 20 figures have been opened. Figures created through the pyplot interface (`matplotlib.pyplot.figure`) are retained until explicitly closed and may consume too much memory. (To control this warning, see the rcParam `figure.max_open_warning`).\n",
      "  \n"
     ]
    },
    {
     "name": "stdout",
     "output_type": "stream",
     "text": [
      "Beginning evaluation 10\n",
      "Evaluation 10: Next query is [[0.37191875]\n",
      " [0.63087107]]\n",
      "Evaluation 10: Training model\n",
      "Indifference_threshold is trainable.\n",
      "Negative ELBO at step 0: 1113.8802016562383 in 0.4737s\n",
      "Negative ELBO at step 500: 22.240473250514746 in 174.8970s\n",
      "Negative ELBO at step 1000: 14.667281517769087 in 176.2671s\n",
      "Negative ELBO at step 1500: 12.660475100125598 in 176.1620s\n",
      "Negative ELBO at step 2000: 9.712674557669066 in 172.4524s\n",
      "Negative ELBO at step 2500: 9.477412437043094 in 175.1204s\n"
     ]
    },
    {
     "name": "stderr",
     "output_type": "stream",
     "text": [
      "/home/sebtsh/anaconda3/envs/gpflow/lib/python3.6/site-packages/ipykernel_launcher.py:14: RuntimeWarning: More than 20 figures have been opened. Figures created through the pyplot interface (`matplotlib.pyplot.figure`) are retained until explicitly closed and may consume too much memory. (To control this warning, see the rcParam `figure.max_open_warning`).\n",
      "  \n"
     ]
    },
    {
     "name": "stdout",
     "output_type": "stream",
     "text": [
      "Beginning evaluation 11\n",
      "Evaluation 11: Next query is [[0.84285489]\n",
      " [0.97817217]]\n",
      "Evaluation 11: Training model\n",
      "Indifference_threshold is trainable.\n",
      "Negative ELBO at step 0: 106.202797482807 in 0.5261s\n",
      "Negative ELBO at step 500: 10.13126607716703 in 186.9011s\n",
      "Negative ELBO at step 1000: 8.743451028366287 in 186.2984s\n",
      "Negative ELBO at step 1500: 8.309233923094176 in 190.4324s\n",
      "Negative ELBO at step 2000: 8.392708804933788 in 187.9103s\n",
      "Negative ELBO at step 2500: 8.302091589979415 in 189.0785s\n"
     ]
    },
    {
     "name": "stderr",
     "output_type": "stream",
     "text": [
      "/home/sebtsh/anaconda3/envs/gpflow/lib/python3.6/site-packages/ipykernel_launcher.py:14: RuntimeWarning: More than 20 figures have been opened. Figures created through the pyplot interface (`matplotlib.pyplot.figure`) are retained until explicitly closed and may consume too much memory. (To control this warning, see the rcParam `figure.max_open_warning`).\n",
      "  \n"
     ]
    },
    {
     "name": "stdout",
     "output_type": "stream",
     "text": [
      "Beginning evaluation 12\n",
      "Evaluation 12: Next query is [[0.891773  ]\n",
      " [0.86678854]]\n",
      "Evaluation 12: Training model\n",
      "Indifference_threshold is trainable.\n",
      "Negative ELBO at step 0: 33725.52917935346 in 0.5496s\n",
      "Negative ELBO at step 500: 131.65944423267976 in 195.2781s\n",
      "Negative ELBO at step 1000: 103.89666437496753 in 199.7997s\n",
      "Negative ELBO at step 1500: 55.20007389099993 in 196.1686s\n",
      "Negative ELBO at step 2000: 33.50583810582847 in 197.8328s\n",
      "Negative ELBO at step 2500: 25.17255065502664 in 200.0674s\n"
     ]
    },
    {
     "name": "stderr",
     "output_type": "stream",
     "text": [
      "/home/sebtsh/anaconda3/envs/gpflow/lib/python3.6/site-packages/ipykernel_launcher.py:14: RuntimeWarning: More than 20 figures have been opened. Figures created through the pyplot interface (`matplotlib.pyplot.figure`) are retained until explicitly closed and may consume too much memory. (To control this warning, see the rcParam `figure.max_open_warning`).\n",
      "  \n"
     ]
    },
    {
     "name": "stdout",
     "output_type": "stream",
     "text": [
      "Beginning evaluation 13\n",
      "Evaluation 13: Next query is [[0.66331792]\n",
      " [0.72944811]]\n",
      "Evaluation 13: Training model\n",
      "Indifference_threshold is trainable.\n",
      "Negative ELBO at step 0: 22328.98927858664 in 0.5659s\n",
      "Negative ELBO at step 500: 137.29370282694583 in 209.1330s\n",
      "Negative ELBO at step 1000: 44.687658735650274 in 212.2198s\n",
      "Negative ELBO at step 1500: 34.92667639208719 in 208.2988s\n",
      "Negative ELBO at step 2000: 30.276677504289268 in 210.3163s\n",
      "Negative ELBO at step 2500: 24.236099587910218 in 208.8188s\n"
     ]
    },
    {
     "name": "stderr",
     "output_type": "stream",
     "text": [
      "/home/sebtsh/anaconda3/envs/gpflow/lib/python3.6/site-packages/ipykernel_launcher.py:14: RuntimeWarning: More than 20 figures have been opened. Figures created through the pyplot interface (`matplotlib.pyplot.figure`) are retained until explicitly closed and may consume too much memory. (To control this warning, see the rcParam `figure.max_open_warning`).\n",
      "  \n"
     ]
    },
    {
     "name": "stdout",
     "output_type": "stream",
     "text": [
      "Beginning evaluation 14\n",
      "Evaluation 14: Next query is [[0.891773  ]\n",
      " [0.47558912]]\n",
      "Evaluation 14: Training model\n",
      "Indifference_threshold is trainable.\n",
      "Negative ELBO at step 0: 2035633.1629358043 in 0.6249s\n",
      "Negative ELBO at step 500: 2599.6315217497654 in 220.8216s\n",
      "Negative ELBO at step 1000: 1029.850672878508 in 221.9839s\n",
      "Negative ELBO at step 1500: 1004.0612077309289 in 217.4265s\n",
      "Negative ELBO at step 2000: 687.71378390944 in 219.6177s\n",
      "Negative ELBO at step 2500: 399.97418252303265 in 220.5367s\n"
     ]
    },
    {
     "name": "stderr",
     "output_type": "stream",
     "text": [
      "/home/sebtsh/anaconda3/envs/gpflow/lib/python3.6/site-packages/ipykernel_launcher.py:14: RuntimeWarning: More than 20 figures have been opened. Figures created through the pyplot interface (`matplotlib.pyplot.figure`) are retained until explicitly closed and may consume too much memory. (To control this warning, see the rcParam `figure.max_open_warning`).\n",
      "  \n"
     ]
    },
    {
     "name": "stdout",
     "output_type": "stream",
     "text": [
      "Beginning evaluation 15\n",
      "Evaluation 15: Next query is [[0.80269214]\n",
      " [0.44077719]]\n",
      "Evaluation 15: Training model\n",
      "Indifference_threshold is trainable.\n",
      "Negative ELBO at step 0: 527589.5529119681 in 0.6319s\n",
      "Negative ELBO at step 500: 5820.090215641521 in 231.9653s\n",
      "Negative ELBO at step 1000: 2315.1129481355724 in 234.0939s\n",
      "Negative ELBO at step 1500: 2051.3327410400425 in 230.4243s\n",
      "Negative ELBO at step 2000: 1167.6351323922952 in 233.3403s\n",
      "Negative ELBO at step 2500: 1013.8145088929464 in 233.1511s\n"
     ]
    },
    {
     "name": "stderr",
     "output_type": "stream",
     "text": [
      "/home/sebtsh/anaconda3/envs/gpflow/lib/python3.6/site-packages/ipykernel_launcher.py:14: RuntimeWarning: More than 20 figures have been opened. Figures created through the pyplot interface (`matplotlib.pyplot.figure`) are retained until explicitly closed and may consume too much memory. (To control this warning, see the rcParam `figure.max_open_warning`).\n",
      "  \n"
     ]
    },
    {
     "name": "stdout",
     "output_type": "stream",
     "text": [
      "Beginning evaluation 16\n",
      "Evaluation 16: Next query is [[0.80269214]\n",
      " [0.5349082 ]]\n",
      "Evaluation 16: Training model\n",
      "Indifference_threshold is trainable.\n",
      "Negative ELBO at step 0: 80957.08650870889 in 0.6832s\n",
      "Negative ELBO at step 500: 850.0228660649824 in 242.5497s\n",
      "Negative ELBO at step 1000: 305.5386164632156 in 245.3315s\n",
      "Negative ELBO at step 1500: 243.299308429979 in 241.0066s\n",
      "Negative ELBO at step 2000: 153.16010640409854 in 244.2988s\n",
      "Negative ELBO at step 2500: 98.63509899768802 in 246.6542s\n"
     ]
    },
    {
     "name": "stderr",
     "output_type": "stream",
     "text": [
      "/home/sebtsh/anaconda3/envs/gpflow/lib/python3.6/site-packages/ipykernel_launcher.py:14: RuntimeWarning: More than 20 figures have been opened. Figures created through the pyplot interface (`matplotlib.pyplot.figure`) are retained until explicitly closed and may consume too much memory. (To control this warning, see the rcParam `figure.max_open_warning`).\n",
      "  \n"
     ]
    },
    {
     "name": "stdout",
     "output_type": "stream",
     "text": [
      "Beginning evaluation 17\n",
      "Evaluation 17: Next query is [[0.47558912]\n",
      " [0.58796713]]\n",
      "Evaluation 17: Training model\n",
      "Indifference_threshold is trainable.\n",
      "Negative ELBO at step 0: 5076.4781683846095 in 0.6417s\n",
      "Negative ELBO at step 500: 39.244137721142195 in 253.6388s\n",
      "Negative ELBO at step 1000: 20.578930825139615 in 257.2203s\n",
      "Negative ELBO at step 1500: 16.471180198083 in 253.7267s\n",
      "Negative ELBO at step 2000: 14.808984450284022 in 254.3299s\n",
      "Negative ELBO at step 2500: 14.029655725313745 in 257.4319s\n"
     ]
    },
    {
     "name": "stderr",
     "output_type": "stream",
     "text": [
      "/home/sebtsh/anaconda3/envs/gpflow/lib/python3.6/site-packages/ipykernel_launcher.py:14: RuntimeWarning: More than 20 figures have been opened. Figures created through the pyplot interface (`matplotlib.pyplot.figure`) are retained until explicitly closed and may consume too much memory. (To control this warning, see the rcParam `figure.max_open_warning`).\n",
      "  \n"
     ]
    },
    {
     "name": "stdout",
     "output_type": "stream",
     "text": [
      "Beginning evaluation 18\n",
      "Evaluation 18: Next query is [[0.93530189]\n",
      " [0.9485403 ]]\n",
      "Evaluation 18: Training model\n",
      "Indifference_threshold is trainable.\n",
      "Negative ELBO at step 0: 58097.83451538977 in 0.8062s\n",
      "Negative ELBO at step 500: 179.73381212244675 in 265.1949s\n",
      "Negative ELBO at step 1000: 110.88464326286558 in 269.4540s\n",
      "Negative ELBO at step 1500: 88.53780894377228 in 264.0180s\n",
      "Negative ELBO at step 2000: 49.14325967032806 in 267.3983s\n",
      "Negative ELBO at step 2500: 31.924151722804986 in 266.6426s\n"
     ]
    },
    {
     "name": "stderr",
     "output_type": "stream",
     "text": [
      "/home/sebtsh/anaconda3/envs/gpflow/lib/python3.6/site-packages/ipykernel_launcher.py:14: RuntimeWarning: More than 20 figures have been opened. Figures created through the pyplot interface (`matplotlib.pyplot.figure`) are retained until explicitly closed and may consume too much memory. (To control this warning, see the rcParam `figure.max_open_warning`).\n",
      "  \n"
     ]
    },
    {
     "name": "stdout",
     "output_type": "stream",
     "text": [
      "Beginning evaluation 19\n",
      "Evaluation 19: Next query is [[0.9485403 ]\n",
      " [0.33060053]]\n",
      "Evaluation 19: Training model\n",
      "Indifference_threshold is trainable.\n",
      "Negative ELBO at step 0: 1065213.5872198215 in 0.8240s\n",
      "Negative ELBO at step 500: 2904.647257151159 in 332.4221s\n",
      "Negative ELBO at step 1000: 1858.1847312623654 in 324.9711s\n",
      "Negative ELBO at step 1500: 1117.4420936808724 in 333.2868s\n",
      "Negative ELBO at step 2000: 685.0413683275551 in 329.4274s\n",
      "Negative ELBO at step 2500: 511.6584130949411 in 335.7680s\n"
     ]
    },
    {
     "name": "stderr",
     "output_type": "stream",
     "text": [
      "/home/sebtsh/anaconda3/envs/gpflow/lib/python3.6/site-packages/ipykernel_launcher.py:14: RuntimeWarning: More than 20 figures have been opened. Figures created through the pyplot interface (`matplotlib.pyplot.figure`) are retained until explicitly closed and may consume too much memory. (To control this warning, see the rcParam `figure.max_open_warning`).\n",
      "  \n"
     ]
    },
    {
     "name": "stdout",
     "output_type": "stream",
     "text": [
      "Beginning run 3\n",
      "Indifference_threshold is trainable.\n",
      "Negative ELBO at step 0: 5.220508683539478 in 0.2634s\n",
      "Negative ELBO at step 500: 2.185856966927305 in 65.5659s\n",
      "Negative ELBO at step 1000: 2.136824124474003 in 63.4933s\n",
      "Negative ELBO at step 1500: 2.0185511397424882 in 58.0700s\n",
      "Negative ELBO at step 2000: 2.085313288514406 in 66.9617s\n",
      "Negative ELBO at step 2500: 1.938617563722806 in 68.3789s\n"
     ]
    },
    {
     "name": "stderr",
     "output_type": "stream",
     "text": [
      "/home/sebtsh/anaconda3/envs/gpflow/lib/python3.6/site-packages/ipykernel_launcher.py:14: RuntimeWarning: More than 20 figures have been opened. Figures created through the pyplot interface (`matplotlib.pyplot.figure`) are retained until explicitly closed and may consume too much memory. (To control this warning, see the rcParam `figure.max_open_warning`).\n",
      "  \n"
     ]
    },
    {
     "name": "stdout",
     "output_type": "stream",
     "text": [
      "Beginning evaluation 0\n",
      "Evaluation 0: Next query is [[0.38344152]\n",
      " [0.39791861]]\n",
      "Evaluation 0: Training model\n",
      "Indifference_threshold is trainable.\n",
      "Negative ELBO at step 0: 3.756848972008189 in 0.1782s\n",
      "Negative ELBO at step 500: 2.6289830361747892 in 83.0334s\n",
      "Negative ELBO at step 1000: 2.7418605878921634 in 79.9451s\n",
      "Negative ELBO at step 1500: 2.703369240494942 in 76.6495s\n",
      "Negative ELBO at step 2000: 2.6530111857093273 in 86.9115s\n",
      "Negative ELBO at step 2500: 2.6637442078122144 in 64.4878s\n"
     ]
    },
    {
     "name": "stderr",
     "output_type": "stream",
     "text": [
      "/home/sebtsh/anaconda3/envs/gpflow/lib/python3.6/site-packages/ipykernel_launcher.py:14: RuntimeWarning: More than 20 figures have been opened. Figures created through the pyplot interface (`matplotlib.pyplot.figure`) are retained until explicitly closed and may consume too much memory. (To control this warning, see the rcParam `figure.max_open_warning`).\n",
      "  \n"
     ]
    },
    {
     "name": "stdout",
     "output_type": "stream",
     "text": [
      "Beginning evaluation 1\n",
      "Evaluation 1: Next query is [[0.52889492]\n",
      " [0.39296677]]\n",
      "Evaluation 1: Training model\n",
      "Indifference_threshold is trainable.\n",
      "Negative ELBO at step 0: 4.617210645114048 in 0.2090s\n",
      "Negative ELBO at step 500: 3.78095605916407 in 97.6464s\n",
      "Negative ELBO at step 1000: 3.64325901634861 in 88.9404s\n",
      "Negative ELBO at step 1500: 3.643300582114997 in 99.1798s\n",
      "Negative ELBO at step 2000: 3.5716969341693825 in 79.5919s\n",
      "Negative ELBO at step 2500: 3.5616723687174123 in 100.1548s\n"
     ]
    },
    {
     "name": "stderr",
     "output_type": "stream",
     "text": [
      "/home/sebtsh/anaconda3/envs/gpflow/lib/python3.6/site-packages/ipykernel_launcher.py:14: RuntimeWarning: More than 20 figures have been opened. Figures created through the pyplot interface (`matplotlib.pyplot.figure`) are retained until explicitly closed and may consume too much memory. (To control this warning, see the rcParam `figure.max_open_warning`).\n",
      "  \n"
     ]
    },
    {
     "name": "stdout",
     "output_type": "stream",
     "text": [
      "Beginning evaluation 2\n",
      "Evaluation 2: Next query is [[0.39791861]\n",
      " [0.10025174]]\n",
      "Evaluation 2: Training model\n",
      "Indifference_threshold is trainable.\n",
      "Negative ELBO at step 0: 6.4520470829221255 in 0.2569s\n",
      "Negative ELBO at step 500: 4.169023231770481 in 105.1072s\n",
      "Negative ELBO at step 1000: 3.899090358707503 in 105.1977s\n",
      "Negative ELBO at step 1500: 3.963113399559812 in 107.8998s\n",
      "Negative ELBO at step 2000: 3.900190161017111 in 110.2021s\n",
      "Negative ELBO at step 2500: 3.855582630704915 in 98.0572s\n"
     ]
    },
    {
     "name": "stderr",
     "output_type": "stream",
     "text": [
      "/home/sebtsh/anaconda3/envs/gpflow/lib/python3.6/site-packages/ipykernel_launcher.py:14: RuntimeWarning: More than 20 figures have been opened. Figures created through the pyplot interface (`matplotlib.pyplot.figure`) are retained until explicitly closed and may consume too much memory. (To control this warning, see the rcParam `figure.max_open_warning`).\n",
      "  \n"
     ]
    },
    {
     "name": "stdout",
     "output_type": "stream",
     "text": [
      "Beginning evaluation 3\n",
      "Evaluation 3: Next query is [[0.39791861]\n",
      " [0.16355879]]\n",
      "Evaluation 3: Training model\n",
      "Indifference_threshold is trainable.\n",
      "Negative ELBO at step 0: 24.83509224514346 in 0.5230s\n",
      "Negative ELBO at step 500: 4.932100210240116 in 118.4681s\n",
      "Negative ELBO at step 1000: 4.931204658458101 in 123.6362s\n",
      "Negative ELBO at step 1500: 4.727127772243254 in 122.1870s\n",
      "Negative ELBO at step 2000: 4.869247973575506 in 116.9737s\n",
      "Negative ELBO at step 2500: 4.828776582333395 in 120.1153s\n"
     ]
    },
    {
     "name": "stderr",
     "output_type": "stream",
     "text": [
      "/home/sebtsh/anaconda3/envs/gpflow/lib/python3.6/site-packages/ipykernel_launcher.py:14: RuntimeWarning: More than 20 figures have been opened. Figures created through the pyplot interface (`matplotlib.pyplot.figure`) are retained until explicitly closed and may consume too much memory. (To control this warning, see the rcParam `figure.max_open_warning`).\n",
      "  \n"
     ]
    },
    {
     "name": "stdout",
     "output_type": "stream",
     "text": [
      "Beginning evaluation 4\n",
      "Evaluation 4: Next query is [[0.52889492]\n",
      " [0.35775788]]\n",
      "Evaluation 4: Training model\n",
      "Indifference_threshold is trainable.\n",
      "Negative ELBO at step 0: 11.664647885996704 in 0.4893s\n",
      "Negative ELBO at step 500: 5.641765848586154 in 137.4514s\n",
      "Negative ELBO at step 1000: 5.543630285977031 in 133.7933s\n",
      "Negative ELBO at step 1500: 5.471584467657079 in 146.6256s\n",
      "Negative ELBO at step 2000: 5.538723066079126 in 121.2767s\n",
      "Negative ELBO at step 2500: 5.4328342145029485 in 129.3426s\n"
     ]
    },
    {
     "name": "stderr",
     "output_type": "stream",
     "text": [
      "/home/sebtsh/anaconda3/envs/gpflow/lib/python3.6/site-packages/ipykernel_launcher.py:14: RuntimeWarning: More than 20 figures have been opened. Figures created through the pyplot interface (`matplotlib.pyplot.figure`) are retained until explicitly closed and may consume too much memory. (To control this warning, see the rcParam `figure.max_open_warning`).\n",
      "  \n"
     ]
    },
    {
     "name": "stdout",
     "output_type": "stream",
     "text": [
      "Beginning evaluation 5\n",
      "Evaluation 5: Next query is [[0.52889492]\n",
      " [0.24527794]]\n",
      "Evaluation 5: Training model\n",
      "Indifference_threshold is trainable.\n",
      "Negative ELBO at step 0: 150.1861766549464 in 0.3301s\n",
      "Negative ELBO at step 500: 8.310635914898356 in 135.1356s\n",
      "Negative ELBO at step 1000: 6.967732370912414 in 148.5669s\n",
      "Negative ELBO at step 1500: 6.599949460551242 in 143.7421s\n",
      "Negative ELBO at step 2000: 6.579561467770079 in 149.8078s\n",
      "Negative ELBO at step 2500: 6.572364890645063 in 142.2627s\n"
     ]
    },
    {
     "name": "stderr",
     "output_type": "stream",
     "text": [
      "/home/sebtsh/anaconda3/envs/gpflow/lib/python3.6/site-packages/ipykernel_launcher.py:14: RuntimeWarning: More than 20 figures have been opened. Figures created through the pyplot interface (`matplotlib.pyplot.figure`) are retained until explicitly closed and may consume too much memory. (To control this warning, see the rcParam `figure.max_open_warning`).\n",
      "  \n"
     ]
    },
    {
     "name": "stdout",
     "output_type": "stream",
     "text": [
      "Beginning evaluation 6\n",
      "Evaluation 6: Next query is [[0.79172504]\n",
      " [0.63839011]]\n",
      "Evaluation 6: Training model\n",
      "Indifference_threshold is trainable.\n",
      "Negative ELBO at step 0: 168.2675696724089 in 0.4025s\n",
      "Negative ELBO at step 500: 8.497457892446047 in 170.1266s\n",
      "Negative ELBO at step 1000: 7.590640892912962 in 153.6113s\n",
      "Negative ELBO at step 1500: 7.211081316404309 in 160.6172s\n",
      "Negative ELBO at step 2000: 7.202983393196785 in 152.1986s\n",
      "Negative ELBO at step 2500: 6.915914499598053 in 154.1702s\n"
     ]
    },
    {
     "name": "stderr",
     "output_type": "stream",
     "text": [
      "/home/sebtsh/anaconda3/envs/gpflow/lib/python3.6/site-packages/ipykernel_launcher.py:14: RuntimeWarning: More than 20 figures have been opened. Figures created through the pyplot interface (`matplotlib.pyplot.figure`) are retained until explicitly closed and may consume too much memory. (To control this warning, see the rcParam `figure.max_open_warning`).\n",
      "  \n"
     ]
    },
    {
     "name": "stdout",
     "output_type": "stream",
     "text": [
      "Beginning evaluation 7\n",
      "Evaluation 7: Next query is [[0.63839011]\n",
      " [0.2404904 ]]\n",
      "Evaluation 7: Training model\n",
      "Indifference_threshold is trainable.\n",
      "Negative ELBO at step 0: 20.957247333726393 in 0.3582s\n",
      "Negative ELBO at step 500: 7.862656004094763 in 174.5230s\n",
      "Negative ELBO at step 1000: 7.647206582241381 in 170.7857s\n",
      "Negative ELBO at step 1500: 7.7349510910636115 in 168.2771s\n",
      "Negative ELBO at step 2000: 7.6963523008581625 in 173.3759s\n",
      "Negative ELBO at step 2500: 7.649081950808382 in 175.8203s\n"
     ]
    },
    {
     "name": "stderr",
     "output_type": "stream",
     "text": [
      "/home/sebtsh/anaconda3/envs/gpflow/lib/python3.6/site-packages/ipykernel_launcher.py:14: RuntimeWarning: More than 20 figures have been opened. Figures created through the pyplot interface (`matplotlib.pyplot.figure`) are retained until explicitly closed and may consume too much memory. (To control this warning, see the rcParam `figure.max_open_warning`).\n",
      "  \n"
     ]
    },
    {
     "name": "stdout",
     "output_type": "stream",
     "text": [
      "Beginning evaluation 8\n",
      "Evaluation 8: Next query is [[0.63839011]\n",
      " [0.89819226]]\n",
      "Evaluation 8: Training model\n",
      "Indifference_threshold is trainable.\n",
      "Negative ELBO at step 0: 36.97181247201758 in 0.9557s\n",
      "Negative ELBO at step 500: 8.82659468818151 in 183.8297s\n",
      "Negative ELBO at step 1000: 8.5560927777079 in 188.7635s\n",
      "Negative ELBO at step 1500: 8.408062716060245 in 185.6268s\n",
      "Negative ELBO at step 2000: 8.358593700810975 in 187.5007s\n",
      "Negative ELBO at step 2500: 8.415936972227978 in 184.1450s\n"
     ]
    },
    {
     "name": "stderr",
     "output_type": "stream",
     "text": [
      "/home/sebtsh/anaconda3/envs/gpflow/lib/python3.6/site-packages/ipykernel_launcher.py:14: RuntimeWarning: More than 20 figures have been opened. Figures created through the pyplot interface (`matplotlib.pyplot.figure`) are retained until explicitly closed and may consume too much memory. (To control this warning, see the rcParam `figure.max_open_warning`).\n",
      "  \n"
     ]
    },
    {
     "name": "stdout",
     "output_type": "stream",
     "text": [
      "Beginning evaluation 9\n",
      "Evaluation 9: Next query is [[0.35775788]\n",
      " [0.69733025]]\n",
      "Evaluation 9: Training model\n",
      "Indifference_threshold is trainable.\n",
      "Negative ELBO at step 0: 3314.091799978732 in 0.4779s\n",
      "Negative ELBO at step 500: 22.044020499095243 in 205.4366s\n",
      "Negative ELBO at step 1000: 15.377196011834876 in 207.1392s\n",
      "Negative ELBO at step 1500: 14.129460983013095 in 203.4243s\n",
      "Negative ELBO at step 2000: 11.422448108316798 in 211.3744s\n",
      "Negative ELBO at step 2500: 10.295015952351603 in 197.7988s\n"
     ]
    },
    {
     "name": "stderr",
     "output_type": "stream",
     "text": [
      "/home/sebtsh/anaconda3/envs/gpflow/lib/python3.6/site-packages/ipykernel_launcher.py:14: RuntimeWarning: More than 20 figures have been opened. Figures created through the pyplot interface (`matplotlib.pyplot.figure`) are retained until explicitly closed and may consume too much memory. (To control this warning, see the rcParam `figure.max_open_warning`).\n",
      "  \n"
     ]
    },
    {
     "name": "stdout",
     "output_type": "stream",
     "text": [
      "Beginning evaluation 10\n",
      "Evaluation 10: Next query is [[0.10025174]\n",
      " [0.67468282]]\n",
      "Evaluation 10: Training model\n",
      "Indifference_threshold is trainable.\n",
      "Negative ELBO at step 0: 1550.8849072473938 in 0.4727s\n",
      "Negative ELBO at step 500: 18.117627012897934 in 215.5807s\n",
      "Negative ELBO at step 1000: 14.624417097830065 in 214.4465s\n",
      "Negative ELBO at step 1500: 11.640403978708143 in 210.5209s\n",
      "Negative ELBO at step 2000: 10.943047049390017 in 218.4238s\n",
      "Negative ELBO at step 2500: 10.778358725627287 in 223.0816s\n"
     ]
    },
    {
     "name": "stderr",
     "output_type": "stream",
     "text": [
      "/home/sebtsh/anaconda3/envs/gpflow/lib/python3.6/site-packages/ipykernel_launcher.py:14: RuntimeWarning: More than 20 figures have been opened. Figures created through the pyplot interface (`matplotlib.pyplot.figure`) are retained until explicitly closed and may consume too much memory. (To control this warning, see the rcParam `figure.max_open_warning`).\n",
      "  \n"
     ]
    },
    {
     "name": "stdout",
     "output_type": "stream",
     "text": [
      "Beginning evaluation 11\n",
      "Evaluation 11: Next query is [[0.39296677]\n",
      " [0.77365904]]\n",
      "Evaluation 11: Training model\n",
      "Indifference_threshold is trainable.\n",
      "Negative ELBO at step 0: 56142.84735175804 in 0.5744s\n",
      "Negative ELBO at step 500: 297.39710484954776 in 224.3104s\n",
      "Negative ELBO at step 1000: 189.97964039530424 in 239.9730s\n",
      "Negative ELBO at step 1500: 103.34874725878285 in 226.3039s\n",
      "Negative ELBO at step 2000: 63.393516753954415 in 232.4941s\n",
      "Negative ELBO at step 2500: 43.249727989329195 in 232.4522s\n"
     ]
    },
    {
     "name": "stderr",
     "output_type": "stream",
     "text": [
      "/home/sebtsh/anaconda3/envs/gpflow/lib/python3.6/site-packages/ipykernel_launcher.py:14: RuntimeWarning: More than 20 figures have been opened. Figures created through the pyplot interface (`matplotlib.pyplot.figure`) are retained until explicitly closed and may consume too much memory. (To control this warning, see the rcParam `figure.max_open_warning`).\n",
      "  \n"
     ]
    },
    {
     "name": "stdout",
     "output_type": "stream",
     "text": [
      "Beginning evaluation 12\n",
      "Evaluation 12: Next query is [[0.52889492]\n",
      " [0.24456961]]\n",
      "Evaluation 12: Training model\n",
      "Indifference_threshold is trainable.\n",
      "Negative ELBO at step 0: 12132.97388668073 in 0.6794s\n",
      "Negative ELBO at step 500: 68.27632586274662 in 236.1186s\n",
      "Negative ELBO at step 1000: 39.35636839615083 in 229.6455s\n",
      "Negative ELBO at step 1500: 22.32441783326434 in 235.4518s\n",
      "Negative ELBO at step 2000: 17.908449644553706 in 236.4748s\n",
      "Negative ELBO at step 2500: 16.016979287301588 in 238.8522s\n"
     ]
    },
    {
     "name": "stderr",
     "output_type": "stream",
     "text": [
      "/home/sebtsh/anaconda3/envs/gpflow/lib/python3.6/site-packages/ipykernel_launcher.py:14: RuntimeWarning: More than 20 figures have been opened. Figures created through the pyplot interface (`matplotlib.pyplot.figure`) are retained until explicitly closed and may consume too much memory. (To control this warning, see the rcParam `figure.max_open_warning`).\n",
      "  \n"
     ]
    },
    {
     "name": "stdout",
     "output_type": "stream",
     "text": [
      "Beginning evaluation 13\n",
      "Evaluation 13: Next query is [[0.39791861]\n",
      " [0.20095056]]\n",
      "Evaluation 13: Training model\n",
      "Indifference_threshold is trainable.\n",
      "Negative ELBO at step 0: 45976.71933132671 in 0.5797s\n",
      "Negative ELBO at step 500: 182.24979935485126 in 260.0914s\n",
      "Negative ELBO at step 1000: 85.1893152829891 in 263.2005s\n",
      "Negative ELBO at step 1500: 55.99586041163245 in 255.2983s\n",
      "Negative ELBO at step 2000: 30.566309743807516 in 249.4770s\n",
      "Negative ELBO at step 2500: 26.192972744638 in 255.2295s\n"
     ]
    },
    {
     "name": "stderr",
     "output_type": "stream",
     "text": [
      "/home/sebtsh/anaconda3/envs/gpflow/lib/python3.6/site-packages/ipykernel_launcher.py:14: RuntimeWarning: More than 20 figures have been opened. Figures created through the pyplot interface (`matplotlib.pyplot.figure`) are retained until explicitly closed and may consume too much memory. (To control this warning, see the rcParam `figure.max_open_warning`).\n",
      "  \n"
     ]
    },
    {
     "name": "stdout",
     "output_type": "stream",
     "text": [
      "Beginning evaluation 14\n",
      "Evaluation 14: Next query is [[0.77365904]\n",
      " [0.99654087]]\n",
      "Evaluation 14: Training model\n",
      "Indifference_threshold is trainable.\n",
      "Negative ELBO at step 0: 9740775.755647501 in 1.6386s\n",
      "Negative ELBO at step 500: 65005.61568017607 in 272.1384s\n",
      "Negative ELBO at step 1000: 21421.793359087307 in 264.3973s\n",
      "Negative ELBO at step 1500: 14692.077744173725 in 271.5361s\n",
      "Negative ELBO at step 2000: 6942.654203324453 in 259.1916s\n",
      "Negative ELBO at step 2500: 6210.703696851501 in 260.3695s\n"
     ]
    },
    {
     "name": "stderr",
     "output_type": "stream",
     "text": [
      "/home/sebtsh/anaconda3/envs/gpflow/lib/python3.6/site-packages/ipykernel_launcher.py:14: RuntimeWarning: More than 20 figures have been opened. Figures created through the pyplot interface (`matplotlib.pyplot.figure`) are retained until explicitly closed and may consume too much memory. (To control this warning, see the rcParam `figure.max_open_warning`).\n",
      "  \n"
     ]
    },
    {
     "name": "stdout",
     "output_type": "stream",
     "text": [
      "Beginning evaluation 15\n",
      "Evaluation 15: Next query is [[0.24456961]\n",
      " [0.29217737]]\n",
      "Evaluation 15: Training model\n",
      "Indifference_threshold is trainable.\n",
      "Negative ELBO at step 0: 545835.6250261464 in 0.6874s\n",
      "Negative ELBO at step 500: 3627.3171004292512 in 282.1612s\n",
      "Negative ELBO at step 1000: 1339.1869302676641 in 287.7080s\n",
      "Negative ELBO at step 1500: 888.2914520361606 in 272.2017s\n",
      "Negative ELBO at step 2000: 637.4493103735759 in 279.6202s\n",
      "Negative ELBO at step 2500: 438.0592336144291 in 274.9615s\n"
     ]
    },
    {
     "name": "stderr",
     "output_type": "stream",
     "text": [
      "/home/sebtsh/anaconda3/envs/gpflow/lib/python3.6/site-packages/ipykernel_launcher.py:14: RuntimeWarning: More than 20 figures have been opened. Figures created through the pyplot interface (`matplotlib.pyplot.figure`) are retained until explicitly closed and may consume too much memory. (To control this warning, see the rcParam `figure.max_open_warning`).\n",
      "  \n"
     ]
    },
    {
     "name": "stdout",
     "output_type": "stream",
     "text": [
      "Beginning evaluation 16\n",
      "Evaluation 16: Next query is [[0.67468282]\n",
      " [0.2524732 ]]\n",
      "Evaluation 16: Training model\n",
      "Indifference_threshold is trainable.\n",
      "Negative ELBO at step 0: 449812181.84126014 in 0.9472s\n",
      "Negative ELBO at step 500: 778321.0086646598 in 287.3161s\n",
      "Negative ELBO at step 1000: 478831.05221998005 in 296.2254s\n",
      "Negative ELBO at step 2000: 170842.33400525132 in 281.0215s\n",
      "Negative ELBO at step 2500: 201094.64822564452 in 291.4695s\n"
     ]
    },
    {
     "name": "stderr",
     "output_type": "stream",
     "text": [
      "/home/sebtsh/anaconda3/envs/gpflow/lib/python3.6/site-packages/ipykernel_launcher.py:14: RuntimeWarning: More than 20 figures have been opened. Figures created through the pyplot interface (`matplotlib.pyplot.figure`) are retained until explicitly closed and may consume too much memory. (To control this warning, see the rcParam `figure.max_open_warning`).\n",
      "  \n"
     ]
    },
    {
     "name": "stdout",
     "output_type": "stream",
     "text": [
      "Beginning evaluation 17\n",
      "Evaluation 17: Next query is [[0.2404904]\n",
      " [0.9132836]]\n",
      "Evaluation 17: Training model\n",
      "Indifference_threshold is trainable.\n",
      "Negative ELBO at step 0: 1800192.048609368 in 1.1746s\n",
      "Negative ELBO at step 500: 11998.208223759606 in 297.6317s\n",
      "Negative ELBO at step 1000: 3787.1419143493486 in 303.6441s\n",
      "Negative ELBO at step 1500: 2664.372824635417 in 311.5133s\n",
      "Negative ELBO at step 2000: 1888.4345783341905 in 302.4117s\n",
      "Negative ELBO at step 2500: 1402.2564342601727 in 284.4529s\n"
     ]
    },
    {
     "name": "stderr",
     "output_type": "stream",
     "text": [
      "/home/sebtsh/anaconda3/envs/gpflow/lib/python3.6/site-packages/ipykernel_launcher.py:14: RuntimeWarning: More than 20 figures have been opened. Figures created through the pyplot interface (`matplotlib.pyplot.figure`) are retained until explicitly closed and may consume too much memory. (To control this warning, see the rcParam `figure.max_open_warning`).\n",
      "  \n"
     ]
    },
    {
     "name": "stdout",
     "output_type": "stream",
     "text": [
      "Beginning evaluation 18\n",
      "Evaluation 18: Next query is [[0.69733025]\n",
      " [0.75573798]]\n",
      "Evaluation 18: Training model\n",
      "Indifference_threshold is trainable.\n",
      "Negative ELBO at step 0: 33733062162.68437 in 0.8180s\n",
      "Negative ELBO at step 500: 64596547.326245435 in 267.2137s\n",
      "Negative ELBO at step 1000: 20923248.630836394 in 266.5883s\n",
      "Negative ELBO at step 1500: 10576790.482107403 in 269.5194s\n",
      "Negative ELBO at step 2000: 6811640.451862747 in 265.4975s\n",
      "Negative ELBO at step 2500: 4026128.58047646 in 266.3542s\n"
     ]
    },
    {
     "name": "stderr",
     "output_type": "stream",
     "text": [
      "/home/sebtsh/anaconda3/envs/gpflow/lib/python3.6/site-packages/ipykernel_launcher.py:14: RuntimeWarning: More than 20 figures have been opened. Figures created through the pyplot interface (`matplotlib.pyplot.figure`) are retained until explicitly closed and may consume too much memory. (To control this warning, see the rcParam `figure.max_open_warning`).\n",
      "  \n"
     ]
    },
    {
     "name": "stdout",
     "output_type": "stream",
     "text": [
      "Beginning evaluation 19\n",
      "Evaluation 19: Next query is [[0.52889492]\n",
      " [0.5161237 ]]\n",
      "Evaluation 19: Training model\n",
      "Indifference_threshold is trainable.\n",
      "Negative ELBO at step 0: 37146332.04131784 in 0.7815s\n",
      "Negative ELBO at step 500: 327014.7703377581 in 276.2875s\n",
      "Negative ELBO at step 1000: 182057.3707840594 in 279.1665s\n",
      "Negative ELBO at step 1500: 106681.38152056563 in 277.7297s\n",
      "Negative ELBO at step 2000: 84519.10421535421 in 275.3768s\n",
      "Negative ELBO at step 2500: 87939.89703186655 in 277.3120s\n"
     ]
    },
    {
     "name": "stderr",
     "output_type": "stream",
     "text": [
      "/home/sebtsh/anaconda3/envs/gpflow/lib/python3.6/site-packages/ipykernel_launcher.py:14: RuntimeWarning: More than 20 figures have been opened. Figures created through the pyplot interface (`matplotlib.pyplot.figure`) are retained until explicitly closed and may consume too much memory. (To control this warning, see the rcParam `figure.max_open_warning`).\n",
      "  \n"
     ]
    },
    {
     "name": "stdout",
     "output_type": "stream",
     "text": [
      "Beginning run 4\n",
      "Indifference_threshold is trainable.\n",
      "Negative ELBO at step 0: 2.3535014621024297 in 0.1631s\n",
      "Negative ELBO at step 500: 1.894135254268449 in 52.2691s\n",
      "Negative ELBO at step 1000: 1.9658764322294764 in 51.8393s\n",
      "Negative ELBO at step 1500: 2.0086470602562407 in 54.2642s\n",
      "Negative ELBO at step 2000: 1.94459764728378 in 52.9326s\n",
      "Negative ELBO at step 2500: 1.9916998281363996 in 52.6621s\n"
     ]
    },
    {
     "name": "stderr",
     "output_type": "stream",
     "text": [
      "/home/sebtsh/anaconda3/envs/gpflow/lib/python3.6/site-packages/ipykernel_launcher.py:14: RuntimeWarning: More than 20 figures have been opened. Figures created through the pyplot interface (`matplotlib.pyplot.figure`) are retained until explicitly closed and may consume too much memory. (To control this warning, see the rcParam `figure.max_open_warning`).\n",
      "  \n"
     ]
    },
    {
     "name": "stdout",
     "output_type": "stream",
     "text": [
      "Beginning evaluation 0\n",
      "Evaluation 0: Next query is [[0.07103606]\n",
      " [0.14897487]]\n",
      "Evaluation 0: Training model\n",
      "Indifference_threshold is trainable.\n",
      "Negative ELBO at step 0: 4.529511809786287 in 0.1867s\n",
      "Negative ELBO at step 500: 3.059801502832609 in 64.8766s\n",
      "Negative ELBO at step 1000: 2.8313817145223212 in 64.1767s\n",
      "Negative ELBO at step 1500: 3.048540730415885 in 64.6189s\n",
      "Negative ELBO at step 2000: 2.926324258877907 in 63.8214s\n",
      "Negative ELBO at step 2500: 2.913807482047918 in 62.5546s\n"
     ]
    },
    {
     "name": "stderr",
     "output_type": "stream",
     "text": [
      "/home/sebtsh/anaconda3/envs/gpflow/lib/python3.6/site-packages/ipykernel_launcher.py:14: RuntimeWarning: More than 20 figures have been opened. Figures created through the pyplot interface (`matplotlib.pyplot.figure`) are retained until explicitly closed and may consume too much memory. (To control this warning, see the rcParam `figure.max_open_warning`).\n",
      "  \n"
     ]
    },
    {
     "name": "stdout",
     "output_type": "stream",
     "text": [
      "Beginning evaluation 1\n",
      "Evaluation 1: Next query is [[0.92559664]\n",
      " [0.06007796]]\n",
      "Evaluation 1: Training model\n",
      "Indifference_threshold is trainable.\n",
      "Negative ELBO at step 0: 10.386214108384074 in 0.2008s\n",
      "Negative ELBO at step 500: 3.561762929884073 in 74.0731s\n",
      "Negative ELBO at step 1000: 3.025061209006396 in 75.7189s\n",
      "Negative ELBO at step 1500: 3.1241530499672305 in 73.5291s\n",
      "Negative ELBO at step 2000: 3.2540253198070865 in 76.6269s\n",
      "Negative ELBO at step 2500: 3.1396477048836506 in 74.8911s\n"
     ]
    },
    {
     "name": "stderr",
     "output_type": "stream",
     "text": [
      "/home/sebtsh/anaconda3/envs/gpflow/lib/python3.6/site-packages/ipykernel_launcher.py:14: RuntimeWarning: More than 20 figures have been opened. Figures created through the pyplot interface (`matplotlib.pyplot.figure`) are retained until explicitly closed and may consume too much memory. (To control this warning, see the rcParam `figure.max_open_warning`).\n",
      "  \n"
     ]
    },
    {
     "name": "stdout",
     "output_type": "stream",
     "text": [
      "Beginning evaluation 2\n",
      "Evaluation 2: Next query is [[0.92559664]\n",
      " [0.29875031]]\n",
      "Evaluation 2: Training model\n",
      "Indifference_threshold is trainable.\n",
      "Negative ELBO at step 0: 5.486784784297815 in 0.2608s\n",
      "Negative ELBO at step 500: 3.6313161154951783 in 86.6240s\n",
      "Negative ELBO at step 1000: 3.3393974296268367 in 85.3583s\n",
      "Negative ELBO at step 1500: 3.335449020834485 in 85.5039s\n",
      "Negative ELBO at step 2000: 3.293510285785195 in 87.4522s\n",
      "Negative ELBO at step 2500: 3.0546756393309114 in 86.5284s\n"
     ]
    },
    {
     "name": "stderr",
     "output_type": "stream",
     "text": [
      "/home/sebtsh/anaconda3/envs/gpflow/lib/python3.6/site-packages/ipykernel_launcher.py:14: RuntimeWarning: More than 20 figures have been opened. Figures created through the pyplot interface (`matplotlib.pyplot.figure`) are retained until explicitly closed and may consume too much memory. (To control this warning, see the rcParam `figure.max_open_warning`).\n",
      "  \n"
     ]
    },
    {
     "name": "stdout",
     "output_type": "stream",
     "text": [
      "Beginning evaluation 3\n",
      "Evaluation 3: Next query is [[0.07103606]\n",
      " [0.65730101]]\n",
      "Evaluation 3: Training model\n",
      "Indifference_threshold is trainable.\n",
      "Negative ELBO at step 0: 18.062949722288074 in 0.2523s\n",
      "Negative ELBO at step 500: 4.868267118337425 in 95.6991s\n",
      "Negative ELBO at step 1000: 5.060448829605227 in 97.5501s\n",
      "Negative ELBO at step 1500: 5.061594782651711 in 95.0085s\n",
      "Negative ELBO at step 2000: 4.8330876969180725 in 97.0034s\n",
      "Negative ELBO at step 2500: 4.951472093025021 in 95.5075s\n"
     ]
    },
    {
     "name": "stderr",
     "output_type": "stream",
     "text": [
      "/home/sebtsh/anaconda3/envs/gpflow/lib/python3.6/site-packages/ipykernel_launcher.py:14: RuntimeWarning: More than 20 figures have been opened. Figures created through the pyplot interface (`matplotlib.pyplot.figure`) are retained until explicitly closed and may consume too much memory. (To control this warning, see the rcParam `figure.max_open_warning`).\n",
      "  \n"
     ]
    },
    {
     "name": "stdout",
     "output_type": "stream",
     "text": [
      "Beginning evaluation 4\n",
      "Evaluation 4: Next query is [[0.29875031]\n",
      " [0.39701367]]\n",
      "Evaluation 4: Training model\n",
      "Indifference_threshold is trainable.\n",
      "Negative ELBO at step 0: 7.881544761777019 in 0.2945s\n",
      "Negative ELBO at step 500: 5.393873115003069 in 110.8379s\n",
      "Negative ELBO at step 1000: 5.184488596050766 in 107.1113s\n",
      "Negative ELBO at step 1500: 5.2058596647123885 in 107.7541s\n",
      "Negative ELBO at step 2000: 5.252380463092527 in 110.1028s\n",
      "Negative ELBO at step 2500: 5.166352450135091 in 108.8218s\n"
     ]
    },
    {
     "name": "stderr",
     "output_type": "stream",
     "text": [
      "/home/sebtsh/anaconda3/envs/gpflow/lib/python3.6/site-packages/ipykernel_launcher.py:14: RuntimeWarning: More than 20 figures have been opened. Figures created through the pyplot interface (`matplotlib.pyplot.figure`) are retained until explicitly closed and may consume too much memory. (To control this warning, see the rcParam `figure.max_open_warning`).\n",
      "  \n"
     ]
    },
    {
     "name": "stdout",
     "output_type": "stream",
     "text": [
      "Beginning evaluation 5\n",
      "Evaluation 5: Next query is [[0.07103606]\n",
      " [0.04446784]]\n",
      "Evaluation 5: Training model\n",
      "Indifference_threshold is trainable.\n",
      "Negative ELBO at step 0: 15.27649929344236 in 0.3553s\n",
      "Negative ELBO at step 500: 6.508832691221064 in 121.5859s\n",
      "Negative ELBO at step 1000: 5.929409207197158 in 121.1427s\n",
      "Negative ELBO at step 1500: 6.178882117475484 in 119.0586s\n",
      "Negative ELBO at step 2000: 6.022218700173359 in 119.2769s\n",
      "Negative ELBO at step 2500: 5.919589357880526 in 122.2341s\n"
     ]
    },
    {
     "name": "stderr",
     "output_type": "stream",
     "text": [
      "/home/sebtsh/anaconda3/envs/gpflow/lib/python3.6/site-packages/ipykernel_launcher.py:14: RuntimeWarning: More than 20 figures have been opened. Figures created through the pyplot interface (`matplotlib.pyplot.figure`) are retained until explicitly closed and may consume too much memory. (To control this warning, see the rcParam `figure.max_open_warning`).\n",
      "  \n"
     ]
    },
    {
     "name": "stdout",
     "output_type": "stream",
     "text": [
      "Beginning evaluation 6\n",
      "Evaluation 6: Next query is [[0.29875031]\n",
      " [0.76904699]]\n",
      "Evaluation 6: Training model\n",
      "Indifference_threshold is trainable.\n",
      "Negative ELBO at step 0: 239.945726004238 in 0.3972s\n",
      "Negative ELBO at step 500: 10.286418905710661 in 130.2792s\n",
      "Negative ELBO at step 1000: 8.073342580106832 in 129.4380s\n",
      "Negative ELBO at step 1500: 6.985993513735716 in 130.8169s\n",
      "Negative ELBO at step 2000: 6.888121846003517 in 132.6441s\n",
      "Negative ELBO at step 2500: 6.594296894061031 in 132.3960s\n"
     ]
    },
    {
     "name": "stderr",
     "output_type": "stream",
     "text": [
      "/home/sebtsh/anaconda3/envs/gpflow/lib/python3.6/site-packages/ipykernel_launcher.py:14: RuntimeWarning: More than 20 figures have been opened. Figures created through the pyplot interface (`matplotlib.pyplot.figure`) are retained until explicitly closed and may consume too much memory. (To control this warning, see the rcParam `figure.max_open_warning`).\n",
      "  \n"
     ]
    },
    {
     "name": "stdout",
     "output_type": "stream",
     "text": [
      "Beginning evaluation 7\n",
      "Evaluation 7: Next query is [[0.65730101]\n",
      " [0.15274234]]\n",
      "Evaluation 7: Training model\n",
      "Indifference_threshold is trainable.\n",
      "Negative ELBO at step 0: 451.74261621940235 in 0.4216s\n",
      "Negative ELBO at step 500: 10.806345064774693 in 145.2874s\n",
      "Negative ELBO at step 1000: 7.749389628511066 in 142.1123s\n",
      "Negative ELBO at step 1500: 7.232472861806025 in 142.5174s\n",
      "Negative ELBO at step 2000: 6.916035954429 in 144.3913s\n",
      "Negative ELBO at step 2500: 7.067739778293924 in 146.3486s\n"
     ]
    },
    {
     "name": "stderr",
     "output_type": "stream",
     "text": [
      "/home/sebtsh/anaconda3/envs/gpflow/lib/python3.6/site-packages/ipykernel_launcher.py:14: RuntimeWarning: More than 20 figures have been opened. Figures created through the pyplot interface (`matplotlib.pyplot.figure`) are retained until explicitly closed and may consume too much memory. (To control this warning, see the rcParam `figure.max_open_warning`).\n",
      "  \n"
     ]
    },
    {
     "name": "stdout",
     "output_type": "stream",
     "text": [
      "Beginning evaluation 8\n",
      "Evaluation 8: Next query is [[0.07103606]\n",
      " [0.37826782]]\n",
      "Evaluation 8: Training model\n",
      "Indifference_threshold is trainable.\n",
      "Negative ELBO at step 0: 285.32671777332365 in 0.4444s\n",
      "Negative ELBO at step 500: 11.192933655821104 in 153.4669s\n",
      "Negative ELBO at step 1000: 8.347740496597485 in 155.5046s\n",
      "Negative ELBO at step 1500: 8.05821448012389 in 154.3023s\n",
      "Negative ELBO at step 2000: 8.194627684886441 in 154.3489s\n",
      "Negative ELBO at step 2500: 7.954924078265698 in 152.2388s\n"
     ]
    },
    {
     "name": "stderr",
     "output_type": "stream",
     "text": [
      "/home/sebtsh/anaconda3/envs/gpflow/lib/python3.6/site-packages/ipykernel_launcher.py:14: RuntimeWarning: More than 20 figures have been opened. Figures created through the pyplot interface (`matplotlib.pyplot.figure`) are retained until explicitly closed and may consume too much memory. (To control this warning, see the rcParam `figure.max_open_warning`).\n",
      "  \n"
     ]
    },
    {
     "name": "stdout",
     "output_type": "stream",
     "text": [
      "Beginning evaluation 9\n",
      "Evaluation 9: Next query is [[0.37826782]\n",
      " [0.11476736]]\n",
      "Evaluation 9: Training model\n",
      "Indifference_threshold is trainable.\n",
      "Negative ELBO at step 0: 649.3607911867922 in 0.4964s\n",
      "Negative ELBO at step 500: 10.161124795254745 in 166.9701s\n",
      "Negative ELBO at step 1000: 9.25785743732348 in 167.4530s\n",
      "Negative ELBO at step 1500: 8.805508008290843 in 167.9903s\n",
      "Negative ELBO at step 2000: 8.488821915098443 in 167.0331s\n",
      "Negative ELBO at step 2500: 8.342643920740555 in 169.2792s\n"
     ]
    },
    {
     "name": "stderr",
     "output_type": "stream",
     "text": [
      "/home/sebtsh/anaconda3/envs/gpflow/lib/python3.6/site-packages/ipykernel_launcher.py:14: RuntimeWarning: More than 20 figures have been opened. Figures created through the pyplot interface (`matplotlib.pyplot.figure`) are retained until explicitly closed and may consume too much memory. (To control this warning, see the rcParam `figure.max_open_warning`).\n",
      "  \n"
     ]
    },
    {
     "name": "stdout",
     "output_type": "stream",
     "text": [
      "Beginning evaluation 10\n",
      "Evaluation 10: Next query is [[0.15274234]\n",
      " [0.6496565 ]]\n",
      "Evaluation 10: Training model\n",
      "Indifference_threshold is trainable.\n",
      "Negative ELBO at step 0: 404.0619254118482 in 0.4927s\n",
      "Negative ELBO at step 500: 11.578991388119805 in 175.5953s\n",
      "Negative ELBO at step 1000: 9.692591943548326 in 176.3985s\n",
      "Negative ELBO at step 1500: 9.010771600903606 in 174.7582s\n",
      "Negative ELBO at step 2000: 8.625855589576553 in 174.9376s\n",
      "Negative ELBO at step 2500: 8.740569114193498 in 178.4968s\n"
     ]
    },
    {
     "name": "stderr",
     "output_type": "stream",
     "text": [
      "/home/sebtsh/anaconda3/envs/gpflow/lib/python3.6/site-packages/ipykernel_launcher.py:14: RuntimeWarning: More than 20 figures have been opened. Figures created through the pyplot interface (`matplotlib.pyplot.figure`) are retained until explicitly closed and may consume too much memory. (To control this warning, see the rcParam `figure.max_open_warning`).\n",
      "  \n"
     ]
    },
    {
     "name": "stdout",
     "output_type": "stream",
     "text": [
      "Beginning evaluation 11\n",
      "Evaluation 11: Next query is [[0.6496565]\n",
      " [0.3823418]]\n",
      "Evaluation 11: Training model\n",
      "Indifference_threshold is trainable.\n",
      "Negative ELBO at step 0: 817.1582441751453 in 0.5464s\n",
      "Negative ELBO at step 500: 13.18466453737462 in 189.6047s\n",
      "Negative ELBO at step 1000: 11.492390613301204 in 189.5388s\n",
      "Negative ELBO at step 1500: 10.275134175784595 in 187.5336s\n",
      "Negative ELBO at step 2000: 9.677945417574119 in 189.9144s\n",
      "Negative ELBO at step 2500: 9.339480389361276 in 187.2303s\n"
     ]
    },
    {
     "name": "stderr",
     "output_type": "stream",
     "text": [
      "/home/sebtsh/anaconda3/envs/gpflow/lib/python3.6/site-packages/ipykernel_launcher.py:14: RuntimeWarning: More than 20 figures have been opened. Figures created through the pyplot interface (`matplotlib.pyplot.figure`) are retained until explicitly closed and may consume too much memory. (To control this warning, see the rcParam `figure.max_open_warning`).\n",
      "  \n"
     ]
    },
    {
     "name": "stdout",
     "output_type": "stream",
     "text": [
      "Beginning evaluation 12\n",
      "Evaluation 12: Next query is [[0.29875031]\n",
      " [0.12749888]]\n",
      "Evaluation 12: Training model\n",
      "Indifference_threshold is trainable.\n",
      "Negative ELBO at step 0: 1888.2286512180751 in 0.5983s\n",
      "Negative ELBO at step 500: 18.640102262442262 in 198.2142s\n",
      "Negative ELBO at step 1000: 15.11603909296636 in 196.8661s\n",
      "Negative ELBO at step 1500: 13.305053250816202 in 200.1583s\n",
      "Negative ELBO at step 2000: 11.282183333691648 in 195.1761s\n",
      "Negative ELBO at step 2500: 10.99467980151991 in 198.0144s\n"
     ]
    },
    {
     "name": "stderr",
     "output_type": "stream",
     "text": [
      "/home/sebtsh/anaconda3/envs/gpflow/lib/python3.6/site-packages/ipykernel_launcher.py:14: RuntimeWarning: More than 20 figures have been opened. Figures created through the pyplot interface (`matplotlib.pyplot.figure`) are retained until explicitly closed and may consume too much memory. (To control this warning, see the rcParam `figure.max_open_warning`).\n",
      "  \n"
     ]
    },
    {
     "name": "stdout",
     "output_type": "stream",
     "text": [
      "Beginning evaluation 13\n",
      "Evaluation 13: Next query is [[0.11476736]\n",
      " [0.37121298]]\n",
      "Evaluation 13: Training model\n",
      "Indifference_threshold is trainable.\n",
      "Negative ELBO at step 0: 1727.90781357955 in 0.6077s\n",
      "Negative ELBO at step 500: 27.88506425985394 in 208.3899s\n",
      "Negative ELBO at step 1000: 15.751729581313803 in 209.0971s\n",
      "Negative ELBO at step 1500: 14.369955931335214 in 210.5727s\n",
      "Negative ELBO at step 2000: 13.970592221539889 in 209.7640s\n",
      "Negative ELBO at step 2500: 13.123105691724252 in 209.4988s\n"
     ]
    },
    {
     "name": "stderr",
     "output_type": "stream",
     "text": [
      "/home/sebtsh/anaconda3/envs/gpflow/lib/python3.6/site-packages/ipykernel_launcher.py:14: RuntimeWarning: More than 20 figures have been opened. Figures created through the pyplot interface (`matplotlib.pyplot.figure`) are retained until explicitly closed and may consume too much memory. (To control this warning, see the rcParam `figure.max_open_warning`).\n",
      "  \n"
     ]
    },
    {
     "name": "stdout",
     "output_type": "stream",
     "text": [
      "Beginning evaluation 14\n",
      "Evaluation 14: Next query is [[0.29875031]\n",
      " [0.3434538 ]]\n",
      "Evaluation 14: Training model\n",
      "Indifference_threshold is trainable.\n",
      "Negative ELBO at step 0: 723.1206656413868 in 0.6699s\n",
      "Negative ELBO at step 500: 16.748717493060624 in 222.4423s\n",
      "Negative ELBO at step 1000: 13.578796686804445 in 222.7389s\n",
      "Negative ELBO at step 1500: 12.257143109086115 in 219.2675s\n",
      "Negative ELBO at step 2000: 12.130571067756597 in 220.8882s\n",
      "Negative ELBO at step 2500: 11.923215154281461 in 219.4735s\n"
     ]
    },
    {
     "name": "stderr",
     "output_type": "stream",
     "text": [
      "/home/sebtsh/anaconda3/envs/gpflow/lib/python3.6/site-packages/ipykernel_launcher.py:14: RuntimeWarning: More than 20 figures have been opened. Figures created through the pyplot interface (`matplotlib.pyplot.figure`) are retained until explicitly closed and may consume too much memory. (To control this warning, see the rcParam `figure.max_open_warning`).\n",
      "  \n"
     ]
    },
    {
     "name": "stdout",
     "output_type": "stream",
     "text": [
      "Beginning evaluation 15\n",
      "Evaluation 15: Next query is [[0.3434538 ]\n",
      " [0.39312242]]\n",
      "Evaluation 15: Training model\n",
      "Indifference_threshold is trainable.\n",
      "Negative ELBO at step 0: 163756.6396499135 in 0.6197s\n",
      "Negative ELBO at step 500: 325.34275637696913 in 235.0201s\n",
      "Negative ELBO at step 1000: 134.90324079498453 in 233.9048s\n",
      "Negative ELBO at step 1500: 64.72732402544123 in 232.8549s\n",
      "Negative ELBO at step 2000: 47.209462032073525 in 232.8172s\n",
      "Negative ELBO at step 2500: 36.242185072680115 in 230.3352s\n"
     ]
    },
    {
     "name": "stderr",
     "output_type": "stream",
     "text": [
      "/home/sebtsh/anaconda3/envs/gpflow/lib/python3.6/site-packages/ipykernel_launcher.py:14: RuntimeWarning: More than 20 figures have been opened. Figures created through the pyplot interface (`matplotlib.pyplot.figure`) are retained until explicitly closed and may consume too much memory. (To control this warning, see the rcParam `figure.max_open_warning`).\n",
      "  \n"
     ]
    },
    {
     "name": "stdout",
     "output_type": "stream",
     "text": [
      "Beginning evaluation 16\n",
      "Evaluation 16: Next query is [[0.76904699]\n",
      " [0.59598571]]\n",
      "Evaluation 16: Training model\n",
      "Indifference_threshold is trainable.\n",
      "Negative ELBO at step 0: 5619680907.365834 in 0.7731s\n",
      "Negative ELBO at step 500: 7509969.780073755 in 243.6511s\n",
      "Negative ELBO at step 1000: 5413292.343659378 in 244.2897s\n",
      "Negative ELBO at step 1500: 2978572.89060746 in 240.4334s\n",
      "Negative ELBO at step 2000: 2506696.8953233664 in 243.7368s\n",
      "Negative ELBO at step 2500: 1245815.4924493148 in 242.3954s\n"
     ]
    },
    {
     "name": "stderr",
     "output_type": "stream",
     "text": [
      "/home/sebtsh/anaconda3/envs/gpflow/lib/python3.6/site-packages/ipykernel_launcher.py:14: RuntimeWarning: More than 20 figures have been opened. Figures created through the pyplot interface (`matplotlib.pyplot.figure`) are retained until explicitly closed and may consume too much memory. (To control this warning, see the rcParam `figure.max_open_warning`).\n",
      "  \n"
     ]
    },
    {
     "name": "stdout",
     "output_type": "stream",
     "text": [
      "Beginning evaluation 17\n",
      "Evaluation 17: Next query is [[0.56804456]\n",
      " [0.24029232]]\n",
      "Evaluation 17: Training model\n",
      "Indifference_threshold is trainable.\n",
      "Negative ELBO at step 0: 5646444.925442101 in 0.7371s\n",
      "Negative ELBO at step 500: 9238.84890129802 in 255.9817s\n",
      "Negative ELBO at step 1000: 4913.826564239253 in 255.4010s\n",
      "Negative ELBO at step 1500: 2136.0898996100673 in 251.9386s\n",
      "Negative ELBO at step 2000: 1357.6485240377247 in 255.7519s\n",
      "Negative ELBO at step 2500: 864.7417246904253 in 255.4107s\n"
     ]
    },
    {
     "name": "stderr",
     "output_type": "stream",
     "text": [
      "/home/sebtsh/anaconda3/envs/gpflow/lib/python3.6/site-packages/ipykernel_launcher.py:14: RuntimeWarning: More than 20 figures have been opened. Figures created through the pyplot interface (`matplotlib.pyplot.figure`) are retained until explicitly closed and may consume too much memory. (To control this warning, see the rcParam `figure.max_open_warning`).\n",
      "  \n"
     ]
    },
    {
     "name": "stdout",
     "output_type": "stream",
     "text": [
      "Beginning evaluation 18\n",
      "Evaluation 18: Next query is [[0.59598571]\n",
      " [0.85268901]]\n",
      "Evaluation 18: Training model\n",
      "Indifference_threshold is trainable.\n",
      "Negative ELBO at step 0: 24794.475303931566 in 0.7918s\n",
      "Negative ELBO at step 500: 181.42902109460232 in 265.7952s\n",
      "Negative ELBO at step 1000: 69.78176787609787 in 265.2717s\n",
      "Negative ELBO at step 1500: 41.878484623517465 in 268.6524s\n",
      "Negative ELBO at step 2000: 38.68040207177792 in 266.6613s\n",
      "Negative ELBO at step 2500: 31.854912939383446 in 269.9075s\n"
     ]
    },
    {
     "name": "stderr",
     "output_type": "stream",
     "text": [
      "/home/sebtsh/anaconda3/envs/gpflow/lib/python3.6/site-packages/ipykernel_launcher.py:14: RuntimeWarning: More than 20 figures have been opened. Figures created through the pyplot interface (`matplotlib.pyplot.figure`) are retained until explicitly closed and may consume too much memory. (To control this warning, see the rcParam `figure.max_open_warning`).\n",
      "  \n"
     ]
    },
    {
     "name": "stdout",
     "output_type": "stream",
     "text": [
      "Beginning evaluation 19\n",
      "Evaluation 19: Next query is [[0.11476736]\n",
      " [0.23125495]]\n",
      "Evaluation 19: Training model\n",
      "Indifference_threshold is trainable.\n",
      "Negative ELBO at step 0: 614108011750.5393 in 0.8259s\n",
      "Negative ELBO at step 500: 575959977.2925621 in 275.4003s\n",
      "Negative ELBO at step 1000: 220895762.4520062 in 272.3506s\n",
      "Negative ELBO at step 1500: 123727825.44590797 in 274.3999s\n",
      "Negative ELBO at step 2000: 82101914.86101393 in 277.6184s\n",
      "Negative ELBO at step 2500: 20346657.596638188 in 276.8820s\n"
     ]
    },
    {
     "name": "stderr",
     "output_type": "stream",
     "text": [
      "/home/sebtsh/anaconda3/envs/gpflow/lib/python3.6/site-packages/ipykernel_launcher.py:14: RuntimeWarning: More than 20 figures have been opened. Figures created through the pyplot interface (`matplotlib.pyplot.figure`) are retained until explicitly closed and may consume too much memory. (To control this warning, see the rcParam `figure.max_open_warning`).\n",
      "  \n"
     ]
    },
    {
     "name": "stdout",
     "output_type": "stream",
     "text": [
      "Beginning run 5\n",
      "Indifference_threshold is trainable.\n",
      "Negative ELBO at step 0: 2.603347783860176 in 0.1643s\n",
      "Negative ELBO at step 500: 2.296432792116288 in 54.2196s\n",
      "Negative ELBO at step 1000: 2.2935949499149424 in 53.7997s\n",
      "Negative ELBO at step 1500: 2.162872371194488 in 52.4093s\n",
      "Negative ELBO at step 2000: 2.1325643510115304 in 53.0167s\n",
      "Negative ELBO at step 2500: 2.1805389577736656 in 52.3701s\n"
     ]
    },
    {
     "name": "stderr",
     "output_type": "stream",
     "text": [
      "/home/sebtsh/anaconda3/envs/gpflow/lib/python3.6/site-packages/ipykernel_launcher.py:14: RuntimeWarning: More than 20 figures have been opened. Figures created through the pyplot interface (`matplotlib.pyplot.figure`) are retained until explicitly closed and may consume too much memory. (To control this warning, see the rcParam `figure.max_open_warning`).\n",
      "  \n"
     ]
    },
    {
     "name": "stdout",
     "output_type": "stream",
     "text": [
      "Beginning evaluation 0\n",
      "Evaluation 0: Next query is [[0.0202184]\n",
      " [0.9764026]]\n",
      "Evaluation 0: Training model\n",
      "Indifference_threshold is trainable.\n",
      "Negative ELBO at step 0: 5.56195750821779 in 0.1605s\n",
      "Negative ELBO at step 500: 3.1403396392117107 in 64.4653s\n",
      "Negative ELBO at step 1000: 2.9310191002695096 in 64.8719s\n",
      "Negative ELBO at step 1500: 2.9037608442908605 in 63.4233s\n",
      "Negative ELBO at step 2000: 2.94083485727504 in 65.2885s\n",
      "Negative ELBO at step 2500: 2.879999927884557 in 64.9769s\n"
     ]
    },
    {
     "name": "stderr",
     "output_type": "stream",
     "text": [
      "/home/sebtsh/anaconda3/envs/gpflow/lib/python3.6/site-packages/ipykernel_launcher.py:14: RuntimeWarning: More than 20 figures have been opened. Figures created through the pyplot interface (`matplotlib.pyplot.figure`) are retained until explicitly closed and may consume too much memory. (To control this warning, see the rcParam `figure.max_open_warning`).\n",
      "  \n"
     ]
    },
    {
     "name": "stdout",
     "output_type": "stream",
     "text": [
      "Beginning evaluation 1\n",
      "Evaluation 1: Next query is [[0.9764026 ]\n",
      " [0.10730103]]\n",
      "Evaluation 1: Training model\n",
      "Indifference_threshold is trainable.\n",
      "Negative ELBO at step 0: 4.720812035097043 in 0.5309s\n",
      "Negative ELBO at step 500: 3.526384664498869 in 74.0106s\n",
      "Negative ELBO at step 1000: 3.6295487692365564 in 74.6239s\n",
      "Negative ELBO at step 1500: 3.7644376977136336 in 76.5272s\n",
      "Negative ELBO at step 2000: 3.6735594654979224 in 77.0259s\n",
      "Negative ELBO at step 2500: 3.6168481429377 in 74.8419s\n"
     ]
    },
    {
     "name": "stderr",
     "output_type": "stream",
     "text": [
      "/home/sebtsh/anaconda3/envs/gpflow/lib/python3.6/site-packages/ipykernel_launcher.py:14: RuntimeWarning: More than 20 figures have been opened. Figures created through the pyplot interface (`matplotlib.pyplot.figure`) are retained until explicitly closed and may consume too much memory. (To control this warning, see the rcParam `figure.max_open_warning`).\n",
      "  \n"
     ]
    },
    {
     "name": "stdout",
     "output_type": "stream",
     "text": [
      "Beginning evaluation 2\n",
      "Evaluation 2: Next query is [[0.83261985]\n",
      " [0.01490001]]\n",
      "Evaluation 2: Training model\n",
      "Indifference_threshold is trainable.\n",
      "Negative ELBO at step 0: 87.13864227629777 in 0.2288s\n",
      "Negative ELBO at step 500: 5.3742448370752784 in 87.1103s\n",
      "Negative ELBO at step 1000: 5.142698900228861 in 86.4017s\n",
      "Negative ELBO at step 1500: 5.187344740929773 in 87.6720s\n",
      "Negative ELBO at step 2000: 4.966539704662684 in 87.6589s\n",
      "Negative ELBO at step 2500: 5.019570619040275 in 86.8594s\n"
     ]
    },
    {
     "name": "stderr",
     "output_type": "stream",
     "text": [
      "/home/sebtsh/anaconda3/envs/gpflow/lib/python3.6/site-packages/ipykernel_launcher.py:14: RuntimeWarning: More than 20 figures have been opened. Figures created through the pyplot interface (`matplotlib.pyplot.figure`) are retained until explicitly closed and may consume too much memory. (To control this warning, see the rcParam `figure.max_open_warning`).\n",
      "  \n"
     ]
    },
    {
     "name": "stdout",
     "output_type": "stream",
     "text": [
      "Beginning evaluation 3\n",
      "Evaluation 3: Next query is [[0.10730103]\n",
      " [0.16554561]]\n",
      "Evaluation 3: Training model\n",
      "Indifference_threshold is trainable.\n",
      "Negative ELBO at step 0: 6.5520691347244835 in 0.5758s\n",
      "Negative ELBO at step 500: 5.227353166601779 in 99.5026s\n",
      "Negative ELBO at step 1000: 5.027382511636855 in 96.4323s\n",
      "Negative ELBO at step 1500: 5.063671634184143 in 96.8364s\n",
      "Negative ELBO at step 2000: 4.9462941555341144 in 98.8262s\n",
      "Negative ELBO at step 2500: 4.954511693734086 in 96.5622s\n"
     ]
    },
    {
     "name": "stderr",
     "output_type": "stream",
     "text": [
      "/home/sebtsh/anaconda3/envs/gpflow/lib/python3.6/site-packages/ipykernel_launcher.py:14: RuntimeWarning: More than 20 figures have been opened. Figures created through the pyplot interface (`matplotlib.pyplot.figure`) are retained until explicitly closed and may consume too much memory. (To control this warning, see the rcParam `figure.max_open_warning`).\n",
      "  \n"
     ]
    },
    {
     "name": "stdout",
     "output_type": "stream",
     "text": [
      "Beginning evaluation 4\n",
      "Evaluation 4: Next query is [[0.16554561]\n",
      " [0.46938436]]\n",
      "Evaluation 4: Training model\n",
      "Indifference_threshold is trainable.\n",
      "Negative ELBO at step 0: 40.709251463814624 in 0.2673s\n",
      "Negative ELBO at step 500: 6.654011169412081 in 107.8383s\n",
      "Negative ELBO at step 1000: 5.990182922475237 in 107.7558s\n",
      "Negative ELBO at step 1500: 5.759406570747336 in 109.1540s\n",
      "Negative ELBO at step 2000: 5.772729470871406 in 111.1534s\n",
      "Negative ELBO at step 2500: 5.834375399960211 in 108.2174s\n"
     ]
    },
    {
     "name": "stderr",
     "output_type": "stream",
     "text": [
      "/home/sebtsh/anaconda3/envs/gpflow/lib/python3.6/site-packages/ipykernel_launcher.py:14: RuntimeWarning: More than 20 figures have been opened. Figures created through the pyplot interface (`matplotlib.pyplot.figure`) are retained until explicitly closed and may consume too much memory. (To control this warning, see the rcParam `figure.max_open_warning`).\n",
      "  \n"
     ]
    },
    {
     "name": "stdout",
     "output_type": "stream",
     "text": [
      "Beginning evaluation 5\n",
      "Evaluation 5: Next query is [[0.0202184 ]\n",
      " [0.36627494]]\n",
      "Evaluation 5: Training model\n",
      "Indifference_threshold is trainable.\n",
      "Negative ELBO at step 0: 4554.730335562573 in 0.2940s\n",
      "Negative ELBO at step 500: 220.64074708562018 in 120.3404s\n",
      "Negative ELBO at step 1000: 158.3796748604896 in 119.1958s\n",
      "Negative ELBO at step 1500: 143.3061784138982 in 119.8861s\n",
      "Negative ELBO at step 2000: 106.37157998390201 in 121.0579s\n",
      "Negative ELBO at step 2500: 84.62675810662596 in 120.7722s\n"
     ]
    },
    {
     "name": "stderr",
     "output_type": "stream",
     "text": [
      "/home/sebtsh/anaconda3/envs/gpflow/lib/python3.6/site-packages/ipykernel_launcher.py:14: RuntimeWarning: More than 20 figures have been opened. Figures created through the pyplot interface (`matplotlib.pyplot.figure`) are retained until explicitly closed and may consume too much memory. (To control this warning, see the rcParam `figure.max_open_warning`).\n",
      "  \n"
     ]
    },
    {
     "name": "stdout",
     "output_type": "stream",
     "text": [
      "Beginning evaluation 6\n",
      "Evaluation 6: Next query is [[0.36627494]\n",
      " [0.86908728]]\n",
      "Evaluation 6: Training model\n",
      "Indifference_threshold is trainable.\n",
      "Negative ELBO at step 0: 149693.84646669848 in 0.4328s\n",
      "Negative ELBO at step 500: 279.444196685796 in 130.4776s\n",
      "Negative ELBO at step 1000: 117.48163864219978 in 131.0905s\n",
      "Negative ELBO at step 1500: 85.25525977729292 in 132.2523s\n",
      "Negative ELBO at step 2000: 54.729672269089875 in 130.8588s\n",
      "Negative ELBO at step 2500: 44.316374548472666 in 130.8774s\n"
     ]
    },
    {
     "name": "stderr",
     "output_type": "stream",
     "text": [
      "/home/sebtsh/anaconda3/envs/gpflow/lib/python3.6/site-packages/ipykernel_launcher.py:14: RuntimeWarning: More than 20 figures have been opened. Figures created through the pyplot interface (`matplotlib.pyplot.figure`) are retained until explicitly closed and may consume too much memory. (To control this warning, see the rcParam `figure.max_open_warning`).\n",
      "  \n"
     ]
    },
    {
     "name": "stdout",
     "output_type": "stream",
     "text": [
      "Beginning evaluation 7\n",
      "Evaluation 7: Next query is [[0.10730103]\n",
      " [0.68348944]]\n",
      "Evaluation 7: Training model\n",
      "Indifference_threshold is trainable.\n",
      "Negative ELBO at step 0: 22435.30601083983 in 0.4026s\n",
      "Negative ELBO at step 500: 106.64136179153992 in 142.9594s\n",
      "Negative ELBO at step 1000: 46.24187942108077 in 146.1056s\n",
      "Negative ELBO at step 1500: 28.78737918401204 in 143.4318s\n",
      "Negative ELBO at step 2000: 30.68993167937721 in 143.6271s\n",
      "Negative ELBO at step 2500: 23.001213890571947 in 143.9120s\n"
     ]
    },
    {
     "name": "stderr",
     "output_type": "stream",
     "text": [
      "/home/sebtsh/anaconda3/envs/gpflow/lib/python3.6/site-packages/ipykernel_launcher.py:14: RuntimeWarning: More than 20 figures have been opened. Figures created through the pyplot interface (`matplotlib.pyplot.figure`) are retained until explicitly closed and may consume too much memory. (To control this warning, see the rcParam `figure.max_open_warning`).\n",
      "  \n"
     ]
    },
    {
     "name": "stdout",
     "output_type": "stream",
     "text": [
      "Beginning evaluation 8\n",
      "Evaluation 8: Next query is [[0.68348944]\n",
      " [0.78405861]]\n",
      "Evaluation 8: Training model\n",
      "Indifference_threshold is trainable.\n",
      "Negative ELBO at step 0: 4280.349434536984 in 0.4804s\n",
      "Negative ELBO at step 500: 49.01388676765016 in 152.2727s\n",
      "Negative ELBO at step 1000: 29.46100355477971 in 157.0087s\n",
      "Negative ELBO at step 1500: 20.94025433653274 in 153.8869s\n",
      "Negative ELBO at step 2000: 15.90554337851178 in 155.0568s\n",
      "Negative ELBO at step 2500: 14.232972806107053 in 153.6088s\n"
     ]
    },
    {
     "name": "stderr",
     "output_type": "stream",
     "text": [
      "/home/sebtsh/anaconda3/envs/gpflow/lib/python3.6/site-packages/ipykernel_launcher.py:14: RuntimeWarning: More than 20 figures have been opened. Figures created through the pyplot interface (`matplotlib.pyplot.figure`) are retained until explicitly closed and may consume too much memory. (To control this warning, see the rcParam `figure.max_open_warning`).\n",
      "  \n"
     ]
    },
    {
     "name": "stdout",
     "output_type": "stream",
     "text": [
      "Beginning evaluation 9\n",
      "Evaluation 9: Next query is [[0.0202184]\n",
      " [0.3414053]]\n",
      "Evaluation 9: Training model\n",
      "Indifference_threshold is trainable.\n",
      "Negative ELBO at step 0: 363.791425834566 in 0.4815s\n",
      "Negative ELBO at step 500: 10.257194594580506 in 164.1076s\n",
      "Negative ELBO at step 1000: 9.156314414974492 in 164.7236s\n",
      "Negative ELBO at step 1500: 8.855133366231325 in 165.5206s\n",
      "Negative ELBO at step 2000: 8.858641153220988 in 165.2370s\n",
      "Negative ELBO at step 2500: 8.9312496089854 in 166.4974s\n"
     ]
    },
    {
     "name": "stderr",
     "output_type": "stream",
     "text": [
      "/home/sebtsh/anaconda3/envs/gpflow/lib/python3.6/site-packages/ipykernel_launcher.py:14: RuntimeWarning: More than 20 figures have been opened. Figures created through the pyplot interface (`matplotlib.pyplot.figure`) are retained until explicitly closed and may consume too much memory. (To control this warning, see the rcParam `figure.max_open_warning`).\n",
      "  \n"
     ]
    },
    {
     "name": "stdout",
     "output_type": "stream",
     "text": [
      "Beginning evaluation 10\n",
      "Evaluation 10: Next query is [[0.83261985]\n",
      " [0.44462536]]\n",
      "Evaluation 10: Training model\n",
      "Indifference_threshold is trainable.\n",
      "Negative ELBO at step 0: 10430.085455011196 in 0.5063s\n",
      "Negative ELBO at step 500: 181.5736381803341 in 175.8739s\n",
      "Negative ELBO at step 1000: 88.97655184449056 in 177.8531s\n",
      "Negative ELBO at step 1500: 72.15309336835698 in 176.7487s\n",
      "Negative ELBO at step 2000: 71.05524560043955 in 176.5866s\n",
      "Negative ELBO at step 2500: 41.20150445217011 in 174.9760s\n"
     ]
    },
    {
     "name": "stderr",
     "output_type": "stream",
     "text": [
      "/home/sebtsh/anaconda3/envs/gpflow/lib/python3.6/site-packages/ipykernel_launcher.py:14: RuntimeWarning: More than 20 figures have been opened. Figures created through the pyplot interface (`matplotlib.pyplot.figure`) are retained until explicitly closed and may consume too much memory. (To control this warning, see the rcParam `figure.max_open_warning`).\n",
      "  \n"
     ]
    },
    {
     "name": "stdout",
     "output_type": "stream",
     "text": [
      "Beginning evaluation 11\n",
      "Evaluation 11: Next query is [[0.16554561]\n",
      " [0.58753846]]\n",
      "Evaluation 11: Training model\n",
      "Indifference_threshold is trainable.\n",
      "Negative ELBO at step 0: 586.1804362782591 in 0.4722s\n",
      "Negative ELBO at step 500: 15.521259814955364 in 188.8781s\n",
      "Negative ELBO at step 1000: 11.848596790400837 in 186.8064s\n",
      "Negative ELBO at step 1500: 11.101481101820072 in 188.5458s\n",
      "Negative ELBO at step 2000: 10.96824039225288 in 185.0581s\n",
      "Negative ELBO at step 2500: 10.685275976524725 in 186.2765s\n"
     ]
    },
    {
     "name": "stderr",
     "output_type": "stream",
     "text": [
      "/home/sebtsh/anaconda3/envs/gpflow/lib/python3.6/site-packages/ipykernel_launcher.py:14: RuntimeWarning: More than 20 figures have been opened. Figures created through the pyplot interface (`matplotlib.pyplot.figure`) are retained until explicitly closed and may consume too much memory. (To control this warning, see the rcParam `figure.max_open_warning`).\n",
      "  \n"
     ]
    },
    {
     "name": "stdout",
     "output_type": "stream",
     "text": [
      "Beginning evaluation 12\n",
      "Evaluation 12: Next query is [[0.9764026 ]\n",
      " [0.86266606]]\n",
      "Evaluation 12: Training model\n",
      "Indifference_threshold is trainable.\n",
      "Negative ELBO at step 0: 7654397.474925132 in 0.5526s\n",
      "Negative ELBO at step 500: 36012.72049031065 in 197.7861s\n",
      "Negative ELBO at step 1000: 23370.042012441212 in 199.1108s\n",
      "Negative ELBO at step 1500: 10524.92845354727 in 196.9258s\n",
      "Negative ELBO at step 2000: 8354.5908445319 in 199.7383s\n",
      "Negative ELBO at step 2500: 7296.629593582738 in 196.3755s\n"
     ]
    },
    {
     "name": "stderr",
     "output_type": "stream",
     "text": [
      "/home/sebtsh/anaconda3/envs/gpflow/lib/python3.6/site-packages/ipykernel_launcher.py:14: RuntimeWarning: More than 20 figures have been opened. Figures created through the pyplot interface (`matplotlib.pyplot.figure`) are retained until explicitly closed and may consume too much memory. (To control this warning, see the rcParam `figure.max_open_warning`).\n",
      "  \n"
     ]
    },
    {
     "name": "stdout",
     "output_type": "stream",
     "text": [
      "Beginning evaluation 13\n",
      "Evaluation 13: Next query is [[0.58753846]\n",
      " [0.30602281]]\n",
      "Evaluation 13: Training model\n",
      "Indifference_threshold is trainable.\n",
      "Negative ELBO at step 0: 4728861.296049033 in 0.5911s\n",
      "Negative ELBO at step 500: 33773.33625156428 in 207.2612s\n",
      "Negative ELBO at step 1000: 9270.55229409088 in 208.9440s\n",
      "Negative ELBO at step 1500: 8727.883505755173 in 211.7258s\n",
      "Negative ELBO at step 2000: 5646.568113153541 in 208.7925s\n"
     ]
    }
   ],
   "source": [
    "for run in range(1, num_runs):\n",
    "    print(\"Beginning run %s\" % (run))\n",
    "    \n",
    "    X = init_vals[run]\n",
    "    y = get_noisy_observation(X, objective)\n",
    "    \n",
    "    model, inputs, u_mean, inducing_vars = train_and_visualize(X, y, num_inducing_init, \"Run_{}:_Initial_model\".format(run))\n",
    "\n",
    "    for evaluation in range(num_evals):\n",
    "        print(\"Beginning evaluation %s\" % (evaluation)) \n",
    "        \n",
    "        existing_idx = np.random.randint(0, inputs.shape[0])\n",
    "        existing_input = inputs[existing_idx]\n",
    "        random_input = np.random.uniform(low=objective_low, \n",
    "                                         high=objective_high, \n",
    "                                         size=(1, input_dims))\n",
    "        \n",
    "        next_query = np.zeros((num_choices, input_dims))\n",
    "        next_query[0, :] = existing_input\n",
    "        next_query[1, :] = random_input\n",
    "        print(\"Evaluation %s: Next query is %s\" % (evaluation, next_query))\n",
    "\n",
    "        X = np.concatenate([X, [next_query]])\n",
    "        # Evaluate objective function\n",
    "        y = np.concatenate([y, get_noisy_observation(np.expand_dims(next_query, axis=0), objective)], axis=0)\n",
    "        \n",
    "        print(\"Evaluation %s: Training model\" % (evaluation))\n",
    "        model, inputs, u_mean, inducing_vars = train_and_visualize(X, y, \n",
    "                                                                   num_inducing_init + evaluation + 1, \n",
    "                                                                   \"Run_{}_Evaluation_{}\".format(run, evaluation))\n",
    "\n",
    "        best_guess_results[run, evaluation, :] = best_guess(model)\n",
    "\n",
    "    X_results[run] = X\n",
    "    y_results[run] = y"
   ]
  },
  {
   "cell_type": "code",
   "execution_count": null,
   "metadata": {},
   "outputs": [],
   "source": [
    "pickle.dump((X_results, y_results, best_guess_results), open(results_dir + \"Xybestguess.p\", \"wb\"))"
   ]
  },
  {
   "cell_type": "code",
   "execution_count": null,
   "metadata": {},
   "outputs": [],
   "source": [
    "def dist(x, y):\n",
    "    \"\"\"\n",
    "    x and y have shape (..., input_dims)\n",
    "    \"\"\"\n",
    "    return np.sqrt(np.sum((x - y) * (x - y), axis=-1))"
   ]
  },
  {
   "cell_type": "code",
   "execution_count": null,
   "metadata": {},
   "outputs": [],
   "source": [
    "xx = uniform_grid(input_dims, num_discrete_per_dim, low=objective_low, high=objective_high)\n",
    "global_min = xx[np.argmin(objective(xx))][0]\n",
    "\n",
    "for i in range(best_guess_results.shape[0]):\n",
    "    diff_from_min = dist(best_guess_results[i], global_min)\n",
    "    \n",
    "    x_axis = list(range(num_combs+1, num_combs+1+num_evals))\n",
    "    plt.figure(figsize=(12, 6))\n",
    "    plt.plot(x_axis, diff_from_min, 'kx', mew=2)\n",
    "    plt.xticks(x_axis)\n",
    "    plt.xlabel('Evaluations', fontsize=18)\n",
    "    plt.ylabel('Best guess distance', fontsize=16)\n",
    "    plt.title(\"Run %s\" % i)\n",
    "    plt.show()"
   ]
  }
 ],
 "metadata": {
  "kernelspec": {
   "display_name": "Python 3",
   "language": "python",
   "name": "python3"
  },
  "language_info": {
   "codemirror_mode": {
    "name": "ipython",
    "version": 3
   },
   "file_extension": ".py",
   "mimetype": "text/x-python",
   "name": "python",
   "nbconvert_exporter": "python",
   "pygments_lexer": "ipython3",
   "version": "3.6.10"
  }
 },
 "nbformat": 4,
 "nbformat_minor": 2
}
