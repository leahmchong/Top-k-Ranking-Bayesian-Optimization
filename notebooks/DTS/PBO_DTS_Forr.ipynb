{
 "cells": [
  {
   "cell_type": "markdown",
   "metadata": {},
   "source": [
    "# Preferential Bayesian Optimization: Dueling-Thompson Sampling\n",
    "\n",
    "Implementation of the algorithm by Gonzalez et al (2017)."
   ]
  },
  {
   "cell_type": "code",
   "execution_count": 1,
   "metadata": {
    "scrolled": false
   },
   "outputs": [],
   "source": [
    "import numpy as np\n",
    "import gpflow\n",
    "import tensorflow as tf\n",
    "import matplotlib.pyplot as plt\n",
    "import sys\n",
    "import os\n",
    "import datetime\n",
    "import pickle\n",
    "\n",
    "from gpflow.utilities import set_trainable, print_summary\n",
    "gpflow.config.set_default_summary_fmt(\"notebook\")\n",
    "\n",
    "sys.path.append(os.path.split(os.path.split(os.path.split(os.getcwd())[0])[0])[0]) # Move 3 levels up directory to import PBO\n",
    "import PBO"
   ]
  },
  {
   "cell_type": "code",
   "execution_count": 2,
   "metadata": {},
   "outputs": [],
   "source": [
    "def log(message):\n",
    "    print(str(datetime.datetime.now()) + ': ' + message)"
   ]
  },
  {
   "cell_type": "code",
   "execution_count": 3,
   "metadata": {},
   "outputs": [],
   "source": [
    "objective = PBO.objectives.forrester\n",
    "objective_low = 0.\n",
    "objective_high = 1.\n",
    "objective_name = \"Forrester\"\n",
    "acquisition_name = \"DTS\"\n",
    "experiment_name = \"PBO\" + \"_\" + acquisition_name + \"_\" + objective_name"
   ]
  },
  {
   "cell_type": "code",
   "execution_count": 76,
   "metadata": {},
   "outputs": [],
   "source": [
    "num_runs = 20\n",
    "num_evals = 20\n",
    "num_samples = 100\n",
    "num_choices = 2\n",
    "input_dims = 2\n",
    "num_maximizers = 20\n",
    "num_init_points = 3\n",
    "num_inducing_init = 3\n",
    "num_discrete_per_dim = 20 # TODO: CHANGE LATER!!"
   ]
  },
  {
   "cell_type": "code",
   "execution_count": 5,
   "metadata": {},
   "outputs": [
    {
     "name": "stdout",
     "output_type": "stream",
     "text": [
      "Directory  /home/sebtsh/PBO/notebooks/DTS/results/PBO_DTS_Forrester/  already exists\n"
     ]
    }
   ],
   "source": [
    "results_dir = os.getcwd() + '/results/' + experiment_name + '/'\n",
    "\n",
    "try:\n",
    "    # Create target Directory\n",
    "    os.makedirs(results_dir)\n",
    "    print(\"Directory \" , results_dir ,  \" created \") \n",
    "except FileExistsError:\n",
    "    print(\"Directory \" , results_dir ,  \" already exists\")"
   ]
  },
  {
   "cell_type": "code",
   "execution_count": 93,
   "metadata": {
    "scrolled": true
   },
   "outputs": [],
   "source": [
    "def visualize_model(query_points, m, title=\"Model\", cmap=\"Spectral\"):\n",
    "    if query_points.shape[-1] != 2:\n",
    "        return\n",
    "\n",
    "    forrester_get_y(query_points)\n",
    "    y_vals = np.squeeze(forrester_get_y(query_points), axis=-1)\n",
    "    pos_vals = []\n",
    "    neg_vals = []\n",
    "    for i in range(len(y_vals)):\n",
    "        if y_vals[i]:\n",
    "            pos_vals.append(query_points[i])\n",
    "        else:\n",
    "            neg_vals.append(query_points[i])\n",
    "    pos_vals = np.array(pos_vals)\n",
    "    neg_vals = np.array(neg_vals)\n",
    "\n",
    "    side = np.linspace(0,1,num_discrete_points)\n",
    "    X,Y = np.meshgrid(side,side)\n",
    "    combs = PBO.acquisitions.dts.combinations(np.expand_dims(side, axis=1))\n",
    "    preds = tf.transpose(tf.reshape(m.predict_y(combs)[0], [num_discrete_points, num_discrete_points]))\n",
    "    variances = tf.transpose(tf.reshape(PBO.acquisitions.dts.variance_logistic_f(m, combs), [num_discrete_points, num_discrete_points]))\n",
    "\n",
    "    fig, (ax1, ax2) = plt.subplots(1, 2)\n",
    "    fig.suptitle(title)\n",
    "    fig.set_size_inches(18.5, 6.88)\n",
    "    fig.set_dpi((200))\n",
    "    \n",
    "    ax1.axis('equal')\n",
    "    if len(pos_vals) != 0:\n",
    "        ax1.scatter(*pos_vals.T, c=\"black\", marker=\"o\")\n",
    "    if len(neg_vals) != 0:\n",
    "        ax1.scatter(*neg_vals.T, c=\"black\", marker=\"x\")\n",
    "    im1 = ax1.imshow(preds, interpolation='nearest', extent=(0.0, 1.0, 0.0, 1.0), origin='lower', cmap=cmap)\n",
    "    ax1.set_title(\"Mean of y(x, x')\")\n",
    "    ax1.set_xlabel(\"x\")\n",
    "    ax1.set_ylabel(\"x'\")\n",
    "    ax1.axvline(x=0.757, linestyle='--')\n",
    "    fig.colorbar(im1, ax=ax1)\n",
    "\n",
    "    ax2.axis('equal')\n",
    "    if len(pos_vals) != 0:\n",
    "        ax2.scatter(*pos_vals.T, c=\"black\", marker=\"o\")\n",
    "    if len(neg_vals) != 0:\n",
    "        ax2.scatter(*neg_vals.T, c=\"black\", marker=\"x\")\n",
    "    im2 = ax2.imshow(variances, interpolation='nearest', extent=(0.0, 1.0, 0.0, 1.0), origin='lower', cmap=cmap)\n",
    "    ax2.set_title(\"Variance of y(x, x')\")\n",
    "    ax2.set_xlabel(\"x\")\n",
    "    ax2.set_ylabel(\"x'\")\n",
    "    fig.colorbar(im2, ax=ax2)\n",
    "    \n",
    "    plt.savefig(fname=\"results/PBO_DTS \" + title + \".png\")\n",
    "\n",
    "    plt.show()"
   ]
  },
  {
   "cell_type": "code",
   "execution_count": 7,
   "metadata": {},
   "outputs": [],
   "source": [
    "def visualize_f_sample(f_vals, cmap=\"Spectral\"):\n",
    "    fig, (ax1) = plt.subplots(1)\n",
    "    fig.suptitle('Sampled f values')\n",
    "    fig.set_size_inches(4, 3.3)\n",
    "    fig.set_dpi((100))\n",
    "    \n",
    "    ax1.axis('equal')\n",
    "    im1 = ax1.imshow(tf.transpose(tf.reshape(f_vals, [num_discrete_points, num_discrete_points])),\n",
    "                     interpolation='nearest', extent=(0.0, 1.0, 0.0, 1.0), origin='lower', cmap=cmap)\n",
    "    ax1.set_xlabel(\"x\")\n",
    "    ax1.set_ylabel(\"x'\")\n",
    "    ax1.axvline(x=0.757, linestyle='--')\n",
    "    fig.colorbar(im1, ax=ax1)"
   ]
  },
  {
   "cell_type": "code",
   "execution_count": 37,
   "metadata": {},
   "outputs": [],
   "source": [
    "def std_representation(X, num_choices):\n",
    "    \"\"\"\n",
    "    :param X: tensor of shape (num_data, input_dims * num_choices)\n",
    "    :return: tensor of shape (num_data, num_choices, input_dims)\n",
    "    \"\"\"\n",
    "    input_dims = X.shape[-1] // num_choices\n",
    "    ret_val = np.zeros((X.shape[0], num_choices, input_dims))\n",
    "    \n",
    "    for i in range(num_choices):\n",
    "        ret_val[:, i, :] = X[:, input_dims*i:input_dims*(i+1)]\n",
    "        \n",
    "    return ret_val"
   ]
  },
  {
   "cell_type": "code",
   "execution_count": 71,
   "metadata": {},
   "outputs": [],
   "source": [
    "def get_noisy_observation_dts(X, objective):\n",
    "    \"\"\"\n",
    "    :param X: tensor of shape (num_data, input_dims * 2)\n",
    "    :param objective: objective function\n",
    "    \"\"\"\n",
    "    num_data = X.shape[0]\n",
    "    X_std = std_representation(X, num_choices) # (num_data, num_choices, input_dims)\n",
    "    f = PBO.objectives.objective_get_f_neg(X_std, objective)\n",
    "    obs = np.array(PBO.observation_model.gen_observation_from_f(X_std, f, 1))  # (num_data, 1, input_dims)\n",
    "\n",
    "    ret_val = np.zeros((num_data, 1), dtype=np.int8)\n",
    "    for i in range(num_data):\n",
    "        if np.allclose(X_std[i, 0], obs[i, 0]):\n",
    "            ret_val[i] = 1\n",
    "    return ret_val"
   ]
  },
  {
   "cell_type": "code",
   "execution_count": 91,
   "metadata": {},
   "outputs": [],
   "source": [
    "def train_and_visualize(X, y, lengthscale, title):\n",
    "    kernel = gpflow.kernels.RBF(lengthscale=[lengthscale for i in range(input_dims * num_choices)])\n",
    "    m = gpflow.models.VGP(data=(X, y),\n",
    "                      kernel=kernel,\n",
    "                      likelihood=gpflow.likelihoods.Bernoulli())\n",
    "    optimizer = gpflow.optimizers.Scipy()\n",
    "    optimizer.minimize(lambda: -m.log_likelihood(), m.trainable_variables)\n",
    "    visualize_model(X, m, title=title)\n",
    "    return m"
   ]
  },
  {
   "cell_type": "code",
   "execution_count": 10,
   "metadata": {},
   "outputs": [],
   "source": [
    "def uniform_grid(input_dims, num_discrete_per_dim, low=0., high=1.):\n",
    "    \"\"\"\n",
    "    Returns an array with all possible permutations of discrete values in input_dims number of dimensions.\n",
    "    :param input_dims: int\n",
    "    :param num_discrete_per_dim: int\n",
    "    :param low: int\n",
    "    :param high: int\n",
    "    :return: tensor of shape (num_discrete_per_dim ** input_dims, input_dims)\n",
    "    \"\"\"\n",
    "    num_points = num_discrete_per_dim ** input_dims\n",
    "    out = np.zeros([num_points, input_dims])\n",
    "    discrete_points = np.linspace(low, high, num_discrete_per_dim)\n",
    "    for i in range(num_points):\n",
    "        for dim in range(input_dims):\n",
    "            val = num_discrete_per_dim ** (dim)\n",
    "            out[i, dim] = discrete_points[int((i // val) % num_discrete_per_dim)]\n",
    "    return out"
   ]
  },
  {
   "cell_type": "code",
   "execution_count": 11,
   "metadata": {},
   "outputs": [],
   "source": [
    "def best_guess(m, num_discrete_points=1000):\n",
    "    \"\"\"\n",
    "    \"\"\"\n",
    "    side = uniform_grid(input_dims, num_discrete_points, objective_low, objective_high)\n",
    "    X = PBO.acquisitions.dts.combinations(side)\n",
    "    return PBO.acquisitions.dts.soft_copeland_maximizer(m.predict_f(X)[0])"
   ]
  },
  {
   "cell_type": "markdown",
   "metadata": {},
   "source": [
    "Create the initial values for each run:"
   ]
  },
  {
   "cell_type": "code",
   "execution_count": 29,
   "metadata": {},
   "outputs": [],
   "source": [
    "np.random.seed(0)\n",
    "init_points = np.random.uniform(size=[num_runs, num_init_points, input_dims])\n",
    "num_combs = int((num_init_points-1) * num_init_points / 2)\n",
    "init_vals = np.zeros([num_runs, num_combs, num_choices, input_dims])\n",
    "for run in range(num_runs):\n",
    "    cur_idx = 0\n",
    "    for init_point in range(num_init_points-1):\n",
    "        for next_point in range(init_point+1, num_init_points):\n",
    "            init_vals[run, cur_idx, 0] = init_points[run, init_point]\n",
    "            init_vals[run, cur_idx, 1] = init_points[run, next_point]\n",
    "            cur_idx += 1\n",
    "\n",
    "init_points = np.reshape(init_vals, [num_runs, num_combs, num_choices * input_dims])\n",
    "symmetric_vals = np.flip(init_vals, axis=-2)\n",
    "symmetric_points = np.reshape(symmetric_vals, [num_runs, num_combs, num_choices * input_dims])\n",
    "\n",
    "init_vals = np.concatenate([init_points, symmetric_points], axis=-2)  # Model always has info about symmetric points"
   ]
  },
  {
   "cell_type": "markdown",
   "metadata": {},
   "source": [
    "Store the results in these arrays:"
   ]
  },
  {
   "cell_type": "code",
   "execution_count": 13,
   "metadata": {},
   "outputs": [],
   "source": [
    "num_data_at_end = (num_combs + num_evals) * 2\n",
    "X_results = np.zeros([num_runs, num_data_at_end, num_choices])\n",
    "y_results = np.zeros([num_runs, num_data_at_end, 1])\n",
    "best_guess_results = np.zeros([num_runs, num_evals])"
   ]
  },
  {
   "cell_type": "code",
   "execution_count": null,
   "metadata": {},
   "outputs": [],
   "source": []
  },
  {
   "cell_type": "code",
   "execution_count": 77,
   "metadata": {
    "scrolled": true
   },
   "outputs": [],
   "source": [
    "discrete_space = uniform_grid(input_dims, num_discrete_per_dim, objective_low, objective_high)\n",
    "combs = PBO.acquisitions.dts.combinations(discrete_space)"
   ]
  },
  {
   "cell_type": "code",
   "execution_count": 84,
   "metadata": {},
   "outputs": [],
   "source": [
    "run = 0\n",
    "X = init_vals[run]\n",
    "y = get_noisy_observation_dts(X, objective)"
   ]
  },
  {
   "cell_type": "code",
   "execution_count": 85,
   "metadata": {},
   "outputs": [
    {
     "data": {
      "text/plain": [
       "array([[0.5488135 , 0.71518937, 0.60276338, 0.54488318],\n",
       "       [0.5488135 , 0.71518937, 0.4236548 , 0.64589411],\n",
       "       [0.60276338, 0.54488318, 0.4236548 , 0.64589411],\n",
       "       [0.60276338, 0.54488318, 0.5488135 , 0.71518937],\n",
       "       [0.4236548 , 0.64589411, 0.5488135 , 0.71518937],\n",
       "       [0.4236548 , 0.64589411, 0.60276338, 0.54488318]])"
      ]
     },
     "execution_count": 85,
     "metadata": {},
     "output_type": "execute_result"
    }
   ],
   "source": [
    "X"
   ]
  },
  {
   "cell_type": "code",
   "execution_count": 86,
   "metadata": {
    "scrolled": false
   },
   "outputs": [
    {
     "data": {
      "text/plain": [
       "array([[0],\n",
       "       [0],\n",
       "       [1],\n",
       "       [1],\n",
       "       [0],\n",
       "       [0]], dtype=int8)"
      ]
     },
     "execution_count": 86,
     "metadata": {},
     "output_type": "execute_result"
    }
   ],
   "source": [
    "y"
   ]
  },
  {
   "cell_type": "code",
   "execution_count": 94,
   "metadata": {
    "scrolled": true
   },
   "outputs": [],
   "source": [
    "model = train_and_visualize(X, y, lengthscale=1., title=\"Run_{}_Initial_model\".format(run))\n"
   ]
  },
  {
   "cell_type": "code",
   "execution_count": 96,
   "metadata": {
    "scrolled": false
   },
   "outputs": [
    {
     "data": {
      "text/html": [
       "<table>\n",
       "<thead>\n",
       "<tr><th>name                  </th><th>class    </th><th>transform     </th><th>prior  </th><th>trainable  </th><th>shape    </th><th>dtype  </th><th>value                                               </th></tr>\n",
       "</thead>\n",
       "<tbody>\n",
       "<tr><td>VGP.kernel.variance   </td><td>Parameter</td><td>Softplus      </td><td>       </td><td>True       </td><td>()       </td><td>float64</td><td>0.009426522986875574                                </td></tr>\n",
       "<tr><td>VGP.kernel.lengthscale</td><td>Parameter</td><td>Softplus      </td><td>       </td><td>True       </td><td>(4,)     </td><td>float64</td><td>[0.41032505, 0.00467922, 1.06266356...              </td></tr>\n",
       "<tr><td>VGP.q_mu              </td><td>Parameter</td><td>              </td><td>       </td><td>True       </td><td>(6, 1)   </td><td>float64</td><td>[[-0.11223229...                                    </td></tr>\n",
       "<tr><td>VGP.q_sqrt            </td><td>Parameter</td><td>FillTriangular</td><td>       </td><td>True       </td><td>(1, 6, 6)</td><td>float64</td><td>[[[9.54076340e-01, 0.00000000e+00, 0.00000000e+00...</td></tr>\n",
       "</tbody>\n",
       "</table>"
      ],
      "text/plain": [
       "<IPython.core.display.HTML object>"
      ]
     },
     "metadata": {},
     "output_type": "display_data"
    }
   ],
   "source": [
    "print_summary(model)"
   ]
  },
  {
   "cell_type": "code",
   "execution_count": 97,
   "metadata": {},
   "outputs": [
    {
     "ename": "NameError",
     "evalue": "name 'num_discrete_points' is not defined",
     "output_type": "error",
     "traceback": [
      "\u001b[0;31m---------------------------------------------------------------------------\u001b[0m",
      "\u001b[0;31mNameError\u001b[0m                                 Traceback (most recent call last)",
      "\u001b[0;32m<ipython-input-97-f33ace4a3ad8>\u001b[0m in \u001b[0;36m<module>\u001b[0;34m\u001b[0m\n\u001b[1;32m      1\u001b[0m \u001b[0mmodel\u001b[0m\u001b[0;34m.\u001b[0m\u001b[0mlikelihood\u001b[0m \u001b[0;34m=\u001b[0m \u001b[0mgpflow\u001b[0m\u001b[0;34m.\u001b[0m\u001b[0mlikelihoods\u001b[0m\u001b[0;34m.\u001b[0m\u001b[0mGaussian\u001b[0m\u001b[0;34m(\u001b[0m\u001b[0;34m)\u001b[0m\u001b[0;34m\u001b[0m\u001b[0;34m\u001b[0m\u001b[0m\n\u001b[0;32m----> 2\u001b[0;31m \u001b[0mf_vals\u001b[0m \u001b[0;34m=\u001b[0m \u001b[0mPBO\u001b[0m\u001b[0;34m.\u001b[0m\u001b[0macquisitions\u001b[0m\u001b[0;34m.\u001b[0m\u001b[0mdts\u001b[0m\u001b[0;34m.\u001b[0m\u001b[0msample_f\u001b[0m\u001b[0;34m(\u001b[0m\u001b[0mmodel\u001b[0m\u001b[0;34m,\u001b[0m \u001b[0mX\u001b[0m\u001b[0;34m,\u001b[0m \u001b[0mnum_discrete_points\u001b[0m\u001b[0;34m)\u001b[0m\u001b[0;34m\u001b[0m\u001b[0;34m\u001b[0m\u001b[0m\n\u001b[0m",
      "\u001b[0;31mNameError\u001b[0m: name 'num_discrete_points' is not defined"
     ]
    }
   ],
   "source": [
    "model.likelihood = gpflow.likelihoods.Gaussian()\n",
    "f_vals = PBO.acquisitions.dts.sample_f(model, X, combs)"
   ]
  },
  {
   "cell_type": "code",
   "execution_count": null,
   "metadata": {},
   "outputs": [],
   "source": []
  },
  {
   "cell_type": "code",
   "execution_count": null,
   "metadata": {},
   "outputs": [],
   "source": []
  },
  {
   "cell_type": "code",
   "execution_count": null,
   "metadata": {},
   "outputs": [],
   "source": []
  },
  {
   "cell_type": "code",
   "execution_count": null,
   "metadata": {},
   "outputs": [],
   "source": []
  },
  {
   "cell_type": "code",
   "execution_count": null,
   "metadata": {},
   "outputs": [],
   "source": [
    "for run in range(num_runs):\n",
    "    #Fit a GP with kernel k to Dn\n",
    "    \n",
    "    X = init_vals[run]\n",
    "    y = get_noisy_observation(X, objective)\n",
    "    model = train_and_visualize(X, y, lengthscale=0.1, title=\"Run_{}_Initial_model\".format(run))  #TODO: CHECK LENGTHSCALE\n",
    "    \n",
    "    for evaluation in range(num_evals):\n",
    "        log(\"Starting evaluation \" + str(evaluation))\n",
    "        \n",
    "        # Sample f using RFF\n",
    "        model.likelihood = gpflow.likelihoods.Gaussian()\n",
    "        f_vals = PBO.acquisitions.dts.sample_f(model, X, num_discrete_points)\n",
    "\n",
    "        # 2 and 3. Compute the acquisition for duels alpha and get next duel\n",
    "        log(\"Computing acquisition function\")\n",
    "        x_next = PBO.acquisitions.dts.soft_copeland_maximizer(f_vals)\n",
    "        \n",
    "        points = np.linspace(0.0, 1.0, 1000)\n",
    "        next_vars = np.squeeze(PBO.acquisitions.dts.variance_logistic_f(model, \n",
    "                                                                        np.concatenate([np.tile(x_next, \n",
    "                                                                                                (num_discrete_points, 1)), np.expand_dims(points, axis=1)], \n",
    "                                                                                       axis=1)), \n",
    "                               axis=1)\n",
    "        xprime_next = points[np.argmax(next_vars)]\n",
    "        \n",
    "        x_xprime_next = np.array((x_next, xprime_next))\n",
    "        log(\"x and x_prime: \" + str(x_xprime_next))\n",
    "        \n",
    "        # 4. Run the duel and get y\n",
    "        y_next = forrester_get_y(x_xprime_next)\n",
    "        log(\"y_next: \" + str(y_next))\n",
    "        \n",
    "        # 5. Augment X and Y, and add symmetric points\n",
    "        X = np.vstack([X, x_xprime_next, np.flip(x_xprime_next)])\n",
    "        y = np.vstack([y, y_next, forrester_get_y(np.flip(x_xprime_next))])\n",
    "        \n",
    "        # Fit a GP with kernel k to Dj and learn pi(x).\n",
    "        model = train_and_visualize(X, y, \"Run_{}_Evaluation_{}\".format(run, evaluation))\n",
    "        \n",
    "        # Get current best guess\n",
    "        best_guess_results[run, evaluation] = best_guess(model, num_discrete_points)\n",
    "\n",
    "    X_results[run] = X\n",
    "    y_results[run] = y"
   ]
  },
  {
   "cell_type": "code",
   "execution_count": null,
   "metadata": {},
   "outputs": [],
   "source": [
    "pickle.dump((X_results, y_results, best_guess_results), open(\"results/PBO_DTS_results.p\", \"wb\"))"
   ]
  },
  {
   "cell_type": "code",
   "execution_count": null,
   "metadata": {
    "scrolled": false
   },
   "outputs": [],
   "source": [
    "xx = np.linspace(0.0, 1.0, num_discrete_points).reshape(num_discrete_points, 1)\n",
    "global_min = xx[np.argmin(forrester(xx))][0]\n",
    "\n",
    "for i in range(best_guess_results.shape[0]):\n",
    "    diff_from_min = abs(best_guess_results[i] - global_min)\n",
    "    \n",
    "    x_axis = list(range(11, 31))\n",
    "    plt.figure(figsize=(12, 6))\n",
    "    plt.plot(x_axis, diff_from_min, 'kx', mew=2)\n",
    "    plt.xticks(x_axis)\n",
    "    plt.xlabel('Evaluations', fontsize=18)\n",
    "    plt.ylabel('Best guess error', fontsize=16)\n",
    "    plt.title(\"Run %s\" % i)\n",
    "    plt.show()"
   ]
  }
 ],
 "metadata": {
  "kernelspec": {
   "display_name": "Python 3",
   "language": "python",
   "name": "python3"
  },
  "language_info": {
   "codemirror_mode": {
    "name": "ipython",
    "version": 3
   },
   "file_extension": ".py",
   "mimetype": "text/x-python",
   "name": "python",
   "nbconvert_exporter": "python",
   "pygments_lexer": "ipython3",
   "version": "3.6.10"
  }
 },
 "nbformat": 4,
 "nbformat_minor": 4
}
