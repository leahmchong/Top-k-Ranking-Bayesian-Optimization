{
 "cells": [
  {
   "cell_type": "markdown",
   "metadata": {},
   "source": [
    "# Preferential Bayesian Optimization: EI\n",
    "This notebook demonstrates the use of the Expected Improvement (EI) acquisition function on ordinal (preference) data.\n",
    "\n",
    "Formulation by Nguyen Quoc Phong."
   ]
  },
  {
   "cell_type": "code",
   "execution_count": 1,
   "metadata": {},
   "outputs": [],
   "source": [
    "import numpy as np\n",
    "import gpflow\n",
    "import tensorflow as tf\n",
    "import tensorflow_probability as tfp\n",
    "import matplotlib.pyplot as plt\n",
    "import sys\n",
    "import os\n",
    "import pickle\n",
    "\n",
    "from gpflow.utilities import set_trainable, print_summary\n",
    "gpflow.config.set_default_summary_fmt(\"notebook\")\n",
    "\n",
    "sys.path.append(os.path.split(os.path.split(os.path.split(os.getcwd())[0])[0])[0]) # Move 3 levels up directory to import PBO\n",
    "import PBO"
   ]
  },
  {
   "cell_type": "code",
   "execution_count": 2,
   "metadata": {},
   "outputs": [
    {
     "name": "stdout",
     "output_type": "stream",
     "text": [
      "Num GPUs Available:  5\n",
      "5 Physical GPUs, 1 Logical GPU\n"
     ]
    }
   ],
   "source": [
    "gpu_to_use = 0\n",
    "\n",
    "print(\"Num GPUs Available: \", len(tf.config.experimental.list_physical_devices('GPU')))\n",
    "\n",
    "gpus = tf.config.experimental.list_physical_devices('GPU')\n",
    "if gpus:\n",
    "    # Restrict TensorFlow to only use the first GPU\n",
    "    try:\n",
    "        for gpu in gpus:\n",
    "              tf.config.experimental.set_memory_growth(gpu, True)\n",
    "        tf.config.experimental.set_visible_devices(gpus[gpu_to_use], 'GPU')\n",
    "        logical_gpus = tf.config.experimental.list_logical_devices('GPU')\n",
    "        print(len(gpus), \"Physical GPUs,\", len(logical_gpus), \"Logical GPU\")\n",
    "    except RuntimeError as e:\n",
    "        # Visible devices must be set before GPUs have been initialized\n",
    "        print(e)"
   ]
  },
  {
   "cell_type": "code",
   "execution_count": 3,
   "metadata": {},
   "outputs": [],
   "source": [
    "lengthscale = 0.3\n",
    "lengthscale_prior_alpha = tf.constant(2, dtype=tf.float64)\n",
    "lengthscale_prior_beta = tf.constant(4, dtype=tf.float64)"
   ]
  },
  {
   "cell_type": "code",
   "execution_count": 4,
   "metadata": {},
   "outputs": [],
   "source": [
    "objective = PBO.objectives.hartmann3d\n",
    "objective_low = 0\n",
    "objective_high = 1.\n",
    "objective_name = \"Hart3\"\n",
    "acquisition_name = \"EI\"\n",
    "experiment_name = \"PBO\" + \"_\" + acquisition_name + \"_\" + objective_name + \"FullGP\" + \"v2\""
   ]
  },
  {
   "cell_type": "code",
   "execution_count": 5,
   "metadata": {},
   "outputs": [],
   "source": [
    "num_runs = 10\n",
    "num_evals = 50\n",
    "num_samples = 1000\n",
    "num_choices = 2\n",
    "input_dims = 3\n",
    "objective_dim = input_dims # CHANGE 1: require the objective dim\n",
    "num_maximizers = 20\n",
    "num_init_prefs = 12 # CHANGE 2: randomly initialize with some preferences\n",
    "\n",
    "# CHANGE 1: reduce the value of delta to avoid numerical error\n",
    "# as k(x,x') = sigma^2 * exp( -[(x-x')/l]^2 )\n",
    "# which could be very small if l is too small\n",
    "# so we define l relatively by the range of input (objective_high - objective_low)\n",
    "#   It is ok for the total number of observations > the total number of possible inputs\n",
    "# because there is a noise in the observation, it might require repeated observations \n",
    "# at the same input pair to improve the confidence \n",
    "num_discrete_per_dim = 20\n",
    "delta = (objective_high - objective_low) / num_discrete_per_dim"
   ]
  },
  {
   "cell_type": "code",
   "execution_count": 6,
   "metadata": {
    "scrolled": true
   },
   "outputs": [
    {
     "name": "stdout",
     "output_type": "stream",
     "text": [
      "Directory  /home/sebtsh/PBO/notebooks/EI/results/PBO_EI_Hart3FullGPv2/  already exists\n"
     ]
    }
   ],
   "source": [
    "results_dir = os.getcwd() + '/results/' + experiment_name + '/'\n",
    "\n",
    "try:\n",
    "    # Create target Directory\n",
    "    os.makedirs(results_dir)\n",
    "    print(\"Directory \" , results_dir ,  \" created \") \n",
    "except FileExistsError:\n",
    "    print(\"Directory \" , results_dir ,  \" already exists\")"
   ]
  },
  {
   "cell_type": "code",
   "execution_count": 7,
   "metadata": {},
   "outputs": [],
   "source": [
    "def get_noisy_observation(X, objective):\n",
    "    f = PBO.objectives.objective_get_f_neg(X, objective)\n",
    "    return PBO.observation_model.gen_observation_from_f(X, f, 1)"
   ]
  },
  {
   "cell_type": "code",
   "execution_count": 8,
   "metadata": {},
   "outputs": [],
   "source": [
    "def train_and_visualize(X, y, title, lengthscale_init=None, signal_variance_init=None):\n",
    "    lengthscale_prior = tfp.distributions.Gamma(concentration=lengthscale_prior_alpha,\n",
    "                                               rate=lengthscale_prior_beta)\n",
    "    \n",
    "    # Train model with data\n",
    "    # CHANGE 6: use full_gp instead of sparse, \n",
    "    result = PBO.models.learning_fullgp.train_model_fullcov(\n",
    "                        X, y, \n",
    "                        obj_low=objective_low,\n",
    "                        obj_high=objective_high,\n",
    "                        lengthscale_init=lengthscale_init,\n",
    "                        signal_variance_init=signal_variance_init,\n",
    "                        indifference_threshold=0.,\n",
    "                        n_sample=1000,\n",
    "                        deterministic=True, # only sample f values once, not re-sampling\n",
    "                        num_steps=3000)\n",
    "    \n",
    "    q_mu = result['q_mu']\n",
    "    q_sqrt = result['q_sqrt']\n",
    "    u = result['u']\n",
    "    inputs = result['inputs']\n",
    "    k = result['kernel']\n",
    "    \n",
    "    likelihood = gpflow.likelihoods.Gaussian()\n",
    "    model = PBO.models.learning.init_SVGP_fullcov(q_mu, q_sqrt, u, k, likelihood)\n",
    "    u_mean = q_mu.numpy()\n",
    "    inducing_vars = u.numpy()\n",
    "    \n",
    "    return model, inputs, u_mean, inducing_vars"
   ]
  },
  {
   "cell_type": "code",
   "execution_count": 9,
   "metadata": {},
   "outputs": [],
   "source": [
    "def uniform_grid(input_dims, num_discrete_per_dim, low=0., high=1.):\n",
    "    \"\"\"\n",
    "    Returns an array with all possible permutations of discrete values in input_dims number of dimensions.\n",
    "    :param input_dims: int\n",
    "    :param num_discrete_per_dim: int\n",
    "    :param low: int\n",
    "    :param high: int\n",
    "    :return: tensor of shape (num_discrete_per_dim ** input_dims, input_dims)\n",
    "    \"\"\"\n",
    "    num_points = num_discrete_per_dim ** input_dims\n",
    "    out = np.zeros([num_points, input_dims])\n",
    "    discrete_points = np.linspace(low, high, num_discrete_per_dim)\n",
    "    for i in range(num_points):\n",
    "        for dim in range(input_dims):\n",
    "            val = num_discrete_per_dim ** (dim)\n",
    "            out[i, dim] = discrete_points[int((i // val) % num_discrete_per_dim)]\n",
    "    return out"
   ]
  },
  {
   "cell_type": "markdown",
   "metadata": {},
   "source": [
    "This function is our main metric for the performance of the acquisition function: The closer the model's best guess to the global minimum, the better."
   ]
  },
  {
   "cell_type": "code",
   "execution_count": 10,
   "metadata": {},
   "outputs": [],
   "source": [
    "def best_guess(model):\n",
    "    \"\"\"\n",
    "    Returns a GP model's best guess of the global maximum of f.\n",
    "    \"\"\"\n",
    "    # CHANGE 7: use a discrete grid\n",
    "    xx = PBO.models.learning_fullgp.get_all_discrete_inputs(objective_low, objective_high, objective_dim, delta)\n",
    "    res = model.predict_f(xx)[0].numpy()\n",
    "    return xx[np.argmax(res)]"
   ]
  },
  {
   "cell_type": "markdown",
   "metadata": {},
   "source": [
    "Store the results in these arrays:"
   ]
  },
  {
   "cell_type": "code",
   "execution_count": 11,
   "metadata": {},
   "outputs": [],
   "source": [
    "num_data_at_end = int(num_init_prefs + num_evals)\n",
    "X_results = np.zeros([num_runs, num_data_at_end, num_choices, input_dims])\n",
    "y_results = np.zeros([num_runs, num_data_at_end, 1, input_dims])\n",
    "best_guess_results = np.zeros([num_runs, num_evals, input_dims])"
   ]
  },
  {
   "cell_type": "markdown",
   "metadata": {},
   "source": [
    "Create the initial values for each run:"
   ]
  },
  {
   "cell_type": "code",
   "execution_count": 12,
   "metadata": {},
   "outputs": [],
   "source": [
    "np.random.seed(0)\n",
    "\n",
    "# CHANGE 8: just randomly initialize with some preference observation\n",
    "init_vals = np.zeros([num_runs, num_init_prefs, num_choices, input_dims])\n",
    "\n",
    "for run in range(num_runs):\n",
    "    for i in range(num_init_prefs):\n",
    "        init_vals[run,i] = PBO.models.learning_fullgp.get_random_inputs(\n",
    "                                objective_low, \n",
    "                                objective_high, \n",
    "                                objective_dim, \n",
    "                                delta,\n",
    "                                size=num_choices,\n",
    "                                with_replacement=False,\n",
    "                                exclude_inputs=None)"
   ]
  },
  {
   "cell_type": "markdown",
   "metadata": {},
   "source": [
    "The following loops carry out the Bayesian optimization algorithm over a number of runs, with a fixed number of evaluations per run."
   ]
  },
  {
   "cell_type": "code",
   "execution_count": null,
   "metadata": {
    "scrolled": true
   },
   "outputs": [
    {
     "name": "stdout",
     "output_type": "stream",
     "text": [
      "\n",
      "==================\n",
      "Beginning run 5\n",
      "Optimizer config:  {'name': 'RMSprop', 'learning_rate': 0.001, 'decay': 0.0, 'rho': 0.0, 'momentum': 0.0, 'epsilon': 1e-07, 'centered': False}\n",
      "Indifference_threshold is fixed at 0.0\n",
      "Initialize lengthscale at [0.5 0.5 0.5]\n",
      "       signal variance at 1.0\n",
      "   Initial negative ELBO: 10691.447565168432\n",
      "Negative ELBO at step 0: 10564.312646318058 in 0.9495s\n",
      "Negative ELBO at step 1000: 10.755720002407335 in 78.9430s\n",
      "Negative ELBO at step 1500: 10.44127202053768 in 75.2038s\n",
      "Negative ELBO at step 2000: 10.280580723755183 in 74.3859s\n",
      "Negative ELBO at step 2500: 10.175633147479418 in 71.8754s\n",
      "Beginning evaluation 0\n",
      "Maximizer:\n",
      "[[0.575 0.475 0.725]]\n",
      "Evaluation 0: Next query is [[0.575 0.475 0.725]\n",
      " [0.475 0.525 0.725]] with EI value of [0.48373297]\n",
      "Evaluation 0: Training model\n",
      "Optimizer config:  {'name': 'RMSprop', 'learning_rate': 0.001, 'decay': 0.0, 'rho': 0.0, 'momentum': 0.0, 'epsilon': 1e-07, 'centered': False}\n",
      "Indifference_threshold is fixed at 0.0\n",
      "Initialize lengthscale at [0.5 0.5 0.5]\n",
      "       signal variance at 1.0\n",
      "   Initial negative ELBO: 25818.490831537987\n",
      "Negative ELBO at step 0: 25490.628119088036 in 0.2475s\n",
      "Negative ELBO at step 500: 121.98792981516998 in 77.0205s\n",
      "Negative ELBO at step 1000: 11.581831972499224 in 77.3040s\n",
      "Negative ELBO at step 1500: 11.352013028559867 in 75.7671s\n"
     ]
    },
    {
     "data": {
      "text/html": [
       "<table>\n",
       "<thead>\n",
       "<tr><th>name                    </th><th>class    </th><th>transform       </th><th>prior  </th><th>trainable  </th><th>shape      </th><th>dtype  </th><th>value                                               </th></tr>\n",
       "</thead>\n",
       "<tbody>\n",
       "<tr><td>SVGP.kernel.variance    </td><td>Parameter</td><td>Softplus        </td><td>       </td><td>True       </td><td>()         </td><td>float64</td><td>1.4905568000371512                                  </td></tr>\n",
       "<tr><td>SVGP.kernel.lengthscale </td><td>Parameter</td><td>Softplus + Shift</td><td>       </td><td>True       </td><td>(3,)       </td><td>float64</td><td>[0.24299694 0.2434291  0.23034812]                  </td></tr>\n",
       "<tr><td>SVGP.likelihood.variance</td><td>Parameter</td><td>Softplus + Shift</td><td>       </td><td>True       </td><td>()         </td><td>float64</td><td>1.0                                                 </td></tr>\n",
       "<tr><td>SVGP.inducing_variable.Z</td><td>Parameter</td><td>                </td><td>       </td><td>False      </td><td>(25, 3)    </td><td>float64</td><td>[[0.525, 0.025, 0.525...                            </td></tr>\n",
       "<tr><td>SVGP.q_mu               </td><td>Parameter</td><td>                </td><td>       </td><td>False      </td><td>(25, 1)    </td><td>float64</td><td>[[-0.33801582...                                    </td></tr>\n",
       "<tr><td>SVGP.q_sqrt             </td><td>Parameter</td><td>FillTriangular  </td><td>       </td><td>False      </td><td>(1, 25, 25)</td><td>float64</td><td>[[[1.00799547e+00, 0.00000000e+00, 0.00000000e+00...</td></tr>\n",
       "</tbody>\n",
       "</table>"
      ],
      "text/plain": [
       "<IPython.core.display.HTML object>"
      ]
     },
     "metadata": {},
     "output_type": "display_data"
    },
    {
     "name": "stdout",
     "output_type": "stream",
     "text": [
      "Best_guess f([0.325 0.525 0.675]) = -2.1144269105565723\n",
      "Beginning evaluation 1\n",
      "Maximizer:\n",
      "[[0.475 0.525 0.725]]\n",
      "Evaluation 1: Next query is [[0.475 0.525 0.725]\n",
      " [0.325 0.475 0.725]] with EI value of [0.45069687]\n",
      "Evaluation 1: Training model\n",
      "Optimizer config:  {'name': 'RMSprop', 'learning_rate': 0.001, 'decay': 0.0, 'rho': 0.0, 'momentum': 0.0, 'epsilon': 1e-07, 'centered': False}\n",
      "Indifference_threshold is fixed at 0.0\n",
      "Initialize lengthscale at [0.5 0.5 0.5]\n",
      "       signal variance at 1.0\n",
      "   Initial negative ELBO: 27098.313230705102\n",
      "Negative ELBO at step 0: 26754.363597582786 in 0.2775s\n",
      "Negative ELBO at step 500: 128.54468013752654 in 84.0565s\n",
      "Negative ELBO at step 1000: 12.295805839685372 in 83.1344s\n",
      "Negative ELBO at step 1500: 12.016113362561484 in 82.9031s\n",
      "Negative ELBO at step 2000: 12.016096318601159 in 81.6484s\n",
      "Negative ELBO at step 2500: 12.016081655641647 in 82.7805s\n"
     ]
    },
    {
     "data": {
      "text/html": [
       "<table>\n",
       "<thead>\n",
       "<tr><th>name                    </th><th>class    </th><th>transform       </th><th>prior  </th><th>trainable  </th><th>shape      </th><th>dtype  </th><th>value                                               </th></tr>\n",
       "</thead>\n",
       "<tbody>\n",
       "<tr><td>SVGP.kernel.variance    </td><td>Parameter</td><td>Softplus        </td><td>       </td><td>True       </td><td>()         </td><td>float64</td><td>1.4766317469790917                                  </td></tr>\n",
       "<tr><td>SVGP.kernel.lengthscale </td><td>Parameter</td><td>Softplus + Shift</td><td>       </td><td>True       </td><td>(3,)       </td><td>float64</td><td>[0.30191084 0.25220819 0.22066389]                  </td></tr>\n",
       "<tr><td>SVGP.likelihood.variance</td><td>Parameter</td><td>Softplus + Shift</td><td>       </td><td>True       </td><td>()         </td><td>float64</td><td>1.0                                                 </td></tr>\n",
       "<tr><td>SVGP.inducing_variable.Z</td><td>Parameter</td><td>                </td><td>       </td><td>False      </td><td>(26, 3)    </td><td>float64</td><td>[[0.525, 0.025, 0.525...                            </td></tr>\n",
       "<tr><td>SVGP.q_mu               </td><td>Parameter</td><td>                </td><td>       </td><td>False      </td><td>(26, 1)    </td><td>float64</td><td>[[-0.31799802...                                    </td></tr>\n",
       "<tr><td>SVGP.q_sqrt             </td><td>Parameter</td><td>FillTriangular  </td><td>       </td><td>False      </td><td>(1, 26, 26)</td><td>float64</td><td>[[[9.90002171e-01, 0.00000000e+00, 0.00000000e+00...</td></tr>\n",
       "</tbody>\n",
       "</table>"
      ],
      "text/plain": [
       "<IPython.core.display.HTML object>"
      ]
     },
     "metadata": {},
     "output_type": "display_data"
    },
    {
     "name": "stdout",
     "output_type": "stream",
     "text": [
      "Best_guess f([0.225 0.475 0.675]) = -2.003432707983793\n",
      "Beginning evaluation 2\n",
      "Maximizer:\n",
      "[[0.325 0.475 0.725]]\n",
      "Evaluation 2: Next query is [[0.325 0.475 0.725]\n",
      " [0.125 0.425 0.725]] with EI value of [0.41418058]\n",
      "Evaluation 2: Training model\n",
      "Optimizer config:  {'name': 'RMSprop', 'learning_rate': 0.001, 'decay': 0.0, 'rho': 0.0, 'momentum': 0.0, 'epsilon': 1e-07, 'centered': False}\n",
      "Indifference_threshold is fixed at 0.0\n",
      "Initialize lengthscale at [0.5 0.5 0.5]\n",
      "       signal variance at 1.0\n",
      "   Initial negative ELBO: 35018.09420582855\n",
      "Negative ELBO at step 0: 34571.458094975394 in 0.2708s\n",
      "Negative ELBO at step 500: 142.7338116533183 in 86.9867s\n",
      "Negative ELBO at step 1000: 13.042125199564026 in 86.8570s\n",
      "Negative ELBO at step 1500: 12.68685775960957 in 86.0538s\n",
      "Negative ELBO at step 2000: 12.686845489312578 in 87.2239s\n",
      "Negative ELBO at step 2500: 12.686834842871972 in 88.7741s\n"
     ]
    },
    {
     "data": {
      "text/html": [
       "<table>\n",
       "<thead>\n",
       "<tr><th>name                    </th><th>class    </th><th>transform       </th><th>prior  </th><th>trainable  </th><th>shape      </th><th>dtype  </th><th>value                                               </th></tr>\n",
       "</thead>\n",
       "<tbody>\n",
       "<tr><td>SVGP.kernel.variance    </td><td>Parameter</td><td>Softplus        </td><td>       </td><td>True       </td><td>()         </td><td>float64</td><td>1.4185208550248574                                  </td></tr>\n",
       "<tr><td>SVGP.kernel.lengthscale </td><td>Parameter</td><td>Softplus + Shift</td><td>       </td><td>True       </td><td>(3,)       </td><td>float64</td><td>[0.31847221 0.25489571 0.20756216]                  </td></tr>\n",
       "<tr><td>SVGP.likelihood.variance</td><td>Parameter</td><td>Softplus + Shift</td><td>       </td><td>True       </td><td>()         </td><td>float64</td><td>1.0                                                 </td></tr>\n",
       "<tr><td>SVGP.inducing_variable.Z</td><td>Parameter</td><td>                </td><td>       </td><td>False      </td><td>(27, 3)    </td><td>float64</td><td>[[0.525, 0.025, 0.525...                            </td></tr>\n",
       "<tr><td>SVGP.q_mu               </td><td>Parameter</td><td>                </td><td>       </td><td>False      </td><td>(27, 1)    </td><td>float64</td><td>[[-0.32797754...                                    </td></tr>\n",
       "<tr><td>SVGP.q_sqrt             </td><td>Parameter</td><td>FillTriangular  </td><td>       </td><td>False      </td><td>(1, 27, 27)</td><td>float64</td><td>[[[1.01200281e+00, 0.00000000e+00, 0.00000000e+00...</td></tr>\n",
       "</tbody>\n",
       "</table>"
      ],
      "text/plain": [
       "<IPython.core.display.HTML object>"
      ]
     },
     "metadata": {},
     "output_type": "display_data"
    },
    {
     "name": "stdout",
     "output_type": "stream",
     "text": [
      "Best_guess f([0.125 0.475 0.675]) = -2.014630768960152\n",
      "Beginning evaluation 3\n",
      "Maximizer:\n",
      "[[0.125 0.425 0.725]]\n",
      "Evaluation 3: Next query is [[0.125 0.425 0.725]\n",
      " [0.075 0.475 0.675]] with EI value of [0.43313816]\n",
      "Evaluation 3: Training model\n",
      "Optimizer config:  {'name': 'RMSprop', 'learning_rate': 0.001, 'decay': 0.0, 'rho': 0.0, 'momentum': 0.0, 'epsilon': 1e-07, 'centered': False}\n",
      "Indifference_threshold is fixed at 0.0\n",
      "Initialize lengthscale at [0.5 0.5 0.5]\n",
      "       signal variance at 1.0\n",
      "   Initial negative ELBO: 37655.96259455245\n",
      "Negative ELBO at step 0: 37149.34912644452 in 0.2836s\n",
      "Negative ELBO at step 500: 147.3600272030962 in 96.4586s\n",
      "Negative ELBO at step 1000: 13.795260562990384 in 91.9011s\n",
      "Negative ELBO at step 1500: 13.436286900710714 in 92.8366s\n",
      "Negative ELBO at step 2000: 13.436274242379916 in 91.2877s\n",
      "Negative ELBO at step 2500: 13.436262707939749 in 91.5187s\n"
     ]
    },
    {
     "data": {
      "text/html": [
       "<table>\n",
       "<thead>\n",
       "<tr><th>name                    </th><th>class    </th><th>transform       </th><th>prior  </th><th>trainable  </th><th>shape      </th><th>dtype  </th><th>value                                               </th></tr>\n",
       "</thead>\n",
       "<tbody>\n",
       "<tr><td>SVGP.kernel.variance    </td><td>Parameter</td><td>Softplus        </td><td>       </td><td>True       </td><td>()         </td><td>float64</td><td>1.3958694075854918                                  </td></tr>\n",
       "<tr><td>SVGP.kernel.lengthscale </td><td>Parameter</td><td>Softplus + Shift</td><td>       </td><td>True       </td><td>(3,)       </td><td>float64</td><td>[0.28565547 0.24822329 0.21829887]                  </td></tr>\n",
       "<tr><td>SVGP.likelihood.variance</td><td>Parameter</td><td>Softplus + Shift</td><td>       </td><td>True       </td><td>()         </td><td>float64</td><td>1.0                                                 </td></tr>\n",
       "<tr><td>SVGP.inducing_variable.Z</td><td>Parameter</td><td>                </td><td>       </td><td>False      </td><td>(28, 3)    </td><td>float64</td><td>[[0.525, 0.025, 0.525...                            </td></tr>\n",
       "<tr><td>SVGP.q_mu               </td><td>Parameter</td><td>                </td><td>       </td><td>False      </td><td>(28, 1)    </td><td>float64</td><td>[[-0.39997558...                                    </td></tr>\n",
       "<tr><td>SVGP.q_sqrt             </td><td>Parameter</td><td>FillTriangular  </td><td>       </td><td>False      </td><td>(1, 28, 28)</td><td>float64</td><td>[[[9.50064250e-01, 0.00000000e+00, 0.00000000e+00...</td></tr>\n",
       "</tbody>\n",
       "</table>"
      ],
      "text/plain": [
       "<IPython.core.display.HTML object>"
      ]
     },
     "metadata": {},
     "output_type": "display_data"
    },
    {
     "name": "stdout",
     "output_type": "stream",
     "text": [
      "Best_guess f([0.175 0.425 0.725]) = -2.4036141084312845\n",
      "Beginning evaluation 4\n",
      "Maximizer:\n",
      "[[0.125 0.425 0.725]]\n",
      "Evaluation 4: Next query is [[0.125 0.425 0.725]\n",
      " [0.125 0.425 0.775]] with EI value of [0.40912266]\n",
      "Evaluation 4: Training model\n",
      "Optimizer config:  {'name': 'RMSprop', 'learning_rate': 0.001, 'decay': 0.0, 'rho': 0.0, 'momentum': 0.0, 'epsilon': 1e-07, 'centered': False}\n",
      "Indifference_threshold is fixed at 0.0\n",
      "Initialize lengthscale at [0.5 0.5 0.5]\n",
      "       signal variance at 1.0\n",
      "   Initial negative ELBO: 48214.194385166564\n",
      "Negative ELBO at step 0: 47576.02662498499 in 0.3588s\n",
      "Negative ELBO at step 500: 220.94691129563336 in 96.4111s\n",
      "Negative ELBO at step 1000: 14.675176757296338 in 96.3980s\n",
      "Negative ELBO at step 1500: 14.257286280043521 in 99.8897s\n",
      "Negative ELBO at step 2000: 14.257269797014263 in 96.5942s\n",
      "Negative ELBO at step 2500: 14.257254745311382 in 98.6708s\n"
     ]
    },
    {
     "data": {
      "text/html": [
       "<table>\n",
       "<thead>\n",
       "<tr><th>name                    </th><th>class    </th><th>transform       </th><th>prior  </th><th>trainable  </th><th>shape      </th><th>dtype  </th><th>value                                               </th></tr>\n",
       "</thead>\n",
       "<tbody>\n",
       "<tr><td>SVGP.kernel.variance    </td><td>Parameter</td><td>Softplus        </td><td>       </td><td>True       </td><td>()         </td><td>float64</td><td>1.311331285973647                                   </td></tr>\n",
       "<tr><td>SVGP.kernel.lengthscale </td><td>Parameter</td><td>Softplus + Shift</td><td>       </td><td>True       </td><td>(3,)       </td><td>float64</td><td>[0.24342969 0.23829178 0.21286962]                  </td></tr>\n",
       "<tr><td>SVGP.likelihood.variance</td><td>Parameter</td><td>Softplus + Shift</td><td>       </td><td>True       </td><td>()         </td><td>float64</td><td>1.0                                                 </td></tr>\n",
       "<tr><td>SVGP.inducing_variable.Z</td><td>Parameter</td><td>                </td><td>       </td><td>False      </td><td>(29, 3)    </td><td>float64</td><td>[[0.525, 0.025, 0.525...                            </td></tr>\n",
       "<tr><td>SVGP.q_mu               </td><td>Parameter</td><td>                </td><td>       </td><td>False      </td><td>(29, 1)    </td><td>float64</td><td>[[-0.35625858...                                    </td></tr>\n",
       "<tr><td>SVGP.q_sqrt             </td><td>Parameter</td><td>FillTriangular  </td><td>       </td><td>False      </td><td>(1, 29, 29)</td><td>float64</td><td>[[[9.69959951e-01, 0.00000000e+00, 0.00000000e+00...</td></tr>\n",
       "</tbody>\n",
       "</table>"
      ],
      "text/plain": [
       "<IPython.core.display.HTML object>"
      ]
     },
     "metadata": {},
     "output_type": "display_data"
    },
    {
     "name": "stdout",
     "output_type": "stream",
     "text": [
      "Best_guess f([0.175 0.425 0.675]) = -1.8138987826951878\n",
      "Beginning evaluation 5\n",
      "Maximizer:\n",
      "[[0.125 0.425 0.725]]\n",
      "Evaluation 5: Next query is [[0.125 0.425 0.725]\n",
      " [0.175 0.475 0.675]] with EI value of [0.40659731]\n",
      "Evaluation 5: Training model\n",
      "Optimizer config:  {'name': 'RMSprop', 'learning_rate': 0.001, 'decay': 0.0, 'rho': 0.0, 'momentum': 0.0, 'epsilon': 1e-07, 'centered': False}\n",
      "Indifference_threshold is fixed at 0.0\n",
      "Initialize lengthscale at [0.5 0.5 0.5]\n",
      "       signal variance at 1.0\n",
      "   Initial negative ELBO: 77362.75311442534\n",
      "Negative ELBO at step 0: 76329.52225465477 in 0.3161s\n",
      "Negative ELBO at step 500: 377.2358456217205 in 100.7677s\n",
      "Negative ELBO at step 1000: 15.814099585514088 in 101.4611s\n",
      "Negative ELBO at step 1500: 15.158405025650024 in 101.7702s\n",
      "Negative ELBO at step 2000: 15.15457472167022 in 101.7178s\n",
      "Negative ELBO at step 2500: 15.15456167039493 in 105.7977s\n"
     ]
    },
    {
     "data": {
      "text/html": [
       "<table>\n",
       "<thead>\n",
       "<tr><th>name                    </th><th>class    </th><th>transform       </th><th>prior  </th><th>trainable  </th><th>shape      </th><th>dtype  </th><th>value                                               </th></tr>\n",
       "</thead>\n",
       "<tbody>\n",
       "<tr><td>SVGP.kernel.variance    </td><td>Parameter</td><td>Softplus        </td><td>       </td><td>True       </td><td>()         </td><td>float64</td><td>1.1623298909435864                                  </td></tr>\n",
       "<tr><td>SVGP.kernel.lengthscale </td><td>Parameter</td><td>Softplus + Shift</td><td>       </td><td>True       </td><td>(3,)       </td><td>float64</td><td>[0.2295325  0.2311782  0.19409649]                  </td></tr>\n",
       "<tr><td>SVGP.likelihood.variance</td><td>Parameter</td><td>Softplus + Shift</td><td>       </td><td>True       </td><td>()         </td><td>float64</td><td>1.0                                                 </td></tr>\n",
       "<tr><td>SVGP.inducing_variable.Z</td><td>Parameter</td><td>                </td><td>       </td><td>False      </td><td>(30, 3)    </td><td>float64</td><td>[[0.525, 0.025, 0.525...                            </td></tr>\n",
       "<tr><td>SVGP.q_mu               </td><td>Parameter</td><td>                </td><td>       </td><td>False      </td><td>(30, 1)    </td><td>float64</td><td>[[-0.37395987...                                    </td></tr>\n",
       "<tr><td>SVGP.q_sqrt             </td><td>Parameter</td><td>FillTriangular  </td><td>       </td><td>False      </td><td>(1, 30, 30)</td><td>float64</td><td>[[[9.19976847e-01, 0.00000000e+00, 0.00000000e+00...</td></tr>\n",
       "</tbody>\n",
       "</table>"
      ],
      "text/plain": [
       "<IPython.core.display.HTML object>"
      ]
     },
     "metadata": {},
     "output_type": "display_data"
    },
    {
     "name": "stdout",
     "output_type": "stream",
     "text": [
      "Best_guess f([0.125 0.375 0.725]) = -2.124405066194951\n",
      "Beginning evaluation 6\n",
      "Maximizer:\n",
      "[[0.125 0.425 0.725]]\n",
      "Evaluation 6: Next query is [[0.125 0.425 0.725]\n",
      " [0.925 0.875 0.775]] with EI value of [0.37857039]\n",
      "Evaluation 6: Training model\n",
      "Optimizer config:  {'name': 'RMSprop', 'learning_rate': 0.001, 'decay': 0.0, 'rho': 0.0, 'momentum': 0.0, 'epsilon': 1e-07, 'centered': False}\n",
      "Indifference_threshold is fixed at 0.0\n",
      "Initialize lengthscale at [0.5 0.5 0.5]\n",
      "       signal variance at 1.0\n",
      "   Initial negative ELBO: 81562.7838961139\n",
      "Negative ELBO at step 0: 80458.87468817111 in 0.3230s\n",
      "Negative ELBO at step 500: 388.93886630765803 in 106.3260s\n",
      "Negative ELBO at step 1000: 16.633188301057565 in 105.6982s\n",
      "Negative ELBO at step 1500: 15.668591839746174 in 105.1118s\n",
      "Negative ELBO at step 2000: 15.614349101728333 in 107.5746s\n",
      "Negative ELBO at step 2500: 15.614332401281423 in 106.4346s\n"
     ]
    },
    {
     "data": {
      "text/html": [
       "<table>\n",
       "<thead>\n",
       "<tr><th>name                    </th><th>class    </th><th>transform       </th><th>prior  </th><th>trainable  </th><th>shape      </th><th>dtype  </th><th>value                                               </th></tr>\n",
       "</thead>\n",
       "<tbody>\n",
       "<tr><td>SVGP.kernel.variance    </td><td>Parameter</td><td>Softplus        </td><td>       </td><td>True       </td><td>()         </td><td>float64</td><td>1.1432162681029294                                  </td></tr>\n",
       "<tr><td>SVGP.kernel.lengthscale </td><td>Parameter</td><td>Softplus + Shift</td><td>       </td><td>True       </td><td>(3,)       </td><td>float64</td><td>[0.24213416 0.21790711 0.18887476]                  </td></tr>\n",
       "<tr><td>SVGP.likelihood.variance</td><td>Parameter</td><td>Softplus + Shift</td><td>       </td><td>True       </td><td>()         </td><td>float64</td><td>1.0                                                 </td></tr>\n",
       "<tr><td>SVGP.inducing_variable.Z</td><td>Parameter</td><td>                </td><td>       </td><td>False      </td><td>(31, 3)    </td><td>float64</td><td>[[0.525, 0.025, 0.525...                            </td></tr>\n",
       "<tr><td>SVGP.q_mu               </td><td>Parameter</td><td>                </td><td>       </td><td>False      </td><td>(31, 1)    </td><td>float64</td><td>[[-0.23798926...                                    </td></tr>\n",
       "<tr><td>SVGP.q_sqrt             </td><td>Parameter</td><td>FillTriangular  </td><td>       </td><td>False      </td><td>(1, 31, 31)</td><td>float64</td><td>[[[9.07994580e-01, 0.00000000e+00, 0.00000000e+00...</td></tr>\n",
       "</tbody>\n",
       "</table>"
      ],
      "text/plain": [
       "<IPython.core.display.HTML object>"
      ]
     },
     "metadata": {},
     "output_type": "display_data"
    },
    {
     "name": "stdout",
     "output_type": "stream",
     "text": [
      "Best_guess f([0.125 0.375 0.725]) = -2.124405066194951\n",
      "Beginning evaluation 7\n",
      "Maximizer:\n",
      "[[0.125 0.425 0.725]]\n",
      "Evaluation 7: Next query is [[0.125 0.425 0.725]\n",
      " [0.125 0.425 0.775]] with EI value of [0.29715298]\n",
      "Evaluation 7: Training model\n",
      "Optimizer config:  {'name': 'RMSprop', 'learning_rate': 0.001, 'decay': 0.0, 'rho': 0.0, 'momentum': 0.0, 'epsilon': 1e-07, 'centered': False}\n",
      "Indifference_threshold is fixed at 0.0\n",
      "Initialize lengthscale at [0.5 0.5 0.5]\n",
      "       signal variance at 1.0\n",
      "   Initial negative ELBO: 80036.74837340009\n",
      "Negative ELBO at step 0: 78987.35623334876 in 0.3428s\n",
      "Negative ELBO at step 500: 392.0363220521109 in 112.0494s\n",
      "Negative ELBO at step 1000: 17.210364596367686 in 112.4310s\n",
      "Negative ELBO at step 1500: 16.353284347920493 in 112.3962s\n",
      "Negative ELBO at step 2000: 16.353264092143046 in 109.9355s\n",
      "Negative ELBO at step 2500: 16.35324563214459 in 109.7010s\n"
     ]
    },
    {
     "data": {
      "text/html": [
       "<table>\n",
       "<thead>\n",
       "<tr><th>name                    </th><th>class    </th><th>transform       </th><th>prior  </th><th>trainable  </th><th>shape      </th><th>dtype  </th><th>value                                               </th></tr>\n",
       "</thead>\n",
       "<tbody>\n",
       "<tr><td>SVGP.kernel.variance    </td><td>Parameter</td><td>Softplus        </td><td>       </td><td>True       </td><td>()         </td><td>float64</td><td>1.2293244546124742                                  </td></tr>\n",
       "<tr><td>SVGP.kernel.lengthscale </td><td>Parameter</td><td>Softplus + Shift</td><td>       </td><td>True       </td><td>(3,)       </td><td>float64</td><td>[0.24041826 0.22225316 0.20127488]                  </td></tr>\n",
       "<tr><td>SVGP.likelihood.variance</td><td>Parameter</td><td>Softplus + Shift</td><td>       </td><td>True       </td><td>()         </td><td>float64</td><td>1.0                                                 </td></tr>\n",
       "<tr><td>SVGP.inducing_variable.Z</td><td>Parameter</td><td>                </td><td>       </td><td>False      </td><td>(31, 3)    </td><td>float64</td><td>[[0.525, 0.025, 0.525...                            </td></tr>\n",
       "<tr><td>SVGP.q_mu               </td><td>Parameter</td><td>                </td><td>       </td><td>False      </td><td>(31, 1)    </td><td>float64</td><td>[[-0.3379881...                                     </td></tr>\n",
       "<tr><td>SVGP.q_sqrt             </td><td>Parameter</td><td>FillTriangular  </td><td>       </td><td>False      </td><td>(1, 31, 31)</td><td>float64</td><td>[[[9.49893547e-01, 0.00000000e+00, 0.00000000e+00...</td></tr>\n",
       "</tbody>\n",
       "</table>"
      ],
      "text/plain": [
       "<IPython.core.display.HTML object>"
      ]
     },
     "metadata": {},
     "output_type": "display_data"
    },
    {
     "name": "stdout",
     "output_type": "stream",
     "text": [
      "Best_guess f([0.125 0.375 0.775]) = -2.59756808862683\n",
      "Beginning evaluation 8\n",
      "Maximizer:\n",
      "[[0.125 0.425 0.775]]\n",
      "Evaluation 8: Next query is [[0.125 0.425 0.775]\n",
      " [0.075 0.375 0.825]] with EI value of [0.33993804]\n",
      "Evaluation 8: Training model\n",
      "Optimizer config:  {'name': 'RMSprop', 'learning_rate': 0.001, 'decay': 0.0, 'rho': 0.0, 'momentum': 0.0, 'epsilon': 1e-07, 'centered': False}\n",
      "Indifference_threshold is fixed at 0.0\n",
      "Initialize lengthscale at [0.5 0.5 0.5]\n",
      "       signal variance at 1.0\n",
      "   Initial negative ELBO: 92774.14117426611\n",
      "Negative ELBO at step 0: 91572.70199827857 in 0.3584s\n",
      "Negative ELBO at step 500: 501.3002233244685 in 115.9812s\n",
      "Negative ELBO at step 1000: 18.241883357912496 in 119.6364s\n",
      "Negative ELBO at step 1500: 17.33752969513351 in 117.2403s\n",
      "Negative ELBO at step 2000: 17.208147838930834 in 116.7814s\n",
      "Negative ELBO at step 2500: 17.20812573451999 in 117.2163s\n"
     ]
    },
    {
     "data": {
      "text/html": [
       "<table>\n",
       "<thead>\n",
       "<tr><th>name                    </th><th>class    </th><th>transform       </th><th>prior  </th><th>trainable  </th><th>shape      </th><th>dtype  </th><th>value                                               </th></tr>\n",
       "</thead>\n",
       "<tbody>\n",
       "<tr><td>SVGP.kernel.variance    </td><td>Parameter</td><td>Softplus        </td><td>       </td><td>True       </td><td>()         </td><td>float64</td><td>0.9185350846053238                                  </td></tr>\n",
       "<tr><td>SVGP.kernel.lengthscale </td><td>Parameter</td><td>Softplus + Shift</td><td>       </td><td>True       </td><td>(3,)       </td><td>float64</td><td>[0.21172144 0.19938309 0.18956388]                  </td></tr>\n",
       "<tr><td>SVGP.likelihood.variance</td><td>Parameter</td><td>Softplus + Shift</td><td>       </td><td>True       </td><td>()         </td><td>float64</td><td>1.0                                                 </td></tr>\n",
       "<tr><td>SVGP.inducing_variable.Z</td><td>Parameter</td><td>                </td><td>       </td><td>False      </td><td>(32, 3)    </td><td>float64</td><td>[[0.525, 0.025, 0.525...                            </td></tr>\n",
       "<tr><td>SVGP.q_mu               </td><td>Parameter</td><td>                </td><td>       </td><td>False      </td><td>(32, 1)    </td><td>float64</td><td>[[-0.22987993...                                    </td></tr>\n",
       "<tr><td>SVGP.q_sqrt             </td><td>Parameter</td><td>FillTriangular  </td><td>       </td><td>False      </td><td>(1, 32, 32)</td><td>float64</td><td>[[[8.32129279e-01, 0.00000000e+00, 0.00000000e+00...</td></tr>\n",
       "</tbody>\n",
       "</table>"
      ],
      "text/plain": [
       "<IPython.core.display.HTML object>"
      ]
     },
     "metadata": {},
     "output_type": "display_data"
    },
    {
     "name": "stdout",
     "output_type": "stream",
     "text": [
      "Best_guess f([0.075 0.325 0.775]) = -2.189090162732868\n",
      "Beginning evaluation 9\n",
      "Maximizer:\n",
      "[[0.075 0.375 0.825]]\n",
      "Evaluation 9: Next query is [[0.075 0.375 0.825]\n",
      " [0.025 0.275 0.725]] with EI value of [0.34983115]\n",
      "Evaluation 9: Training model\n",
      "Optimizer config:  {'name': 'RMSprop', 'learning_rate': 0.001, 'decay': 0.0, 'rho': 0.0, 'momentum': 0.0, 'epsilon': 1e-07, 'centered': False}\n",
      "Indifference_threshold is fixed at 0.0\n",
      "Initialize lengthscale at [0.5 0.5 0.5]\n",
      "       signal variance at 1.0\n",
      "   Initial negative ELBO: 98708.05990442629\n",
      "Negative ELBO at step 0: 97433.82098464447 in 0.3679s\n",
      "Negative ELBO at step 500: 525.0903872206522 in 120.9682s\n",
      "Negative ELBO at step 1000: 18.934811173996458 in 119.7073s\n",
      "Negative ELBO at step 1500: 17.929082110076717 in 119.5732s\n",
      "Negative ELBO at step 2000: 17.822619857921225 in 124.0265s\n",
      "Negative ELBO at step 2500: 17.82260464940981 in 120.2116s\n"
     ]
    },
    {
     "data": {
      "text/html": [
       "<table>\n",
       "<thead>\n",
       "<tr><th>name                    </th><th>class    </th><th>transform       </th><th>prior  </th><th>trainable  </th><th>shape      </th><th>dtype  </th><th>value                             </th></tr>\n",
       "</thead>\n",
       "<tbody>\n",
       "<tr><td>SVGP.kernel.variance    </td><td>Parameter</td><td>Softplus        </td><td>       </td><td>True       </td><td>()         </td><td>float64</td><td>0.9674381706677608                </td></tr>\n",
       "<tr><td>SVGP.kernel.lengthscale </td><td>Parameter</td><td>Softplus + Shift</td><td>       </td><td>True       </td><td>(3,)       </td><td>float64</td><td>[0.22027081 0.20055262 0.19837635]</td></tr>\n",
       "<tr><td>SVGP.likelihood.variance</td><td>Parameter</td><td>Softplus + Shift</td><td>       </td><td>True       </td><td>()         </td><td>float64</td><td>1.0                               </td></tr>\n",
       "<tr><td>SVGP.inducing_variable.Z</td><td>Parameter</td><td>                </td><td>       </td><td>False      </td><td>(33, 3)    </td><td>float64</td><td>[[0.525, 0.025, 0.525...          </td></tr>\n",
       "<tr><td>SVGP.q_mu               </td><td>Parameter</td><td>                </td><td>       </td><td>False      </td><td>(33, 1)    </td><td>float64</td><td>[[-0.2938386...                   </td></tr>\n",
       "<tr><td>SVGP.q_sqrt             </td><td>Parameter</td><td>FillTriangular  </td><td>       </td><td>False      </td><td>(1, 33, 33)</td><td>float64</td><td>[[[0.89611156, 0., 0....          </td></tr>\n",
       "</tbody>\n",
       "</table>"
      ],
      "text/plain": [
       "<IPython.core.display.HTML object>"
      ]
     },
     "metadata": {},
     "output_type": "display_data"
    },
    {
     "name": "stdout",
     "output_type": "stream",
     "text": [
      "Best_guess f([0.075 0.375 0.825]) = -2.858212090957512\n",
      "Beginning evaluation 10\n",
      "Maximizer:\n",
      "[[0.075 0.375 0.825]]\n",
      "Evaluation 10: Next query is [[0.075 0.375 0.825]\n",
      " [0.175 0.375 0.875]] with EI value of [0.30810108]\n",
      "Evaluation 10: Training model\n",
      "Optimizer config:  {'name': 'RMSprop', 'learning_rate': 0.001, 'decay': 0.0, 'rho': 0.0, 'momentum': 0.0, 'epsilon': 1e-07, 'centered': False}\n",
      "Indifference_threshold is fixed at 0.0\n",
      "Initialize lengthscale at [0.5 0.5 0.5]\n",
      "       signal variance at 1.0\n",
      "   Initial negative ELBO: 108821.9470076932\n",
      "Negative ELBO at step 0: 107313.4194007168 in 0.3753s\n",
      "Negative ELBO at step 500: 527.7495693749679 in 127.3332s\n",
      "Negative ELBO at step 1000: 19.569172359748297 in 125.1253s\n",
      "Negative ELBO at step 1500: 18.616945245871953 in 125.6910s\n",
      "Negative ELBO at step 2000: 18.43701441520156 in 125.9682s\n",
      "Negative ELBO at step 2500: 18.436993511678054 in 129.4824s\n"
     ]
    },
    {
     "data": {
      "text/html": [
       "<table>\n",
       "<thead>\n",
       "<tr><th>name                    </th><th>class    </th><th>transform       </th><th>prior  </th><th>trainable  </th><th>shape      </th><th>dtype  </th><th>value                             </th></tr>\n",
       "</thead>\n",
       "<tbody>\n",
       "<tr><td>SVGP.kernel.variance    </td><td>Parameter</td><td>Softplus        </td><td>       </td><td>True       </td><td>()         </td><td>float64</td><td>1.0203404395995868                </td></tr>\n",
       "<tr><td>SVGP.kernel.lengthscale </td><td>Parameter</td><td>Softplus + Shift</td><td>       </td><td>True       </td><td>(3,)       </td><td>float64</td><td>[0.21210302 0.20681402 0.20310706]</td></tr>\n",
       "<tr><td>SVGP.likelihood.variance</td><td>Parameter</td><td>Softplus + Shift</td><td>       </td><td>True       </td><td>()         </td><td>float64</td><td>1.0                               </td></tr>\n",
       "<tr><td>SVGP.inducing_variable.Z</td><td>Parameter</td><td>                </td><td>       </td><td>False      </td><td>(34, 3)    </td><td>float64</td><td>[[0.525, 0.025, 0.525...          </td></tr>\n",
       "<tr><td>SVGP.q_mu               </td><td>Parameter</td><td>                </td><td>       </td><td>False      </td><td>(34, 1)    </td><td>float64</td><td>[[-0.22200415...                  </td></tr>\n",
       "<tr><td>SVGP.q_sqrt             </td><td>Parameter</td><td>FillTriangular  </td><td>       </td><td>False      </td><td>(1, 34, 34)</td><td>float64</td><td>[[[0.88588422, 0., 0....          </td></tr>\n",
       "</tbody>\n",
       "</table>"
      ],
      "text/plain": [
       "<IPython.core.display.HTML object>"
      ]
     },
     "metadata": {},
     "output_type": "display_data"
    },
    {
     "name": "stdout",
     "output_type": "stream",
     "text": [
      "Best_guess f([0.075 0.425 0.775]) = -2.945625951361046\n",
      "Beginning evaluation 11\n",
      "Maximizer:\n",
      "[[0.075 0.375 0.825]]\n",
      "Evaluation 11: Next query is [[0.075 0.375 0.825]\n",
      " [0.075 0.375 0.875]] with EI value of [0.30854623]\n",
      "Evaluation 11: Training model\n",
      "Optimizer config:  {'name': 'RMSprop', 'learning_rate': 0.001, 'decay': 0.0, 'rho': 0.0, 'momentum': 0.0, 'epsilon': 1e-07, 'centered': False}\n",
      "Indifference_threshold is fixed at 0.0\n",
      "Initialize lengthscale at [0.5 0.5 0.5]\n",
      "       signal variance at 1.0\n",
      "   Initial negative ELBO: 333189.20881746046\n",
      "Negative ELBO at step 0: 328020.5857968852 in 0.3959s\n",
      "Negative ELBO at step 500: 815.4285388070305 in 130.1660s\n",
      "Negative ELBO at step 1000: 21.87491513104195 in 129.7554s\n",
      "Negative ELBO at step 1500: 19.3798340569435 in 129.6003s\n",
      "Negative ELBO at step 2000: 18.9321366821624 in 129.6183s\n",
      "Negative ELBO at step 2500: 18.932116291191534 in 130.0101s\n"
     ]
    },
    {
     "data": {
      "text/html": [
       "<table>\n",
       "<thead>\n",
       "<tr><th>name                    </th><th>class    </th><th>transform       </th><th>prior  </th><th>trainable  </th><th>shape      </th><th>dtype  </th><th>value                             </th></tr>\n",
       "</thead>\n",
       "<tbody>\n",
       "<tr><td>SVGP.kernel.variance    </td><td>Parameter</td><td>Softplus        </td><td>       </td><td>True       </td><td>()         </td><td>float64</td><td>1.0216097370472559                </td></tr>\n",
       "<tr><td>SVGP.kernel.lengthscale </td><td>Parameter</td><td>Softplus + Shift</td><td>       </td><td>True       </td><td>(3,)       </td><td>float64</td><td>[0.16953165 0.16340258 0.16797633]</td></tr>\n",
       "<tr><td>SVGP.likelihood.variance</td><td>Parameter</td><td>Softplus + Shift</td><td>       </td><td>True       </td><td>()         </td><td>float64</td><td>1.0                               </td></tr>\n",
       "<tr><td>SVGP.inducing_variable.Z</td><td>Parameter</td><td>                </td><td>       </td><td>False      </td><td>(35, 3)    </td><td>float64</td><td>[[0.525, 0.025, 0.525...          </td></tr>\n",
       "<tr><td>SVGP.q_mu               </td><td>Parameter</td><td>                </td><td>       </td><td>False      </td><td>(35, 1)    </td><td>float64</td><td>[[-0.09392492...                  </td></tr>\n",
       "<tr><td>SVGP.q_sqrt             </td><td>Parameter</td><td>FillTriangular  </td><td>       </td><td>False      </td><td>(1, 35, 35)</td><td>float64</td><td>[[[0.90799905, 0., 0....          </td></tr>\n",
       "</tbody>\n",
       "</table>"
      ],
      "text/plain": [
       "<IPython.core.display.HTML object>"
      ]
     },
     "metadata": {},
     "output_type": "display_data"
    },
    {
     "name": "stdout",
     "output_type": "stream",
     "text": [
      "Best_guess f([0.075 0.375 0.775]) = -2.5941900476681172\n",
      "Beginning evaluation 12\n",
      "Maximizer:\n",
      "[[0.075 0.375 0.825]]\n",
      "Evaluation 12: Next query is [[0.075 0.375 0.825]\n",
      " [0.025 0.375 0.825]] with EI value of [0.32527983]\n",
      "Evaluation 12: Training model\n",
      "Optimizer config:  {'name': 'RMSprop', 'learning_rate': 0.001, 'decay': 0.0, 'rho': 0.0, 'momentum': 0.0, 'epsilon': 1e-07, 'centered': False}\n",
      "Indifference_threshold is fixed at 0.0\n",
      "Initialize lengthscale at [0.5 0.5 0.5]\n",
      "       signal variance at 1.0\n",
      "   Initial negative ELBO: 550742.7553784702\n",
      "Negative ELBO at step 0: 542013.1007648335 in 0.4365s\n",
      "Negative ELBO at step 500: 1224.0242471648162 in 139.3479s\n",
      "Negative ELBO at step 1000: 22.498251879219648 in 136.5810s\n",
      "Negative ELBO at step 1500: 20.359360591249875 in 136.4884s\n",
      "Negative ELBO at step 2000: 19.765753873822018 in 136.0488s\n",
      "Negative ELBO at step 2500: 19.749237144332998 in 134.3696s\n"
     ]
    },
    {
     "data": {
      "text/html": [
       "<table>\n",
       "<thead>\n",
       "<tr><th>name                    </th><th>class    </th><th>transform       </th><th>prior  </th><th>trainable  </th><th>shape      </th><th>dtype  </th><th>value                                               </th></tr>\n",
       "</thead>\n",
       "<tbody>\n",
       "<tr><td>SVGP.kernel.variance    </td><td>Parameter</td><td>Softplus        </td><td>       </td><td>True       </td><td>()         </td><td>float64</td><td>0.9030566531850845                                  </td></tr>\n",
       "<tr><td>SVGP.kernel.lengthscale </td><td>Parameter</td><td>Softplus + Shift</td><td>       </td><td>True       </td><td>(3,)       </td><td>float64</td><td>[0.1714121  0.16953084 0.16552303]                  </td></tr>\n",
       "<tr><td>SVGP.likelihood.variance</td><td>Parameter</td><td>Softplus + Shift</td><td>       </td><td>True       </td><td>()         </td><td>float64</td><td>1.0                                                 </td></tr>\n",
       "<tr><td>SVGP.inducing_variable.Z</td><td>Parameter</td><td>                </td><td>       </td><td>False      </td><td>(36, 3)    </td><td>float64</td><td>[[0.525, 0.025, 0.525...                            </td></tr>\n",
       "<tr><td>SVGP.q_mu               </td><td>Parameter</td><td>                </td><td>       </td><td>False      </td><td>(36, 1)    </td><td>float64</td><td>[[-0.06798821...                                    </td></tr>\n",
       "<tr><td>SVGP.q_sqrt             </td><td>Parameter</td><td>FillTriangular  </td><td>       </td><td>False      </td><td>(1, 36, 36)</td><td>float64</td><td>[[[8.61987327e-01, 0.00000000e+00, 0.00000000e+00...</td></tr>\n",
       "</tbody>\n",
       "</table>"
      ],
      "text/plain": [
       "<IPython.core.display.HTML object>"
      ]
     },
     "metadata": {},
     "output_type": "display_data"
    },
    {
     "name": "stdout",
     "output_type": "stream",
     "text": [
      "Best_guess f([0.075 0.375 0.775]) = -2.5941900476681172\n",
      "Beginning evaluation 13\n",
      "Maximizer:\n",
      "[[0.125 0.425 0.775]]\n",
      "Evaluation 13: Next query is [[0.125 0.425 0.775]\n",
      " [0.025 0.375 0.825]] with EI value of [0.23156153]\n",
      "Evaluation 13: Training model\n",
      "Optimizer config:  {'name': 'RMSprop', 'learning_rate': 0.001, 'decay': 0.0, 'rho': 0.0, 'momentum': 0.0, 'epsilon': 1e-07, 'centered': False}\n",
      "Indifference_threshold is fixed at 0.0\n",
      "Initialize lengthscale at [0.5 0.5 0.5]\n",
      "       signal variance at 1.0\n",
      "   Initial negative ELBO: 534039.7535702157\n",
      "Negative ELBO at step 0: 526221.3141524319 in 0.4284s\n",
      "Negative ELBO at step 500: 1263.0996158780474 in 137.8642s\n",
      "Negative ELBO at step 1000: 23.188639196148905 in 139.0687s\n",
      "Negative ELBO at step 1500: 21.12037102771329 in 144.6289s\n",
      "Negative ELBO at step 2000: 20.47559907931241 in 140.8002s\n",
      "Negative ELBO at step 2500: 20.361965977652112 in 140.3293s\n"
     ]
    },
    {
     "data": {
      "text/html": [
       "<table>\n",
       "<thead>\n",
       "<tr><th>name                    </th><th>class    </th><th>transform       </th><th>prior  </th><th>trainable  </th><th>shape      </th><th>dtype  </th><th>value                             </th></tr>\n",
       "</thead>\n",
       "<tbody>\n",
       "<tr><td>SVGP.kernel.variance    </td><td>Parameter</td><td>Softplus        </td><td>       </td><td>True       </td><td>()         </td><td>float64</td><td>0.8482354524670639                </td></tr>\n",
       "<tr><td>SVGP.kernel.lengthscale </td><td>Parameter</td><td>Softplus + Shift</td><td>       </td><td>True       </td><td>(3,)       </td><td>float64</td><td>[0.15343961 0.15573058 0.17204509]</td></tr>\n",
       "<tr><td>SVGP.likelihood.variance</td><td>Parameter</td><td>Softplus + Shift</td><td>       </td><td>True       </td><td>()         </td><td>float64</td><td>1.0                               </td></tr>\n",
       "<tr><td>SVGP.inducing_variable.Z</td><td>Parameter</td><td>                </td><td>       </td><td>False      </td><td>(36, 3)    </td><td>float64</td><td>[[0.525, 0.025, 0.525...          </td></tr>\n",
       "<tr><td>SVGP.q_mu               </td><td>Parameter</td><td>                </td><td>       </td><td>False      </td><td>(36, 1)    </td><td>float64</td><td>[[-0.03383859...                  </td></tr>\n",
       "<tr><td>SVGP.q_sqrt             </td><td>Parameter</td><td>FillTriangular  </td><td>       </td><td>False      </td><td>(1, 36, 36)</td><td>float64</td><td>[[[0.86199861, 0., 0....          </td></tr>\n",
       "</tbody>\n",
       "</table>"
      ],
      "text/plain": [
       "<IPython.core.display.HTML object>"
      ]
     },
     "metadata": {},
     "output_type": "display_data"
    },
    {
     "name": "stdout",
     "output_type": "stream",
     "text": [
      "Best_guess f([0.075 0.375 0.775]) = -2.5941900476681172\n",
      "Beginning evaluation 14\n",
      "Maximizer:\n",
      "[[0.075 0.375 0.825]]\n",
      "Evaluation 14: Next query is [[0.075 0.375 0.825]\n",
      " [0.025 0.375 0.775]] with EI value of [0.28750224]\n",
      "Evaluation 14: Training model\n",
      "Optimizer config:  {'name': 'RMSprop', 'learning_rate': 0.001, 'decay': 0.0, 'rho': 0.0, 'momentum': 0.0, 'epsilon': 1e-07, 'centered': False}\n",
      "Indifference_threshold is fixed at 0.0\n",
      "Initialize lengthscale at [0.5 0.5 0.5]\n",
      "       signal variance at 1.0\n",
      "   Initial negative ELBO: 1065282.7553294245\n",
      "Negative ELBO at step 0: 1050070.5732105453 in 0.4387s\n",
      "Negative ELBO at step 500: 2445.120206401781 in 145.5969s\n",
      "Negative ELBO at step 1000: 24.570615556693966 in 140.6177s\n",
      "Negative ELBO at step 1500: 22.756115404442518 in 142.9606s\n",
      "Negative ELBO at step 2000: 21.83966537811555 in 146.9362s\n",
      "Negative ELBO at step 2500: 21.397600647057487 in 143.0587s\n"
     ]
    },
    {
     "data": {
      "text/html": [
       "<table>\n",
       "<thead>\n",
       "<tr><th>name                    </th><th>class    </th><th>transform       </th><th>prior  </th><th>trainable  </th><th>shape      </th><th>dtype  </th><th>value                             </th></tr>\n",
       "</thead>\n",
       "<tbody>\n",
       "<tr><td>SVGP.kernel.variance    </td><td>Parameter</td><td>Softplus        </td><td>       </td><td>True       </td><td>()         </td><td>float64</td><td>0.528161747020794                 </td></tr>\n",
       "<tr><td>SVGP.kernel.lengthscale </td><td>Parameter</td><td>Softplus + Shift</td><td>       </td><td>True       </td><td>(3,)       </td><td>float64</td><td>[0.09102957 0.1830991  0.14647729]</td></tr>\n",
       "<tr><td>SVGP.likelihood.variance</td><td>Parameter</td><td>Softplus + Shift</td><td>       </td><td>True       </td><td>()         </td><td>float64</td><td>1.0                               </td></tr>\n",
       "<tr><td>SVGP.inducing_variable.Z</td><td>Parameter</td><td>                </td><td>       </td><td>False      </td><td>(37, 3)    </td><td>float64</td><td>[[0.525, 0.025, 0.525...          </td></tr>\n",
       "<tr><td>SVGP.q_mu               </td><td>Parameter</td><td>                </td><td>       </td><td>False      </td><td>(37, 1)    </td><td>float64</td><td>[[0.08970099...                   </td></tr>\n",
       "<tr><td>SVGP.q_sqrt             </td><td>Parameter</td><td>FillTriangular  </td><td>       </td><td>False      </td><td>(1, 37, 37)</td><td>float64</td><td>[[[0.67594087, 0., 0....          </td></tr>\n",
       "</tbody>\n",
       "</table>"
      ],
      "text/plain": [
       "<IPython.core.display.HTML object>"
      ]
     },
     "metadata": {},
     "output_type": "display_data"
    },
    {
     "name": "stdout",
     "output_type": "stream",
     "text": [
      "Best_guess f([0.075 0.375 0.775]) = -2.5941900476681172\n",
      "Beginning evaluation 15\n",
      "Maximizer:\n",
      "[[0.075 0.375 0.825]]\n",
      "Evaluation 15: Next query is [[0.075 0.375 0.825]\n",
      " [0.075 0.325 0.775]] with EI value of [0.21005875]\n",
      "Evaluation 15: Training model\n",
      "Optimizer config:  {'name': 'RMSprop', 'learning_rate': 0.001, 'decay': 0.0, 'rho': 0.0, 'momentum': 0.0, 'epsilon': 1e-07, 'centered': False}\n",
      "Indifference_threshold is fixed at 0.0\n",
      "Initialize lengthscale at [0.5 0.5 0.5]\n",
      "       signal variance at 1.0\n",
      "   Initial negative ELBO: 2329354.9320394616\n",
      "Negative ELBO at step 0: 2296239.2676755157 in 0.4725s\n",
      "Negative ELBO at step 500: 4656.864889894467 in 151.1408s\n",
      "Negative ELBO at step 1000: 26.634330683757064 in 148.4753s\n",
      "Negative ELBO at step 1500: 23.88397721725065 in 149.3047s\n",
      "Negative ELBO at step 2000: 22.151483815606234 in 149.5695s\n",
      "Negative ELBO at step 2500: 21.484135039728017 in 147.2545s\n"
     ]
    },
    {
     "data": {
      "text/html": [
       "<table>\n",
       "<thead>\n",
       "<tr><th>name                    </th><th>class    </th><th>transform       </th><th>prior  </th><th>trainable  </th><th>shape      </th><th>dtype  </th><th>value                                               </th></tr>\n",
       "</thead>\n",
       "<tbody>\n",
       "<tr><td>SVGP.kernel.variance    </td><td>Parameter</td><td>Softplus        </td><td>       </td><td>True       </td><td>()         </td><td>float64</td><td>0.7922849594349842                                  </td></tr>\n",
       "<tr><td>SVGP.kernel.lengthscale </td><td>Parameter</td><td>Softplus + Shift</td><td>       </td><td>True       </td><td>(3,)       </td><td>float64</td><td>[0.12261915 0.05394261 0.1503396 ]                  </td></tr>\n",
       "<tr><td>SVGP.likelihood.variance</td><td>Parameter</td><td>Softplus + Shift</td><td>       </td><td>True       </td><td>()         </td><td>float64</td><td>1.0                                                 </td></tr>\n",
       "<tr><td>SVGP.inducing_variable.Z</td><td>Parameter</td><td>                </td><td>       </td><td>False      </td><td>(38, 3)    </td><td>float64</td><td>[[0.525, 0.025, 0.525...                            </td></tr>\n",
       "<tr><td>SVGP.q_mu               </td><td>Parameter</td><td>                </td><td>       </td><td>False      </td><td>(38, 1)    </td><td>float64</td><td>[[0.20991799...                                     </td></tr>\n",
       "<tr><td>SVGP.q_sqrt             </td><td>Parameter</td><td>FillTriangular  </td><td>       </td><td>False      </td><td>(1, 38, 38)</td><td>float64</td><td>[[[8.44270723e-01, 0.00000000e+00, 0.00000000e+00...</td></tr>\n",
       "</tbody>\n",
       "</table>"
      ],
      "text/plain": [
       "<IPython.core.display.HTML object>"
      ]
     },
     "metadata": {},
     "output_type": "display_data"
    },
    {
     "name": "stdout",
     "output_type": "stream",
     "text": [
      "Best_guess f([0.075 0.375 0.775]) = -2.5941900476681172\n",
      "Beginning evaluation 16\n",
      "Maximizer:\n",
      "[[0.075 0.375 0.825]]\n",
      "Evaluation 16: Next query is [[0.075 0.375 0.825]\n",
      " [0.075 0.375 0.725]] with EI value of [0.25993413]\n",
      "Evaluation 16: Training model\n",
      "Optimizer config:  {'name': 'RMSprop', 'learning_rate': 0.001, 'decay': 0.0, 'rho': 0.0, 'momentum': 0.0, 'epsilon': 1e-07, 'centered': False}\n",
      "Indifference_threshold is fixed at 0.0\n",
      "Initialize lengthscale at [0.5 0.5 0.5]\n",
      "       signal variance at 1.0\n",
      "   Initial negative ELBO: 4943576.2708589705\n",
      "Negative ELBO at step 0: 4872672.323475883 in 0.4574s\n",
      "Negative ELBO at step 500: 11854.896136782027 in 151.2171s\n",
      "Negative ELBO at step 1000: 28.385298325026476 in 152.9974s\n",
      "Negative ELBO at step 1500: 25.091368179931067 in 152.0605s\n",
      "Negative ELBO at step 2000: 24.27737265038387 in 155.3254s\n",
      "Negative ELBO at step 2500: 22.965674283338007 in 153.8976s\n"
     ]
    },
    {
     "data": {
      "text/html": [
       "<table>\n",
       "<thead>\n",
       "<tr><th>name                    </th><th>class    </th><th>transform       </th><th>prior  </th><th>trainable  </th><th>shape      </th><th>dtype  </th><th>value                                               </th></tr>\n",
       "</thead>\n",
       "<tbody>\n",
       "<tr><td>SVGP.kernel.variance    </td><td>Parameter</td><td>Softplus        </td><td>       </td><td>True       </td><td>()         </td><td>float64</td><td>0.6262115993362712                                  </td></tr>\n",
       "<tr><td>SVGP.kernel.lengthscale </td><td>Parameter</td><td>Softplus + Shift</td><td>       </td><td>True       </td><td>(3,)       </td><td>float64</td><td>[0.10948321 0.07341014 0.07440887]                  </td></tr>\n",
       "<tr><td>SVGP.likelihood.variance</td><td>Parameter</td><td>Softplus + Shift</td><td>       </td><td>True       </td><td>()         </td><td>float64</td><td>1.0                                                 </td></tr>\n",
       "<tr><td>SVGP.inducing_variable.Z</td><td>Parameter</td><td>                </td><td>       </td><td>False      </td><td>(39, 3)    </td><td>float64</td><td>[[0.525, 0.025, 0.525...                            </td></tr>\n",
       "<tr><td>SVGP.q_mu               </td><td>Parameter</td><td>                </td><td>       </td><td>False      </td><td>(39, 1)    </td><td>float64</td><td>[[0.1999611...                                      </td></tr>\n",
       "<tr><td>SVGP.q_sqrt             </td><td>Parameter</td><td>FillTriangular  </td><td>       </td><td>False      </td><td>(1, 39, 39)</td><td>float64</td><td>[[[7.52103163e-01, 0.00000000e+00, 0.00000000e+00...</td></tr>\n",
       "</tbody>\n",
       "</table>"
      ],
      "text/plain": [
       "<IPython.core.display.HTML object>"
      ]
     },
     "metadata": {},
     "output_type": "display_data"
    },
    {
     "name": "stdout",
     "output_type": "stream",
     "text": [
      "Best_guess f([0.075 0.375 0.825]) = -2.858212090957512\n",
      "Beginning evaluation 17\n",
      "Maximizer:\n",
      "[[0.075 0.375 0.825]]\n",
      "Evaluation 17: Next query is [[0.075 0.375 0.825]\n",
      " [0.025 0.375 0.775]] with EI value of [0.1398924]\n",
      "Evaluation 17: Training model\n",
      "Optimizer config:  {'name': 'RMSprop', 'learning_rate': 0.001, 'decay': 0.0, 'rho': 0.0, 'momentum': 0.0, 'epsilon': 1e-07, 'centered': False}\n",
      "Indifference_threshold is fixed at 0.0\n",
      "Initialize lengthscale at [0.5 0.5 0.5]\n",
      "       signal variance at 1.0\n",
      "   Initial negative ELBO: 4858360.047877062\n",
      "Negative ELBO at step 0: 4788546.318237703 in 0.4989s\n",
      "Negative ELBO at step 500: 11255.840402197717 in 158.3251s\n",
      "Negative ELBO at step 1000: 28.96273659791494 in 161.3000s\n",
      "Negative ELBO at step 1500: 25.38628022990617 in 158.2038s\n",
      "Negative ELBO at step 2000: 23.79179694531083 in 156.2684s\n",
      "Negative ELBO at step 2500: 22.689430108575795 in 156.8886s\n"
     ]
    },
    {
     "data": {
      "text/html": [
       "<table>\n",
       "<thead>\n",
       "<tr><th>name                    </th><th>class    </th><th>transform       </th><th>prior  </th><th>trainable  </th><th>shape      </th><th>dtype  </th><th>value                                               </th></tr>\n",
       "</thead>\n",
       "<tbody>\n",
       "<tr><td>SVGP.kernel.variance    </td><td>Parameter</td><td>Softplus        </td><td>       </td><td>True       </td><td>()         </td><td>float64</td><td>1.0696118110673178                                  </td></tr>\n",
       "<tr><td>SVGP.kernel.lengthscale </td><td>Parameter</td><td>Softplus + Shift</td><td>       </td><td>True       </td><td>(3,)       </td><td>float64</td><td>[0.06061599 0.05597502 0.04437843]                  </td></tr>\n",
       "<tr><td>SVGP.likelihood.variance</td><td>Parameter</td><td>Softplus + Shift</td><td>       </td><td>True       </td><td>()         </td><td>float64</td><td>1.0                                                 </td></tr>\n",
       "<tr><td>SVGP.inducing_variable.Z</td><td>Parameter</td><td>                </td><td>       </td><td>False      </td><td>(39, 3)    </td><td>float64</td><td>[[0.525, 0.025, 0.525...                            </td></tr>\n",
       "<tr><td>SVGP.q_mu               </td><td>Parameter</td><td>                </td><td>       </td><td>False      </td><td>(39, 1)    </td><td>float64</td><td>[[0.40133589...                                     </td></tr>\n",
       "<tr><td>SVGP.q_sqrt             </td><td>Parameter</td><td>FillTriangular  </td><td>       </td><td>False      </td><td>(1, 39, 39)</td><td>float64</td><td>[[[9.67582768e-01, 0.00000000e+00, 0.00000000e+00...</td></tr>\n",
       "</tbody>\n",
       "</table>"
      ],
      "text/plain": [
       "<IPython.core.display.HTML object>"
      ]
     },
     "metadata": {},
     "output_type": "display_data"
    },
    {
     "name": "stdout",
     "output_type": "stream",
     "text": [
      "Best_guess f([0.075 0.375 0.825]) = -2.858212090957512\n",
      "Beginning evaluation 18\n",
      "Maximizer:\n",
      "[[0.075 0.375 0.825]]\n",
      "Evaluation 18: Next query is [[0.075 0.375 0.825]\n",
      " [0.425 0.575 0.525]] with EI value of [0.07397749]\n",
      "Evaluation 18: Training model\n",
      "Optimizer config:  {'name': 'RMSprop', 'learning_rate': 0.001, 'decay': 0.0, 'rho': 0.0, 'momentum': 0.0, 'epsilon': 1e-07, 'centered': False}\n",
      "Indifference_threshold is fixed at 0.0\n",
      "Initialize lengthscale at [0.5 0.5 0.5]\n",
      "       signal variance at 1.0\n",
      "   Initial negative ELBO: 4837958.746640761\n",
      "Negative ELBO at step 0: 4769717.780338498 in 0.5298s\n",
      "Negative ELBO at step 500: 11873.913658268253 in 161.0198s\n",
      "Negative ELBO at step 1000: 29.76323290122714 in 166.6741s\n",
      "Negative ELBO at step 1500: 26.619508440156018 in 164.3859s\n",
      "Negative ELBO at step 2000: 25.373291069262084 in 166.8033s\n",
      "Negative ELBO at step 2500: 23.60605287185965 in 163.8622s\n"
     ]
    },
    {
     "data": {
      "text/html": [
       "<table>\n",
       "<thead>\n",
       "<tr><th>name                    </th><th>class    </th><th>transform       </th><th>prior  </th><th>trainable  </th><th>shape      </th><th>dtype  </th><th>value                                               </th></tr>\n",
       "</thead>\n",
       "<tbody>\n",
       "<tr><td>SVGP.kernel.variance    </td><td>Parameter</td><td>Softplus        </td><td>       </td><td>True       </td><td>()         </td><td>float64</td><td>0.7955709523982174                                  </td></tr>\n",
       "<tr><td>SVGP.kernel.lengthscale </td><td>Parameter</td><td>Softplus + Shift</td><td>       </td><td>True       </td><td>(3,)       </td><td>float64</td><td>[0.0727046  0.07049636 0.05249221]                  </td></tr>\n",
       "<tr><td>SVGP.likelihood.variance</td><td>Parameter</td><td>Softplus + Shift</td><td>       </td><td>True       </td><td>()         </td><td>float64</td><td>1.0                                                 </td></tr>\n",
       "<tr><td>SVGP.inducing_variable.Z</td><td>Parameter</td><td>                </td><td>       </td><td>False      </td><td>(39, 3)    </td><td>float64</td><td>[[0.525, 0.025, 0.525...                            </td></tr>\n",
       "<tr><td>SVGP.q_mu               </td><td>Parameter</td><td>                </td><td>       </td><td>False      </td><td>(39, 1)    </td><td>float64</td><td>[[0.28989974...                                     </td></tr>\n",
       "<tr><td>SVGP.q_sqrt             </td><td>Parameter</td><td>FillTriangular  </td><td>       </td><td>False      </td><td>(1, 39, 39)</td><td>float64</td><td>[[[8.36081789e-01, 0.00000000e+00, 0.00000000e+00...</td></tr>\n",
       "</tbody>\n",
       "</table>"
      ],
      "text/plain": [
       "<IPython.core.display.HTML object>"
      ]
     },
     "metadata": {},
     "output_type": "display_data"
    },
    {
     "name": "stdout",
     "output_type": "stream",
     "text": [
      "Best_guess f([0.075 0.375 0.825]) = -2.858212090957512\n",
      "Beginning evaluation 19\n",
      "Maximizer:\n",
      "[[0.075 0.375 0.825]]\n",
      "Evaluation 19: Next query is [[0.075 0.375 0.825]\n",
      " [0.075 0.425 0.825]] with EI value of [0.17747071]\n",
      "Evaluation 19: Training model\n",
      "Optimizer config:  {'name': 'RMSprop', 'learning_rate': 0.001, 'decay': 0.0, 'rho': 0.0, 'momentum': 0.0, 'epsilon': 1e-07, 'centered': False}\n",
      "Indifference_threshold is fixed at 0.0\n",
      "Initialize lengthscale at [0.5 0.5 0.5]\n",
      "       signal variance at 1.0\n",
      "   Initial negative ELBO: 8901605.33852402\n",
      "Negative ELBO at step 0: 8762241.842113499 in 0.5188s\n",
      "Negative ELBO at step 500: 18385.2530960085 in 168.0924s\n",
      "Negative ELBO at step 1000: 32.75082609103903 in 164.3954s\n",
      "Negative ELBO at step 1500: 27.175509354930725 in 165.1050s\n",
      "Negative ELBO at step 2000: 25.424463358478604 in 164.6505s\n",
      "Negative ELBO at step 2500: 23.904941180974944 in 172.6982s\n"
     ]
    },
    {
     "data": {
      "text/html": [
       "<table>\n",
       "<thead>\n",
       "<tr><th>name                    </th><th>class    </th><th>transform       </th><th>prior  </th><th>trainable  </th><th>shape      </th><th>dtype  </th><th>value                             </th></tr>\n",
       "</thead>\n",
       "<tbody>\n",
       "<tr><td>SVGP.kernel.variance    </td><td>Parameter</td><td>Softplus        </td><td>       </td><td>True       </td><td>()         </td><td>float64</td><td>1.0841168768791856                </td></tr>\n",
       "<tr><td>SVGP.kernel.lengthscale </td><td>Parameter</td><td>Softplus + Shift</td><td>       </td><td>True       </td><td>(3,)       </td><td>float64</td><td>[0.0529025  0.13392894 0.0442917 ]</td></tr>\n",
       "<tr><td>SVGP.likelihood.variance</td><td>Parameter</td><td>Softplus + Shift</td><td>       </td><td>True       </td><td>()         </td><td>float64</td><td>1.0                               </td></tr>\n",
       "<tr><td>SVGP.inducing_variable.Z</td><td>Parameter</td><td>                </td><td>       </td><td>False      </td><td>(40, 3)    </td><td>float64</td><td>[[0.525, 0.025, 0.525...          </td></tr>\n",
       "<tr><td>SVGP.q_mu               </td><td>Parameter</td><td>                </td><td>       </td><td>False      </td><td>(40, 1)    </td><td>float64</td><td>[[0.35169678...                   </td></tr>\n",
       "<tr><td>SVGP.q_sqrt             </td><td>Parameter</td><td>FillTriangular  </td><td>       </td><td>False      </td><td>(1, 40, 40)</td><td>float64</td><td>[[[0.9676448, 0., 0....           </td></tr>\n",
       "</tbody>\n",
       "</table>"
      ],
      "text/plain": [
       "<IPython.core.display.HTML object>"
      ]
     },
     "metadata": {},
     "output_type": "display_data"
    },
    {
     "name": "stdout",
     "output_type": "stream",
     "text": [
      "Best_guess f([0.075 0.375 0.825]) = -2.858212090957512\n",
      "Beginning evaluation 20\n",
      "Maximizer:\n",
      "[[0.075 0.375 0.825]]\n",
      "Evaluation 20: Next query is [[0.075 0.375 0.825]\n",
      " [0.125 0.375 0.825]] with EI value of [0.10207459]\n",
      "Evaluation 20: Training model\n",
      "Optimizer config:  {'name': 'RMSprop', 'learning_rate': 0.001, 'decay': 0.0, 'rho': 0.0, 'momentum': 0.0, 'epsilon': 1e-07, 'centered': False}\n",
      "Indifference_threshold is fixed at 0.0\n",
      "Initialize lengthscale at [0.5 0.5 0.5]\n",
      "       signal variance at 1.0\n",
      "   Initial negative ELBO: 15037830.183398036\n",
      "Negative ELBO at step 0: 14809757.320789203 in 0.5195s\n",
      "Negative ELBO at step 500: 23650.11712647741 in 172.7714s\n",
      "Negative ELBO at step 1000: 36.298095185324236 in 171.4729s\n",
      "Negative ELBO at step 1500: 28.467617618364546 in 170.1964s\n",
      "Negative ELBO at step 2000: 27.312444297848593 in 167.6841s\n",
      "Negative ELBO at step 2500: 26.168554999066984 in 167.0389s\n"
     ]
    },
    {
     "data": {
      "text/html": [
       "<table>\n",
       "<thead>\n",
       "<tr><th>name                    </th><th>class    </th><th>transform       </th><th>prior  </th><th>trainable  </th><th>shape      </th><th>dtype  </th><th>value                             </th></tr>\n",
       "</thead>\n",
       "<tbody>\n",
       "<tr><td>SVGP.kernel.variance    </td><td>Parameter</td><td>Softplus        </td><td>       </td><td>True       </td><td>()         </td><td>float64</td><td>0.6023473829111186                </td></tr>\n",
       "<tr><td>SVGP.kernel.lengthscale </td><td>Parameter</td><td>Softplus + Shift</td><td>       </td><td>True       </td><td>(3,)       </td><td>float64</td><td>[0.10681811 0.07974778 0.10167132]</td></tr>\n",
       "<tr><td>SVGP.likelihood.variance</td><td>Parameter</td><td>Softplus + Shift</td><td>       </td><td>True       </td><td>()         </td><td>float64</td><td>1.0                               </td></tr>\n",
       "<tr><td>SVGP.inducing_variable.Z</td><td>Parameter</td><td>                </td><td>       </td><td>False      </td><td>(41, 3)    </td><td>float64</td><td>[[0.125, 0.375, 0.825...          </td></tr>\n",
       "<tr><td>SVGP.q_mu               </td><td>Parameter</td><td>                </td><td>       </td><td>False      </td><td>(41, 1)    </td><td>float64</td><td>[[8.25999699e-01...               </td></tr>\n",
       "<tr><td>SVGP.q_sqrt             </td><td>Parameter</td><td>FillTriangular  </td><td>       </td><td>False      </td><td>(1, 41, 41)</td><td>float64</td><td>[[[0.61600013, 0., 0....          </td></tr>\n",
       "</tbody>\n",
       "</table>"
      ],
      "text/plain": [
       "<IPython.core.display.HTML object>"
      ]
     },
     "metadata": {},
     "output_type": "display_data"
    },
    {
     "name": "stdout",
     "output_type": "stream",
     "text": [
      "Best_guess f([0.075 0.375 0.825]) = -2.858212090957512\n",
      "Beginning evaluation 21\n",
      "Maximizer:\n",
      "[[0.075 0.375 0.825]]\n",
      "Evaluation 21: Next query is [[0.075 0.375 0.825]\n",
      " [0.125 0.425 0.825]] with EI value of [0.16762557]\n",
      "Evaluation 21: Training model\n",
      "Optimizer config:  {'name': 'RMSprop', 'learning_rate': 0.001, 'decay': 0.0, 'rho': 0.0, 'momentum': 0.0, 'epsilon': 1e-07, 'centered': False}\n",
      "Indifference_threshold is fixed at 0.0\n",
      "Initialize lengthscale at [0.5 0.5 0.5]\n",
      "       signal variance at 1.0\n",
      "   Initial negative ELBO: 28941874.733132858\n",
      "Negative ELBO at step 0: 28484613.10807929 in 0.5470s\n",
      "Negative ELBO at step 500: 40922.295945254045 in 174.7152s\n",
      "Negative ELBO at step 1000: 58.26819699690758 in 175.7622s\n",
      "Negative ELBO at step 1500: 29.298417031947448 in 174.6974s\n",
      "Negative ELBO at step 2000: 28.061825040974675 in 174.8419s\n",
      "Negative ELBO at step 2500: 26.550651283293934 in 172.8686s\n"
     ]
    },
    {
     "data": {
      "text/html": [
       "<table>\n",
       "<thead>\n",
       "<tr><th>name                    </th><th>class    </th><th>transform       </th><th>prior  </th><th>trainable  </th><th>shape      </th><th>dtype  </th><th>value                             </th></tr>\n",
       "</thead>\n",
       "<tbody>\n",
       "<tr><td>SVGP.kernel.variance    </td><td>Parameter</td><td>Softplus        </td><td>       </td><td>True       </td><td>()         </td><td>float64</td><td>0.6661834887355264                </td></tr>\n",
       "<tr><td>SVGP.kernel.lengthscale </td><td>Parameter</td><td>Softplus + Shift</td><td>       </td><td>True       </td><td>(3,)       </td><td>float64</td><td>[0.09050705 0.09565927 0.07852902]</td></tr>\n",
       "<tr><td>SVGP.likelihood.variance</td><td>Parameter</td><td>Softplus + Shift</td><td>       </td><td>True       </td><td>()         </td><td>float64</td><td>1.0                               </td></tr>\n",
       "<tr><td>SVGP.inducing_variable.Z</td><td>Parameter</td><td>                </td><td>       </td><td>False      </td><td>(42, 3)    </td><td>float64</td><td>[[0.125, 0.375, 0.825...          </td></tr>\n",
       "<tr><td>SVGP.q_mu               </td><td>Parameter</td><td>                </td><td>       </td><td>False      </td><td>(42, 1)    </td><td>float64</td><td>[[0.93399835...                   </td></tr>\n",
       "<tr><td>SVGP.q_sqrt             </td><td>Parameter</td><td>FillTriangular  </td><td>       </td><td>False      </td><td>(1, 42, 42)</td><td>float64</td><td>[[[0.65600037, 0., 0....          </td></tr>\n",
       "</tbody>\n",
       "</table>"
      ],
      "text/plain": [
       "<IPython.core.display.HTML object>"
      ]
     },
     "metadata": {},
     "output_type": "display_data"
    },
    {
     "name": "stdout",
     "output_type": "stream",
     "text": [
      "Best_guess f([0.075 0.375 0.825]) = -2.858212090957512\n",
      "Beginning evaluation 22\n",
      "Maximizer:\n",
      "[[0.075 0.375 0.825]]\n",
      "Evaluation 22: Next query is [[0.075 0.375 0.825]\n",
      " [0.025 0.375 0.875]] with EI value of [0.17390555]\n",
      "Evaluation 22: Training model\n",
      "Optimizer config:  {'name': 'RMSprop', 'learning_rate': 0.001, 'decay': 0.0, 'rho': 0.0, 'momentum': 0.0, 'epsilon': 1e-07, 'centered': False}\n",
      "Indifference_threshold is fixed at 0.0\n",
      "Initialize lengthscale at [0.5 0.5 0.5]\n",
      "       signal variance at 1.0\n",
      "   Initial negative ELBO: 69609087.23770721\n",
      "Negative ELBO at step 0: 68434303.26915118 in 0.5427s\n",
      "Negative ELBO at step 500: 71945.42215788356 in 173.6652s\n",
      "Negative ELBO at step 1000: 81.72413091660574 in 173.2734s\n",
      "Negative ELBO at step 1500: 31.806075878116452 in 179.2837s\n",
      "Negative ELBO at step 2000: 28.844878663585256 in 177.6181s\n",
      "Negative ELBO at step 2500: 26.421928261277245 in 182.4118s\n"
     ]
    },
    {
     "data": {
      "text/html": [
       "<table>\n",
       "<thead>\n",
       "<tr><th>name                    </th><th>class    </th><th>transform       </th><th>prior  </th><th>trainable  </th><th>shape      </th><th>dtype  </th><th>value                             </th></tr>\n",
       "</thead>\n",
       "<tbody>\n",
       "<tr><td>SVGP.kernel.variance    </td><td>Parameter</td><td>Softplus        </td><td>       </td><td>True       </td><td>()         </td><td>float64</td><td>0.8748002338933536                </td></tr>\n",
       "<tr><td>SVGP.kernel.lengthscale </td><td>Parameter</td><td>Softplus + Shift</td><td>       </td><td>True       </td><td>(3,)       </td><td>float64</td><td>[0.04127746 0.13518413 0.04386061]</td></tr>\n",
       "<tr><td>SVGP.likelihood.variance</td><td>Parameter</td><td>Softplus + Shift</td><td>       </td><td>True       </td><td>()         </td><td>float64</td><td>1.0                               </td></tr>\n",
       "<tr><td>SVGP.inducing_variable.Z</td><td>Parameter</td><td>                </td><td>       </td><td>False      </td><td>(43, 3)    </td><td>float64</td><td>[[0.125, 0.375, 0.825...          </td></tr>\n",
       "<tr><td>SVGP.q_mu               </td><td>Parameter</td><td>                </td><td>       </td><td>False      </td><td>(43, 1)    </td><td>float64</td><td>[[0.63399909...                   </td></tr>\n",
       "<tr><td>SVGP.q_sqrt             </td><td>Parameter</td><td>FillTriangular  </td><td>       </td><td>False      </td><td>(1, 43, 43)</td><td>float64</td><td>[[[0.8040015, 0., 0....           </td></tr>\n",
       "</tbody>\n",
       "</table>"
      ],
      "text/plain": [
       "<IPython.core.display.HTML object>"
      ]
     },
     "metadata": {},
     "output_type": "display_data"
    },
    {
     "name": "stdout",
     "output_type": "stream",
     "text": [
      "Best_guess f([0.075 0.375 0.825]) = -2.858212090957512\n",
      "Beginning evaluation 23\n",
      "Maximizer:\n",
      "[[0.075 0.375 0.825]]\n",
      "Evaluation 23: Next query is [[0.075 0.375 0.825]\n",
      " [0.125 0.475 0.825]] with EI value of [0.08655479]\n",
      "Evaluation 23: Training model\n",
      "Optimizer config:  {'name': 'RMSprop', 'learning_rate': 0.001, 'decay': 0.0, 'rho': 0.0, 'momentum': 0.0, 'epsilon': 1e-07, 'centered': False}\n",
      "Indifference_threshold is fixed at 0.0\n",
      "Initialize lengthscale at [0.5 0.5 0.5]\n",
      "       signal variance at 1.0\n",
      "   Initial negative ELBO: 91331391.27615403\n",
      "Negative ELBO at step 0: 89785732.96974483 in 0.5594s\n",
      "Negative ELBO at step 500: 84039.49109023016 in 181.5513s\n",
      "Negative ELBO at step 1000: 102.62688267790072 in 181.2853s\n",
      "Negative ELBO at step 1500: 32.90229026274341 in 182.4342s\n",
      "Negative ELBO at step 2000: 29.142885188214432 in 180.1440s\n",
      "Negative ELBO at step 2500: 27.289713249778423 in 181.9681s\n"
     ]
    },
    {
     "data": {
      "text/html": [
       "<table>\n",
       "<thead>\n",
       "<tr><th>name                    </th><th>class    </th><th>transform       </th><th>prior  </th><th>trainable  </th><th>shape      </th><th>dtype  </th><th>value                             </th></tr>\n",
       "</thead>\n",
       "<tbody>\n",
       "<tr><td>SVGP.kernel.variance    </td><td>Parameter</td><td>Softplus        </td><td>       </td><td>True       </td><td>()         </td><td>float64</td><td>0.9477286187437215                </td></tr>\n",
       "<tr><td>SVGP.kernel.lengthscale </td><td>Parameter</td><td>Softplus + Shift</td><td>       </td><td>True       </td><td>(3,)       </td><td>float64</td><td>[0.06192297 0.15805236 0.05554078]</td></tr>\n",
       "<tr><td>SVGP.likelihood.variance</td><td>Parameter</td><td>Softplus + Shift</td><td>       </td><td>True       </td><td>()         </td><td>float64</td><td>1.0                               </td></tr>\n",
       "<tr><td>SVGP.inducing_variable.Z</td><td>Parameter</td><td>                </td><td>       </td><td>False      </td><td>(44, 3)    </td><td>float64</td><td>[[0.125, 0.375, 0.825...          </td></tr>\n",
       "<tr><td>SVGP.q_mu               </td><td>Parameter</td><td>                </td><td>       </td><td>False      </td><td>(44, 1)    </td><td>float64</td><td>[[1.08199679...                   </td></tr>\n",
       "<tr><td>SVGP.q_sqrt             </td><td>Parameter</td><td>FillTriangular  </td><td>       </td><td>False      </td><td>(1, 44, 44)</td><td>float64</td><td>[[[0.78400085, 0., 0....          </td></tr>\n",
       "</tbody>\n",
       "</table>"
      ],
      "text/plain": [
       "<IPython.core.display.HTML object>"
      ]
     },
     "metadata": {},
     "output_type": "display_data"
    },
    {
     "name": "stdout",
     "output_type": "stream",
     "text": [
      "Best_guess f([0.075 0.425 0.825]) = -3.275605788567894\n",
      "Beginning evaluation 24\n",
      "Maximizer:\n",
      "[[0.075 0.425 0.825]]\n",
      "Evaluation 24: Next query is [[0.075 0.425 0.825]\n",
      " [0.075 0.575 0.825]] with EI value of [0.15969738]\n",
      "Evaluation 24: Training model\n",
      "Optimizer config:  {'name': 'RMSprop', 'learning_rate': 0.001, 'decay': 0.0, 'rho': 0.0, 'momentum': 0.0, 'epsilon': 1e-07, 'centered': False}\n",
      "Indifference_threshold is fixed at 0.0\n",
      "Initialize lengthscale at [0.5 0.5 0.5]\n",
      "       signal variance at 1.0\n",
      "   Initial negative ELBO: 106812504.35388969\n",
      "Negative ELBO at step 0: 105012989.683901 in 0.5856s\n",
      "Negative ELBO at step 500: 96913.64715355408 in 189.8018s\n",
      "Negative ELBO at step 1000: 89.68630286069809 in 187.3284s\n",
      "Negative ELBO at step 1500: 33.38104526623299 in 187.8536s\n",
      "Negative ELBO at step 2000: 29.715336206463228 in 187.2139s\n",
      "Negative ELBO at step 2500: 27.678780616554054 in 186.2697s\n"
     ]
    },
    {
     "data": {
      "text/html": [
       "<table>\n",
       "<thead>\n",
       "<tr><th>name                    </th><th>class    </th><th>transform       </th><th>prior  </th><th>trainable  </th><th>shape      </th><th>dtype  </th><th>value                                               </th></tr>\n",
       "</thead>\n",
       "<tbody>\n",
       "<tr><td>SVGP.kernel.variance    </td><td>Parameter</td><td>Softplus        </td><td>       </td><td>True       </td><td>()         </td><td>float64</td><td>0.9222194441220362                                  </td></tr>\n",
       "<tr><td>SVGP.kernel.lengthscale </td><td>Parameter</td><td>Softplus + Shift</td><td>       </td><td>True       </td><td>(3,)       </td><td>float64</td><td>[0.04275815 0.0991859  0.06588424]                  </td></tr>\n",
       "<tr><td>SVGP.likelihood.variance</td><td>Parameter</td><td>Softplus + Shift</td><td>       </td><td>True       </td><td>()         </td><td>float64</td><td>1.0                                                 </td></tr>\n",
       "<tr><td>SVGP.inducing_variable.Z</td><td>Parameter</td><td>                </td><td>       </td><td>False      </td><td>(45, 3)    </td><td>float64</td><td>[[0.125, 0.375, 0.825...                            </td></tr>\n",
       "<tr><td>SVGP.q_mu               </td><td>Parameter</td><td>                </td><td>       </td><td>False      </td><td>(45, 1)    </td><td>float64</td><td>[[0.82800464...                                     </td></tr>\n",
       "<tr><td>SVGP.q_sqrt             </td><td>Parameter</td><td>FillTriangular  </td><td>       </td><td>False      </td><td>(1, 45, 45)</td><td>float64</td><td>[[[8.07999112e-01, 0.00000000e+00, 0.00000000e+00...</td></tr>\n",
       "</tbody>\n",
       "</table>"
      ],
      "text/plain": [
       "<IPython.core.display.HTML object>"
      ]
     },
     "metadata": {},
     "output_type": "display_data"
    },
    {
     "name": "stdout",
     "output_type": "stream",
     "text": [
      "Best_guess f([0.075 0.425 0.825]) = -3.275605788567894\n",
      "Beginning evaluation 25\n",
      "Maximizer:\n",
      "[[0.075 0.425 0.825]]\n",
      "Evaluation 25: Next query is [[0.075 0.425 0.825]\n",
      " [0.125 0.375 0.825]] with EI value of [0.08705388]\n",
      "Evaluation 25: Training model\n",
      "Optimizer config:  {'name': 'RMSprop', 'learning_rate': 0.001, 'decay': 0.0, 'rho': 0.0, 'momentum': 0.0, 'epsilon': 1e-07, 'centered': False}\n",
      "Indifference_threshold is fixed at 0.0\n",
      "Initialize lengthscale at [0.5 0.5 0.5]\n",
      "       signal variance at 1.0\n",
      "   Initial negative ELBO: 105332838.75365704\n",
      "Negative ELBO at step 0: 103497833.58036236 in 0.5893s\n",
      "Negative ELBO at step 500: 95012.43887462601 in 195.5998s\n",
      "Negative ELBO at step 1000: 98.72296948105955 in 192.0769s\n",
      "Negative ELBO at step 1500: 34.3712173395521 in 194.2427s\n",
      "Negative ELBO at step 2000: 31.296447377561524 in 190.9517s\n",
      "Negative ELBO at step 2500: 29.089344228307137 in 193.0378s\n"
     ]
    },
    {
     "data": {
      "text/html": [
       "<table>\n",
       "<thead>\n",
       "<tr><th>name                    </th><th>class    </th><th>transform       </th><th>prior  </th><th>trainable  </th><th>shape      </th><th>dtype  </th><th>value                             </th></tr>\n",
       "</thead>\n",
       "<tbody>\n",
       "<tr><td>SVGP.kernel.variance    </td><td>Parameter</td><td>Softplus        </td><td>       </td><td>True       </td><td>()         </td><td>float64</td><td>0.9126112468023676                </td></tr>\n",
       "<tr><td>SVGP.kernel.lengthscale </td><td>Parameter</td><td>Softplus + Shift</td><td>       </td><td>True       </td><td>(3,)       </td><td>float64</td><td>[0.07159336 0.11199977 0.0707689 ]</td></tr>\n",
       "<tr><td>SVGP.likelihood.variance</td><td>Parameter</td><td>Softplus + Shift</td><td>       </td><td>True       </td><td>()         </td><td>float64</td><td>1.0                               </td></tr>\n",
       "<tr><td>SVGP.inducing_variable.Z</td><td>Parameter</td><td>                </td><td>       </td><td>False      </td><td>(45, 3)    </td><td>float64</td><td>[[0.125, 0.375, 0.825...          </td></tr>\n",
       "<tr><td>SVGP.q_mu               </td><td>Parameter</td><td>                </td><td>       </td><td>False      </td><td>(45, 1)    </td><td>float64</td><td>[[1.23199821...                   </td></tr>\n",
       "<tr><td>SVGP.q_sqrt             </td><td>Parameter</td><td>FillTriangular  </td><td>       </td><td>False      </td><td>(1, 45, 45)</td><td>float64</td><td>[[[0.73199921, 0., 0....          </td></tr>\n",
       "</tbody>\n",
       "</table>"
      ],
      "text/plain": [
       "<IPython.core.display.HTML object>"
      ]
     },
     "metadata": {},
     "output_type": "display_data"
    },
    {
     "name": "stdout",
     "output_type": "stream",
     "text": [
      "Best_guess f([0.075 0.375 0.825]) = -2.858212090957512\n",
      "Beginning evaluation 26\n",
      "Maximizer:\n",
      "[[0.075 0.375 0.825]]\n",
      "Evaluation 26: Next query is [[0.075 0.375 0.825]\n",
      " [0.075 0.425 0.825]] with EI value of [0.2869198]\n",
      "Evaluation 26: Training model\n",
      "Optimizer config:  {'name': 'RMSprop', 'learning_rate': 0.001, 'decay': 0.0, 'rho': 0.0, 'momentum': 0.0, 'epsilon': 1e-07, 'centered': False}\n",
      "Indifference_threshold is fixed at 0.0\n",
      "Initialize lengthscale at [0.5 0.5 0.5]\n",
      "       signal variance at 1.0\n",
      "   Initial negative ELBO: 102392185.55982652\n",
      "Negative ELBO at step 0: 100648306.89276986 in 0.6230s\n",
      "Negative ELBO at step 500: 94771.65389561857 in 197.6234s\n",
      "Negative ELBO at step 1000: 91.16287628888357 in 197.7119s\n",
      "Negative ELBO at step 1500: 35.039022327838246 in 197.9663s\n",
      "Negative ELBO at step 2000: 31.396110363182355 in 195.5507s\n",
      "Negative ELBO at step 2500: 29.2782028868126 in 196.9603s\n"
     ]
    },
    {
     "data": {
      "text/html": [
       "<table>\n",
       "<thead>\n",
       "<tr><th>name                    </th><th>class    </th><th>transform       </th><th>prior  </th><th>trainable  </th><th>shape      </th><th>dtype  </th><th>value                                               </th></tr>\n",
       "</thead>\n",
       "<tbody>\n",
       "<tr><td>SVGP.kernel.variance    </td><td>Parameter</td><td>Softplus        </td><td>       </td><td>True       </td><td>()         </td><td>float64</td><td>0.9282536759029191                                  </td></tr>\n",
       "<tr><td>SVGP.kernel.lengthscale </td><td>Parameter</td><td>Softplus + Shift</td><td>       </td><td>True       </td><td>(3,)       </td><td>float64</td><td>[0.07117992 0.11052363 0.05729512]                  </td></tr>\n",
       "<tr><td>SVGP.likelihood.variance</td><td>Parameter</td><td>Softplus + Shift</td><td>       </td><td>True       </td><td>()         </td><td>float64</td><td>1.0                                                 </td></tr>\n",
       "<tr><td>SVGP.inducing_variable.Z</td><td>Parameter</td><td>                </td><td>       </td><td>False      </td><td>(45, 3)    </td><td>float64</td><td>[[0.125, 0.375, 0.825...                            </td></tr>\n",
       "<tr><td>SVGP.q_mu               </td><td>Parameter</td><td>                </td><td>       </td><td>False      </td><td>(45, 1)    </td><td>float64</td><td>[[1.28199901...                                     </td></tr>\n",
       "<tr><td>SVGP.q_sqrt             </td><td>Parameter</td><td>FillTriangular  </td><td>       </td><td>False      </td><td>(1, 45, 45)</td><td>float64</td><td>[[[7.45999153e-01, 0.00000000e+00, 0.00000000e+00...</td></tr>\n",
       "</tbody>\n",
       "</table>"
      ],
      "text/plain": [
       "<IPython.core.display.HTML object>"
      ]
     },
     "metadata": {},
     "output_type": "display_data"
    },
    {
     "name": "stdout",
     "output_type": "stream",
     "text": [
      "Best_guess f([0.075 0.425 0.825]) = -3.275605788567894\n",
      "Beginning evaluation 27\n",
      "Maximizer:\n",
      "[[0.075 0.425 0.825]]\n",
      "Evaluation 27: Next query is [[0.075 0.425 0.825]\n",
      " [0.125 0.425 0.775]] with EI value of [0.12221432]\n",
      "Evaluation 27: Training model\n",
      "Optimizer config:  {'name': 'RMSprop', 'learning_rate': 0.001, 'decay': 0.0, 'rho': 0.0, 'momentum': 0.0, 'epsilon': 1e-07, 'centered': False}\n",
      "Indifference_threshold is fixed at 0.0\n",
      "Initialize lengthscale at [0.5 0.5 0.5]\n",
      "       signal variance at 1.0\n",
      "   Initial negative ELBO: 100305528.01285733\n",
      "Negative ELBO at step 0: 98635555.14699338 in 0.6098s\n",
      "Negative ELBO at step 500: 96906.36527759081 in 201.4851s\n",
      "Negative ELBO at step 1000: 103.98376016835412 in 201.1920s\n",
      "Negative ELBO at step 1500: 35.66019888343149 in 198.8724s\n",
      "Negative ELBO at step 2000: 32.244672976405376 in 200.3822s\n",
      "Negative ELBO at step 2500: 30.308709210182148 in 205.5756s\n"
     ]
    },
    {
     "data": {
      "text/html": [
       "<table>\n",
       "<thead>\n",
       "<tr><th>name                    </th><th>class    </th><th>transform       </th><th>prior  </th><th>trainable  </th><th>shape      </th><th>dtype  </th><th>value                             </th></tr>\n",
       "</thead>\n",
       "<tbody>\n",
       "<tr><td>SVGP.kernel.variance    </td><td>Parameter</td><td>Softplus        </td><td>       </td><td>True       </td><td>()         </td><td>float64</td><td>0.9150072867325331                </td></tr>\n",
       "<tr><td>SVGP.kernel.lengthscale </td><td>Parameter</td><td>Softplus + Shift</td><td>       </td><td>True       </td><td>(3,)       </td><td>float64</td><td>[0.07777928 0.10804026 0.08145197]</td></tr>\n",
       "<tr><td>SVGP.likelihood.variance</td><td>Parameter</td><td>Softplus + Shift</td><td>       </td><td>True       </td><td>()         </td><td>float64</td><td>1.0                               </td></tr>\n",
       "<tr><td>SVGP.inducing_variable.Z</td><td>Parameter</td><td>                </td><td>       </td><td>False      </td><td>(45, 3)    </td><td>float64</td><td>[[0.125, 0.375, 0.825...          </td></tr>\n",
       "<tr><td>SVGP.q_mu               </td><td>Parameter</td><td>                </td><td>       </td><td>False      </td><td>(45, 1)    </td><td>float64</td><td>[[1.25799775...                   </td></tr>\n",
       "<tr><td>SVGP.q_sqrt             </td><td>Parameter</td><td>FillTriangular  </td><td>       </td><td>False      </td><td>(1, 45, 45)</td><td>float64</td><td>[[[0.70800006, 0., 0....          </td></tr>\n",
       "</tbody>\n",
       "</table>"
      ],
      "text/plain": [
       "<IPython.core.display.HTML object>"
      ]
     },
     "metadata": {},
     "output_type": "display_data"
    },
    {
     "name": "stdout",
     "output_type": "stream",
     "text": [
      "Best_guess f([0.125 0.425 0.825]) = -3.2778528553206603\n",
      "Beginning evaluation 28\n",
      "Maximizer:\n",
      "[[0.125 0.425 0.825]]\n",
      "Evaluation 28: Next query is [[0.125 0.425 0.825]\n",
      " [0.125 0.375 0.825]] with EI value of [0.23793567]\n",
      "Evaluation 28: Training model\n",
      "Optimizer config:  {'name': 'RMSprop', 'learning_rate': 0.001, 'decay': 0.0, 'rho': 0.0, 'momentum': 0.0, 'epsilon': 1e-07, 'centered': False}\n",
      "Indifference_threshold is fixed at 0.0\n",
      "Initialize lengthscale at [0.5 0.5 0.5]\n",
      "       signal variance at 1.0\n",
      "   Initial negative ELBO: 101962884.74738881\n",
      "Negative ELBO at step 0: 100234049.313113 in 0.6305s\n",
      "Negative ELBO at step 500: 94921.63719905994 in 204.5540s\n",
      "Negative ELBO at step 1000: 93.87334016818868 in 208.7927s\n",
      "Negative ELBO at step 1500: 36.31915893991322 in 204.7520s\n",
      "Negative ELBO at step 2000: 33.74627975027653 in 204.0916s\n",
      "Negative ELBO at step 2500: 31.415504032369636 in 209.1327s\n"
     ]
    },
    {
     "data": {
      "text/html": [
       "<table>\n",
       "<thead>\n",
       "<tr><th>name                    </th><th>class    </th><th>transform       </th><th>prior  </th><th>trainable  </th><th>shape      </th><th>dtype  </th><th>value                             </th></tr>\n",
       "</thead>\n",
       "<tbody>\n",
       "<tr><td>SVGP.kernel.variance    </td><td>Parameter</td><td>Softplus        </td><td>       </td><td>True       </td><td>()         </td><td>float64</td><td>0.9030654722692701                </td></tr>\n",
       "<tr><td>SVGP.kernel.lengthscale </td><td>Parameter</td><td>Softplus + Shift</td><td>       </td><td>True       </td><td>(3,)       </td><td>float64</td><td>[0.07883276 0.11675244 0.07928954]</td></tr>\n",
       "<tr><td>SVGP.likelihood.variance</td><td>Parameter</td><td>Softplus + Shift</td><td>       </td><td>True       </td><td>()         </td><td>float64</td><td>1.0                               </td></tr>\n",
       "<tr><td>SVGP.inducing_variable.Z</td><td>Parameter</td><td>                </td><td>       </td><td>False      </td><td>(45, 3)    </td><td>float64</td><td>[[0.125, 0.375, 0.825...          </td></tr>\n",
       "<tr><td>SVGP.q_mu               </td><td>Parameter</td><td>                </td><td>       </td><td>False      </td><td>(45, 1)    </td><td>float64</td><td>[[1.19199764...                   </td></tr>\n",
       "<tr><td>SVGP.q_sqrt             </td><td>Parameter</td><td>FillTriangular  </td><td>       </td><td>False      </td><td>(1, 45, 45)</td><td>float64</td><td>[[[0.64399848, 0., 0....          </td></tr>\n",
       "</tbody>\n",
       "</table>"
      ],
      "text/plain": [
       "<IPython.core.display.HTML object>"
      ]
     },
     "metadata": {},
     "output_type": "display_data"
    },
    {
     "name": "stdout",
     "output_type": "stream",
     "text": [
      "Best_guess f([0.075 0.375 0.825]) = -2.858212090957512\n",
      "Beginning evaluation 29\n",
      "Maximizer:\n",
      "[[0.075 0.375 0.825]]\n",
      "Evaluation 29: Next query is [[0.075 0.375 0.825]\n",
      " [0.125 0.425 0.775]] with EI value of [0.20057841]\n",
      "Evaluation 29: Training model\n",
      "Optimizer config:  {'name': 'RMSprop', 'learning_rate': 0.001, 'decay': 0.0, 'rho': 0.0, 'momentum': 0.0, 'epsilon': 1e-07, 'centered': False}\n",
      "Indifference_threshold is fixed at 0.0\n",
      "Initialize lengthscale at [0.5 0.5 0.5]\n",
      "       signal variance at 1.0\n",
      "   Initial negative ELBO: 103648173.61756915\n",
      "Negative ELBO at step 0: 101830758.37918946 in 0.6503s\n",
      "Negative ELBO at step 500: 94683.11094440384 in 213.3613s\n",
      "Negative ELBO at step 1000: 96.59856682703436 in 209.7688s\n",
      "Negative ELBO at step 1500: 37.16690147001073 in 209.2279s\n",
      "Negative ELBO at step 2000: 33.56642174341694 in 205.9939s\n",
      "Negative ELBO at step 2500: 31.749596179665236 in 209.6881s\n"
     ]
    },
    {
     "data": {
      "text/html": [
       "<table>\n",
       "<thead>\n",
       "<tr><th>name                    </th><th>class    </th><th>transform       </th><th>prior  </th><th>trainable  </th><th>shape      </th><th>dtype  </th><th>value                             </th></tr>\n",
       "</thead>\n",
       "<tbody>\n",
       "<tr><td>SVGP.kernel.variance    </td><td>Parameter</td><td>Softplus        </td><td>       </td><td>True       </td><td>()         </td><td>float64</td><td>0.899501894145642                 </td></tr>\n",
       "<tr><td>SVGP.kernel.lengthscale </td><td>Parameter</td><td>Softplus + Shift</td><td>       </td><td>True       </td><td>(3,)       </td><td>float64</td><td>[0.08020929 0.11115408 0.08545427]</td></tr>\n",
       "<tr><td>SVGP.likelihood.variance</td><td>Parameter</td><td>Softplus + Shift</td><td>       </td><td>True       </td><td>()         </td><td>float64</td><td>1.0                               </td></tr>\n",
       "<tr><td>SVGP.inducing_variable.Z</td><td>Parameter</td><td>                </td><td>       </td><td>False      </td><td>(45, 3)    </td><td>float64</td><td>[[0.125, 0.375, 0.825...          </td></tr>\n",
       "<tr><td>SVGP.q_mu               </td><td>Parameter</td><td>                </td><td>       </td><td>False      </td><td>(45, 1)    </td><td>float64</td><td>[[1.28999845...                   </td></tr>\n",
       "<tr><td>SVGP.q_sqrt             </td><td>Parameter</td><td>FillTriangular  </td><td>       </td><td>False      </td><td>(1, 45, 45)</td><td>float64</td><td>[[[0.67599903, 0., 0....          </td></tr>\n",
       "</tbody>\n",
       "</table>"
      ],
      "text/plain": [
       "<IPython.core.display.HTML object>"
      ]
     },
     "metadata": {},
     "output_type": "display_data"
    },
    {
     "name": "stdout",
     "output_type": "stream",
     "text": [
      "Best_guess f([0.125 0.425 0.775]) = -2.94908943192877\n",
      "Beginning evaluation 30\n",
      "Maximizer:\n",
      "[[0.125 0.425 0.775]]\n",
      "Evaluation 30: Next query is [[0.125 0.425 0.775]\n",
      " [0.125 0.475 0.825]] with EI value of [0.19807375]\n",
      "Evaluation 30: Training model\n",
      "Optimizer config:  {'name': 'RMSprop', 'learning_rate': 0.001, 'decay': 0.0, 'rho': 0.0, 'momentum': 0.0, 'epsilon': 1e-07, 'centered': False}\n",
      "Indifference_threshold is fixed at 0.0\n",
      "Initialize lengthscale at [0.5 0.5 0.5]\n",
      "       signal variance at 1.0\n",
      "   Initial negative ELBO: 106124354.69119748\n",
      "Negative ELBO at step 0: 104410272.6430202 in 0.6351s\n",
      "Negative ELBO at step 500: 96310.2426595024 in 215.3496s\n",
      "Negative ELBO at step 1000: 101.60958079463677 in 219.1923s\n",
      "Negative ELBO at step 1500: 38.03206245801872 in 219.6912s\n",
      "Negative ELBO at step 2000: 34.50001620938046 in 214.8016s\n",
      "Negative ELBO at step 2500: 32.36209631901274 in 214.4788s\n"
     ]
    },
    {
     "data": {
      "text/html": [
       "<table>\n",
       "<thead>\n",
       "<tr><th>name                    </th><th>class    </th><th>transform       </th><th>prior  </th><th>trainable  </th><th>shape      </th><th>dtype  </th><th>value                                               </th></tr>\n",
       "</thead>\n",
       "<tbody>\n",
       "<tr><td>SVGP.kernel.variance    </td><td>Parameter</td><td>Softplus        </td><td>       </td><td>True       </td><td>()         </td><td>float64</td><td>0.8971310025027945                                  </td></tr>\n",
       "<tr><td>SVGP.kernel.lengthscale </td><td>Parameter</td><td>Softplus + Shift</td><td>       </td><td>True       </td><td>(3,)       </td><td>float64</td><td>[0.0839919  0.09994451 0.07688558]                  </td></tr>\n",
       "<tr><td>SVGP.likelihood.variance</td><td>Parameter</td><td>Softplus + Shift</td><td>       </td><td>True       </td><td>()         </td><td>float64</td><td>1.0                                                 </td></tr>\n",
       "<tr><td>SVGP.inducing_variable.Z</td><td>Parameter</td><td>                </td><td>       </td><td>False      </td><td>(45, 3)    </td><td>float64</td><td>[[0.125, 0.375, 0.825...                            </td></tr>\n",
       "<tr><td>SVGP.q_mu               </td><td>Parameter</td><td>                </td><td>       </td><td>False      </td><td>(45, 1)    </td><td>float64</td><td>[[1.31200002...                                     </td></tr>\n",
       "<tr><td>SVGP.q_sqrt             </td><td>Parameter</td><td>FillTriangular  </td><td>       </td><td>False      </td><td>(1, 45, 45)</td><td>float64</td><td>[[[6.93998388e-01, 0.00000000e+00, 0.00000000e+00...</td></tr>\n",
       "</tbody>\n",
       "</table>"
      ],
      "text/plain": [
       "<IPython.core.display.HTML object>"
      ]
     },
     "metadata": {},
     "output_type": "display_data"
    },
    {
     "name": "stdout",
     "output_type": "stream",
     "text": [
      "Best_guess f([0.125 0.425 0.775]) = -2.94908943192877\n",
      "Beginning evaluation 31\n",
      "Maximizer:\n",
      "[[0.125 0.425 0.775]]\n",
      "Evaluation 31: Next query is [[0.125 0.425 0.775]\n",
      " [0.175 0.375 0.775]] with EI value of [0.16424348]\n",
      "Evaluation 31: Training model\n",
      "Optimizer config:  {'name': 'RMSprop', 'learning_rate': 0.001, 'decay': 0.0, 'rho': 0.0, 'momentum': 0.0, 'epsilon': 1e-07, 'centered': False}\n",
      "Indifference_threshold is fixed at 0.0\n",
      "Initialize lengthscale at [0.5 0.5 0.5]\n",
      "       signal variance at 1.0\n",
      "   Initial negative ELBO: 135659523.18426645\n",
      "Negative ELBO at step 0: 133422665.72121428 in 0.6635s\n",
      "Negative ELBO at step 500: 122936.01524568451 in 217.2738s\n",
      "Negative ELBO at step 1000: 114.52836723778246 in 218.8077s\n",
      "Negative ELBO at step 1500: 38.789317780636104 in 218.4662s\n",
      "Negative ELBO at step 2000: 35.66166780378873 in 223.3539s\n",
      "Negative ELBO at step 2500: 33.54900966593348 in 221.9784s\n"
     ]
    },
    {
     "data": {
      "text/html": [
       "<table>\n",
       "<thead>\n",
       "<tr><th>name                    </th><th>class    </th><th>transform       </th><th>prior  </th><th>trainable  </th><th>shape      </th><th>dtype  </th><th>value                                               </th></tr>\n",
       "</thead>\n",
       "<tbody>\n",
       "<tr><td>SVGP.kernel.variance    </td><td>Parameter</td><td>Softplus        </td><td>       </td><td>True       </td><td>()         </td><td>float64</td><td>0.8865092137401629                                  </td></tr>\n",
       "<tr><td>SVGP.kernel.lengthscale </td><td>Parameter</td><td>Softplus + Shift</td><td>       </td><td>True       </td><td>(3,)       </td><td>float64</td><td>[0.08319013 0.1052085  0.08496435]                  </td></tr>\n",
       "<tr><td>SVGP.likelihood.variance</td><td>Parameter</td><td>Softplus + Shift</td><td>       </td><td>True       </td><td>()         </td><td>float64</td><td>1.0                                                 </td></tr>\n",
       "<tr><td>SVGP.inducing_variable.Z</td><td>Parameter</td><td>                </td><td>       </td><td>False      </td><td>(46, 3)    </td><td>float64</td><td>[[0.125, 0.375, 0.825...                            </td></tr>\n",
       "<tr><td>SVGP.q_mu               </td><td>Parameter</td><td>                </td><td>       </td><td>False      </td><td>(46, 1)    </td><td>float64</td><td>[[1.21399968...                                     </td></tr>\n",
       "<tr><td>SVGP.q_sqrt             </td><td>Parameter</td><td>FillTriangular  </td><td>       </td><td>False      </td><td>(1, 46, 46)</td><td>float64</td><td>[[[6.23999533e-01, 0.00000000e+00, 0.00000000e+00...</td></tr>\n",
       "</tbody>\n",
       "</table>"
      ],
      "text/plain": [
       "<IPython.core.display.HTML object>"
      ]
     },
     "metadata": {},
     "output_type": "display_data"
    },
    {
     "name": "stdout",
     "output_type": "stream",
     "text": [
      "Best_guess f([0.125 0.375 0.775]) = -2.59756808862683\n",
      "Beginning evaluation 32\n",
      "Maximizer:\n",
      "[[0.125 0.425 0.775]]\n",
      "Evaluation 32: Next query is [[0.125 0.425 0.775]\n",
      " [0.175 0.425 0.725]] with EI value of [0.15619933]\n",
      "Evaluation 32: Training model\n",
      "Optimizer config:  {'name': 'RMSprop', 'learning_rate': 0.001, 'decay': 0.0, 'rho': 0.0, 'momentum': 0.0, 'epsilon': 1e-07, 'centered': False}\n",
      "Indifference_threshold is fixed at 0.0\n",
      "Initialize lengthscale at [0.5 0.5 0.5]\n",
      "       signal variance at 1.0\n",
      "   Initial negative ELBO: 322570479.1565406\n",
      "Negative ELBO at step 0: 316697035.2775846 in 0.6689s\n",
      "Negative ELBO at step 500: 255335.1000797508 in 223.1188s\n",
      "Negative ELBO at step 1000: 133.21314580786213 in 219.5528s\n",
      "Negative ELBO at step 1500: 39.96865832444928 in 219.6047s\n",
      "Negative ELBO at step 2000: 37.896378791606146 in 223.6592s\n",
      "Negative ELBO at step 2500: 36.39613370535578 in 224.5133s\n"
     ]
    },
    {
     "data": {
      "text/html": [
       "<table>\n",
       "<thead>\n",
       "<tr><th>name                    </th><th>class    </th><th>transform       </th><th>prior  </th><th>trainable  </th><th>shape      </th><th>dtype  </th><th>value                             </th></tr>\n",
       "</thead>\n",
       "<tbody>\n",
       "<tr><td>SVGP.kernel.variance    </td><td>Parameter</td><td>Softplus        </td><td>       </td><td>True       </td><td>()         </td><td>float64</td><td>0.8747996793795443                </td></tr>\n",
       "<tr><td>SVGP.kernel.lengthscale </td><td>Parameter</td><td>Softplus + Shift</td><td>       </td><td>True       </td><td>(3,)       </td><td>float64</td><td>[0.08777727 0.10401612 0.09511419]</td></tr>\n",
       "<tr><td>SVGP.likelihood.variance</td><td>Parameter</td><td>Softplus + Shift</td><td>       </td><td>True       </td><td>()         </td><td>float64</td><td>1.0                               </td></tr>\n",
       "<tr><td>SVGP.inducing_variable.Z</td><td>Parameter</td><td>                </td><td>       </td><td>False      </td><td>(47, 3)    </td><td>float64</td><td>[[0.125, 0.375, 0.825...          </td></tr>\n",
       "<tr><td>SVGP.q_mu               </td><td>Parameter</td><td>                </td><td>       </td><td>False      </td><td>(47, 1)    </td><td>float64</td><td>[[0.66599961...                   </td></tr>\n",
       "<tr><td>SVGP.q_sqrt             </td><td>Parameter</td><td>FillTriangular  </td><td>       </td><td>False      </td><td>(1, 47, 47)</td><td>float64</td><td>[[[0.51599947, 0., 0....          </td></tr>\n",
       "</tbody>\n",
       "</table>"
      ],
      "text/plain": [
       "<IPython.core.display.HTML object>"
      ]
     },
     "metadata": {},
     "output_type": "display_data"
    },
    {
     "name": "stdout",
     "output_type": "stream",
     "text": [
      "Best_guess f([0.125 0.375 0.775]) = -2.59756808862683\n",
      "Beginning evaluation 33\n",
      "Maximizer:\n",
      "[[0.175 0.375 0.775]]\n",
      "Evaluation 33: Next query is [[0.175 0.375 0.775]\n",
      " [0.175 0.375 0.725]] with EI value of [0.25234383]\n",
      "Evaluation 33: Training model\n",
      "Optimizer config:  {'name': 'RMSprop', 'learning_rate': 0.001, 'decay': 0.0, 'rho': 0.0, 'momentum': 0.0, 'epsilon': 1e-07, 'centered': False}\n",
      "Indifference_threshold is fixed at 0.0\n",
      "Initialize lengthscale at [0.5 0.5 0.5]\n",
      "       signal variance at 1.0\n",
      "   Initial negative ELBO: 634458211.3578532\n",
      "Negative ELBO at step 0: 621909767.8763787 in 0.7047s\n",
      "Negative ELBO at step 500: 430030.64777170634 in 229.3930s\n",
      "Negative ELBO at step 1000: 140.2766533288592 in 230.6687s\n",
      "Negative ELBO at step 1500: 41.08171971221702 in 229.3202s\n",
      "Negative ELBO at step 2000: 37.23515678992577 in 229.5793s\n",
      "Negative ELBO at step 2500: 35.230154091780534 in 227.6370s\n"
     ]
    },
    {
     "data": {
      "text/html": [
       "<table>\n",
       "<thead>\n",
       "<tr><th>name                    </th><th>class    </th><th>transform       </th><th>prior  </th><th>trainable  </th><th>shape      </th><th>dtype  </th><th>value                             </th></tr>\n",
       "</thead>\n",
       "<tbody>\n",
       "<tr><td>SVGP.kernel.variance    </td><td>Parameter</td><td>Softplus        </td><td>       </td><td>True       </td><td>()         </td><td>float64</td><td>0.9078307144020829                </td></tr>\n",
       "<tr><td>SVGP.kernel.lengthscale </td><td>Parameter</td><td>Softplus + Shift</td><td>       </td><td>True       </td><td>(3,)       </td><td>float64</td><td>[0.08879119 0.10147842 0.08644233]</td></tr>\n",
       "<tr><td>SVGP.likelihood.variance</td><td>Parameter</td><td>Softplus + Shift</td><td>       </td><td>True       </td><td>()         </td><td>float64</td><td>1.0                               </td></tr>\n",
       "<tr><td>SVGP.inducing_variable.Z</td><td>Parameter</td><td>                </td><td>       </td><td>False      </td><td>(48, 3)    </td><td>float64</td><td>[[0.125, 0.375, 0.825...          </td></tr>\n",
       "<tr><td>SVGP.q_mu               </td><td>Parameter</td><td>                </td><td>       </td><td>False      </td><td>(48, 1)    </td><td>float64</td><td>[[1.15199342e+00...               </td></tr>\n",
       "<tr><td>SVGP.q_sqrt             </td><td>Parameter</td><td>FillTriangular  </td><td>       </td><td>False      </td><td>(1, 48, 48)</td><td>float64</td><td>[[[0.57399997, 0., 0....          </td></tr>\n",
       "</tbody>\n",
       "</table>"
      ],
      "text/plain": [
       "<IPython.core.display.HTML object>"
      ]
     },
     "metadata": {},
     "output_type": "display_data"
    },
    {
     "name": "stdout",
     "output_type": "stream",
     "text": [
      "Best_guess f([0.125 0.375 0.775]) = -2.59756808862683\n",
      "Beginning evaluation 34\n",
      "Maximizer:\n",
      "[[0.175 0.375 0.775]]\n",
      "Evaluation 34: Next query is [[0.175 0.375 0.775]\n",
      " [0.125 0.375 0.825]] with EI value of [0.22013302]\n",
      "Evaluation 34: Training model\n",
      "Optimizer config:  {'name': 'RMSprop', 'learning_rate': 0.001, 'decay': 0.0, 'rho': 0.0, 'momentum': 0.0, 'epsilon': 1e-07, 'centered': False}\n",
      "Indifference_threshold is fixed at 0.0\n",
      "Initialize lengthscale at [0.5 0.5 0.5]\n",
      "       signal variance at 1.0\n",
      "   Initial negative ELBO: 625900838.5730393\n",
      "Negative ELBO at step 0: 613262274.0497879 in 0.6977s\n",
      "Negative ELBO at step 500: 414671.96995933505 in 230.5222s\n",
      "Negative ELBO at step 1000: 156.29107849550968 in 233.1937s\n",
      "Negative ELBO at step 1500: 41.9765826917576 in 232.9339s\n",
      "Negative ELBO at step 2000: 38.937889762989236 in 235.3727s\n",
      "Negative ELBO at step 2500: 37.37106879468906 in 237.3059s\n"
     ]
    },
    {
     "data": {
      "text/html": [
       "<table>\n",
       "<thead>\n",
       "<tr><th>name                    </th><th>class    </th><th>transform       </th><th>prior  </th><th>trainable  </th><th>shape      </th><th>dtype  </th><th>value                                               </th></tr>\n",
       "</thead>\n",
       "<tbody>\n",
       "<tr><td>SVGP.kernel.variance    </td><td>Parameter</td><td>Softplus        </td><td>       </td><td>True       </td><td>()         </td><td>float64</td><td>0.9126112359619992                                  </td></tr>\n",
       "<tr><td>SVGP.kernel.lengthscale </td><td>Parameter</td><td>Softplus + Shift</td><td>       </td><td>True       </td><td>(3,)       </td><td>float64</td><td>[0.0958428  0.10763087 0.072288  ]                  </td></tr>\n",
       "<tr><td>SVGP.likelihood.variance</td><td>Parameter</td><td>Softplus + Shift</td><td>       </td><td>True       </td><td>()         </td><td>float64</td><td>1.0                                                 </td></tr>\n",
       "<tr><td>SVGP.inducing_variable.Z</td><td>Parameter</td><td>                </td><td>       </td><td>False      </td><td>(48, 3)    </td><td>float64</td><td>[[0.125, 0.375, 0.825...                            </td></tr>\n",
       "<tr><td>SVGP.q_mu               </td><td>Parameter</td><td>                </td><td>       </td><td>False      </td><td>(48, 1)    </td><td>float64</td><td>[[0.76000085...                                     </td></tr>\n",
       "<tr><td>SVGP.q_sqrt             </td><td>Parameter</td><td>FillTriangular  </td><td>       </td><td>False      </td><td>(1, 48, 48)</td><td>float64</td><td>[[[5.28000012e-01, 0.00000000e+00, 0.00000000e+00...</td></tr>\n",
       "</tbody>\n",
       "</table>"
      ],
      "text/plain": [
       "<IPython.core.display.HTML object>"
      ]
     },
     "metadata": {},
     "output_type": "display_data"
    },
    {
     "name": "stdout",
     "output_type": "stream",
     "text": [
      "Best_guess f([0.175 0.375 0.775]) = -2.5988175845193395\n",
      "Beginning evaluation 35\n",
      "Maximizer:\n",
      "[[0.175 0.375 0.775]]\n",
      "Evaluation 35: Next query is [[0.175 0.375 0.775]\n",
      " [0.175 0.325 0.825]] with EI value of [0.17462058]\n",
      "Evaluation 35: Training model\n",
      "Optimizer config:  {'name': 'RMSprop', 'learning_rate': 0.001, 'decay': 0.0, 'rho': 0.0, 'momentum': 0.0, 'epsilon': 1e-07, 'centered': False}\n",
      "Indifference_threshold is fixed at 0.0\n",
      "Initialize lengthscale at [0.5 0.5 0.5]\n",
      "       signal variance at 1.0\n",
      "   Initial negative ELBO: 765788612.6358783\n",
      "Negative ELBO at step 0: 751564966.3792908 in 0.7088s\n",
      "Negative ELBO at step 500: 566066.4713552207 in 239.6171s\n",
      "Negative ELBO at step 1000: 170.64295861060862 in 238.6574s\n",
      "Negative ELBO at step 1500: 43.02786889965219 in 239.5772s\n",
      "Negative ELBO at step 2000: 39.511268710279886 in 238.0187s\n",
      "Negative ELBO at step 2500: 37.67081465451897 in 237.8022s\n"
     ]
    },
    {
     "data": {
      "text/html": [
       "<table>\n",
       "<thead>\n",
       "<tr><th>name                    </th><th>class    </th><th>transform       </th><th>prior  </th><th>trainable  </th><th>shape      </th><th>dtype  </th><th>value                             </th></tr>\n",
       "</thead>\n",
       "<tbody>\n",
       "<tr><td>SVGP.kernel.variance    </td><td>Parameter</td><td>Softplus        </td><td>       </td><td>True       </td><td>()         </td><td>float64</td><td>0.9090242772923606                </td></tr>\n",
       "<tr><td>SVGP.kernel.lengthscale </td><td>Parameter</td><td>Softplus + Shift</td><td>       </td><td>True       </td><td>(3,)       </td><td>float64</td><td>[0.08545425 0.10969067 0.08896123]</td></tr>\n",
       "<tr><td>SVGP.likelihood.variance</td><td>Parameter</td><td>Softplus + Shift</td><td>       </td><td>True       </td><td>()         </td><td>float64</td><td>1.0                               </td></tr>\n",
       "<tr><td>SVGP.inducing_variable.Z</td><td>Parameter</td><td>                </td><td>       </td><td>False      </td><td>(49, 3)    </td><td>float64</td><td>[[0.125, 0.375, 0.825...          </td></tr>\n",
       "<tr><td>SVGP.q_mu               </td><td>Parameter</td><td>                </td><td>       </td><td>False      </td><td>(49, 1)    </td><td>float64</td><td>[[0.74600022...                   </td></tr>\n",
       "<tr><td>SVGP.q_sqrt             </td><td>Parameter</td><td>FillTriangular  </td><td>       </td><td>False      </td><td>(1, 49, 49)</td><td>float64</td><td>[[[0.52398557, 0., 0....          </td></tr>\n",
       "</tbody>\n",
       "</table>"
      ],
      "text/plain": [
       "<IPython.core.display.HTML object>"
      ]
     },
     "metadata": {},
     "output_type": "display_data"
    },
    {
     "name": "stdout",
     "output_type": "stream",
     "text": [
      "Best_guess f([0.175 0.375 0.775]) = -2.5988175845193395\n",
      "Beginning evaluation 36\n",
      "Maximizer:\n",
      "[[0.175 0.375 0.775]]\n",
      "Evaluation 36: Next query is [[0.175 0.375 0.775]\n",
      " [0.225 0.425 0.775]] with EI value of [0.18206355]\n",
      "Evaluation 36: Training model\n",
      "Optimizer config:  {'name': 'RMSprop', 'learning_rate': 0.001, 'decay': 0.0, 'rho': 0.0, 'momentum': 0.0, 'epsilon': 1e-07, 'centered': False}\n",
      "Indifference_threshold is fixed at 0.0\n",
      "Initialize lengthscale at [0.5 0.5 0.5]\n",
      "       signal variance at 1.0\n",
      "   Initial negative ELBO: 804797352.1167055\n",
      "Negative ELBO at step 0: 789751812.4148676 in 0.7865s\n",
      "Negative ELBO at step 500: 612973.9590534853 in 244.5473s\n",
      "Negative ELBO at step 1000: 194.89514316116276 in 242.8010s\n",
      "Negative ELBO at step 1500: 43.89188734725696 in 244.5652s\n",
      "Negative ELBO at step 2000: 40.70630255875637 in 238.6490s\n",
      "Negative ELBO at step 2500: 39.56678004692913 in 243.8797s\n"
     ]
    },
    {
     "data": {
      "text/html": [
       "<table>\n",
       "<thead>\n",
       "<tr><th>name                    </th><th>class    </th><th>transform       </th><th>prior  </th><th>trainable  </th><th>shape      </th><th>dtype  </th><th>value                             </th></tr>\n",
       "</thead>\n",
       "<tbody>\n",
       "<tr><td>SVGP.kernel.variance    </td><td>Parameter</td><td>Softplus        </td><td>       </td><td>True       </td><td>()         </td><td>float64</td><td>0.9367439418251265                </td></tr>\n",
       "<tr><td>SVGP.kernel.lengthscale </td><td>Parameter</td><td>Softplus + Shift</td><td>       </td><td>True       </td><td>(3,)       </td><td>float64</td><td>[0.10303322 0.10500834 0.09511401]</td></tr>\n",
       "<tr><td>SVGP.likelihood.variance</td><td>Parameter</td><td>Softplus + Shift</td><td>       </td><td>True       </td><td>()         </td><td>float64</td><td>1.0                               </td></tr>\n",
       "<tr><td>SVGP.inducing_variable.Z</td><td>Parameter</td><td>                </td><td>       </td><td>False      </td><td>(50, 3)    </td><td>float64</td><td>[[0.125, 0.375, 0.825...          </td></tr>\n",
       "<tr><td>SVGP.q_mu               </td><td>Parameter</td><td>                </td><td>       </td><td>False      </td><td>(50, 1)    </td><td>float64</td><td>[[0.42400106...                   </td></tr>\n",
       "<tr><td>SVGP.q_sqrt             </td><td>Parameter</td><td>FillTriangular  </td><td>       </td><td>False      </td><td>(1, 50, 50)</td><td>float64</td><td>[[[0.51599992, 0., 0....          </td></tr>\n",
       "</tbody>\n",
       "</table>"
      ],
      "text/plain": [
       "<IPython.core.display.HTML object>"
      ]
     },
     "metadata": {},
     "output_type": "display_data"
    },
    {
     "name": "stdout",
     "output_type": "stream",
     "text": [
      "Best_guess f([0.175 0.375 0.775]) = -2.5988175845193395\n",
      "Beginning evaluation 37\n",
      "Maximizer:\n",
      "[[0.175 0.375 0.775]]\n",
      "Evaluation 37: Next query is [[0.175 0.375 0.775]\n",
      " [0.225 0.375 0.775]] with EI value of [0.30451022]\n",
      "Evaluation 37: Training model\n",
      "Optimizer config:  {'name': 'RMSprop', 'learning_rate': 0.001, 'decay': 0.0, 'rho': 0.0, 'momentum': 0.0, 'epsilon': 1e-07, 'centered': False}\n",
      "Indifference_threshold is fixed at 0.0\n",
      "Initialize lengthscale at [0.5 0.5 0.5]\n",
      "       signal variance at 1.0\n",
      "   Initial negative ELBO: 1282857681.1143184\n",
      "Negative ELBO at step 0: 1258871624.985364 in 0.7648s\n",
      "Negative ELBO at step 500: 889967.8539762424 in 247.1233s\n",
      "Negative ELBO at step 1000: 292.07448962629036 in 248.3234s\n",
      "Negative ELBO at step 1500: 46.82944754850969 in 248.6417s\n",
      "Negative ELBO at step 2000: 41.92234749549259 in 248.3861s\n",
      "Negative ELBO at step 2500: 40.6519891326691 in 247.1113s\n"
     ]
    },
    {
     "data": {
      "text/html": [
       "<table>\n",
       "<thead>\n",
       "<tr><th>name                    </th><th>class    </th><th>transform       </th><th>prior  </th><th>trainable  </th><th>shape      </th><th>dtype  </th><th>value                                               </th></tr>\n",
       "</thead>\n",
       "<tbody>\n",
       "<tr><td>SVGP.kernel.variance    </td><td>Parameter</td><td>Softplus        </td><td>       </td><td>True       </td><td>()         </td><td>float64</td><td>1.0037970160196186                                  </td></tr>\n",
       "<tr><td>SVGP.kernel.lengthscale </td><td>Parameter</td><td>Softplus + Shift</td><td>       </td><td>True       </td><td>(3,)       </td><td>float64</td><td>[0.09566    0.10621181 0.08367057]                  </td></tr>\n",
       "<tr><td>SVGP.likelihood.variance</td><td>Parameter</td><td>Softplus + Shift</td><td>       </td><td>True       </td><td>()         </td><td>float64</td><td>1.0                                                 </td></tr>\n",
       "<tr><td>SVGP.inducing_variable.Z</td><td>Parameter</td><td>                </td><td>       </td><td>False      </td><td>(51, 3)    </td><td>float64</td><td>[[0.125, 0.375, 0.825...                            </td></tr>\n",
       "<tr><td>SVGP.q_mu               </td><td>Parameter</td><td>                </td><td>       </td><td>False      </td><td>(51, 1)    </td><td>float64</td><td>[[0.54400014...                                     </td></tr>\n",
       "<tr><td>SVGP.q_sqrt             </td><td>Parameter</td><td>FillTriangular  </td><td>       </td><td>False      </td><td>(1, 51, 51)</td><td>float64</td><td>[[[5.43999794e-01, 0.00000000e+00, 0.00000000e+00...</td></tr>\n",
       "</tbody>\n",
       "</table>"
      ],
      "text/plain": [
       "<IPython.core.display.HTML object>"
      ]
     },
     "metadata": {},
     "output_type": "display_data"
    },
    {
     "name": "stdout",
     "output_type": "stream",
     "text": [
      "Best_guess f([0.175 0.375 0.775]) = -2.5988175845193395\n",
      "Beginning evaluation 38\n",
      "Maximizer:\n",
      "[[0.175 0.375 0.775]]\n",
      "Evaluation 38: Next query is [[0.175 0.375 0.775]\n",
      " [0.975 0.075 0.425]] with EI value of [0.28829304]\n",
      "Evaluation 38: Training model\n",
      "Optimizer config:  {'name': 'RMSprop', 'learning_rate': 0.001, 'decay': 0.0, 'rho': 0.0, 'momentum': 0.0, 'epsilon': 1e-07, 'centered': False}\n",
      "Indifference_threshold is fixed at 0.0\n",
      "Initialize lengthscale at [0.5 0.5 0.5]\n",
      "       signal variance at 1.0\n",
      "   Initial negative ELBO: 1327051057.4421525\n",
      "Negative ELBO at step 0: 1302575503.4789593 in 0.7641s\n",
      "Negative ELBO at step 500: 926717.7416967737 in 251.5059s\n",
      "Negative ELBO at step 1000: 289.5856052944406 in 255.3375s\n",
      "Negative ELBO at step 1500: 47.46043977750511 in 251.0453s\n",
      "Negative ELBO at step 2000: 42.3237917512596 in 253.2095s\n",
      "Negative ELBO at step 2500: 40.85199738027308 in 253.3994s\n"
     ]
    },
    {
     "data": {
      "text/html": [
       "<table>\n",
       "<thead>\n",
       "<tr><th>name                    </th><th>class    </th><th>transform       </th><th>prior  </th><th>trainable  </th><th>shape      </th><th>dtype  </th><th>value                             </th></tr>\n",
       "</thead>\n",
       "<tbody>\n",
       "<tr><td>SVGP.kernel.variance    </td><td>Parameter</td><td>Softplus        </td><td>       </td><td>True       </td><td>()         </td><td>float64</td><td>0.987404289316482                 </td></tr>\n",
       "<tr><td>SVGP.kernel.lengthscale </td><td>Parameter</td><td>Softplus + Shift</td><td>       </td><td>True       </td><td>(3,)       </td><td>float64</td><td>[0.09207638 0.10906915 0.08303042]</td></tr>\n",
       "<tr><td>SVGP.likelihood.variance</td><td>Parameter</td><td>Softplus + Shift</td><td>       </td><td>True       </td><td>()         </td><td>float64</td><td>1.0                               </td></tr>\n",
       "<tr><td>SVGP.inducing_variable.Z</td><td>Parameter</td><td>                </td><td>       </td><td>False      </td><td>(52, 3)    </td><td>float64</td><td>[[0.125, 0.375, 0.825...          </td></tr>\n",
       "<tr><td>SVGP.q_mu               </td><td>Parameter</td><td>                </td><td>       </td><td>False      </td><td>(52, 1)    </td><td>float64</td><td>[[0.76400092...                   </td></tr>\n",
       "<tr><td>SVGP.q_sqrt             </td><td>Parameter</td><td>FillTriangular  </td><td>       </td><td>False      </td><td>(1, 52, 52)</td><td>float64</td><td>[[[0.53599968, 0., 0....          </td></tr>\n",
       "</tbody>\n",
       "</table>"
      ],
      "text/plain": [
       "<IPython.core.display.HTML object>"
      ]
     },
     "metadata": {},
     "output_type": "display_data"
    },
    {
     "name": "stdout",
     "output_type": "stream",
     "text": [
      "Best_guess f([0.175 0.375 0.775]) = -2.5988175845193395\n",
      "Beginning evaluation 39\n",
      "Maximizer:\n",
      "[[0.175 0.375 0.775]]\n",
      "Evaluation 39: Next query is [[0.175 0.375 0.775]\n",
      " [0.225 0.325 0.825]] with EI value of [0.17674276]\n",
      "Evaluation 39: Training model\n",
      "Optimizer config:  {'name': 'RMSprop', 'learning_rate': 0.001, 'decay': 0.0, 'rho': 0.0, 'momentum': 0.0, 'epsilon': 1e-07, 'centered': False}\n",
      "Indifference_threshold is fixed at 0.0\n",
      "Initialize lengthscale at [0.5 0.5 0.5]\n",
      "       signal variance at 1.0\n",
      "   Initial negative ELBO: 1710713526.1657774\n",
      "Negative ELBO at step 0: 1679096839.3272357 in 0.7840s\n",
      "Negative ELBO at step 500: 956343.4664522194 in 253.6659s\n",
      "Negative ELBO at step 1000: 369.09572668935976 in 258.6692s\n",
      "Negative ELBO at step 1500: 49.37268554409414 in 256.2896s\n",
      "Negative ELBO at step 2000: 43.24022690248333 in 259.5247s\n",
      "Negative ELBO at step 2500: 41.41324100243974 in 253.0627s\n"
     ]
    },
    {
     "data": {
      "text/html": [
       "<table>\n",
       "<thead>\n",
       "<tr><th>name                    </th><th>class    </th><th>transform       </th><th>prior  </th><th>trainable  </th><th>shape      </th><th>dtype  </th><th>value                                               </th></tr>\n",
       "</thead>\n",
       "<tbody>\n",
       "<tr><td>SVGP.kernel.variance    </td><td>Parameter</td><td>Softplus        </td><td>       </td><td>True       </td><td>()         </td><td>float64</td><td>1.013962982562657                                   </td></tr>\n",
       "<tr><td>SVGP.kernel.lengthscale </td><td>Parameter</td><td>Softplus + Shift</td><td>       </td><td>True       </td><td>(3,)       </td><td>float64</td><td>[0.09313803 0.10600978 0.07944199]                  </td></tr>\n",
       "<tr><td>SVGP.likelihood.variance</td><td>Parameter</td><td>Softplus + Shift</td><td>       </td><td>True       </td><td>()         </td><td>float64</td><td>1.0                                                 </td></tr>\n",
       "<tr><td>SVGP.inducing_variable.Z</td><td>Parameter</td><td>                </td><td>       </td><td>False      </td><td>(53, 3)    </td><td>float64</td><td>[[0.125, 0.375, 0.825...                            </td></tr>\n",
       "<tr><td>SVGP.q_mu               </td><td>Parameter</td><td>                </td><td>       </td><td>False      </td><td>(53, 1)    </td><td>float64</td><td>[[0.50799902...                                     </td></tr>\n",
       "<tr><td>SVGP.q_sqrt             </td><td>Parameter</td><td>FillTriangular  </td><td>       </td><td>False      </td><td>(1, 53, 53)</td><td>float64</td><td>[[[4.95999793e-01, 0.00000000e+00, 0.00000000e+00...</td></tr>\n",
       "</tbody>\n",
       "</table>"
      ],
      "text/plain": [
       "<IPython.core.display.HTML object>"
      ]
     },
     "metadata": {},
     "output_type": "display_data"
    },
    {
     "name": "stdout",
     "output_type": "stream",
     "text": [
      "Best_guess f([0.175 0.375 0.775]) = -2.5988175845193395\n",
      "Beginning evaluation 40\n",
      "Maximizer:\n",
      "[[0.175 0.375 0.775]]\n",
      "Evaluation 40: Next query is [[0.175 0.375 0.775]\n",
      " [0.225 0.275 0.825]] with EI value of [0.25645739]\n",
      "Evaluation 40: Training model\n",
      "Optimizer config:  {'name': 'RMSprop', 'learning_rate': 0.001, 'decay': 0.0, 'rho': 0.0, 'momentum': 0.0, 'epsilon': 1e-07, 'centered': False}\n",
      "Indifference_threshold is fixed at 0.0\n",
      "Initialize lengthscale at [0.5 0.5 0.5]\n",
      "       signal variance at 1.0\n",
      "   Initial negative ELBO: 2954397961.018936\n",
      "Negative ELBO at step 0: 2901530763.632588 in 0.7933s\n",
      "Negative ELBO at step 500: 1284360.9298061132 in 263.6852s\n",
      "Negative ELBO at step 1000: 351.94152898171114 in 259.7342s\n",
      "Negative ELBO at step 1500: 50.087324533871595 in 258.3205s\n",
      "Negative ELBO at step 2000: 44.71890372075671 in 258.6347s\n",
      "Negative ELBO at step 2500: 43.35630144405978 in 259.8542s\n"
     ]
    },
    {
     "data": {
      "text/html": [
       "<table>\n",
       "<thead>\n",
       "<tr><th>name                    </th><th>class    </th><th>transform       </th><th>prior  </th><th>trainable  </th><th>shape      </th><th>dtype  </th><th>value                             </th></tr>\n",
       "</thead>\n",
       "<tbody>\n",
       "<tr><td>SVGP.kernel.variance    </td><td>Parameter</td><td>Softplus        </td><td>       </td><td>True       </td><td>()         </td><td>float64</td><td>1.0000001492312687                </td></tr>\n",
       "<tr><td>SVGP.kernel.lengthscale </td><td>Parameter</td><td>Softplus + Shift</td><td>       </td><td>True       </td><td>(3,)       </td><td>float64</td><td>[0.09880987 0.10927623 0.08828317]</td></tr>\n",
       "<tr><td>SVGP.likelihood.variance</td><td>Parameter</td><td>Softplus + Shift</td><td>       </td><td>True       </td><td>()         </td><td>float64</td><td>1.0                               </td></tr>\n",
       "<tr><td>SVGP.inducing_variable.Z</td><td>Parameter</td><td>                </td><td>       </td><td>False      </td><td>(54, 3)    </td><td>float64</td><td>[[0.125, 0.375, 0.825...          </td></tr>\n",
       "<tr><td>SVGP.q_mu               </td><td>Parameter</td><td>                </td><td>       </td><td>False      </td><td>(54, 1)    </td><td>float64</td><td>[[0.10200015...                   </td></tr>\n",
       "<tr><td>SVGP.q_sqrt             </td><td>Parameter</td><td>FillTriangular  </td><td>       </td><td>False      </td><td>(1, 54, 54)</td><td>float64</td><td>[[[0.48399879, 0., 0....          </td></tr>\n",
       "</tbody>\n",
       "</table>"
      ],
      "text/plain": [
       "<IPython.core.display.HTML object>"
      ]
     },
     "metadata": {},
     "output_type": "display_data"
    },
    {
     "name": "stdout",
     "output_type": "stream",
     "text": [
      "Best_guess f([0.425 0.525 0.525]) = -0.9031031048789849\n",
      "Beginning evaluation 41\n",
      "Maximizer:\n",
      "[[0.425 0.475 0.525]]\n",
      "Evaluation 41: Next query is [[0.425 0.475 0.525]\n",
      " [0.575 0.375 0.975]] with EI value of [0.38394697]\n",
      "Evaluation 41: Training model\n",
      "Optimizer config:  {'name': 'RMSprop', 'learning_rate': 0.001, 'decay': 0.0, 'rho': 0.0, 'momentum': 0.0, 'epsilon': 1e-07, 'centered': False}\n",
      "Indifference_threshold is fixed at 0.0\n",
      "Initialize lengthscale at [0.5 0.5 0.5]\n",
      "       signal variance at 1.0\n",
      "   Initial negative ELBO: 2795404330.3746614\n",
      "Negative ELBO at step 0: 2745358155.1354156 in 0.7941s\n",
      "Negative ELBO at step 500: 1269571.6279944847 in 260.4330s\n",
      "Negative ELBO at step 1000: 373.9904379083246 in 260.3272s\n",
      "Negative ELBO at step 1500: 50.873503149485614 in 264.6193s\n",
      "Negative ELBO at step 2000: 44.91128347614103 in 264.7204s\n",
      "Negative ELBO at step 2500: 43.80503049567567 in 267.1103s\n"
     ]
    },
    {
     "data": {
      "text/html": [
       "<table>\n",
       "<thead>\n",
       "<tr><th>name                    </th><th>class    </th><th>transform       </th><th>prior  </th><th>trainable  </th><th>shape      </th><th>dtype  </th><th>value                                               </th></tr>\n",
       "</thead>\n",
       "<tbody>\n",
       "<tr><td>SVGP.kernel.variance    </td><td>Parameter</td><td>Softplus        </td><td>       </td><td>True       </td><td>()         </td><td>float64</td><td>1.013962938845238                                   </td></tr>\n",
       "<tr><td>SVGP.kernel.lengthscale </td><td>Parameter</td><td>Softplus + Shift</td><td>       </td><td>True       </td><td>(3,)       </td><td>float64</td><td>[0.09713017 0.10742612 0.08913107]                  </td></tr>\n",
       "<tr><td>SVGP.likelihood.variance</td><td>Parameter</td><td>Softplus + Shift</td><td>       </td><td>True       </td><td>()         </td><td>float64</td><td>1.0                                                 </td></tr>\n",
       "<tr><td>SVGP.inducing_variable.Z</td><td>Parameter</td><td>                </td><td>       </td><td>False      </td><td>(54, 3)    </td><td>float64</td><td>[[0.125, 0.375, 0.825...                            </td></tr>\n",
       "<tr><td>SVGP.q_mu               </td><td>Parameter</td><td>                </td><td>       </td><td>False      </td><td>(54, 1)    </td><td>float64</td><td>[[2.88000036e-01...                                 </td></tr>\n",
       "<tr><td>SVGP.q_sqrt             </td><td>Parameter</td><td>FillTriangular  </td><td>       </td><td>False      </td><td>(1, 54, 54)</td><td>float64</td><td>[[[5.09999793e-01, 0.00000000e+00, 0.00000000e+00...</td></tr>\n",
       "</tbody>\n",
       "</table>"
      ],
      "text/plain": [
       "<IPython.core.display.HTML object>"
      ]
     },
     "metadata": {},
     "output_type": "display_data"
    },
    {
     "name": "stdout",
     "output_type": "stream",
     "text": [
      "Best_guess f([0.575 0.375 0.975]) = -1.7393220295665879\n",
      "Beginning evaluation 42\n",
      "Maximizer:\n",
      "[[0.575 0.375 0.975]]\n",
      "Evaluation 42: Next query is [[0.575 0.375 0.975]\n",
      " [0.575 0.325 0.975]] with EI value of [0.34078145]\n",
      "Evaluation 42: Training model\n",
      "Optimizer config:  {'name': 'RMSprop', 'learning_rate': 0.001, 'decay': 0.0, 'rho': 0.0, 'momentum': 0.0, 'epsilon': 1e-07, 'centered': False}\n",
      "Indifference_threshold is fixed at 0.0\n",
      "Initialize lengthscale at [0.5 0.5 0.5]\n",
      "       signal variance at 1.0\n",
      "   Initial negative ELBO: 2945955648.554697\n",
      "Negative ELBO at step 0: 2893302406.2219667 in 0.8326s\n",
      "Negative ELBO at step 500: 1274882.2110425094 in 269.6749s\n",
      "Negative ELBO at step 1000: 386.3989420807095 in 269.4227s\n",
      "Negative ELBO at step 1500: 51.461796557514795 in 265.3979s\n",
      "Negative ELBO at step 2000: 45.55888541819674 in 270.3019s\n",
      "Negative ELBO at step 2500: 44.55055860460282 in 266.5372s\n"
     ]
    },
    {
     "data": {
      "text/html": [
       "<table>\n",
       "<thead>\n",
       "<tr><th>name                    </th><th>class    </th><th>transform       </th><th>prior  </th><th>trainable  </th><th>shape      </th><th>dtype  </th><th>value                                               </th></tr>\n",
       "</thead>\n",
       "<tbody>\n",
       "<tr><td>SVGP.kernel.variance    </td><td>Parameter</td><td>Softplus        </td><td>       </td><td>True       </td><td>()         </td><td>float64</td><td>0.9924313930811219                                  </td></tr>\n",
       "<tr><td>SVGP.kernel.lengthscale </td><td>Parameter</td><td>Softplus + Shift</td><td>       </td><td>True       </td><td>(3,)       </td><td>float64</td><td>[0.09565994 0.11199982 0.07718279]                  </td></tr>\n",
       "<tr><td>SVGP.likelihood.variance</td><td>Parameter</td><td>Softplus + Shift</td><td>       </td><td>True       </td><td>()         </td><td>float64</td><td>1.0                                                 </td></tr>\n",
       "<tr><td>SVGP.inducing_variable.Z</td><td>Parameter</td><td>                </td><td>       </td><td>False      </td><td>(55, 3)    </td><td>float64</td><td>[[0.125, 0.375, 0.825...                            </td></tr>\n",
       "<tr><td>SVGP.q_mu               </td><td>Parameter</td><td>                </td><td>       </td><td>False      </td><td>(55, 1)    </td><td>float64</td><td>[[0.25600027...                                     </td></tr>\n",
       "<tr><td>SVGP.q_sqrt             </td><td>Parameter</td><td>FillTriangular  </td><td>       </td><td>False      </td><td>(1, 55, 55)</td><td>float64</td><td>[[[4.73999845e-01, 0.00000000e+00, 0.00000000e+00...</td></tr>\n",
       "</tbody>\n",
       "</table>"
      ],
      "text/plain": [
       "<IPython.core.display.HTML object>"
      ]
     },
     "metadata": {},
     "output_type": "display_data"
    },
    {
     "name": "stdout",
     "output_type": "stream",
     "text": [
      "Best_guess f([0.575 0.425 0.975]) = -2.0426139177031644\n",
      "Beginning evaluation 43\n",
      "Maximizer:\n",
      "[[0.575 0.375 0.975]]\n",
      "Evaluation 43: Next query is [[0.575 0.375 0.975]\n",
      " [0.625 0.425 0.975]] with EI value of [0.34631065]\n",
      "Evaluation 43: Training model\n",
      "Optimizer config:  {'name': 'RMSprop', 'learning_rate': 0.001, 'decay': 0.0, 'rho': 0.0, 'momentum': 0.0, 'epsilon': 1e-07, 'centered': False}\n",
      "Indifference_threshold is fixed at 0.0\n",
      "Initialize lengthscale at [0.5 0.5 0.5]\n",
      "       signal variance at 1.0\n",
      "   Initial negative ELBO: 3089806214.349043\n",
      "Negative ELBO at step 0: 3033107979.793833 in 0.8210s\n",
      "Negative ELBO at step 500: 1321089.720878668 in 275.4454s\n",
      "Negative ELBO at step 1000: 416.35746928754816 in 275.7449s\n",
      "Negative ELBO at step 1500: 52.717034118838924 in 275.8236s\n",
      "Negative ELBO at step 2000: 45.80393004622508 in 277.5583s\n",
      "Negative ELBO at step 2500: 44.41853594988946 in 276.7427s\n"
     ]
    },
    {
     "data": {
      "text/html": [
       "<table>\n",
       "<thead>\n",
       "<tr><th>name                    </th><th>class    </th><th>transform       </th><th>prior  </th><th>trainable  </th><th>shape      </th><th>dtype  </th><th>value                             </th></tr>\n",
       "</thead>\n",
       "<tbody>\n",
       "<tr><td>SVGP.kernel.variance    </td><td>Parameter</td><td>Softplus        </td><td>       </td><td>True       </td><td>()         </td><td>float64</td><td>1.0101437443237027                </td></tr>\n",
       "<tr><td>SVGP.kernel.lengthscale </td><td>Parameter</td><td>Softplus + Shift</td><td>       </td><td>True       </td><td>(3,)       </td><td>float64</td><td>[0.0951137  0.10684091 0.07974837]</td></tr>\n",
       "<tr><td>SVGP.likelihood.variance</td><td>Parameter</td><td>Softplus + Shift</td><td>       </td><td>True       </td><td>()         </td><td>float64</td><td>1.0                               </td></tr>\n",
       "<tr><td>SVGP.inducing_variable.Z</td><td>Parameter</td><td>                </td><td>       </td><td>False      </td><td>(56, 3)    </td><td>float64</td><td>[[0.125, 0.375, 0.825...          </td></tr>\n",
       "<tr><td>SVGP.q_mu               </td><td>Parameter</td><td>                </td><td>       </td><td>False      </td><td>(56, 1)    </td><td>float64</td><td>[[0.71400482...                   </td></tr>\n",
       "<tr><td>SVGP.q_sqrt             </td><td>Parameter</td><td>FillTriangular  </td><td>       </td><td>False      </td><td>(1, 56, 56)</td><td>float64</td><td>[[[0.49999975, 0., 0....          </td></tr>\n",
       "</tbody>\n",
       "</table>"
      ],
      "text/plain": [
       "<IPython.core.display.HTML object>"
      ]
     },
     "metadata": {},
     "output_type": "display_data"
    },
    {
     "name": "stdout",
     "output_type": "stream",
     "text": [
      "Best_guess f([0.175 0.375 0.775]) = -2.5988175845193395\n",
      "Beginning evaluation 44\n",
      "Maximizer:\n",
      "[[0.175 0.375 0.775]]\n",
      "Evaluation 44: Next query is [[0.175 0.375 0.775]\n",
      " [0.575 0.475 0.975]] with EI value of [0.28877475]\n",
      "Evaluation 44: Training model\n",
      "Optimizer config:  {'name': 'RMSprop', 'learning_rate': 0.001, 'decay': 0.0, 'rho': 0.0, 'momentum': 0.0, 'epsilon': 1e-07, 'centered': False}\n",
      "Indifference_threshold is fixed at 0.0\n",
      "Initialize lengthscale at [0.5 0.5 0.5]\n",
      "       signal variance at 1.0\n",
      "   Initial negative ELBO: 3495276814.022471\n",
      "Negative ELBO at step 0: 3432216436.8216777 in 0.8455s\n",
      "Negative ELBO at step 500: 1371566.900017546 in 278.5808s\n",
      "Negative ELBO at step 1000: 405.48229698206035 in 279.7042s\n",
      "Negative ELBO at step 1500: 53.183296915596614 in 278.4830s\n",
      "Negative ELBO at step 2000: 47.21736171210082 in 280.6521s\n",
      "Negative ELBO at step 2500: 45.61334316570552 in 280.4864s\n"
     ]
    },
    {
     "data": {
      "text/html": [
       "<table>\n",
       "<thead>\n",
       "<tr><th>name                    </th><th>class    </th><th>transform       </th><th>prior  </th><th>trainable  </th><th>shape      </th><th>dtype  </th><th>value                             </th></tr>\n",
       "</thead>\n",
       "<tbody>\n",
       "<tr><td>SVGP.kernel.variance    </td><td>Parameter</td><td>Softplus        </td><td>       </td><td>True       </td><td>()         </td><td>float64</td><td>0.9886596355643263                </td></tr>\n",
       "<tr><td>SVGP.kernel.lengthscale </td><td>Parameter</td><td>Softplus + Shift</td><td>       </td><td>True       </td><td>(3,)       </td><td>float64</td><td>[0.09768742 0.10362278 0.07929017]</td></tr>\n",
       "<tr><td>SVGP.likelihood.variance</td><td>Parameter</td><td>Softplus + Shift</td><td>       </td><td>True       </td><td>()         </td><td>float64</td><td>1.0                               </td></tr>\n",
       "<tr><td>SVGP.inducing_variable.Z</td><td>Parameter</td><td>                </td><td>       </td><td>False      </td><td>(57, 3)    </td><td>float64</td><td>[[0.125, 0.375, 0.825...          </td></tr>\n",
       "<tr><td>SVGP.q_mu               </td><td>Parameter</td><td>                </td><td>       </td><td>False      </td><td>(57, 1)    </td><td>float64</td><td>[[0.46400017...                   </td></tr>\n",
       "<tr><td>SVGP.q_sqrt             </td><td>Parameter</td><td>FillTriangular  </td><td>       </td><td>False      </td><td>(1, 57, 57)</td><td>float64</td><td>[[[0.49199962, 0., 0....          </td></tr>\n",
       "</tbody>\n",
       "</table>"
      ],
      "text/plain": [
       "<IPython.core.display.HTML object>"
      ]
     },
     "metadata": {},
     "output_type": "display_data"
    },
    {
     "name": "stdout",
     "output_type": "stream",
     "text": [
      "Best_guess f([0.175 0.375 0.775]) = -2.5988175845193395\n",
      "Beginning evaluation 45\n",
      "Maximizer:\n",
      "[[0.175 0.375 0.775]]\n",
      "Evaluation 45: Next query is [[0.175 0.375 0.775]\n",
      " [0.225 0.425 0.775]] with EI value of [0.24258187]\n",
      "Evaluation 45: Training model\n",
      "Optimizer config:  {'name': 'RMSprop', 'learning_rate': 0.001, 'decay': 0.0, 'rho': 0.0, 'momentum': 0.0, 'epsilon': 1e-07, 'centered': False}\n",
      "Indifference_threshold is fixed at 0.0\n",
      "Initialize lengthscale at [0.5 0.5 0.5]\n",
      "       signal variance at 1.0\n",
      "   Initial negative ELBO: 3366441218.814967\n",
      "Negative ELBO at step 0: 3305466614.9813294 in 0.8812s\n",
      "Negative ELBO at step 500: 1342659.9442998338 in 282.9465s\n",
      "Negative ELBO at step 1000: 416.19165240457 in 289.6078s\n",
      "Negative ELBO at step 1500: 53.304256253633426 in 286.0973s\n",
      "Negative ELBO at step 2000: 47.65855812777735 in 289.3446s\n",
      "Negative ELBO at step 2500: 45.72819957102861 in 284.5337s\n"
     ]
    },
    {
     "data": {
      "text/html": [
       "<table>\n",
       "<thead>\n",
       "<tr><th>name                    </th><th>class    </th><th>transform       </th><th>prior  </th><th>trainable  </th><th>shape      </th><th>dtype  </th><th>value                                               </th></tr>\n",
       "</thead>\n",
       "<tbody>\n",
       "<tr><td>SVGP.kernel.variance    </td><td>Parameter</td><td>Softplus        </td><td>       </td><td>True       </td><td>()         </td><td>float64</td><td>0.9798916177628189                                  </td></tr>\n",
       "<tr><td>SVGP.kernel.lengthscale </td><td>Parameter</td><td>Softplus + Shift</td><td>       </td><td>True       </td><td>(3,)       </td><td>float64</td><td>[0.09975486 0.10362184 0.08051809]                  </td></tr>\n",
       "<tr><td>SVGP.likelihood.variance</td><td>Parameter</td><td>Softplus + Shift</td><td>       </td><td>True       </td><td>()         </td><td>float64</td><td>1.0                                                 </td></tr>\n",
       "<tr><td>SVGP.inducing_variable.Z</td><td>Parameter</td><td>                </td><td>       </td><td>False      </td><td>(57, 3)    </td><td>float64</td><td>[[0.125, 0.375, 0.825...                            </td></tr>\n",
       "<tr><td>SVGP.q_mu               </td><td>Parameter</td><td>                </td><td>       </td><td>False      </td><td>(57, 1)    </td><td>float64</td><td>[[0.63999598...                                     </td></tr>\n",
       "<tr><td>SVGP.q_sqrt             </td><td>Parameter</td><td>FillTriangular  </td><td>       </td><td>False      </td><td>(1, 57, 57)</td><td>float64</td><td>[[[4.99999825e-01, 0.00000000e+00, 0.00000000e+00...</td></tr>\n",
       "</tbody>\n",
       "</table>"
      ],
      "text/plain": [
       "<IPython.core.display.HTML object>"
      ]
     },
     "metadata": {},
     "output_type": "display_data"
    },
    {
     "name": "stdout",
     "output_type": "stream",
     "text": [
      "Best_guess f([0.225 0.425 0.775]) = -2.9476254911364137\n",
      "Beginning evaluation 46\n",
      "Maximizer:\n",
      "[[0.225 0.425 0.775]]\n",
      "Evaluation 46: Next query is [[0.225 0.425 0.775]\n",
      " [0.225 0.375 0.775]] with EI value of [0.21823095]\n",
      "Evaluation 46: Training model\n",
      "Optimizer config:  {'name': 'RMSprop', 'learning_rate': 0.001, 'decay': 0.0, 'rho': 0.0, 'momentum': 0.0, 'epsilon': 1e-07, 'centered': False}\n",
      "Indifference_threshold is fixed at 0.0\n",
      "Initialize lengthscale at [0.5 0.5 0.5]\n",
      "       signal variance at 1.0\n",
      "   Initial negative ELBO: 3246022472.094485\n",
      "Negative ELBO at step 0: 3187502632.460425 in 0.8756s\n",
      "Negative ELBO at step 500: 1306571.670141015 in 290.6989s\n",
      "Negative ELBO at step 1000: 445.2692474292449 in 290.8586s\n",
      "Negative ELBO at step 1500: 55.127740429504044 in 289.5512s\n",
      "Negative ELBO at step 2000: 48.06893779524354 in 286.5335s\n",
      "Negative ELBO at step 2500: 45.532709766844036 in 292.8966s\n"
     ]
    },
    {
     "data": {
      "text/html": [
       "<table>\n",
       "<thead>\n",
       "<tr><th>name                    </th><th>class    </th><th>transform       </th><th>prior  </th><th>trainable  </th><th>shape      </th><th>dtype  </th><th>value                             </th></tr>\n",
       "</thead>\n",
       "<tbody>\n",
       "<tr><td>SVGP.kernel.variance    </td><td>Parameter</td><td>Softplus        </td><td>       </td><td>True       </td><td>()         </td><td>float64</td><td>1.0037969792308132                </td></tr>\n",
       "<tr><td>SVGP.kernel.lengthscale </td><td>Parameter</td><td>Softplus + Shift</td><td>       </td><td>True       </td><td>(3,)       </td><td>float64</td><td>[0.09862064 0.10283647 0.072707  ]</td></tr>\n",
       "<tr><td>SVGP.likelihood.variance</td><td>Parameter</td><td>Softplus + Shift</td><td>       </td><td>True       </td><td>()         </td><td>float64</td><td>1.0                               </td></tr>\n",
       "<tr><td>SVGP.inducing_variable.Z</td><td>Parameter</td><td>                </td><td>       </td><td>False      </td><td>(57, 3)    </td><td>float64</td><td>[[0.125, 0.375, 0.825...          </td></tr>\n",
       "<tr><td>SVGP.q_mu               </td><td>Parameter</td><td>                </td><td>       </td><td>False      </td><td>(57, 1)    </td><td>float64</td><td>[[0.83399995...                   </td></tr>\n",
       "<tr><td>SVGP.q_sqrt             </td><td>Parameter</td><td>FillTriangular  </td><td>       </td><td>False      </td><td>(1, 57, 57)</td><td>float64</td><td>[[[0.47999986, 0., 0....          </td></tr>\n",
       "</tbody>\n",
       "</table>"
      ],
      "text/plain": [
       "<IPython.core.display.HTML object>"
      ]
     },
     "metadata": {},
     "output_type": "display_data"
    },
    {
     "name": "stdout",
     "output_type": "stream",
     "text": [
      "Best_guess f([0.225 0.375 0.775]) = -2.597966843085293\n",
      "Beginning evaluation 47\n",
      "Maximizer:\n",
      "[[0.225 0.375 0.775]]\n",
      "Evaluation 47: Next query is [[0.225 0.375 0.775]\n",
      " [0.275 0.375 0.725]] with EI value of [0.17773625]\n",
      "Evaluation 47: Training model\n",
      "Optimizer config:  {'name': 'RMSprop', 'learning_rate': 0.001, 'decay': 0.0, 'rho': 0.0, 'momentum': 0.0, 'epsilon': 1e-07, 'centered': False}\n",
      "Indifference_threshold is fixed at 0.0\n",
      "Initialize lengthscale at [0.5 0.5 0.5]\n",
      "       signal variance at 1.0\n",
      "   Initial negative ELBO: 6632406320.002435\n",
      "Negative ELBO at step 0: 6494800154.589011 in 0.8750s\n",
      "Negative ELBO at step 500: 1671808.754279061 in 294.7449s\n",
      "Negative ELBO at step 1000: 668.5214031677881 in 296.0838s\n",
      "Negative ELBO at step 1500: 56.338656250230464 in 300.2875s\n",
      "Negative ELBO at step 2000: 49.76736485323663 in 292.9946s\n",
      "Negative ELBO at step 2500: 48.519437107367565 in 286.9494s\n"
     ]
    },
    {
     "data": {
      "text/html": [
       "<table>\n",
       "<thead>\n",
       "<tr><th>name                    </th><th>class    </th><th>transform       </th><th>prior  </th><th>trainable  </th><th>shape      </th><th>dtype  </th><th>value                             </th></tr>\n",
       "</thead>\n",
       "<tbody>\n",
       "<tr><td>SVGP.kernel.variance    </td><td>Parameter</td><td>Softplus        </td><td>       </td><td>True       </td><td>()         </td><td>float64</td><td>0.9899159415713576                </td></tr>\n",
       "<tr><td>SVGP.kernel.lengthscale </td><td>Parameter</td><td>Softplus + Shift</td><td>       </td><td>True       </td><td>(3,)       </td><td>float64</td><td>[0.10601052 0.0898164  0.09296026]</td></tr>\n",
       "<tr><td>SVGP.likelihood.variance</td><td>Parameter</td><td>Softplus + Shift</td><td>       </td><td>True       </td><td>()         </td><td>float64</td><td>1.0                               </td></tr>\n",
       "<tr><td>SVGP.inducing_variable.Z</td><td>Parameter</td><td>                </td><td>       </td><td>False      </td><td>(58, 3)    </td><td>float64</td><td>[[0.125, 0.375, 0.825...          </td></tr>\n",
       "<tr><td>SVGP.q_mu               </td><td>Parameter</td><td>                </td><td>       </td><td>False      </td><td>(58, 1)    </td><td>float64</td><td>[[0.25400017...                   </td></tr>\n",
       "<tr><td>SVGP.q_sqrt             </td><td>Parameter</td><td>FillTriangular  </td><td>       </td><td>False      </td><td>(1, 58, 58)</td><td>float64</td><td>[[[0.58600036, 0., 0....          </td></tr>\n",
       "</tbody>\n",
       "</table>"
      ],
      "text/plain": [
       "<IPython.core.display.HTML object>"
      ]
     },
     "metadata": {},
     "output_type": "display_data"
    },
    {
     "name": "stdout",
     "output_type": "stream",
     "text": [
      "Best_guess f([0.625 0.375 0.975]) = -1.7302933822670423\n",
      "Beginning evaluation 48\n",
      "Maximizer:\n",
      "[[0.625 0.425 0.975]]\n",
      "Evaluation 48: Next query is [[0.625 0.425 0.975]\n",
      " [0.675 0.425 0.925]] with EI value of [0.33504554]\n",
      "Evaluation 48: Training model\n",
      "Optimizer config:  {'name': 'RMSprop', 'learning_rate': 0.001, 'decay': 0.0, 'rho': 0.0, 'momentum': 0.0, 'epsilon': 1e-07, 'centered': False}\n",
      "Indifference_threshold is fixed at 0.0\n",
      "Initialize lengthscale at [0.5 0.5 0.5]\n",
      "       signal variance at 1.0\n",
      "   Initial negative ELBO: 7408971096.004587\n",
      "Negative ELBO at step 0: 7256182109.377768 in 0.8631s\n",
      "Negative ELBO at step 500: 1694640.271665212 in 296.7658s\n",
      "Negative ELBO at step 1000: 673.0164956909725 in 294.5512s\n",
      "Negative ELBO at step 1500: 57.111310402231965 in 287.4039s\n",
      "Negative ELBO at step 2000: 50.583718325854335 in 293.8981s\n",
      "Negative ELBO at step 2500: 49.34387488268853 in 303.2577s\n"
     ]
    },
    {
     "data": {
      "text/html": [
       "<table>\n",
       "<thead>\n",
       "<tr><th>name                    </th><th>class    </th><th>transform       </th><th>prior  </th><th>trainable  </th><th>shape      </th><th>dtype  </th><th>value                                               </th></tr>\n",
       "</thead>\n",
       "<tbody>\n",
       "<tr><td>SVGP.kernel.variance    </td><td>Parameter</td><td>Softplus        </td><td>       </td><td>True       </td><td>()         </td><td>float64</td><td>0.9962115219886666                                  </td></tr>\n",
       "<tr><td>SVGP.kernel.lengthscale </td><td>Parameter</td><td>Softplus + Shift</td><td>       </td><td>True       </td><td>(3,)       </td><td>float64</td><td>[0.10540847 0.08777736 0.09493275]                  </td></tr>\n",
       "<tr><td>SVGP.likelihood.variance</td><td>Parameter</td><td>Softplus + Shift</td><td>       </td><td>True       </td><td>()         </td><td>float64</td><td>1.0                                                 </td></tr>\n",
       "<tr><td>SVGP.inducing_variable.Z</td><td>Parameter</td><td>                </td><td>       </td><td>False      </td><td>(59, 3)    </td><td>float64</td><td>[[0.125, 0.375, 0.825...                            </td></tr>\n",
       "<tr><td>SVGP.q_mu               </td><td>Parameter</td><td>                </td><td>       </td><td>False      </td><td>(59, 1)    </td><td>float64</td><td>[[0.12200003...                                     </td></tr>\n",
       "<tr><td>SVGP.q_sqrt             </td><td>Parameter</td><td>FillTriangular  </td><td>       </td><td>False      </td><td>(1, 59, 59)</td><td>float64</td><td>[[[5.47999943e-01, 0.00000000e+00, 0.00000000e+00...</td></tr>\n",
       "</tbody>\n",
       "</table>"
      ],
      "text/plain": [
       "<IPython.core.display.HTML object>"
      ]
     },
     "metadata": {},
     "output_type": "display_data"
    },
    {
     "name": "stdout",
     "output_type": "stream",
     "text": [
      "Best_guess f([0.675 0.425 0.925]) = -2.7062491122297736\n",
      "Beginning evaluation 49\n",
      "Maximizer:\n",
      "[[0.675 0.425 0.925]]\n",
      "Evaluation 49: Next query is [[0.675 0.425 0.925]\n",
      " [0.675 0.425 0.875]] with EI value of [0.36657271]\n",
      "Evaluation 49: Training model\n",
      "Optimizer config:  {'name': 'RMSprop', 'learning_rate': 0.001, 'decay': 0.0, 'rho': 0.0, 'momentum': 0.0, 'epsilon': 1e-07, 'centered': False}\n",
      "Indifference_threshold is fixed at 0.0\n",
      "Initialize lengthscale at [0.5 0.5 0.5]\n",
      "       signal variance at 1.0\n",
      "   Initial negative ELBO: 7313759435.954728\n",
      "Negative ELBO at step 0: 7166343010.753762 in 0.8842s\n",
      "Negative ELBO at step 500: 1732823.8751273185 in 298.7551s\n",
      "Negative ELBO at step 1000: 656.7306321953083 in 299.1472s\n",
      "Negative ELBO at step 1500: 57.93196006848568 in 291.3827s\n",
      "Negative ELBO at step 2000: 51.08253431182737 in 295.4866s\n",
      "Negative ELBO at step 2500: 49.87304645643112 in 298.0198s\n"
     ]
    },
    {
     "data": {
      "text/html": [
       "<table>\n",
       "<thead>\n",
       "<tr><th>name                    </th><th>class    </th><th>transform       </th><th>prior  </th><th>trainable  </th><th>shape      </th><th>dtype  </th><th>value                             </th></tr>\n",
       "</thead>\n",
       "<tbody>\n",
       "<tr><td>SVGP.kernel.variance    </td><td>Parameter</td><td>Softplus        </td><td>       </td><td>True       </td><td>()         </td><td>float64</td><td>0.9761479421935363                </td></tr>\n",
       "<tr><td>SVGP.kernel.lengthscale </td><td>Parameter</td><td>Softplus + Shift</td><td>       </td><td>True       </td><td>(3,)       </td><td>float64</td><td>[0.10641324 0.08981638 0.08913158]</td></tr>\n",
       "<tr><td>SVGP.likelihood.variance</td><td>Parameter</td><td>Softplus + Shift</td><td>       </td><td>True       </td><td>()         </td><td>float64</td><td>1.0                               </td></tr>\n",
       "<tr><td>SVGP.inducing_variable.Z</td><td>Parameter</td><td>                </td><td>       </td><td>False      </td><td>(60, 3)    </td><td>float64</td><td>[[0.125, 0.375, 0.825...          </td></tr>\n",
       "<tr><td>SVGP.q_mu               </td><td>Parameter</td><td>                </td><td>       </td><td>False      </td><td>(60, 1)    </td><td>float64</td><td>[[0.21600005...                   </td></tr>\n",
       "<tr><td>SVGP.q_sqrt             </td><td>Parameter</td><td>FillTriangular  </td><td>       </td><td>False      </td><td>(1, 60, 60)</td><td>float64</td><td>[[[0.5739999, 0., 0....           </td></tr>\n",
       "</tbody>\n",
       "</table>"
      ],
      "text/plain": [
       "<IPython.core.display.HTML object>"
      ]
     },
     "metadata": {},
     "output_type": "display_data"
    },
    {
     "name": "stdout",
     "output_type": "stream",
     "text": [
      "Best_guess f([0.675 0.375 0.975]) = -1.7204585763285576\n",
      "\n",
      "==================\n",
      "Beginning run 6\n",
      "Optimizer config:  {'name': 'RMSprop', 'learning_rate': 0.001, 'decay': 0.0, 'rho': 0.0, 'momentum': 0.0, 'epsilon': 1e-07, 'centered': False}\n",
      "Indifference_threshold is fixed at 0.0\n",
      "Initialize lengthscale at [0.5 0.5 0.5]\n",
      "       signal variance at 1.0\n",
      "   Initial negative ELBO: 3034.8889762237736\n",
      "Negative ELBO at step 0: 2997.0091547689753 in 0.2208s\n",
      "Negative ELBO at step 500: 20.99031078321985 in 70.1343s\n",
      "Negative ELBO at step 1000: 10.246021777555379 in 70.4622s\n",
      "Negative ELBO at step 1500: 9.698410645623005 in 71.8795s\n",
      "Negative ELBO at step 2000: 9.48583411893577 in 72.1870s\n",
      "Negative ELBO at step 2500: 9.391630073858533 in 70.0012s\n",
      "Beginning evaluation 0\n",
      "Maximizer:\n",
      "[[0.625 0.325 0.225]]\n",
      "Evaluation 0: Next query is [[0.625 0.325 0.225]\n",
      " [0.575 0.025 0.225]] with EI value of [0.64624596]\n",
      "Evaluation 0: Training model\n",
      "Optimizer config:  {'name': 'RMSprop', 'learning_rate': 0.001, 'decay': 0.0, 'rho': 0.0, 'momentum': 0.0, 'epsilon': 1e-07, 'centered': False}\n",
      "Indifference_threshold is fixed at 0.0\n",
      "Initialize lengthscale at [0.5 0.5 0.5]\n",
      "       signal variance at 1.0\n",
      "   Initial negative ELBO: 3827.44570921484\n",
      "Negative ELBO at step 0: 3777.2583833326994 in 0.2367s\n",
      "Negative ELBO at step 500: 22.840640132409273 in 73.8918s\n",
      "Negative ELBO at step 1000: 10.9723954716944 in 73.5397s\n",
      "Negative ELBO at step 1500: 10.717404661454161 in 74.2114s\n",
      "Negative ELBO at step 2000: 10.628449245103758 in 73.7285s\n",
      "Negative ELBO at step 2500: 10.621105224672945 in 76.7136s\n"
     ]
    },
    {
     "data": {
      "text/html": [
       "<table>\n",
       "<thead>\n",
       "<tr><th>name                    </th><th>class    </th><th>transform       </th><th>prior  </th><th>trainable  </th><th>shape      </th><th>dtype  </th><th>value                                               </th></tr>\n",
       "</thead>\n",
       "<tbody>\n",
       "<tr><td>SVGP.kernel.variance    </td><td>Parameter</td><td>Softplus        </td><td>       </td><td>True       </td><td>()         </td><td>float64</td><td>2.4314309593520935                                  </td></tr>\n",
       "<tr><td>SVGP.kernel.lengthscale </td><td>Parameter</td><td>Softplus + Shift</td><td>       </td><td>True       </td><td>(3,)       </td><td>float64</td><td>[0.2952327  0.54139219 0.29986508]                  </td></tr>\n",
       "<tr><td>SVGP.likelihood.variance</td><td>Parameter</td><td>Softplus + Shift</td><td>       </td><td>True       </td><td>()         </td><td>float64</td><td>1.0                                                 </td></tr>\n",
       "<tr><td>SVGP.inducing_variable.Z</td><td>Parameter</td><td>                </td><td>       </td><td>False      </td><td>(25, 3)    </td><td>float64</td><td>[[0.125, 0.025, 0.075...                            </td></tr>\n",
       "<tr><td>SVGP.q_mu               </td><td>Parameter</td><td>                </td><td>       </td><td>False      </td><td>(25, 1)    </td><td>float64</td><td>[[1.11811908...                                     </td></tr>\n",
       "<tr><td>SVGP.q_sqrt             </td><td>Parameter</td><td>FillTriangular  </td><td>       </td><td>False      </td><td>(1, 25, 25)</td><td>float64</td><td>[[[1.37825139e+00, 0.00000000e+00, 0.00000000e+00...</td></tr>\n",
       "</tbody>\n",
       "</table>"
      ],
      "text/plain": [
       "<IPython.core.display.HTML object>"
      ]
     },
     "metadata": {},
     "output_type": "display_data"
    },
    {
     "name": "stdout",
     "output_type": "stream",
     "text": [
      "Best_guess f([0.275 0.225 0.425]) = -0.4566736967041061\n",
      "Beginning evaluation 1\n",
      "Maximizer:\n",
      "[[0.125 0.475 0.525]]\n",
      "Evaluation 1: Next query is [[0.125 0.475 0.525]\n",
      " [0.275 0.275 0.375]] with EI value of [0.56359378]\n",
      "Evaluation 1: Training model\n",
      "Optimizer config:  {'name': 'RMSprop', 'learning_rate': 0.001, 'decay': 0.0, 'rho': 0.0, 'momentum': 0.0, 'epsilon': 1e-07, 'centered': False}\n",
      "Indifference_threshold is fixed at 0.0\n",
      "Initialize lengthscale at [0.5 0.5 0.5]\n",
      "       signal variance at 1.0\n",
      "   Initial negative ELBO: 4356.165135826668\n",
      "Negative ELBO at step 0: 4298.337552386098 in 0.2555s\n",
      "Negative ELBO at step 500: 24.44640275582323 in 81.7852s\n",
      "Negative ELBO at step 1000: 11.69051821139341 in 81.9910s\n",
      "Negative ELBO at step 1500: 11.36873326271699 in 81.4093s\n",
      "Negative ELBO at step 2000: 11.238299357766952 in 80.5003s\n",
      "Negative ELBO at step 2500: 11.203209464855163 in 80.3006s\n"
     ]
    },
    {
     "data": {
      "text/html": [
       "<table>\n",
       "<thead>\n",
       "<tr><th>name                    </th><th>class    </th><th>transform       </th><th>prior  </th><th>trainable  </th><th>shape      </th><th>dtype  </th><th>value                                               </th></tr>\n",
       "</thead>\n",
       "<tbody>\n",
       "<tr><td>SVGP.kernel.variance    </td><td>Parameter</td><td>Softplus        </td><td>       </td><td>True       </td><td>()         </td><td>float64</td><td>2.48073232517389                                    </td></tr>\n",
       "<tr><td>SVGP.kernel.lengthscale </td><td>Parameter</td><td>Softplus + Shift</td><td>       </td><td>True       </td><td>(3,)       </td><td>float64</td><td>[0.28966061 0.53225772 0.32066232]                  </td></tr>\n",
       "<tr><td>SVGP.likelihood.variance</td><td>Parameter</td><td>Softplus + Shift</td><td>       </td><td>True       </td><td>()         </td><td>float64</td><td>1.0                                                 </td></tr>\n",
       "<tr><td>SVGP.inducing_variable.Z</td><td>Parameter</td><td>                </td><td>       </td><td>False      </td><td>(26, 3)    </td><td>float64</td><td>[[0.125, 0.025, 0.075...                            </td></tr>\n",
       "<tr><td>SVGP.q_mu               </td><td>Parameter</td><td>                </td><td>       </td><td>False      </td><td>(26, 1)    </td><td>float64</td><td>[[1.28799127...                                     </td></tr>\n",
       "<tr><td>SVGP.q_sqrt             </td><td>Parameter</td><td>FillTriangular  </td><td>       </td><td>False      </td><td>(1, 26, 26)</td><td>float64</td><td>[[[1.33954040e+00, 0.00000000e+00, 0.00000000e+00...</td></tr>\n",
       "</tbody>\n",
       "</table>"
      ],
      "text/plain": [
       "<IPython.core.display.HTML object>"
      ]
     },
     "metadata": {},
     "output_type": "display_data"
    },
    {
     "name": "stdout",
     "output_type": "stream",
     "text": [
      "Best_guess f([0.375 0.125 0.325]) = -0.9070017138637554\n",
      "Beginning evaluation 2\n",
      "Maximizer:\n",
      "[[0.275 0.275 0.375]]\n",
      "Evaluation 2: Next query is [[0.275 0.275 0.375]\n",
      " [0.375 0.125 0.325]] with EI value of [0.51968677]\n",
      "Evaluation 2: Training model\n",
      "Optimizer config:  {'name': 'RMSprop', 'learning_rate': 0.001, 'decay': 0.0, 'rho': 0.0, 'momentum': 0.0, 'epsilon': 1e-07, 'centered': False}\n",
      "Indifference_threshold is fixed at 0.0\n",
      "Initialize lengthscale at [0.5 0.5 0.5]\n",
      "       signal variance at 1.0\n",
      "   Initial negative ELBO: 5731.340078200296\n",
      "Negative ELBO at step 0: 5652.750609093228 in 0.2607s\n",
      "Negative ELBO at step 500: 26.58790297601933 in 83.5849s\n",
      "Negative ELBO at step 1000: 12.422574733522994 in 83.0495s\n",
      "Negative ELBO at step 1500: 12.113244791348837 in 82.4093s\n",
      "Negative ELBO at step 2000: 12.00505465421697 in 81.4114s\n",
      "Negative ELBO at step 2500: 12.005033429214162 in 81.8201s\n"
     ]
    },
    {
     "data": {
      "text/html": [
       "<table>\n",
       "<thead>\n",
       "<tr><th>name                    </th><th>class    </th><th>transform       </th><th>prior  </th><th>trainable  </th><th>shape      </th><th>dtype  </th><th>value                                               </th></tr>\n",
       "</thead>\n",
       "<tbody>\n",
       "<tr><td>SVGP.kernel.variance    </td><td>Parameter</td><td>Softplus        </td><td>       </td><td>True       </td><td>()         </td><td>float64</td><td>2.0145238470981583                                  </td></tr>\n",
       "<tr><td>SVGP.kernel.lengthscale </td><td>Parameter</td><td>Softplus + Shift</td><td>       </td><td>True       </td><td>(3,)       </td><td>float64</td><td>[0.26636519 0.47078115 0.3040372 ]                  </td></tr>\n",
       "<tr><td>SVGP.likelihood.variance</td><td>Parameter</td><td>Softplus + Shift</td><td>       </td><td>True       </td><td>()         </td><td>float64</td><td>1.0                                                 </td></tr>\n",
       "<tr><td>SVGP.inducing_variable.Z</td><td>Parameter</td><td>                </td><td>       </td><td>False      </td><td>(27, 3)    </td><td>float64</td><td>[[0.125, 0.025, 0.075...                            </td></tr>\n",
       "<tr><td>SVGP.q_mu               </td><td>Parameter</td><td>                </td><td>       </td><td>False      </td><td>(27, 1)    </td><td>float64</td><td>[[0.96014111...                                     </td></tr>\n",
       "<tr><td>SVGP.q_sqrt             </td><td>Parameter</td><td>FillTriangular  </td><td>       </td><td>False      </td><td>(1, 27, 27)</td><td>float64</td><td>[[[1.19005666e+00, 0.00000000e+00, 0.00000000e+00...</td></tr>\n",
       "</tbody>\n",
       "</table>"
      ],
      "text/plain": [
       "<IPython.core.display.HTML object>"
      ]
     },
     "metadata": {},
     "output_type": "display_data"
    },
    {
     "name": "stdout",
     "output_type": "stream",
     "text": [
      "Best_guess f([0.425 0.075 0.325]) = -0.882182135206329\n",
      "Beginning evaluation 3\n",
      "Maximizer:\n",
      "[[0.375 0.125 0.325]]\n",
      "Evaluation 3: Next query is [[0.375 0.125 0.325]\n",
      " [0.475 0.025 0.275]] with EI value of [0.40009247]\n",
      "Evaluation 3: Training model\n",
      "Optimizer config:  {'name': 'RMSprop', 'learning_rate': 0.001, 'decay': 0.0, 'rho': 0.0, 'momentum': 0.0, 'epsilon': 1e-07, 'centered': False}\n",
      "Indifference_threshold is fixed at 0.0\n",
      "Initialize lengthscale at [0.5 0.5 0.5]\n",
      "       signal variance at 1.0\n",
      "   Initial negative ELBO: 8527.533312645337\n",
      "Negative ELBO at step 0: 8413.656725181021 in 0.2724s\n",
      "Negative ELBO at step 500: 37.83548167416396 in 89.9460s\n",
      "Negative ELBO at step 1000: 13.235304260240579 in 87.1764s\n",
      "Negative ELBO at step 1500: 12.962478521859707 in 89.5404s\n",
      "Negative ELBO at step 2000: 12.962461673715227 in 91.9503s\n",
      "Negative ELBO at step 2500: 12.96244615838946 in 91.8090s\n"
     ]
    },
    {
     "data": {
      "text/html": [
       "<table>\n",
       "<thead>\n",
       "<tr><th>name                    </th><th>class    </th><th>transform       </th><th>prior  </th><th>trainable  </th><th>shape      </th><th>dtype  </th><th>value                                               </th></tr>\n",
       "</thead>\n",
       "<tbody>\n",
       "<tr><td>SVGP.kernel.variance    </td><td>Parameter</td><td>Softplus        </td><td>       </td><td>True       </td><td>()         </td><td>float64</td><td>1.450592657005692                                   </td></tr>\n",
       "<tr><td>SVGP.kernel.lengthscale </td><td>Parameter</td><td>Softplus + Shift</td><td>       </td><td>True       </td><td>(3,)       </td><td>float64</td><td>[0.25534674 0.39569595 0.27586412]                  </td></tr>\n",
       "<tr><td>SVGP.likelihood.variance</td><td>Parameter</td><td>Softplus + Shift</td><td>       </td><td>True       </td><td>()         </td><td>float64</td><td>1.0                                                 </td></tr>\n",
       "<tr><td>SVGP.inducing_variable.Z</td><td>Parameter</td><td>                </td><td>       </td><td>False      </td><td>(28, 3)    </td><td>float64</td><td>[[0.125, 0.025, 0.075...                            </td></tr>\n",
       "<tr><td>SVGP.q_mu               </td><td>Parameter</td><td>                </td><td>       </td><td>False      </td><td>(28, 1)    </td><td>float64</td><td>[[0.74400134...                                     </td></tr>\n",
       "<tr><td>SVGP.q_sqrt             </td><td>Parameter</td><td>FillTriangular  </td><td>       </td><td>False      </td><td>(1, 28, 28)</td><td>float64</td><td>[[[1.06200070e+00, 0.00000000e+00, 0.00000000e+00...</td></tr>\n",
       "</tbody>\n",
       "</table>"
      ],
      "text/plain": [
       "<IPython.core.display.HTML object>"
      ]
     },
     "metadata": {},
     "output_type": "display_data"
    },
    {
     "name": "stdout",
     "output_type": "stream",
     "text": [
      "Best_guess f([0.375 0.125 0.375]) = -0.7125777958906931\n",
      "Beginning evaluation 4\n",
      "Maximizer:\n",
      "[[0.375 0.125 0.325]]\n",
      "Evaluation 4: Next query is [[0.375 0.125 0.325]\n",
      " [0.375 0.075 0.325]] with EI value of [0.36184927]\n",
      "Evaluation 4: Training model\n",
      "Optimizer config:  {'name': 'RMSprop', 'learning_rate': 0.001, 'decay': 0.0, 'rho': 0.0, 'momentum': 0.0, 'epsilon': 1e-07, 'centered': False}\n",
      "Indifference_threshold is fixed at 0.0\n",
      "Initialize lengthscale at [0.5 0.5 0.5]\n",
      "       signal variance at 1.0\n",
      "   Initial negative ELBO: 15989.811512844199\n",
      "Negative ELBO at step 0: 15790.878073409764 in 0.2996s\n",
      "Negative ELBO at step 500: 70.98713896022186 in 93.3890s\n",
      "Negative ELBO at step 1000: 14.142038949877945 in 93.2637s\n",
      "Negative ELBO at step 1500: 13.645424140895955 in 95.9323s\n",
      "Negative ELBO at step 2000: 13.61704022399487 in 94.8450s\n",
      "Negative ELBO at step 2500: 13.617023469755015 in 92.4059s\n"
     ]
    },
    {
     "data": {
      "text/html": [
       "<table>\n",
       "<thead>\n",
       "<tr><th>name                    </th><th>class    </th><th>transform       </th><th>prior  </th><th>trainable  </th><th>shape      </th><th>dtype  </th><th>value                                               </th></tr>\n",
       "</thead>\n",
       "<tbody>\n",
       "<tr><td>SVGP.kernel.variance    </td><td>Parameter</td><td>Softplus        </td><td>       </td><td>True       </td><td>()         </td><td>float64</td><td>1.4920963256899946                                  </td></tr>\n",
       "<tr><td>SVGP.kernel.lengthscale </td><td>Parameter</td><td>Softplus + Shift</td><td>       </td><td>True       </td><td>(3,)       </td><td>float64</td><td>[0.21325545 0.40293755 0.28565334]                  </td></tr>\n",
       "<tr><td>SVGP.likelihood.variance</td><td>Parameter</td><td>Softplus + Shift</td><td>       </td><td>True       </td><td>()         </td><td>float64</td><td>1.0                                                 </td></tr>\n",
       "<tr><td>SVGP.inducing_variable.Z</td><td>Parameter</td><td>                </td><td>       </td><td>False      </td><td>(29, 3)    </td><td>float64</td><td>[[0.125, 0.025, 0.075...                            </td></tr>\n",
       "<tr><td>SVGP.q_mu               </td><td>Parameter</td><td>                </td><td>       </td><td>False      </td><td>(29, 1)    </td><td>float64</td><td>[[0.67222608...                                     </td></tr>\n",
       "<tr><td>SVGP.q_sqrt             </td><td>Parameter</td><td>FillTriangular  </td><td>       </td><td>False      </td><td>(1, 29, 29)</td><td>float64</td><td>[[[1.07401906e+00, 0.00000000e+00, 0.00000000e+00...</td></tr>\n",
       "</tbody>\n",
       "</table>"
      ],
      "text/plain": [
       "<IPython.core.display.HTML object>"
      ]
     },
     "metadata": {},
     "output_type": "display_data"
    },
    {
     "name": "stdout",
     "output_type": "stream",
     "text": [
      "Best_guess f([0.475 0.175 0.425]) = -0.4688703458643527\n",
      "Beginning evaluation 5\n",
      "Maximizer:\n",
      "[[0.475 0.075 0.425]]\n",
      "Evaluation 5: Next query is [[0.475 0.075 0.425]\n",
      " [0.475 0.275 0.425]] with EI value of [0.38645199]\n",
      "Evaluation 5: Training model\n",
      "Optimizer config:  {'name': 'RMSprop', 'learning_rate': 0.001, 'decay': 0.0, 'rho': 0.0, 'momentum': 0.0, 'epsilon': 1e-07, 'centered': False}\n",
      "Indifference_threshold is fixed at 0.0\n",
      "Initialize lengthscale at [0.5 0.5 0.5]\n",
      "       signal variance at 1.0\n",
      "   Initial negative ELBO: 24195.94632257743\n",
      "Negative ELBO at step 0: 23874.592541897044 in 0.3144s\n",
      "Negative ELBO at step 500: 84.50685541860223 in 101.4613s\n",
      "Negative ELBO at step 1000: 15.015836520637322 in 103.3514s\n",
      "Negative ELBO at step 1500: 14.51944547404217 in 99.9575s\n",
      "Negative ELBO at step 2000: 14.500211877345492 in 98.9588s\n",
      "Negative ELBO at step 2500: 14.500198170557937 in 96.6394s\n"
     ]
    },
    {
     "data": {
      "text/html": [
       "<table>\n",
       "<thead>\n",
       "<tr><th>name                    </th><th>class    </th><th>transform       </th><th>prior  </th><th>trainable  </th><th>shape      </th><th>dtype  </th><th>value                                               </th></tr>\n",
       "</thead>\n",
       "<tbody>\n",
       "<tr><td>SVGP.kernel.variance    </td><td>Parameter</td><td>Softplus        </td><td>       </td><td>True       </td><td>()         </td><td>float64</td><td>1.3853178472531704                                  </td></tr>\n",
       "<tr><td>SVGP.kernel.lengthscale </td><td>Parameter</td><td>Softplus + Shift</td><td>       </td><td>True       </td><td>(3,)       </td><td>float64</td><td>[0.22627131 0.35147578 0.25265349]                  </td></tr>\n",
       "<tr><td>SVGP.likelihood.variance</td><td>Parameter</td><td>Softplus + Shift</td><td>       </td><td>True       </td><td>()         </td><td>float64</td><td>1.0                                                 </td></tr>\n",
       "<tr><td>SVGP.inducing_variable.Z</td><td>Parameter</td><td>                </td><td>       </td><td>False      </td><td>(30, 3)    </td><td>float64</td><td>[[0.125, 0.025, 0.075...                            </td></tr>\n",
       "<tr><td>SVGP.q_mu               </td><td>Parameter</td><td>                </td><td>       </td><td>False      </td><td>(30, 1)    </td><td>float64</td><td>[[0.60190624...                                     </td></tr>\n",
       "<tr><td>SVGP.q_sqrt             </td><td>Parameter</td><td>FillTriangular  </td><td>       </td><td>False      </td><td>(1, 30, 30)</td><td>float64</td><td>[[[1.10199069e+00, 0.00000000e+00, 0.00000000e+00...</td></tr>\n",
       "</tbody>\n",
       "</table>"
      ],
      "text/plain": [
       "<IPython.core.display.HTML object>"
      ]
     },
     "metadata": {},
     "output_type": "display_data"
    },
    {
     "name": "stdout",
     "output_type": "stream",
     "text": [
      "Best_guess f([0.425 0.075 0.375]) = -0.6912410529937405\n",
      "Beginning evaluation 6\n",
      "Maximizer:\n",
      "[[0.375 0.075 0.325]]\n",
      "Evaluation 6: Next query is [[0.375 0.075 0.325]\n",
      " [0.475 0.025 0.325]] with EI value of [0.32987588]\n",
      "Evaluation 6: Training model\n",
      "Optimizer config:  {'name': 'RMSprop', 'learning_rate': 0.001, 'decay': 0.0, 'rho': 0.0, 'momentum': 0.0, 'epsilon': 1e-07, 'centered': False}\n",
      "Indifference_threshold is fixed at 0.0\n",
      "Initialize lengthscale at [0.5 0.5 0.5]\n",
      "       signal variance at 1.0\n",
      "   Initial negative ELBO: 67777.1631184203\n",
      "Negative ELBO at step 0: 66901.30359052824 in 0.3112s\n",
      "Negative ELBO at step 500: 144.0075063596792 in 100.4730s\n",
      "Negative ELBO at step 1000: 15.988208884227129 in 100.4009s\n",
      "Negative ELBO at step 1500: 15.570009600678373 in 100.6246s\n",
      "Negative ELBO at step 2000: 15.569989877664764 in 100.8084s\n",
      "Negative ELBO at step 2500: 15.569971946789607 in 100.4329s\n"
     ]
    },
    {
     "data": {
      "text/html": [
       "<table>\n",
       "<thead>\n",
       "<tr><th>name                    </th><th>class    </th><th>transform       </th><th>prior  </th><th>trainable  </th><th>shape      </th><th>dtype  </th><th>value                                               </th></tr>\n",
       "</thead>\n",
       "<tbody>\n",
       "<tr><td>SVGP.kernel.variance    </td><td>Parameter</td><td>Softplus        </td><td>       </td><td>True       </td><td>()         </td><td>float64</td><td>1.2194328709295152                                  </td></tr>\n",
       "<tr><td>SVGP.kernel.lengthscale </td><td>Parameter</td><td>Softplus + Shift</td><td>       </td><td>True       </td><td>(3,)       </td><td>float64</td><td>[0.20569409 0.35804313 0.23575906]                  </td></tr>\n",
       "<tr><td>SVGP.likelihood.variance</td><td>Parameter</td><td>Softplus + Shift</td><td>       </td><td>True       </td><td>()         </td><td>float64</td><td>1.0                                                 </td></tr>\n",
       "<tr><td>SVGP.inducing_variable.Z</td><td>Parameter</td><td>                </td><td>       </td><td>False      </td><td>(31, 3)    </td><td>float64</td><td>[[0.125, 0.025, 0.075...                            </td></tr>\n",
       "<tr><td>SVGP.q_mu               </td><td>Parameter</td><td>                </td><td>       </td><td>False      </td><td>(31, 1)    </td><td>float64</td><td>[[0.42026098...                                     </td></tr>\n",
       "<tr><td>SVGP.q_sqrt             </td><td>Parameter</td><td>FillTriangular  </td><td>       </td><td>False      </td><td>(1, 31, 31)</td><td>float64</td><td>[[[9.69548747e-01, 0.00000000e+00, 0.00000000e+00...</td></tr>\n",
       "</tbody>\n",
       "</table>"
      ],
      "text/plain": [
       "<IPython.core.display.HTML object>"
      ]
     },
     "metadata": {},
     "output_type": "display_data"
    },
    {
     "name": "stdout",
     "output_type": "stream",
     "text": [
      "Best_guess f([0.575 0.075 0.475]) = -0.2640474347361932\n",
      "Beginning evaluation 7\n",
      "Maximizer:\n",
      "[[0.475 0.075 0.425]]\n",
      "Evaluation 7: Next query is [[0.475 0.075 0.425]\n",
      " [0.575 0.125 0.525]] with EI value of [0.38091291]\n",
      "Evaluation 7: Training model\n",
      "Optimizer config:  {'name': 'RMSprop', 'learning_rate': 0.001, 'decay': 0.0, 'rho': 0.0, 'momentum': 0.0, 'epsilon': 1e-07, 'centered': False}\n",
      "Indifference_threshold is fixed at 0.0\n",
      "Initialize lengthscale at [0.5 0.5 0.5]\n",
      "       signal variance at 1.0\n",
      "   Initial negative ELBO: 110236.72860010489\n",
      "Negative ELBO at step 0: 108739.48381912542 in 0.3160s\n",
      "Negative ELBO at step 500: 211.67654515574452 in 104.6845s\n",
      "Negative ELBO at step 1000: 17.007628329165293 in 111.5291s\n",
      "Negative ELBO at step 1500: 16.230844846470866 in 104.7429s\n",
      "Negative ELBO at step 2000: 16.230826535096725 in 110.1430s\n",
      "Negative ELBO at step 2500: 16.230810046476975 in 110.6484s\n"
     ]
    },
    {
     "data": {
      "text/html": [
       "<table>\n",
       "<thead>\n",
       "<tr><th>name                    </th><th>class    </th><th>transform       </th><th>prior  </th><th>trainable  </th><th>shape      </th><th>dtype  </th><th>value                                               </th></tr>\n",
       "</thead>\n",
       "<tbody>\n",
       "<tr><td>SVGP.kernel.variance    </td><td>Parameter</td><td>Softplus        </td><td>       </td><td>True       </td><td>()         </td><td>float64</td><td>1.188641317901072                                   </td></tr>\n",
       "<tr><td>SVGP.kernel.lengthscale </td><td>Parameter</td><td>Softplus + Shift</td><td>       </td><td>True       </td><td>(3,)       </td><td>float64</td><td>[0.18444719 0.39308858 0.24429434]                  </td></tr>\n",
       "<tr><td>SVGP.likelihood.variance</td><td>Parameter</td><td>Softplus + Shift</td><td>       </td><td>True       </td><td>()         </td><td>float64</td><td>1.0                                                 </td></tr>\n",
       "<tr><td>SVGP.inducing_variable.Z</td><td>Parameter</td><td>                </td><td>       </td><td>False      </td><td>(32, 3)    </td><td>float64</td><td>[[0.125, 0.025, 0.075...                            </td></tr>\n",
       "<tr><td>SVGP.q_mu               </td><td>Parameter</td><td>                </td><td>       </td><td>False      </td><td>(32, 1)    </td><td>float64</td><td>[[0.45613271...                                     </td></tr>\n",
       "<tr><td>SVGP.q_sqrt             </td><td>Parameter</td><td>FillTriangular  </td><td>       </td><td>False      </td><td>(1, 32, 32)</td><td>float64</td><td>[[[9.71953164e-01, 0.00000000e+00, 0.00000000e+00...</td></tr>\n",
       "</tbody>\n",
       "</table>"
      ],
      "text/plain": [
       "<IPython.core.display.HTML object>"
      ]
     },
     "metadata": {},
     "output_type": "display_data"
    },
    {
     "name": "stdout",
     "output_type": "stream",
     "text": [
      "Best_guess f([0.625 0.125 0.575]) = -0.22666967181799938\n",
      "Beginning evaluation 8\n",
      "Maximizer:\n",
      "[[0.575 0.125 0.525]]\n",
      "Evaluation 8: Next query is [[0.575 0.125 0.525]\n",
      " [0.625 0.125 0.525]] with EI value of [0.34699495]\n",
      "Evaluation 8: Training model\n",
      "Optimizer config:  {'name': 'RMSprop', 'learning_rate': 0.001, 'decay': 0.0, 'rho': 0.0, 'momentum': 0.0, 'epsilon': 1e-07, 'centered': False}\n",
      "Indifference_threshold is fixed at 0.0\n",
      "Initialize lengthscale at [0.5 0.5 0.5]\n",
      "       signal variance at 1.0\n",
      "   Initial negative ELBO: 427738.14677396783\n",
      "Negative ELBO at step 0: 421286.1249761021 in 0.3485s\n",
      "Negative ELBO at step 500: 632.6997381307464 in 114.2744s\n",
      "Negative ELBO at step 1000: 18.636770230058055 in 115.7022s\n",
      "Negative ELBO at step 1500: 17.870859850222473 in 115.7435s\n",
      "Negative ELBO at step 2000: 17.54576732872382 in 114.5187s\n",
      "Negative ELBO at step 2500: 17.51627128602833 in 115.1768s\n"
     ]
    },
    {
     "data": {
      "text/html": [
       "<table>\n",
       "<thead>\n",
       "<tr><th>name                    </th><th>class    </th><th>transform       </th><th>prior  </th><th>trainable  </th><th>shape      </th><th>dtype  </th><th>value                             </th></tr>\n",
       "</thead>\n",
       "<tbody>\n",
       "<tr><td>SVGP.kernel.variance    </td><td>Parameter</td><td>Softplus        </td><td>       </td><td>True       </td><td>()         </td><td>float64</td><td>0.8143502533360913                </td></tr>\n",
       "<tr><td>SVGP.kernel.lengthscale </td><td>Parameter</td><td>Softplus + Shift</td><td>       </td><td>True       </td><td>(3,)       </td><td>float64</td><td>[0.1895635  0.41231155 0.18343817]</td></tr>\n",
       "<tr><td>SVGP.likelihood.variance</td><td>Parameter</td><td>Softplus + Shift</td><td>       </td><td>True       </td><td>()         </td><td>float64</td><td>1.0                               </td></tr>\n",
       "<tr><td>SVGP.inducing_variable.Z</td><td>Parameter</td><td>                </td><td>       </td><td>False      </td><td>(33, 3)    </td><td>float64</td><td>[[0.125, 0.025, 0.075...          </td></tr>\n",
       "<tr><td>SVGP.q_mu               </td><td>Parameter</td><td>                </td><td>       </td><td>False      </td><td>(33, 1)    </td><td>float64</td><td>[[0.32993988...                   </td></tr>\n",
       "<tr><td>SVGP.q_sqrt             </td><td>Parameter</td><td>FillTriangular  </td><td>       </td><td>False      </td><td>(1, 33, 33)</td><td>float64</td><td>[[[0.82419088, 0., 0....          </td></tr>\n",
       "</tbody>\n",
       "</table>"
      ],
      "text/plain": [
       "<IPython.core.display.HTML object>"
      ]
     },
     "metadata": {},
     "output_type": "display_data"
    },
    {
     "name": "stdout",
     "output_type": "stream",
     "text": [
      "Best_guess f([0.025 0.375 0.675]) = -1.578259421473023\n",
      "Beginning evaluation 9\n",
      "Maximizer:\n",
      "[[0.025 0.225 0.675]]\n",
      "Evaluation 9: Next query is [[0.025 0.225 0.675]\n",
      " [0.025 0.425 0.675]] with EI value of [0.32388244]\n",
      "Evaluation 9: Training model\n",
      "Optimizer config:  {'name': 'RMSprop', 'learning_rate': 0.001, 'decay': 0.0, 'rho': 0.0, 'momentum': 0.0, 'epsilon': 1e-07, 'centered': False}\n",
      "Indifference_threshold is fixed at 0.0\n",
      "Initialize lengthscale at [0.5 0.5 0.5]\n",
      "       signal variance at 1.0\n",
      "   Initial negative ELBO: 411246.6136774247\n",
      "Negative ELBO at step 0: 405080.04075528873 in 0.3707s\n",
      "Negative ELBO at step 500: 680.7855310114272 in 121.8693s\n",
      "Negative ELBO at step 1000: 19.39814468791161 in 116.3207s\n",
      "Negative ELBO at step 1500: 18.866311835527974 in 114.3414s\n",
      "Negative ELBO at step 2000: 18.54593895737345 in 115.2449s\n",
      "Negative ELBO at step 2500: 18.491982940826546 in 118.3376s\n"
     ]
    },
    {
     "data": {
      "text/html": [
       "<table>\n",
       "<thead>\n",
       "<tr><th>name                    </th><th>class    </th><th>transform       </th><th>prior  </th><th>trainable  </th><th>shape      </th><th>dtype  </th><th>value                             </th></tr>\n",
       "</thead>\n",
       "<tbody>\n",
       "<tr><td>SVGP.kernel.variance    </td><td>Parameter</td><td>Softplus        </td><td>       </td><td>True       </td><td>()         </td><td>float64</td><td>0.7813869851995361                </td></tr>\n",
       "<tr><td>SVGP.kernel.lengthscale </td><td>Parameter</td><td>Softplus + Shift</td><td>       </td><td>True       </td><td>(3,)       </td><td>float64</td><td>[0.19164642 0.39503621 0.18579993]</td></tr>\n",
       "<tr><td>SVGP.likelihood.variance</td><td>Parameter</td><td>Softplus + Shift</td><td>       </td><td>True       </td><td>()         </td><td>float64</td><td>1.0                               </td></tr>\n",
       "<tr><td>SVGP.inducing_variable.Z</td><td>Parameter</td><td>                </td><td>       </td><td>False      </td><td>(34, 3)    </td><td>float64</td><td>[[0.125, 0.025, 0.075...          </td></tr>\n",
       "<tr><td>SVGP.q_mu               </td><td>Parameter</td><td>                </td><td>       </td><td>False      </td><td>(34, 1)    </td><td>float64</td><td>[[0.35788495...                   </td></tr>\n",
       "<tr><td>SVGP.q_sqrt             </td><td>Parameter</td><td>FillTriangular  </td><td>       </td><td>False      </td><td>(1, 34, 34)</td><td>float64</td><td>[[[0.85397584, 0., 0....          </td></tr>\n",
       "</tbody>\n",
       "</table>"
      ],
      "text/plain": [
       "<IPython.core.display.HTML object>"
      ]
     },
     "metadata": {},
     "output_type": "display_data"
    },
    {
     "name": "stdout",
     "output_type": "stream",
     "text": [
      "Best_guess f([0.025 0.575 0.675]) = -2.3033670825651305\n",
      "Beginning evaluation 10\n",
      "Maximizer:\n",
      "[[0.025 0.425 0.675]]\n",
      "Evaluation 10: Next query is [[0.025 0.425 0.675]\n",
      " [0.025 0.675 0.725]] with EI value of [0.34001056]\n",
      "Evaluation 10: Training model\n",
      "Optimizer config:  {'name': 'RMSprop', 'learning_rate': 0.001, 'decay': 0.0, 'rho': 0.0, 'momentum': 0.0, 'epsilon': 1e-07, 'centered': False}\n",
      "Indifference_threshold is fixed at 0.0\n",
      "Initialize lengthscale at [0.5 0.5 0.5]\n",
      "       signal variance at 1.0\n",
      "   Initial negative ELBO: 406974.8723635008\n",
      "Negative ELBO at step 0: 400843.7355300374 in 0.3755s\n",
      "Negative ELBO at step 500: 657.1166083753214 in 124.0529s\n",
      "Negative ELBO at step 1000: 19.995659539003906 in 123.7638s\n",
      "Negative ELBO at step 1500: 19.548808878763612 in 123.0303s\n",
      "Negative ELBO at step 2000: 19.22141132047076 in 122.8119s\n",
      "Negative ELBO at step 2500: 19.165384378102132 in 122.1770s\n"
     ]
    },
    {
     "data": {
      "text/html": [
       "<table>\n",
       "<thead>\n",
       "<tr><th>name                    </th><th>class    </th><th>transform       </th><th>prior  </th><th>trainable  </th><th>shape      </th><th>dtype  </th><th>value                             </th></tr>\n",
       "</thead>\n",
       "<tbody>\n",
       "<tr><td>SVGP.kernel.variance    </td><td>Parameter</td><td>Softplus        </td><td>       </td><td>True       </td><td>()         </td><td>float64</td><td>0.7922718108832424                </td></tr>\n",
       "<tr><td>SVGP.kernel.lengthscale </td><td>Parameter</td><td>Softplus + Shift</td><td>       </td><td>True       </td><td>(3,)       </td><td>float64</td><td>[0.19025614 0.35864169 0.18818685]</td></tr>\n",
       "<tr><td>SVGP.likelihood.variance</td><td>Parameter</td><td>Softplus + Shift</td><td>       </td><td>True       </td><td>()         </td><td>float64</td><td>1.0                               </td></tr>\n",
       "<tr><td>SVGP.inducing_variable.Z</td><td>Parameter</td><td>                </td><td>       </td><td>False      </td><td>(35, 3)    </td><td>float64</td><td>[[0.125, 0.025, 0.075...          </td></tr>\n",
       "<tr><td>SVGP.q_mu               </td><td>Parameter</td><td>                </td><td>       </td><td>False      </td><td>(35, 1)    </td><td>float64</td><td>[[0.30786329...                   </td></tr>\n",
       "<tr><td>SVGP.q_sqrt             </td><td>Parameter</td><td>FillTriangular  </td><td>       </td><td>False      </td><td>(1, 35, 35)</td><td>float64</td><td>[[[0.83387244, 0., 0....          </td></tr>\n",
       "</tbody>\n",
       "</table>"
      ],
      "text/plain": [
       "<IPython.core.display.HTML object>"
      ]
     },
     "metadata": {},
     "output_type": "display_data"
    },
    {
     "name": "stdout",
     "output_type": "stream",
     "text": [
      "Best_guess f([0.075 0.775 0.725]) = -2.406804291412644\n",
      "Beginning evaluation 11\n",
      "Maximizer:\n",
      "[[0.025 0.675 0.725]]\n",
      "Evaluation 11: Next query is [[0.025 0.675 0.725]\n",
      " [0.125 0.925 0.725]] with EI value of [0.31926098]\n",
      "Evaluation 11: Training model\n",
      "Optimizer config:  {'name': 'RMSprop', 'learning_rate': 0.001, 'decay': 0.0, 'rho': 0.0, 'momentum': 0.0, 'epsilon': 1e-07, 'centered': False}\n",
      "Indifference_threshold is fixed at 0.0\n",
      "Initialize lengthscale at [0.5 0.5 0.5]\n",
      "       signal variance at 1.0\n",
      "   Initial negative ELBO: 430660.2168407198\n",
      "Negative ELBO at step 0: 423955.594152648 in 0.3894s\n",
      "Negative ELBO at step 500: 675.730458771927 in 127.8528s\n",
      "Negative ELBO at step 1000: 20.763512998811624 in 126.7555s\n",
      "Negative ELBO at step 1500: 19.9693490111259 in 126.9983s\n",
      "Negative ELBO at step 2000: 19.657664538468076 in 127.5243s\n",
      "Negative ELBO at step 2500: 19.657640573043317 in 126.3252s\n"
     ]
    },
    {
     "data": {
      "text/html": [
       "<table>\n",
       "<thead>\n",
       "<tr><th>name                    </th><th>class    </th><th>transform       </th><th>prior  </th><th>trainable  </th><th>shape      </th><th>dtype  </th><th>value                                               </th></tr>\n",
       "</thead>\n",
       "<tbody>\n",
       "<tr><td>SVGP.kernel.variance    </td><td>Parameter</td><td>Softplus        </td><td>       </td><td>True       </td><td>()         </td><td>float64</td><td>0.8782865696398064                                  </td></tr>\n",
       "<tr><td>SVGP.kernel.lengthscale </td><td>Parameter</td><td>Softplus + Shift</td><td>       </td><td>True       </td><td>(3,)       </td><td>float64</td><td>[0.18512147 0.39243744 0.18343914]                  </td></tr>\n",
       "<tr><td>SVGP.likelihood.variance</td><td>Parameter</td><td>Softplus + Shift</td><td>       </td><td>True       </td><td>()         </td><td>float64</td><td>1.0                                                 </td></tr>\n",
       "<tr><td>SVGP.inducing_variable.Z</td><td>Parameter</td><td>                </td><td>       </td><td>False      </td><td>(36, 3)    </td><td>float64</td><td>[[0.125, 0.025, 0.075...                            </td></tr>\n",
       "<tr><td>SVGP.q_mu               </td><td>Parameter</td><td>                </td><td>       </td><td>False      </td><td>(36, 1)    </td><td>float64</td><td>[[0.34370485...                                     </td></tr>\n",
       "<tr><td>SVGP.q_sqrt             </td><td>Parameter</td><td>FillTriangular  </td><td>       </td><td>False      </td><td>(1, 36, 36)</td><td>float64</td><td>[[[8.35914010e-01, 0.00000000e+00, 0.00000000e+00...</td></tr>\n",
       "</tbody>\n",
       "</table>"
      ],
      "text/plain": [
       "<IPython.core.display.HTML object>"
      ]
     },
     "metadata": {},
     "output_type": "display_data"
    },
    {
     "name": "stdout",
     "output_type": "stream",
     "text": [
      "Best_guess f([0.025 0.725 0.725]) = -2.564051935134467\n",
      "Beginning evaluation 12\n",
      "Maximizer:\n",
      "[[0.025 0.675 0.725]]\n",
      "Evaluation 12: Next query is [[0.025 0.675 0.725]\n",
      " [0.025 0.675 0.775]] with EI value of [0.34189978]\n",
      "Evaluation 12: Training model\n",
      "Optimizer config:  {'name': 'RMSprop', 'learning_rate': 0.001, 'decay': 0.0, 'rho': 0.0, 'momentum': 0.0, 'epsilon': 1e-07, 'centered': False}\n",
      "Indifference_threshold is fixed at 0.0\n",
      "Initialize lengthscale at [0.5 0.5 0.5]\n",
      "       signal variance at 1.0\n",
      "   Initial negative ELBO: 456911.83471070894\n",
      "Negative ELBO at step 0: 450013.0228123685 in 0.3896s\n",
      "Negative ELBO at step 500: 697.7744571905122 in 128.2008s\n",
      "Negative ELBO at step 1000: 21.464713283437074 in 128.0666s\n",
      "Negative ELBO at step 1500: 20.827615849523887 in 130.4479s\n",
      "Negative ELBO at step 2000: 20.43895453289578 in 134.6915s\n",
      "Negative ELBO at step 2500: 20.355331232631706 in 131.1504s\n"
     ]
    },
    {
     "data": {
      "text/html": [
       "<table>\n",
       "<thead>\n",
       "<tr><th>name                    </th><th>class    </th><th>transform       </th><th>prior  </th><th>trainable  </th><th>shape      </th><th>dtype  </th><th>value                                               </th></tr>\n",
       "</thead>\n",
       "<tbody>\n",
       "<tr><td>SVGP.kernel.variance    </td><td>Parameter</td><td>Softplus        </td><td>       </td><td>True       </td><td>()         </td><td>float64</td><td>0.7966648065955791                                  </td></tr>\n",
       "<tr><td>SVGP.kernel.lengthscale </td><td>Parameter</td><td>Softplus + Shift</td><td>       </td><td>True       </td><td>(3,)       </td><td>float64</td><td>[0.19129676 0.32341556 0.17978453]                  </td></tr>\n",
       "<tr><td>SVGP.likelihood.variance</td><td>Parameter</td><td>Softplus + Shift</td><td>       </td><td>True       </td><td>()         </td><td>float64</td><td>1.0                                                 </td></tr>\n",
       "<tr><td>SVGP.inducing_variable.Z</td><td>Parameter</td><td>                </td><td>       </td><td>False      </td><td>(37, 3)    </td><td>float64</td><td>[[0.125, 0.025, 0.075...                            </td></tr>\n",
       "<tr><td>SVGP.q_mu               </td><td>Parameter</td><td>                </td><td>       </td><td>False      </td><td>(37, 1)    </td><td>float64</td><td>[[0.28812553...                                     </td></tr>\n",
       "<tr><td>SVGP.q_sqrt             </td><td>Parameter</td><td>FillTriangular  </td><td>       </td><td>False      </td><td>(1, 37, 37)</td><td>float64</td><td>[[[8.21978077e-01, 0.00000000e+00, 0.00000000e+00...</td></tr>\n",
       "</tbody>\n",
       "</table>"
      ],
      "text/plain": [
       "<IPython.core.display.HTML object>"
      ]
     },
     "metadata": {},
     "output_type": "display_data"
    },
    {
     "name": "stdout",
     "output_type": "stream",
     "text": [
      "Best_guess f([0.025 0.675 0.725]) = -2.7020385468433696\n",
      "Beginning evaluation 13\n",
      "Maximizer:\n",
      "[[0.025 0.675 0.725]]\n",
      "Evaluation 13: Next query is [[0.025 0.675 0.725]\n",
      " [0.025 0.675 0.675]] with EI value of [0.36758582]\n",
      "Evaluation 13: Training model\n",
      "Optimizer config:  {'name': 'RMSprop', 'learning_rate': 0.001, 'decay': 0.0, 'rho': 0.0, 'momentum': 0.0, 'epsilon': 1e-07, 'centered': False}\n",
      "Indifference_threshold is fixed at 0.0\n",
      "Initialize lengthscale at [0.5 0.5 0.5]\n",
      "       signal variance at 1.0\n",
      "   Initial negative ELBO: 574349.1102480463\n",
      "Negative ELBO at step 0: 565460.7758073327 in 0.4310s\n",
      "Negative ELBO at step 500: 839.33561132652 in 138.6324s\n",
      "Negative ELBO at step 1000: 22.987849052330674 in 136.2082s\n",
      "Negative ELBO at step 1500: 21.971920461729333 in 135.3764s\n",
      "Negative ELBO at step 2500: 21.153014217050323 in 133.6977s\n"
     ]
    },
    {
     "data": {
      "text/html": [
       "<table>\n",
       "<thead>\n",
       "<tr><th>name                    </th><th>class    </th><th>transform       </th><th>prior  </th><th>trainable  </th><th>shape      </th><th>dtype  </th><th>value                                               </th></tr>\n",
       "</thead>\n",
       "<tbody>\n",
       "<tr><td>SVGP.kernel.variance    </td><td>Parameter</td><td>Softplus        </td><td>       </td><td>True       </td><td>()         </td><td>float64</td><td>0.5183796796895707                                  </td></tr>\n",
       "<tr><td>SVGP.kernel.lengthscale </td><td>Parameter</td><td>Softplus + Shift</td><td>       </td><td>True       </td><td>(3,)       </td><td>float64</td><td>[0.17880028 0.24299604 0.15457856]                  </td></tr>\n",
       "<tr><td>SVGP.likelihood.variance</td><td>Parameter</td><td>Softplus + Shift</td><td>       </td><td>True       </td><td>()         </td><td>float64</td><td>1.0                                                 </td></tr>\n",
       "<tr><td>SVGP.inducing_variable.Z</td><td>Parameter</td><td>                </td><td>       </td><td>False      </td><td>(38, 3)    </td><td>float64</td><td>[[0.125, 0.025, 0.075...                            </td></tr>\n",
       "<tr><td>SVGP.q_mu               </td><td>Parameter</td><td>                </td><td>       </td><td>False      </td><td>(38, 1)    </td><td>float64</td><td>[[2.32287734e-01...                                 </td></tr>\n",
       "<tr><td>SVGP.q_sqrt             </td><td>Parameter</td><td>FillTriangular  </td><td>       </td><td>False      </td><td>(1, 38, 38)</td><td>float64</td><td>[[[7.03988855e-01, 0.00000000e+00, 0.00000000e+00...</td></tr>\n",
       "</tbody>\n",
       "</table>"
      ],
      "text/plain": [
       "<IPython.core.display.HTML object>"
      ]
     },
     "metadata": {},
     "output_type": "display_data"
    },
    {
     "name": "stdout",
     "output_type": "stream",
     "text": [
      "Best_guess f([0.625 0.225 0.625]) = -0.572666515893323\n",
      "Beginning evaluation 14\n",
      "Maximizer:\n",
      "[[0.575 0.375 0.625]]\n",
      "Evaluation 14: Next query is [[0.575 0.375 0.625]\n",
      " [0.625 0.225 0.675]] with EI value of [0.28924134]\n",
      "Evaluation 14: Training model\n",
      "Optimizer config:  {'name': 'RMSprop', 'learning_rate': 0.001, 'decay': 0.0, 'rho': 0.0, 'momentum': 0.0, 'epsilon': 1e-07, 'centered': False}\n",
      "Indifference_threshold is fixed at 0.0\n",
      "Initialize lengthscale at [0.5 0.5 0.5]\n",
      "       signal variance at 1.0\n",
      "   Initial negative ELBO: 1303071.3896885547\n",
      "Negative ELBO at step 0: 1281758.8808452275 in 0.4388s\n",
      "Negative ELBO at step 500: 1401.7914475345333 in 140.4811s\n",
      "Negative ELBO at step 1000: 24.34473487552767 in 139.5734s\n",
      "Negative ELBO at step 1500: 22.841141174847802 in 141.9854s\n",
      "Negative ELBO at step 2000: 22.518903786215592 in 141.3761s\n",
      "Negative ELBO at step 2500: 22.18602074428117 in 139.8206s\n"
     ]
    },
    {
     "data": {
      "text/html": [
       "<table>\n",
       "<thead>\n",
       "<tr><th>name                    </th><th>class    </th><th>transform       </th><th>prior  </th><th>trainable  </th><th>shape      </th><th>dtype  </th><th>value                             </th></tr>\n",
       "</thead>\n",
       "<tbody>\n",
       "<tr><td>SVGP.kernel.variance    </td><td>Parameter</td><td>Softplus        </td><td>       </td><td>True       </td><td>()         </td><td>float64</td><td>0.4821812260433581                </td></tr>\n",
       "<tr><td>SVGP.kernel.lengthscale </td><td>Parameter</td><td>Softplus + Shift</td><td>       </td><td>True       </td><td>(3,)       </td><td>float64</td><td>[0.18277194 0.21595572 0.15202241]</td></tr>\n",
       "<tr><td>SVGP.likelihood.variance</td><td>Parameter</td><td>Softplus + Shift</td><td>       </td><td>True       </td><td>()         </td><td>float64</td><td>1.0                               </td></tr>\n",
       "<tr><td>SVGP.inducing_variable.Z</td><td>Parameter</td><td>                </td><td>       </td><td>False      </td><td>(39, 3)    </td><td>float64</td><td>[[0.125, 0.025, 0.075...          </td></tr>\n",
       "<tr><td>SVGP.q_mu               </td><td>Parameter</td><td>                </td><td>       </td><td>False      </td><td>(39, 1)    </td><td>float64</td><td>[[0.21591238...                   </td></tr>\n",
       "<tr><td>SVGP.q_sqrt             </td><td>Parameter</td><td>FillTriangular  </td><td>       </td><td>False      </td><td>(1, 39, 39)</td><td>float64</td><td>[[[0.68799545, 0., 0....          </td></tr>\n",
       "</tbody>\n",
       "</table>"
      ],
      "text/plain": [
       "<IPython.core.display.HTML object>"
      ]
     },
     "metadata": {},
     "output_type": "display_data"
    },
    {
     "name": "stdout",
     "output_type": "stream",
     "text": [
      "Best_guess f([0.575 0.475 0.675]) = -1.817416716113582\n",
      "Beginning evaluation 15\n",
      "Maximizer:\n",
      "[[0.575 0.375 0.625]]\n",
      "Evaluation 15: Next query is [[0.575 0.375 0.625]\n",
      " [0.625 0.475 0.675]] with EI value of [0.28476125]\n",
      "Evaluation 15: Training model\n",
      "Optimizer config:  {'name': 'RMSprop', 'learning_rate': 0.001, 'decay': 0.0, 'rho': 0.0, 'momentum': 0.0, 'epsilon': 1e-07, 'centered': False}\n",
      "Indifference_threshold is fixed at 0.0\n",
      "Initialize lengthscale at [0.5 0.5 0.5]\n",
      "       signal variance at 1.0\n",
      "   Initial negative ELBO: 1278668.8498285958\n",
      "Negative ELBO at step 0: 1258104.399602033 in 0.4474s\n",
      "Negative ELBO at step 500: 1444.8784955525405 in 142.7181s\n",
      "Negative ELBO at step 1000: 25.062280493956067 in 142.0735s\n",
      "Negative ELBO at step 1500: 23.585651270987825 in 142.5604s\n",
      "Negative ELBO at step 2000: 23.222082352933075 in 142.2893s\n",
      "Negative ELBO at step 2500: 22.888632801462194 in 141.5262s\n"
     ]
    },
    {
     "data": {
      "text/html": [
       "<table>\n",
       "<thead>\n",
       "<tr><th>name                    </th><th>class    </th><th>transform       </th><th>prior  </th><th>trainable  </th><th>shape      </th><th>dtype  </th><th>value                             </th></tr>\n",
       "</thead>\n",
       "<tbody>\n",
       "<tr><td>SVGP.kernel.variance    </td><td>Parameter</td><td>Softplus        </td><td>       </td><td>True       </td><td>()         </td><td>float64</td><td>0.5119427748058993                </td></tr>\n",
       "<tr><td>SVGP.kernel.lengthscale </td><td>Parameter</td><td>Softplus + Shift</td><td>       </td><td>True       </td><td>(3,)       </td><td>float64</td><td>[0.18044305 0.205325   0.15602044]</td></tr>\n",
       "<tr><td>SVGP.likelihood.variance</td><td>Parameter</td><td>Softplus + Shift</td><td>       </td><td>True       </td><td>()         </td><td>float64</td><td>1.0                               </td></tr>\n",
       "<tr><td>SVGP.inducing_variable.Z</td><td>Parameter</td><td>                </td><td>       </td><td>False      </td><td>(40, 3)    </td><td>float64</td><td>[[0.125, 0.025, 0.075...          </td></tr>\n",
       "<tr><td>SVGP.q_mu               </td><td>Parameter</td><td>                </td><td>       </td><td>False      </td><td>(40, 1)    </td><td>float64</td><td>[[0.18032458...                   </td></tr>\n",
       "<tr><td>SVGP.q_sqrt             </td><td>Parameter</td><td>FillTriangular  </td><td>       </td><td>False      </td><td>(1, 40, 40)</td><td>float64</td><td>[[[0.70440899, 0., 0....          </td></tr>\n",
       "</tbody>\n",
       "</table>"
      ],
      "text/plain": [
       "<IPython.core.display.HTML object>"
      ]
     },
     "metadata": {},
     "output_type": "display_data"
    },
    {
     "name": "stdout",
     "output_type": "stream",
     "text": [
      "Best_guess f([0.625 0.525 0.675]) = -1.8537330917021457\n",
      "Beginning evaluation 16\n",
      "Maximizer:\n",
      "[[0.625 0.475 0.675]]\n",
      "Evaluation 16: Next query is [[0.625 0.475 0.675]\n",
      " [0.625 0.575 0.675]] with EI value of [0.27472722]\n",
      "Evaluation 16: Training model\n",
      "Optimizer config:  {'name': 'RMSprop', 'learning_rate': 0.001, 'decay': 0.0, 'rho': 0.0, 'momentum': 0.0, 'epsilon': 1e-07, 'centered': False}\n",
      "Indifference_threshold is fixed at 0.0\n",
      "Initialize lengthscale at [0.5 0.5 0.5]\n",
      "       signal variance at 1.0\n",
      "   Initial negative ELBO: 1395769.6437929228\n",
      "Negative ELBO at step 0: 1373754.9170079024 in 0.4506s\n",
      "Negative ELBO at step 500: 1517.2090143754056 in 149.2492s\n",
      "Negative ELBO at step 1000: 26.138449574114862 in 147.6830s\n",
      "Negative ELBO at step 1500: 24.269734595901696 in 148.5243s\n",
      "Negative ELBO at step 2000: 23.821534854968586 in 151.7169s\n",
      "Negative ELBO at step 2500: 23.44263798864449 in 149.7796s\n"
     ]
    },
    {
     "data": {
      "text/html": [
       "<table>\n",
       "<thead>\n",
       "<tr><th>name                    </th><th>class    </th><th>transform       </th><th>prior  </th><th>trainable  </th><th>shape      </th><th>dtype  </th><th>value                             </th></tr>\n",
       "</thead>\n",
       "<tbody>\n",
       "<tr><td>SVGP.kernel.variance    </td><td>Parameter</td><td>Softplus        </td><td>       </td><td>True       </td><td>()         </td><td>float64</td><td>0.5498224365735145                </td></tr>\n",
       "<tr><td>SVGP.kernel.lengthscale </td><td>Parameter</td><td>Softplus + Shift</td><td>       </td><td>True       </td><td>(3,)       </td><td>float64</td><td>[0.18210383 0.20793746 0.15659721]</td></tr>\n",
       "<tr><td>SVGP.likelihood.variance</td><td>Parameter</td><td>Softplus + Shift</td><td>       </td><td>True       </td><td>()         </td><td>float64</td><td>1.0                               </td></tr>\n",
       "<tr><td>SVGP.inducing_variable.Z</td><td>Parameter</td><td>                </td><td>       </td><td>False      </td><td>(41, 3)    </td><td>float64</td><td>[[0.125, 0.025, 0.075...          </td></tr>\n",
       "<tr><td>SVGP.q_mu               </td><td>Parameter</td><td>                </td><td>       </td><td>False      </td><td>(41, 1)    </td><td>float64</td><td>[[0.29408868...                   </td></tr>\n",
       "<tr><td>SVGP.q_sqrt             </td><td>Parameter</td><td>FillTriangular  </td><td>       </td><td>False      </td><td>(1, 41, 41)</td><td>float64</td><td>[[[0.6939785, 0., 0....           </td></tr>\n",
       "</tbody>\n",
       "</table>"
      ],
      "text/plain": [
       "<IPython.core.display.HTML object>"
      ]
     },
     "metadata": {},
     "output_type": "display_data"
    },
    {
     "name": "stdout",
     "output_type": "stream",
     "text": [
      "Best_guess f([0.625 0.525 0.675]) = -1.8537330917021457\n",
      "Beginning evaluation 17\n",
      "Maximizer:\n",
      "[[0.625 0.475 0.675]]\n",
      "Evaluation 17: Next query is [[0.625 0.475 0.675]\n",
      " [0.625 0.525 0.675]] with EI value of [0.30131373]\n",
      "Evaluation 17: Training model\n",
      "Optimizer config:  {'name': 'RMSprop', 'learning_rate': 0.001, 'decay': 0.0, 'rho': 0.0, 'momentum': 0.0, 'epsilon': 1e-07, 'centered': False}\n",
      "Indifference_threshold is fixed at 0.0\n",
      "Initialize lengthscale at [0.5 0.5 0.5]\n",
      "       signal variance at 1.0\n",
      "   Initial negative ELBO: 3854006.1312616332\n",
      "Negative ELBO at step 0: 3796461.848308969 in 0.4804s\n",
      "Negative ELBO at step 500: 5969.156692428626 in 153.9346s\n",
      "Negative ELBO at step 1000: 33.436472569402305 in 146.9150s\n",
      "Negative ELBO at step 1500: 24.867131876480457 in 148.6241s\n",
      "Negative ELBO at step 2000: 24.395657248895205 in 152.0645s\n",
      "Negative ELBO at step 2500: 24.152060447403326 in 154.7746s\n"
     ]
    },
    {
     "data": {
      "text/html": [
       "<table>\n",
       "<thead>\n",
       "<tr><th>name                    </th><th>class    </th><th>transform       </th><th>prior  </th><th>trainable  </th><th>shape      </th><th>dtype  </th><th>value                                               </th></tr>\n",
       "</thead>\n",
       "<tbody>\n",
       "<tr><td>SVGP.kernel.variance    </td><td>Parameter</td><td>Softplus        </td><td>       </td><td>True       </td><td>()         </td><td>float64</td><td>0.8065852006230204                                  </td></tr>\n",
       "<tr><td>SVGP.kernel.lengthscale </td><td>Parameter</td><td>Softplus + Shift</td><td>       </td><td>True       </td><td>(3,)       </td><td>float64</td><td>[0.2270822  0.16552226 0.16370023]                  </td></tr>\n",
       "<tr><td>SVGP.likelihood.variance</td><td>Parameter</td><td>Softplus + Shift</td><td>       </td><td>True       </td><td>()         </td><td>float64</td><td>1.0                                                 </td></tr>\n",
       "<tr><td>SVGP.inducing_variable.Z</td><td>Parameter</td><td>                </td><td>       </td><td>False      </td><td>(42, 3)    </td><td>float64</td><td>[[0.125, 0.025, 0.075...                            </td></tr>\n",
       "<tr><td>SVGP.q_mu               </td><td>Parameter</td><td>                </td><td>       </td><td>False      </td><td>(42, 1)    </td><td>float64</td><td>[[0.35974459...                                     </td></tr>\n",
       "<tr><td>SVGP.q_sqrt             </td><td>Parameter</td><td>FillTriangular  </td><td>       </td><td>False      </td><td>(1, 42, 42)</td><td>float64</td><td>[[[8.47992381e-01, 0.00000000e+00, 0.00000000e+00...</td></tr>\n",
       "</tbody>\n",
       "</table>"
      ],
      "text/plain": [
       "<IPython.core.display.HTML object>"
      ]
     },
     "metadata": {},
     "output_type": "display_data"
    },
    {
     "name": "stdout",
     "output_type": "stream",
     "text": [
      "Best_guess f([0.025 0.625 0.675]) = -2.4094904235741508\n",
      "Beginning evaluation 18\n",
      "Maximizer:\n",
      "[[0.025 0.675 0.675]]\n",
      "Evaluation 18: Next query is [[0.025 0.675 0.675]\n",
      " [0.075 0.675 0.675]] with EI value of [0.33422101]\n",
      "Evaluation 18: Training model\n",
      "Optimizer config:  {'name': 'RMSprop', 'learning_rate': 0.001, 'decay': 0.0, 'rho': 0.0, 'momentum': 0.0, 'epsilon': 1e-07, 'centered': False}\n",
      "Indifference_threshold is fixed at 0.0\n",
      "Initialize lengthscale at [0.5 0.5 0.5]\n",
      "       signal variance at 1.0\n",
      "   Initial negative ELBO: 3974916.280996643\n",
      "Negative ELBO at step 0: 3916239.481710461 in 0.4797s\n",
      "Negative ELBO at step 500: 5990.107486743356 in 157.0524s\n",
      "Negative ELBO at step 1000: 34.447481600648054 in 157.7823s\n",
      "Negative ELBO at step 1500: 25.760444831357947 in 162.5643s\n",
      "Negative ELBO at step 2000: 25.258640290086277 in 158.5663s\n",
      "Negative ELBO at step 2500: 24.946695680726783 in 156.1436s\n"
     ]
    },
    {
     "data": {
      "text/html": [
       "<table>\n",
       "<thead>\n",
       "<tr><th>name                    </th><th>class    </th><th>transform       </th><th>prior  </th><th>trainable  </th><th>shape      </th><th>dtype  </th><th>value                             </th></tr>\n",
       "</thead>\n",
       "<tbody>\n",
       "<tr><td>SVGP.kernel.variance    </td><td>Parameter</td><td>Softplus        </td><td>       </td><td>True       </td><td>()         </td><td>float64</td><td>0.7857004363084402                </td></tr>\n",
       "<tr><td>SVGP.kernel.lengthscale </td><td>Parameter</td><td>Softplus + Shift</td><td>       </td><td>True       </td><td>(3,)       </td><td>float64</td><td>[0.22305283 0.17015674 0.1484001 ]</td></tr>\n",
       "<tr><td>SVGP.likelihood.variance</td><td>Parameter</td><td>Softplus + Shift</td><td>       </td><td>True       </td><td>()         </td><td>float64</td><td>1.0                               </td></tr>\n",
       "<tr><td>SVGP.inducing_variable.Z</td><td>Parameter</td><td>                </td><td>       </td><td>False      </td><td>(43, 3)    </td><td>float64</td><td>[[0.125, 0.025, 0.075...          </td></tr>\n",
       "<tr><td>SVGP.q_mu               </td><td>Parameter</td><td>                </td><td>       </td><td>False      </td><td>(43, 1)    </td><td>float64</td><td>[[3.21554906e-01...               </td></tr>\n",
       "<tr><td>SVGP.q_sqrt             </td><td>Parameter</td><td>FillTriangular  </td><td>       </td><td>False      </td><td>(1, 43, 43)</td><td>float64</td><td>[[[0.86192539, 0., 0....          </td></tr>\n",
       "</tbody>\n",
       "</table>"
      ],
      "text/plain": [
       "<IPython.core.display.HTML object>"
      ]
     },
     "metadata": {},
     "output_type": "display_data"
    },
    {
     "name": "stdout",
     "output_type": "stream",
     "text": [
      "Best_guess f([0.075 0.625 0.675]) = -2.430744455222152\n",
      "Beginning evaluation 19\n",
      "Maximizer:\n",
      "[[0.075 0.675 0.675]]\n",
      "Evaluation 19: Next query is [[0.075 0.675 0.675]\n",
      " [0.025 0.675 0.725]] with EI value of [0.34956908]\n",
      "Evaluation 19: Training model\n",
      "Optimizer config:  {'name': 'RMSprop', 'learning_rate': 0.001, 'decay': 0.0, 'rho': 0.0, 'momentum': 0.0, 'epsilon': 1e-07, 'centered': False}\n",
      "Indifference_threshold is fixed at 0.0\n",
      "Initialize lengthscale at [0.5 0.5 0.5]\n",
      "       signal variance at 1.0\n",
      "   Initial negative ELBO: 3910081.1786363046\n",
      "Negative ELBO at step 0: 3851098.009218565 in 0.5017s\n",
      "Negative ELBO at step 500: 5870.867354137231 in 168.5946s\n",
      "Negative ELBO at step 1000: 34.875334041932945 in 168.3107s\n",
      "Negative ELBO at step 1500: 26.516044293529013 in 160.9266s\n",
      "Negative ELBO at step 2000: 25.984091886581574 in 160.0654s\n",
      "Negative ELBO at step 2500: 25.660240950633543 in 163.2440s\n"
     ]
    },
    {
     "data": {
      "text/html": [
       "<table>\n",
       "<thead>\n",
       "<tr><th>name                    </th><th>class    </th><th>transform       </th><th>prior  </th><th>trainable  </th><th>shape      </th><th>dtype  </th><th>value                             </th></tr>\n",
       "</thead>\n",
       "<tbody>\n",
       "<tr><td>SVGP.kernel.variance    </td><td>Parameter</td><td>Softplus        </td><td>       </td><td>True       </td><td>()         </td><td>float64</td><td>0.7356725738888034                </td></tr>\n",
       "<tr><td>SVGP.kernel.lengthscale </td><td>Parameter</td><td>Softplus + Shift</td><td>       </td><td>True       </td><td>(3,)       </td><td>float64</td><td>[0.20644027 0.16613339 0.1574714 ]</td></tr>\n",
       "<tr><td>SVGP.likelihood.variance</td><td>Parameter</td><td>Softplus + Shift</td><td>       </td><td>True       </td><td>()         </td><td>float64</td><td>1.0                               </td></tr>\n",
       "<tr><td>SVGP.inducing_variable.Z</td><td>Parameter</td><td>                </td><td>       </td><td>False      </td><td>(43, 3)    </td><td>float64</td><td>[[0.125, 0.025, 0.075...          </td></tr>\n",
       "<tr><td>SVGP.q_mu               </td><td>Parameter</td><td>                </td><td>       </td><td>False      </td><td>(43, 1)    </td><td>float64</td><td>[[0.32673544...                   </td></tr>\n",
       "<tr><td>SVGP.q_sqrt             </td><td>Parameter</td><td>FillTriangular  </td><td>       </td><td>False      </td><td>(1, 43, 43)</td><td>float64</td><td>[[[0.82394723, 0., 0....          </td></tr>\n",
       "</tbody>\n",
       "</table>"
      ],
      "text/plain": [
       "<IPython.core.display.HTML object>"
      ]
     },
     "metadata": {},
     "output_type": "display_data"
    },
    {
     "name": "stdout",
     "output_type": "stream",
     "text": [
      "Best_guess f([0.025 0.625 0.675]) = -2.4094904235741508\n",
      "Beginning evaluation 20\n",
      "Maximizer:\n",
      "[[0.025 0.675 0.675]]\n",
      "Evaluation 20: Next query is [[0.025 0.675 0.675]\n",
      " [0.075 0.675 0.625]] with EI value of [0.31648193]\n",
      "Evaluation 20: Training model\n",
      "Optimizer config:  {'name': 'RMSprop', 'learning_rate': 0.001, 'decay': 0.0, 'rho': 0.0, 'momentum': 0.0, 'epsilon': 1e-07, 'centered': False}\n",
      "Indifference_threshold is fixed at 0.0\n",
      "Initialize lengthscale at [0.5 0.5 0.5]\n",
      "       signal variance at 1.0\n",
      "   Initial negative ELBO: 4135366.2511516823\n",
      "Negative ELBO at step 0: 4072160.095741254 in 0.5050s\n",
      "Negative ELBO at step 500: 6797.177154374235 in 163.4279s\n",
      "Negative ELBO at step 1000: 37.43599243689849 in 167.8618s\n",
      "Negative ELBO at step 1500: 28.54130578673054 in 169.2866s\n",
      "Negative ELBO at step 2000: 28.017652369824912 in 167.3634s\n",
      "Negative ELBO at step 2500: 27.565267709032327 in 170.1336s\n"
     ]
    },
    {
     "data": {
      "text/html": [
       "<table>\n",
       "<thead>\n",
       "<tr><th>name                    </th><th>class    </th><th>transform       </th><th>prior  </th><th>trainable  </th><th>shape      </th><th>dtype  </th><th>value                                               </th></tr>\n",
       "</thead>\n",
       "<tbody>\n",
       "<tr><td>SVGP.kernel.variance    </td><td>Parameter</td><td>Softplus        </td><td>       </td><td>True       </td><td>()         </td><td>float64</td><td>0.5430905118203073                                  </td></tr>\n",
       "<tr><td>SVGP.kernel.lengthscale </td><td>Parameter</td><td>Softplus + Shift</td><td>       </td><td>True       </td><td>(3,)       </td><td>float64</td><td>[0.10401614 0.16339986 0.15061884]                  </td></tr>\n",
       "<tr><td>SVGP.likelihood.variance</td><td>Parameter</td><td>Softplus + Shift</td><td>       </td><td>True       </td><td>()         </td><td>float64</td><td>1.0                                                 </td></tr>\n",
       "<tr><td>SVGP.inducing_variable.Z</td><td>Parameter</td><td>                </td><td>       </td><td>False      </td><td>(44, 3)    </td><td>float64</td><td>[[0.125, 0.025, 0.075...                            </td></tr>\n",
       "<tr><td>SVGP.q_mu               </td><td>Parameter</td><td>                </td><td>       </td><td>False      </td><td>(44, 1)    </td><td>float64</td><td>[[2.66254550e-01...                                 </td></tr>\n",
       "<tr><td>SVGP.q_sqrt             </td><td>Parameter</td><td>FillTriangular  </td><td>       </td><td>False      </td><td>(1, 44, 44)</td><td>float64</td><td>[[[7.15977732e-01, 0.00000000e+00, 0.00000000e+00...</td></tr>\n",
       "</tbody>\n",
       "</table>"
      ],
      "text/plain": [
       "<IPython.core.display.HTML object>"
      ]
     },
     "metadata": {},
     "output_type": "display_data"
    },
    {
     "name": "stdout",
     "output_type": "stream",
     "text": [
      "Best_guess f([0.575 0.075 0.425]) = -0.4204422807016276\n",
      "Beginning evaluation 21\n",
      "Maximizer:\n",
      "[[0.475 0.075 0.425]]\n",
      "Evaluation 21: Next query is [[0.475 0.075 0.425]\n",
      " [0.625 0.075 0.425]] with EI value of [0.31045028]\n",
      "Evaluation 21: Training model\n",
      "Optimizer config:  {'name': 'RMSprop', 'learning_rate': 0.001, 'decay': 0.0, 'rho': 0.0, 'momentum': 0.0, 'epsilon': 1e-07, 'centered': False}\n",
      "Indifference_threshold is fixed at 0.0\n",
      "Initialize lengthscale at [0.5 0.5 0.5]\n",
      "       signal variance at 1.0\n",
      "   Initial negative ELBO: 4895175.635663531\n",
      "Negative ELBO at step 0: 4822357.671819146 in 0.5466s\n",
      "Negative ELBO at step 500: 7777.468580676503 in 174.0781s\n",
      "Negative ELBO at step 1000: 37.86996079384275 in 176.3676s\n",
      "Negative ELBO at step 1500: 29.155410669359117 in 172.2699s\n",
      "Negative ELBO at step 2000: 28.52414033214808 in 169.8755s\n",
      "Negative ELBO at step 2500: 28.027718766442113 in 168.8946s\n"
     ]
    },
    {
     "data": {
      "text/html": [
       "<table>\n",
       "<thead>\n",
       "<tr><th>name                    </th><th>class    </th><th>transform       </th><th>prior  </th><th>trainable  </th><th>shape      </th><th>dtype  </th><th>value                             </th></tr>\n",
       "</thead>\n",
       "<tbody>\n",
       "<tr><td>SVGP.kernel.variance    </td><td>Parameter</td><td>Softplus        </td><td>       </td><td>True       </td><td>()         </td><td>float64</td><td>0.5347585547375842                </td></tr>\n",
       "<tr><td>SVGP.kernel.lengthscale </td><td>Parameter</td><td>Softplus + Shift</td><td>       </td><td>True       </td><td>(3,)       </td><td>float64</td><td>[0.11942712 0.16011387 0.14007207]</td></tr>\n",
       "<tr><td>SVGP.likelihood.variance</td><td>Parameter</td><td>Softplus + Shift</td><td>       </td><td>True       </td><td>()         </td><td>float64</td><td>1.0                               </td></tr>\n",
       "<tr><td>SVGP.inducing_variable.Z</td><td>Parameter</td><td>                </td><td>       </td><td>False      </td><td>(45, 3)    </td><td>float64</td><td>[[0.125, 0.025, 0.075...          </td></tr>\n",
       "<tr><td>SVGP.q_mu               </td><td>Parameter</td><td>                </td><td>       </td><td>False      </td><td>(45, 1)    </td><td>float64</td><td>[[2.09956903e-01...               </td></tr>\n",
       "<tr><td>SVGP.q_sqrt             </td><td>Parameter</td><td>FillTriangular  </td><td>       </td><td>False      </td><td>(1, 45, 45)</td><td>float64</td><td>[[[0.68600271, 0., 0....          </td></tr>\n",
       "</tbody>\n",
       "</table>"
      ],
      "text/plain": [
       "<IPython.core.display.HTML object>"
      ]
     },
     "metadata": {},
     "output_type": "display_data"
    },
    {
     "name": "stdout",
     "output_type": "stream",
     "text": [
      "Best_guess f([0.475 0.075 0.375]) = -0.6745821361096497\n",
      "Beginning evaluation 22\n",
      "Maximizer:\n",
      "[[0.475 0.075 0.425]]\n",
      "Evaluation 22: Next query is [[0.475 0.075 0.425]\n",
      " [0.375 0.075 0.375]] with EI value of [0.26260019]\n",
      "Evaluation 22: Training model\n",
      "Optimizer config:  {'name': 'RMSprop', 'learning_rate': 0.001, 'decay': 0.0, 'rho': 0.0, 'momentum': 0.0, 'epsilon': 1e-07, 'centered': False}\n",
      "Indifference_threshold is fixed at 0.0\n",
      "Initialize lengthscale at [0.5 0.5 0.5]\n",
      "       signal variance at 1.0\n",
      "   Initial negative ELBO: 6573292.505899576\n",
      "Negative ELBO at step 0: 6469326.185131005 in 0.5216s\n",
      "Negative ELBO at step 500: 8637.352771836784 in 173.5405s\n",
      "Negative ELBO at step 1000: 38.990040737678264 in 171.6293s\n",
      "Negative ELBO at step 1500: 29.963752474685982 in 171.0840s\n",
      "Negative ELBO at step 2000: 29.026277078846626 in 174.0695s\n",
      "Negative ELBO at step 2500: 28.41223165574889 in 178.3496s\n"
     ]
    },
    {
     "data": {
      "text/html": [
       "<table>\n",
       "<thead>\n",
       "<tr><th>name                    </th><th>class    </th><th>transform       </th><th>prior  </th><th>trainable  </th><th>shape      </th><th>dtype  </th><th>value                             </th></tr>\n",
       "</thead>\n",
       "<tbody>\n",
       "<tr><td>SVGP.kernel.variance    </td><td>Parameter</td><td>Softplus        </td><td>       </td><td>True       </td><td>()         </td><td>float64</td><td>0.5380795542899216                </td></tr>\n",
       "<tr><td>SVGP.kernel.lengthscale </td><td>Parameter</td><td>Softplus + Shift</td><td>       </td><td>True       </td><td>(3,)       </td><td>float64</td><td>[0.1082444  0.16159886 0.142443  ]</td></tr>\n",
       "<tr><td>SVGP.likelihood.variance</td><td>Parameter</td><td>Softplus + Shift</td><td>       </td><td>True       </td><td>()         </td><td>float64</td><td>1.0                               </td></tr>\n",
       "<tr><td>SVGP.inducing_variable.Z</td><td>Parameter</td><td>                </td><td>       </td><td>False      </td><td>(46, 3)    </td><td>float64</td><td>[[0.125, 0.025, 0.075...          </td></tr>\n",
       "<tr><td>SVGP.q_mu               </td><td>Parameter</td><td>                </td><td>       </td><td>False      </td><td>(46, 1)    </td><td>float64</td><td>[[2.38049804e-01...               </td></tr>\n",
       "<tr><td>SVGP.q_sqrt             </td><td>Parameter</td><td>FillTriangular  </td><td>       </td><td>False      </td><td>(1, 46, 46)</td><td>float64</td><td>[[[0.71004934, 0., 0....          </td></tr>\n",
       "</tbody>\n",
       "</table>"
      ],
      "text/plain": [
       "<IPython.core.display.HTML object>"
      ]
     },
     "metadata": {},
     "output_type": "display_data"
    },
    {
     "name": "stdout",
     "output_type": "stream",
     "text": [
      "Best_guess f([0.475 0.075 0.425]) = -0.46118540358837395\n",
      "Beginning evaluation 23\n",
      "Maximizer:\n",
      "[[0.475 0.075 0.425]]\n",
      "Evaluation 23: Next query is [[0.475 0.075 0.425]\n",
      " [0.525 0.075 0.475]] with EI value of [0.24796127]\n",
      "Evaluation 23: Training model\n",
      "Optimizer config:  {'name': 'RMSprop', 'learning_rate': 0.001, 'decay': 0.0, 'rho': 0.0, 'momentum': 0.0, 'epsilon': 1e-07, 'centered': False}\n",
      "Indifference_threshold is fixed at 0.0\n",
      "Initialize lengthscale at [0.5 0.5 0.5]\n",
      "       signal variance at 1.0\n",
      "   Initial negative ELBO: 7311567.538931487\n",
      "Negative ELBO at step 0: 7196660.521437501 in 0.5456s\n",
      "Negative ELBO at step 500: 10223.060115881814 in 177.7675s\n",
      "Negative ELBO at step 1000: 40.16442848074205 in 175.5386s\n",
      "Negative ELBO at step 1500: 31.056781073706546 in 178.9128s\n",
      "Negative ELBO at step 2000: 30.066803597597563 in 187.4619s\n",
      "Negative ELBO at step 2500: 29.25619030980274 in 183.4178s\n"
     ]
    },
    {
     "data": {
      "text/html": [
       "<table>\n",
       "<thead>\n",
       "<tr><th>name                    </th><th>class    </th><th>transform       </th><th>prior  </th><th>trainable  </th><th>shape      </th><th>dtype  </th><th>value                                               </th></tr>\n",
       "</thead>\n",
       "<tbody>\n",
       "<tr><td>SVGP.kernel.variance    </td><td>Parameter</td><td>Softplus        </td><td>       </td><td>True       </td><td>()         </td><td>float64</td><td>0.5281620580480288                                  </td></tr>\n",
       "<tr><td>SVGP.kernel.lengthscale </td><td>Parameter</td><td>Softplus + Shift</td><td>       </td><td>True       </td><td>(3,)       </td><td>float64</td><td>[0.10500802 0.1601134  0.13569405]                  </td></tr>\n",
       "<tr><td>SVGP.likelihood.variance</td><td>Parameter</td><td>Softplus + Shift</td><td>       </td><td>True       </td><td>()         </td><td>float64</td><td>1.0                                                 </td></tr>\n",
       "<tr><td>SVGP.inducing_variable.Z</td><td>Parameter</td><td>                </td><td>       </td><td>False      </td><td>(47, 3)    </td><td>float64</td><td>[[0.125, 0.025, 0.075...                            </td></tr>\n",
       "<tr><td>SVGP.q_mu               </td><td>Parameter</td><td>                </td><td>       </td><td>False      </td><td>(47, 1)    </td><td>float64</td><td>[[0.23416756...                                     </td></tr>\n",
       "<tr><td>SVGP.q_sqrt             </td><td>Parameter</td><td>FillTriangular  </td><td>       </td><td>False      </td><td>(1, 47, 47)</td><td>float64</td><td>[[[6.70189602e-01, 0.00000000e+00, 0.00000000e+00...</td></tr>\n",
       "</tbody>\n",
       "</table>"
      ],
      "text/plain": [
       "<IPython.core.display.HTML object>"
      ]
     },
     "metadata": {},
     "output_type": "display_data"
    },
    {
     "name": "stdout",
     "output_type": "stream",
     "text": [
      "Best_guess f([0.525 0.075 0.475]) = -0.2776215072839568\n",
      "Beginning evaluation 24\n",
      "Maximizer:\n",
      "[[0.525 0.075 0.475]]\n",
      "Evaluation 24: Next query is [[0.525 0.075 0.475]\n",
      " [0.575 0.025 0.425]] with EI value of [0.26113549]\n",
      "Evaluation 24: Training model\n",
      "Optimizer config:  {'name': 'RMSprop', 'learning_rate': 0.001, 'decay': 0.0, 'rho': 0.0, 'momentum': 0.0, 'epsilon': 1e-07, 'centered': False}\n",
      "Indifference_threshold is fixed at 0.0\n",
      "Initialize lengthscale at [0.5 0.5 0.5]\n",
      "       signal variance at 1.0\n",
      "   Initial negative ELBO: 11670604.451311847\n",
      "Negative ELBO at step 0: 11475870.5168321 in 0.5501s\n",
      "Negative ELBO at step 500: 13687.732636799135 in 188.1553s\n",
      "Negative ELBO at step 1000: 44.37848788362138 in 190.4495s\n",
      "Negative ELBO at step 1500: 32.90276000371698 in 183.9519s\n",
      "Negative ELBO at step 2000: 31.903097031504856 in 185.6162s\n",
      "Negative ELBO at step 2500: 30.779360111917377 in 190.9970s\n"
     ]
    },
    {
     "data": {
      "text/html": [
       "<table>\n",
       "<thead>\n",
       "<tr><th>name                    </th><th>class    </th><th>transform       </th><th>prior  </th><th>trainable  </th><th>shape      </th><th>dtype  </th><th>value                                               </th></tr>\n",
       "</thead>\n",
       "<tbody>\n",
       "<tr><td>SVGP.kernel.variance    </td><td>Parameter</td><td>Softplus        </td><td>       </td><td>True       </td><td>()         </td><td>float64</td><td>0.5634858988163056                                  </td></tr>\n",
       "<tr><td>SVGP.kernel.lengthscale </td><td>Parameter</td><td>Softplus + Shift</td><td>       </td><td>True       </td><td>(3,)       </td><td>float64</td><td>[0.12924241 0.15231471 0.11242345]                  </td></tr>\n",
       "<tr><td>SVGP.likelihood.variance</td><td>Parameter</td><td>Softplus + Shift</td><td>       </td><td>True       </td><td>()         </td><td>float64</td><td>1.0                                                 </td></tr>\n",
       "<tr><td>SVGP.inducing_variable.Z</td><td>Parameter</td><td>                </td><td>       </td><td>False      </td><td>(48, 3)    </td><td>float64</td><td>[[0.125, 0.025, 0.075...                            </td></tr>\n",
       "<tr><td>SVGP.q_mu               </td><td>Parameter</td><td>                </td><td>       </td><td>False      </td><td>(48, 1)    </td><td>float64</td><td>[[2.25933468e-01...                                 </td></tr>\n",
       "<tr><td>SVGP.q_sqrt             </td><td>Parameter</td><td>FillTriangular  </td><td>       </td><td>False      </td><td>(1, 48, 48)</td><td>float64</td><td>[[[7.49956802e-01, 0.00000000e+00, 0.00000000e+00...</td></tr>\n",
       "</tbody>\n",
       "</table>"
      ],
      "text/plain": [
       "<IPython.core.display.HTML object>"
      ]
     },
     "metadata": {},
     "output_type": "display_data"
    },
    {
     "name": "stdout",
     "output_type": "stream",
     "text": [
      "Best_guess f([0.125 0.025 0.075]) = -0.2534797611869576\n",
      "Beginning evaluation 25\n",
      "Maximizer:\n",
      "[[0.125 0.025 0.075]]\n",
      "Evaluation 25: Next query is [[0.125 0.025 0.075]\n",
      " [0.125 0.075 0.025]] with EI value of [0.28407927]\n",
      "Evaluation 25: Training model\n",
      "Optimizer config:  {'name': 'RMSprop', 'learning_rate': 0.001, 'decay': 0.0, 'rho': 0.0, 'momentum': 0.0, 'epsilon': 1e-07, 'centered': False}\n",
      "Indifference_threshold is fixed at 0.0\n",
      "Initialize lengthscale at [0.5 0.5 0.5]\n",
      "       signal variance at 1.0\n",
      "   Initial negative ELBO: 12224751.423660902\n",
      "Negative ELBO at step 0: 12021739.199975552 in 0.5493s\n",
      "Negative ELBO at step 500: 14114.497900226806 in 183.5417s\n",
      "Negative ELBO at step 1000: 45.33928634160458 in 184.6399s\n",
      "Negative ELBO at step 1500: 33.555972796044216 in 188.1793s\n",
      "Negative ELBO at step 2000: 32.30280352845159 in 187.8195s\n",
      "Negative ELBO at step 2500: 30.280103739177953 in 195.5302s\n"
     ]
    },
    {
     "data": {
      "text/html": [
       "<table>\n",
       "<thead>\n",
       "<tr><th>name                    </th><th>class    </th><th>transform       </th><th>prior  </th><th>trainable  </th><th>shape      </th><th>dtype  </th><th>value                             </th></tr>\n",
       "</thead>\n",
       "<tbody>\n",
       "<tr><td>SVGP.kernel.variance    </td><td>Parameter</td><td>Softplus        </td><td>       </td><td>True       </td><td>()         </td><td>float64</td><td>0.5626248486894803                </td></tr>\n",
       "<tr><td>SVGP.kernel.lengthscale </td><td>Parameter</td><td>Softplus + Shift</td><td>       </td><td>True       </td><td>(3,)       </td><td>float64</td><td>[0.13045955 0.14923108 0.10109372]</td></tr>\n",
       "<tr><td>SVGP.likelihood.variance</td><td>Parameter</td><td>Softplus + Shift</td><td>       </td><td>True       </td><td>()         </td><td>float64</td><td>1.0                               </td></tr>\n",
       "<tr><td>SVGP.inducing_variable.Z</td><td>Parameter</td><td>                </td><td>       </td><td>False      </td><td>(49, 3)    </td><td>float64</td><td>[[0.125, 0.025, 0.075...          </td></tr>\n",
       "<tr><td>SVGP.q_mu               </td><td>Parameter</td><td>                </td><td>       </td><td>False      </td><td>(49, 1)    </td><td>float64</td><td>[[0.27594224...                   </td></tr>\n",
       "<tr><td>SVGP.q_sqrt             </td><td>Parameter</td><td>FillTriangular  </td><td>       </td><td>False      </td><td>(1, 49, 49)</td><td>float64</td><td>[[[0.70198569, 0., 0....          </td></tr>\n",
       "</tbody>\n",
       "</table>"
      ],
      "text/plain": [
       "<IPython.core.display.HTML object>"
      ]
     },
     "metadata": {},
     "output_type": "display_data"
    },
    {
     "name": "stdout",
     "output_type": "stream",
     "text": [
      "Best_guess f([0.025 0.675 0.725]) = -2.7020385468433696\n",
      "Beginning evaluation 26\n",
      "Maximizer:\n",
      "[[0.025 0.675 0.725]]\n",
      "Evaluation 26: Next query is [[0.025 0.675 0.725]\n",
      " [0.025 0.675 0.775]] with EI value of [0.2495972]\n",
      "Evaluation 26: Training model\n",
      "Optimizer config:  {'name': 'RMSprop', 'learning_rate': 0.001, 'decay': 0.0, 'rho': 0.0, 'momentum': 0.0, 'epsilon': 1e-07, 'centered': False}\n",
      "Indifference_threshold is fixed at 0.0\n",
      "Initialize lengthscale at [0.5 0.5 0.5]\n",
      "       signal variance at 1.0\n",
      "   Initial negative ELBO: 11688580.830270123\n",
      "Negative ELBO at step 0: 11489110.046845311 in 0.5754s\n",
      "Negative ELBO at step 500: 14141.563793400037 in 196.2363s\n",
      "Negative ELBO at step 1000: 45.433105805406214 in 200.0731s\n",
      "Negative ELBO at step 1500: 34.13238491862521 in 196.4751s\n",
      "Negative ELBO at step 2000: 33.154838449736275 in 194.6906s\n",
      "Negative ELBO at step 2500: 31.535958306459275 in 194.3555s\n"
     ]
    },
    {
     "data": {
      "text/html": [
       "<table>\n",
       "<thead>\n",
       "<tr><th>name                    </th><th>class    </th><th>transform       </th><th>prior  </th><th>trainable  </th><th>shape      </th><th>dtype  </th><th>value                             </th></tr>\n",
       "</thead>\n",
       "<tbody>\n",
       "<tr><td>SVGP.kernel.variance    </td><td>Parameter</td><td>Softplus        </td><td>       </td><td>True       </td><td>()         </td><td>float64</td><td>0.5566248189821859                </td></tr>\n",
       "<tr><td>SVGP.kernel.lengthscale </td><td>Parameter</td><td>Softplus + Shift</td><td>       </td><td>True       </td><td>(3,)       </td><td>float64</td><td>[0.12261783 0.14512064 0.11010686]</td></tr>\n",
       "<tr><td>SVGP.likelihood.variance</td><td>Parameter</td><td>Softplus + Shift</td><td>       </td><td>True       </td><td>()         </td><td>float64</td><td>1.0                               </td></tr>\n",
       "<tr><td>SVGP.inducing_variable.Z</td><td>Parameter</td><td>                </td><td>       </td><td>False      </td><td>(49, 3)    </td><td>float64</td><td>[[0.125, 0.025, 0.075...          </td></tr>\n",
       "<tr><td>SVGP.q_mu               </td><td>Parameter</td><td>                </td><td>       </td><td>False      </td><td>(49, 1)    </td><td>float64</td><td>[[0.28996958...                   </td></tr>\n",
       "<tr><td>SVGP.q_sqrt             </td><td>Parameter</td><td>FillTriangular  </td><td>       </td><td>False      </td><td>(1, 49, 49)</td><td>float64</td><td>[[[0.72599191, 0., 0....          </td></tr>\n",
       "</tbody>\n",
       "</table>"
      ],
      "text/plain": [
       "<IPython.core.display.HTML object>"
      ]
     },
     "metadata": {},
     "output_type": "display_data"
    },
    {
     "name": "stdout",
     "output_type": "stream",
     "text": [
      "Best_guess f([0.525 0.075 0.475]) = -0.2776215072839568\n",
      "Beginning evaluation 27\n",
      "Maximizer:\n",
      "[[0.525 0.075 0.475]]\n",
      "Evaluation 27: Next query is [[0.525 0.075 0.475]\n",
      " [0.025 0.625 0.775]] with EI value of [0.26177011]\n",
      "Evaluation 27: Training model\n",
      "Optimizer config:  {'name': 'RMSprop', 'learning_rate': 0.001, 'decay': 0.0, 'rho': 0.0, 'momentum': 0.0, 'epsilon': 1e-07, 'centered': False}\n",
      "Indifference_threshold is fixed at 0.0\n",
      "Initialize lengthscale at [0.5 0.5 0.5]\n",
      "       signal variance at 1.0\n",
      "   Initial negative ELBO: 12970168.18707187\n",
      "Negative ELBO at step 0: 12747749.636901174 in 0.6382s\n",
      "Negative ELBO at step 500: 14040.426986052085 in 202.1444s\n",
      "Negative ELBO at step 1000: 45.826067534328814 in 198.6810s\n",
      "Negative ELBO at step 1500: 34.45328821914745 in 198.1690s\n",
      "Negative ELBO at step 2000: 33.428235874239626 in 194.8740s\n",
      "Negative ELBO at step 2500: 32.3639959223327 in 199.1602s\n"
     ]
    },
    {
     "data": {
      "text/html": [
       "<table>\n",
       "<thead>\n",
       "<tr><th>name                    </th><th>class    </th><th>transform       </th><th>prior  </th><th>trainable  </th><th>shape      </th><th>dtype  </th><th>value                             </th></tr>\n",
       "</thead>\n",
       "<tbody>\n",
       "<tr><td>SVGP.kernel.variance    </td><td>Parameter</td><td>Softplus        </td><td>       </td><td>True       </td><td>()         </td><td>float64</td><td>0.5549193200071163                </td></tr>\n",
       "<tr><td>SVGP.kernel.lengthscale </td><td>Parameter</td><td>Softplus + Shift</td><td>       </td><td>True       </td><td>(3,)       </td><td>float64</td><td>[0.12660008 0.15806301 0.11719451]</td></tr>\n",
       "<tr><td>SVGP.likelihood.variance</td><td>Parameter</td><td>Softplus + Shift</td><td>       </td><td>True       </td><td>()         </td><td>float64</td><td>1.0                               </td></tr>\n",
       "<tr><td>SVGP.inducing_variable.Z</td><td>Parameter</td><td>                </td><td>       </td><td>False      </td><td>(50, 3)    </td><td>float64</td><td>[[0.125, 0.025, 0.075...          </td></tr>\n",
       "<tr><td>SVGP.q_mu               </td><td>Parameter</td><td>                </td><td>       </td><td>False      </td><td>(50, 1)    </td><td>float64</td><td>[[0.24998521...                   </td></tr>\n",
       "<tr><td>SVGP.q_sqrt             </td><td>Parameter</td><td>FillTriangular  </td><td>       </td><td>False      </td><td>(1, 50, 50)</td><td>float64</td><td>[[[0.68200474, 0., 0....          </td></tr>\n",
       "</tbody>\n",
       "</table>"
      ],
      "text/plain": [
       "<IPython.core.display.HTML object>"
      ]
     },
     "metadata": {},
     "output_type": "display_data"
    },
    {
     "name": "stdout",
     "output_type": "stream",
     "text": [
      "Best_guess f([0.025 0.625 0.775]) = -3.255400139034979\n",
      "Beginning evaluation 28\n",
      "Maximizer:\n",
      "[[0.025 0.625 0.775]]\n",
      "Evaluation 28: Next query is [[0.025 0.625 0.775]\n",
      " [0.075 0.525 0.775]] with EI value of [0.21625735]\n",
      "Evaluation 28: Training model\n",
      "Optimizer config:  {'name': 'RMSprop', 'learning_rate': 0.001, 'decay': 0.0, 'rho': 0.0, 'momentum': 0.0, 'epsilon': 1e-07, 'centered': False}\n",
      "Indifference_threshold is fixed at 0.0\n",
      "Initialize lengthscale at [0.5 0.5 0.5]\n",
      "       signal variance at 1.0\n",
      "   Initial negative ELBO: 14767718.418742767\n",
      "Negative ELBO at step 0: 14504140.298100455 in 0.7121s\n",
      "Negative ELBO at step 500: 15213.63201074706 in 203.8851s\n",
      "Negative ELBO at step 1000: 48.75625834466584 in 200.5961s\n",
      "Negative ELBO at step 1500: 35.81952087793496 in 202.6266s\n",
      "Negative ELBO at step 2000: 34.70474084134144 in 203.3282s\n",
      "Negative ELBO at step 2500: 33.41599919390295 in 203.5191s\n"
     ]
    },
    {
     "data": {
      "text/html": [
       "<table>\n",
       "<thead>\n",
       "<tr><th>name                    </th><th>class    </th><th>transform       </th><th>prior  </th><th>trainable  </th><th>shape      </th><th>dtype  </th><th>value                                               </th></tr>\n",
       "</thead>\n",
       "<tbody>\n",
       "<tr><td>SVGP.kernel.variance    </td><td>Parameter</td><td>Softplus        </td><td>       </td><td>True       </td><td>()         </td><td>float64</td><td>0.558334206460155                                   </td></tr>\n",
       "<tr><td>SVGP.kernel.lengthscale </td><td>Parameter</td><td>Softplus + Shift</td><td>       </td><td>True       </td><td>(3,)       </td><td>float64</td><td>[0.12948556 0.14431278 0.11808336]                  </td></tr>\n",
       "<tr><td>SVGP.likelihood.variance</td><td>Parameter</td><td>Softplus + Shift</td><td>       </td><td>True       </td><td>()         </td><td>float64</td><td>1.0                                                 </td></tr>\n",
       "<tr><td>SVGP.inducing_variable.Z</td><td>Parameter</td><td>                </td><td>       </td><td>False      </td><td>(51, 3)    </td><td>float64</td><td>[[0.125, 0.025, 0.075...                            </td></tr>\n",
       "<tr><td>SVGP.q_mu               </td><td>Parameter</td><td>                </td><td>       </td><td>False      </td><td>(51, 1)    </td><td>float64</td><td>[[0.24798472...                                     </td></tr>\n",
       "<tr><td>SVGP.q_sqrt             </td><td>Parameter</td><td>FillTriangular  </td><td>       </td><td>False      </td><td>(1, 51, 51)</td><td>float64</td><td>[[[7.06035935e-01, 0.00000000e+00, 0.00000000e+00...</td></tr>\n",
       "</tbody>\n",
       "</table>"
      ],
      "text/plain": [
       "<IPython.core.display.HTML object>"
      ]
     },
     "metadata": {},
     "output_type": "display_data"
    },
    {
     "name": "stdout",
     "output_type": "stream",
     "text": [
      "Best_guess f([0.075 0.575 0.775]) = -3.371437410062468\n",
      "Beginning evaluation 29\n",
      "Maximizer:\n",
      "[[0.075 0.525 0.775]]\n",
      "Evaluation 29: Next query is [[0.075 0.525 0.775]\n",
      " [0.075 0.475 0.725]] with EI value of [0.2514376]\n",
      "Evaluation 29: Training model\n",
      "Optimizer config:  {'name': 'RMSprop', 'learning_rate': 0.001, 'decay': 0.0, 'rho': 0.0, 'momentum': 0.0, 'epsilon': 1e-07, 'centered': False}\n",
      "Indifference_threshold is fixed at 0.0\n",
      "Initialize lengthscale at [0.5 0.5 0.5]\n",
      "       signal variance at 1.0\n",
      "   Initial negative ELBO: 15077921.150584754\n",
      "Negative ELBO at step 0: 14821003.241821194 in 0.6500s\n",
      "Negative ELBO at step 500: 15259.17274583979 in 209.2333s\n",
      "Negative ELBO at step 1000: 49.68901955438703 in 212.6203s\n",
      "Negative ELBO at step 1500: 36.68772283696048 in 207.6238s\n",
      "Negative ELBO at step 2000: 35.43284182353469 in 204.6238s\n",
      "Negative ELBO at step 2500: 33.97700805347061 in 207.7836s\n"
     ]
    },
    {
     "data": {
      "text/html": [
       "<table>\n",
       "<thead>\n",
       "<tr><th>name                    </th><th>class    </th><th>transform       </th><th>prior  </th><th>trainable  </th><th>shape      </th><th>dtype  </th><th>value                             </th></tr>\n",
       "</thead>\n",
       "<tbody>\n",
       "<tr><td>SVGP.kernel.variance    </td><td>Parameter</td><td>Softplus        </td><td>       </td><td>True       </td><td>()         </td><td>float64</td><td>0.5591903834510262                </td></tr>\n",
       "<tr><td>SVGP.kernel.lengthscale </td><td>Parameter</td><td>Softplus + Shift</td><td>       </td><td>True       </td><td>(3,)       </td><td>float64</td><td>[0.12447609 0.14007345 0.11786277]</td></tr>\n",
       "<tr><td>SVGP.likelihood.variance</td><td>Parameter</td><td>Softplus + Shift</td><td>       </td><td>True       </td><td>()         </td><td>float64</td><td>1.0                               </td></tr>\n",
       "<tr><td>SVGP.inducing_variable.Z</td><td>Parameter</td><td>                </td><td>       </td><td>False      </td><td>(52, 3)    </td><td>float64</td><td>[[0.125, 0.025, 0.075...          </td></tr>\n",
       "<tr><td>SVGP.q_mu               </td><td>Parameter</td><td>                </td><td>       </td><td>False      </td><td>(52, 1)    </td><td>float64</td><td>[[0.27605678...                   </td></tr>\n",
       "<tr><td>SVGP.q_sqrt             </td><td>Parameter</td><td>FillTriangular  </td><td>       </td><td>False      </td><td>(1, 52, 52)</td><td>float64</td><td>[[[0.74200002, 0., 0....          </td></tr>\n",
       "</tbody>\n",
       "</table>"
      ],
      "text/plain": [
       "<IPython.core.display.HTML object>"
      ]
     },
     "metadata": {},
     "output_type": "display_data"
    },
    {
     "name": "stdout",
     "output_type": "stream",
     "text": [
      "Best_guess f([0.075 0.525 0.775]) = -3.353580138961151\n",
      "Beginning evaluation 30\n",
      "Maximizer:\n",
      "[[0.075 0.525 0.775]]\n",
      "Evaluation 30: Next query is [[0.075 0.525 0.775]\n",
      " [0.175 0.025 0.125]] with EI value of [0.2583169]\n",
      "Evaluation 30: Training model\n",
      "Optimizer config:  {'name': 'RMSprop', 'learning_rate': 0.001, 'decay': 0.0, 'rho': 0.0, 'momentum': 0.0, 'epsilon': 1e-07, 'centered': False}\n",
      "Indifference_threshold is fixed at 0.0\n",
      "Initialize lengthscale at [0.5 0.5 0.5]\n",
      "       signal variance at 1.0\n",
      "   Initial negative ELBO: 17709639.408891656\n",
      "Negative ELBO at step 0: 17403669.46259993 in 0.6524s\n",
      "Negative ELBO at step 500: 16259.606510994274 in 215.6762s\n",
      "Negative ELBO at step 1000: 51.77133487992107 in 210.8213s\n",
      "Negative ELBO at step 1500: 37.1093212754853 in 208.4108s\n",
      "Negative ELBO at step 2000: 35.538868697024476 in 211.2965s\n",
      "Negative ELBO at step 2500: 34.0343667668226 in 208.6812s\n"
     ]
    },
    {
     "data": {
      "text/html": [
       "<table>\n",
       "<thead>\n",
       "<tr><th>name                    </th><th>class    </th><th>transform       </th><th>prior  </th><th>trainable  </th><th>shape      </th><th>dtype  </th><th>value                             </th></tr>\n",
       "</thead>\n",
       "<tbody>\n",
       "<tr><td>SVGP.kernel.variance    </td><td>Parameter</td><td>Softplus        </td><td>       </td><td>True       </td><td>()         </td><td>float64</td><td>0.5643479604400046                </td></tr>\n",
       "<tr><td>SVGP.kernel.lengthscale </td><td>Parameter</td><td>Softplus + Shift</td><td>       </td><td>True       </td><td>(3,)       </td><td>float64</td><td>[0.13342915 0.14324403 0.11653117]</td></tr>\n",
       "<tr><td>SVGP.likelihood.variance</td><td>Parameter</td><td>Softplus + Shift</td><td>       </td><td>True       </td><td>()         </td><td>float64</td><td>1.0                               </td></tr>\n",
       "<tr><td>SVGP.inducing_variable.Z</td><td>Parameter</td><td>                </td><td>       </td><td>False      </td><td>(53, 3)    </td><td>float64</td><td>[[0.125, 0.025, 0.075...          </td></tr>\n",
       "<tr><td>SVGP.q_mu               </td><td>Parameter</td><td>                </td><td>       </td><td>False      </td><td>(53, 1)    </td><td>float64</td><td>[[0.09200685...                   </td></tr>\n",
       "<tr><td>SVGP.q_sqrt             </td><td>Parameter</td><td>FillTriangular  </td><td>       </td><td>False      </td><td>(1, 53, 53)</td><td>float64</td><td>[[[0.71201243, 0., 0....          </td></tr>\n",
       "</tbody>\n",
       "</table>"
      ],
      "text/plain": [
       "<IPython.core.display.HTML object>"
      ]
     },
     "metadata": {},
     "output_type": "display_data"
    },
    {
     "name": "stdout",
     "output_type": "stream",
     "text": [
      "Best_guess f([0.075 0.575 0.775]) = -3.371437410062468\n",
      "Beginning evaluation 31\n",
      "Maximizer:\n",
      "[[0.075 0.525 0.775]]\n",
      "Evaluation 31: Next query is [[0.075 0.525 0.775]\n",
      " [0.025 0.575 0.725]] with EI value of [0.22989462]\n",
      "Evaluation 31: Training model\n",
      "Optimizer config:  {'name': 'RMSprop', 'learning_rate': 0.001, 'decay': 0.0, 'rho': 0.0, 'momentum': 0.0, 'epsilon': 1e-07, 'centered': False}\n",
      "Indifference_threshold is fixed at 0.0\n",
      "Initialize lengthscale at [0.5 0.5 0.5]\n",
      "       signal variance at 1.0\n",
      "   Initial negative ELBO: 19123611.44582208\n",
      "Negative ELBO at step 0: 18798261.045439165 in 0.6782s\n",
      "Negative ELBO at step 500: 18687.48946433377 in 219.7932s\n",
      "Negative ELBO at step 1000: 55.344279299037694 in 227.5970s\n",
      "Negative ELBO at step 1500: 38.52172762940181 in 224.7407s\n",
      "Negative ELBO at step 2000: 36.30011711430976 in 223.1226s\n",
      "Negative ELBO at step 2500: 34.23083341593541 in 224.3943s\n"
     ]
    },
    {
     "data": {
      "text/html": [
       "<table>\n",
       "<thead>\n",
       "<tr><th>name                    </th><th>class    </th><th>transform       </th><th>prior  </th><th>trainable  </th><th>shape      </th><th>dtype  </th><th>value                             </th></tr>\n",
       "</thead>\n",
       "<tbody>\n",
       "<tr><td>SVGP.kernel.variance    </td><td>Parameter</td><td>Softplus        </td><td>       </td><td>True       </td><td>()         </td><td>float64</td><td>0.5738952955417652                </td></tr>\n",
       "<tr><td>SVGP.kernel.lengthscale </td><td>Parameter</td><td>Softplus + Shift</td><td>       </td><td>True       </td><td>(3,)       </td><td>float64</td><td>[0.10601046 0.1427084  0.10128731]</td></tr>\n",
       "<tr><td>SVGP.likelihood.variance</td><td>Parameter</td><td>Softplus + Shift</td><td>       </td><td>True       </td><td>()         </td><td>float64</td><td>1.0                               </td></tr>\n",
       "<tr><td>SVGP.inducing_variable.Z</td><td>Parameter</td><td>                </td><td>       </td><td>False      </td><td>(54, 3)    </td><td>float64</td><td>[[0.125, 0.025, 0.075...          </td></tr>\n",
       "<tr><td>SVGP.q_mu               </td><td>Parameter</td><td>                </td><td>       </td><td>False      </td><td>(54, 1)    </td><td>float64</td><td>[[0.12401321...                   </td></tr>\n",
       "<tr><td>SVGP.q_sqrt             </td><td>Parameter</td><td>FillTriangular  </td><td>       </td><td>False      </td><td>(1, 54, 54)</td><td>float64</td><td>[[[0.71401755, 0., 0....          </td></tr>\n",
       "</tbody>\n",
       "</table>"
      ],
      "text/plain": [
       "<IPython.core.display.HTML object>"
      ]
     },
     "metadata": {},
     "output_type": "display_data"
    },
    {
     "name": "stdout",
     "output_type": "stream",
     "text": [
      "Best_guess f([0.025 0.575 0.725]) = -2.8049897542962174\n",
      "Beginning evaluation 32\n",
      "Maximizer:\n",
      "[[0.025 0.575 0.725]]\n",
      "Evaluation 32: Next query is [[0.025 0.575 0.725]\n",
      " [0.075 0.575 0.775]] with EI value of [0.20861416]\n",
      "Evaluation 32: Training model\n",
      "Optimizer config:  {'name': 'RMSprop', 'learning_rate': 0.001, 'decay': 0.0, 'rho': 0.0, 'momentum': 0.0, 'epsilon': 1e-07, 'centered': False}\n",
      "Indifference_threshold is fixed at 0.0\n",
      "Initialize lengthscale at [0.5 0.5 0.5]\n",
      "       signal variance at 1.0\n",
      "   Initial negative ELBO: 24545017.796852708\n",
      "Negative ELBO at step 0: 24101050.95780533 in 0.6603s\n",
      "Negative ELBO at step 500: 21267.72418180933 in 227.0573s\n",
      "Negative ELBO at step 1000: 57.30780397491286 in 218.9432s\n",
      "Negative ELBO at step 1500: 39.21635491882614 in 225.4488s\n",
      "Negative ELBO at step 2000: 37.62222376130468 in 222.1270s\n",
      "Negative ELBO at step 2500: 36.274004905005654 in 216.9169s\n"
     ]
    },
    {
     "data": {
      "text/html": [
       "<table>\n",
       "<thead>\n",
       "<tr><th>name                    </th><th>class    </th><th>transform       </th><th>prior  </th><th>trainable  </th><th>shape      </th><th>dtype  </th><th>value                             </th></tr>\n",
       "</thead>\n",
       "<tbody>\n",
       "<tr><td>SVGP.kernel.variance    </td><td>Parameter</td><td>Softplus        </td><td>       </td><td>True       </td><td>()         </td><td>float64</td><td>0.5817952697274688                </td></tr>\n",
       "<tr><td>SVGP.kernel.lengthscale </td><td>Parameter</td><td>Softplus + Shift</td><td>       </td><td>True       </td><td>(3,)       </td><td>float64</td><td>[0.12169317 0.13095058 0.11370581]</td></tr>\n",
       "<tr><td>SVGP.likelihood.variance</td><td>Parameter</td><td>Softplus + Shift</td><td>       </td><td>True       </td><td>()         </td><td>float64</td><td>1.0                               </td></tr>\n",
       "<tr><td>SVGP.inducing_variable.Z</td><td>Parameter</td><td>                </td><td>       </td><td>False      </td><td>(55, 3)    </td><td>float64</td><td>[[0.125, 0.025, 0.075...          </td></tr>\n",
       "<tr><td>SVGP.q_mu               </td><td>Parameter</td><td>                </td><td>       </td><td>False      </td><td>(55, 1)    </td><td>float64</td><td>[[0.06999946...                   </td></tr>\n",
       "<tr><td>SVGP.q_sqrt             </td><td>Parameter</td><td>FillTriangular  </td><td>       </td><td>False      </td><td>(1, 55, 55)</td><td>float64</td><td>[[[0.68796869, 0., 0....          </td></tr>\n",
       "</tbody>\n",
       "</table>"
      ],
      "text/plain": [
       "<IPython.core.display.HTML object>"
      ]
     },
     "metadata": {},
     "output_type": "display_data"
    },
    {
     "name": "stdout",
     "output_type": "stream",
     "text": [
      "Best_guess f([0.625 0.575 0.675]) = -1.871376861674726\n",
      "Beginning evaluation 33\n",
      "Maximizer:\n",
      "[[0.625 0.575 0.675]]\n",
      "Evaluation 33: Next query is [[0.625 0.575 0.675]\n",
      " [0.575 0.575 0.675]] with EI value of [0.28758552]\n",
      "Evaluation 33: Training model\n",
      "Optimizer config:  {'name': 'RMSprop', 'learning_rate': 0.001, 'decay': 0.0, 'rho': 0.0, 'momentum': 0.0, 'epsilon': 1e-07, 'centered': False}\n",
      "Indifference_threshold is fixed at 0.0\n",
      "Initialize lengthscale at [0.5 0.5 0.5]\n",
      "       signal variance at 1.0\n",
      "   Initial negative ELBO: 26360086.007089548\n",
      "Negative ELBO at step 0: 25884672.363084044 in 0.6904s\n",
      "Negative ELBO at step 500: 21510.157308125083 in 226.0517s\n",
      "Negative ELBO at step 1000: 58.45215205932321 in 227.6278s\n",
      "Negative ELBO at step 1500: 39.855086747969 in 236.3333s\n",
      "Negative ELBO at step 2000: 37.88318170865323 in 232.5373s\n",
      "Negative ELBO at step 2500: 35.99335276990244 in 228.7749s\n"
     ]
    },
    {
     "data": {
      "text/html": [
       "<table>\n",
       "<thead>\n",
       "<tr><th>name                    </th><th>class    </th><th>transform       </th><th>prior  </th><th>trainable  </th><th>shape      </th><th>dtype  </th><th>value                                               </th></tr>\n",
       "</thead>\n",
       "<tbody>\n",
       "<tr><td>SVGP.kernel.variance    </td><td>Parameter</td><td>Softplus        </td><td>       </td><td>True       </td><td>()         </td><td>float64</td><td>0.5765197500449933                                  </td></tr>\n",
       "<tr><td>SVGP.kernel.lengthscale </td><td>Parameter</td><td>Softplus + Shift</td><td>       </td><td>True       </td><td>(3,)       </td><td>float64</td><td>[0.11392158 0.12948526 0.10167242]                  </td></tr>\n",
       "<tr><td>SVGP.likelihood.variance</td><td>Parameter</td><td>Softplus + Shift</td><td>       </td><td>True       </td><td>()         </td><td>float64</td><td>1.0                                                 </td></tr>\n",
       "<tr><td>SVGP.inducing_variable.Z</td><td>Parameter</td><td>                </td><td>       </td><td>False      </td><td>(56, 3)    </td><td>float64</td><td>[[0.125, 0.025, 0.075...                            </td></tr>\n",
       "<tr><td>SVGP.q_mu               </td><td>Parameter</td><td>                </td><td>       </td><td>False      </td><td>(56, 1)    </td><td>float64</td><td>[[0.09999096...                                     </td></tr>\n",
       "<tr><td>SVGP.q_sqrt             </td><td>Parameter</td><td>FillTriangular  </td><td>       </td><td>False      </td><td>(1, 56, 56)</td><td>float64</td><td>[[[6.99965419e-01, 0.00000000e+00, 0.00000000e+00...</td></tr>\n",
       "</tbody>\n",
       "</table>"
      ],
      "text/plain": [
       "<IPython.core.display.HTML object>"
      ]
     },
     "metadata": {},
     "output_type": "display_data"
    },
    {
     "name": "stdout",
     "output_type": "stream",
     "text": [
      "Best_guess f([0.075 0.575 0.775]) = -3.371437410062468\n",
      "Beginning evaluation 34\n",
      "Maximizer:\n",
      "[[0.075 0.575 0.775]]\n",
      "Evaluation 34: Next query is [[0.075 0.575 0.775]\n",
      " [0.075 0.525 0.825]] with EI value of [0.23854371]\n",
      "Evaluation 34: Training model\n",
      "Optimizer config:  {'name': 'RMSprop', 'learning_rate': 0.001, 'decay': 0.0, 'rho': 0.0, 'momentum': 0.0, 'epsilon': 1e-07, 'centered': False}\n",
      "Indifference_threshold is fixed at 0.0\n",
      "Initialize lengthscale at [0.5 0.5 0.5]\n",
      "       signal variance at 1.0\n",
      "   Initial negative ELBO: 33100755.706728186\n",
      "Negative ELBO at step 0: 32497018.286490805 in 0.6926s\n",
      "Negative ELBO at step 500: 23269.3457411298 in 229.3635s\n",
      "Negative ELBO at step 1000: 65.55084524321211 in 226.5204s\n",
      "Negative ELBO at step 1500: 39.94554923731147 in 234.3924s\n",
      "Negative ELBO at step 2000: 38.21423131056277 in 235.5097s\n",
      "Negative ELBO at step 2500: 36.9229739997089 in 237.2346s\n"
     ]
    },
    {
     "data": {
      "text/html": [
       "<table>\n",
       "<thead>\n",
       "<tr><th>name                    </th><th>class    </th><th>transform       </th><th>prior  </th><th>trainable  </th><th>shape      </th><th>dtype  </th><th>value                             </th></tr>\n",
       "</thead>\n",
       "<tbody>\n",
       "<tr><td>SVGP.kernel.variance    </td><td>Parameter</td><td>Softplus        </td><td>       </td><td>True       </td><td>()         </td><td>float64</td><td>0.6262115882819826                </td></tr>\n",
       "<tr><td>SVGP.kernel.lengthscale </td><td>Parameter</td><td>Softplus + Shift</td><td>       </td><td>True       </td><td>(3,)       </td><td>float64</td><td>[0.11543748 0.13119607 0.09899813]</td></tr>\n",
       "<tr><td>SVGP.likelihood.variance</td><td>Parameter</td><td>Softplus + Shift</td><td>       </td><td>True       </td><td>()         </td><td>float64</td><td>1.0                               </td></tr>\n",
       "<tr><td>SVGP.inducing_variable.Z</td><td>Parameter</td><td>                </td><td>       </td><td>False      </td><td>(57, 3)    </td><td>float64</td><td>[[0.125, 0.025, 0.075...          </td></tr>\n",
       "<tr><td>SVGP.q_mu               </td><td>Parameter</td><td>                </td><td>       </td><td>False      </td><td>(57, 1)    </td><td>float64</td><td>[[0.10600646...                   </td></tr>\n",
       "<tr><td>SVGP.q_sqrt             </td><td>Parameter</td><td>FillTriangular  </td><td>       </td><td>False      </td><td>(1, 57, 57)</td><td>float64</td><td>[[[0.71200459, 0., 0....          </td></tr>\n",
       "</tbody>\n",
       "</table>"
      ],
      "text/plain": [
       "<IPython.core.display.HTML object>"
      ]
     },
     "metadata": {},
     "output_type": "display_data"
    },
    {
     "name": "stdout",
     "output_type": "stream",
     "text": [
      "Best_guess f([0.575 0.575 0.675]) = -1.9333783762397538\n",
      "Beginning evaluation 35\n",
      "Maximizer:\n",
      "[[0.575 0.575 0.675]]\n",
      "Evaluation 35: Next query is [[0.575 0.575 0.675]\n",
      " [0.625 0.525 0.725]] with EI value of [0.31248412]\n",
      "Evaluation 35: Training model\n",
      "Optimizer config:  {'name': 'RMSprop', 'learning_rate': 0.001, 'decay': 0.0, 'rho': 0.0, 'momentum': 0.0, 'epsilon': 1e-07, 'centered': False}\n",
      "Indifference_threshold is fixed at 0.0\n",
      "Initialize lengthscale at [0.5 0.5 0.5]\n",
      "       signal variance at 1.0\n",
      "   Initial negative ELBO: 37766273.90097126\n",
      "Negative ELBO at step 0: 37066094.50900446 in 0.7586s\n",
      "Negative ELBO at step 500: 24350.983394280534 in 233.6909s\n",
      "Negative ELBO at step 1000: 65.7825285860188 in 235.6039s\n",
      "Negative ELBO at step 1500: 40.308795288033224 in 235.5831s\n",
      "Negative ELBO at step 2000: 37.94267140744995 in 236.6107s\n",
      "Negative ELBO at step 2500: 36.95159344238243 in 244.2885s\n"
     ]
    },
    {
     "data": {
      "text/html": [
       "<table>\n",
       "<thead>\n",
       "<tr><th>name                    </th><th>class    </th><th>transform       </th><th>prior  </th><th>trainable  </th><th>shape      </th><th>dtype  </th><th>value                             </th></tr>\n",
       "</thead>\n",
       "<tbody>\n",
       "<tr><td>SVGP.kernel.variance    </td><td>Parameter</td><td>Softplus        </td><td>       </td><td>True       </td><td>()         </td><td>float64</td><td>0.6271430551871244                </td></tr>\n",
       "<tr><td>SVGP.kernel.lengthscale </td><td>Parameter</td><td>Softplus + Shift</td><td>       </td><td>True       </td><td>(3,)       </td><td>float64</td><td>[0.12924323 0.12851715 0.10109321]</td></tr>\n",
       "<tr><td>SVGP.likelihood.variance</td><td>Parameter</td><td>Softplus + Shift</td><td>       </td><td>True       </td><td>()         </td><td>float64</td><td>1.0                               </td></tr>\n",
       "<tr><td>SVGP.inducing_variable.Z</td><td>Parameter</td><td>                </td><td>       </td><td>False      </td><td>(58, 3)    </td><td>float64</td><td>[[0.125, 0.025, 0.075...          </td></tr>\n",
       "<tr><td>SVGP.q_mu               </td><td>Parameter</td><td>                </td><td>       </td><td>False      </td><td>(58, 1)    </td><td>float64</td><td>[[0.17996516...                   </td></tr>\n",
       "<tr><td>SVGP.q_sqrt             </td><td>Parameter</td><td>FillTriangular  </td><td>       </td><td>False      </td><td>(1, 58, 58)</td><td>float64</td><td>[[[0.73798664, 0., 0....          </td></tr>\n",
       "</tbody>\n",
       "</table>"
      ],
      "text/plain": [
       "<IPython.core.display.HTML object>"
      ]
     },
     "metadata": {},
     "output_type": "display_data"
    },
    {
     "name": "stdout",
     "output_type": "stream",
     "text": [
      "Best_guess f([0.025 0.575 0.775]) = -3.3626526901356915\n",
      "Beginning evaluation 36\n",
      "Maximizer:\n",
      "[[0.075 0.575 0.775]]\n",
      "Evaluation 36: Next query is [[0.075 0.575 0.775]\n",
      " [0.625 0.525 0.725]] with EI value of [0.25521733]\n",
      "Evaluation 36: Training model\n",
      "Optimizer config:  {'name': 'RMSprop', 'learning_rate': 0.001, 'decay': 0.0, 'rho': 0.0, 'momentum': 0.0, 'epsilon': 1e-07, 'centered': False}\n",
      "Indifference_threshold is fixed at 0.0\n",
      "Initialize lengthscale at [0.5 0.5 0.5]\n",
      "       signal variance at 1.0\n",
      "   Initial negative ELBO: 37180048.69098757\n",
      "Negative ELBO at step 0: 36495258.50309352 in 0.7490s\n",
      "Negative ELBO at step 500: 23227.589280104803 in 252.0006s\n",
      "Negative ELBO at step 1000: 66.90543808263837 in 252.6766s\n",
      "Negative ELBO at step 1500: 41.266864226304705 in 247.4191s\n",
      "Negative ELBO at step 2000: 39.48665954118193 in 241.2351s\n",
      "Negative ELBO at step 2500: 38.49474683364964 in 238.8681s\n"
     ]
    },
    {
     "data": {
      "text/html": [
       "<table>\n",
       "<thead>\n",
       "<tr><th>name                    </th><th>class    </th><th>transform       </th><th>prior  </th><th>trainable  </th><th>shape      </th><th>dtype  </th><th>value                             </th></tr>\n",
       "</thead>\n",
       "<tbody>\n",
       "<tr><td>SVGP.kernel.variance    </td><td>Parameter</td><td>Softplus        </td><td>       </td><td>True       </td><td>()         </td><td>float64</td><td>0.6290084213276775                </td></tr>\n",
       "<tr><td>SVGP.kernel.lengthscale </td><td>Parameter</td><td>Softplus + Shift</td><td>       </td><td>True       </td><td>(3,)       </td><td>float64</td><td>[0.10947297 0.12972653 0.10783542]</td></tr>\n",
       "<tr><td>SVGP.likelihood.variance</td><td>Parameter</td><td>Softplus + Shift</td><td>       </td><td>True       </td><td>()         </td><td>float64</td><td>1.0                               </td></tr>\n",
       "<tr><td>SVGP.inducing_variable.Z</td><td>Parameter</td><td>                </td><td>       </td><td>False      </td><td>(58, 3)    </td><td>float64</td><td>[[0.125, 0.025, 0.075...          </td></tr>\n",
       "<tr><td>SVGP.q_mu               </td><td>Parameter</td><td>                </td><td>       </td><td>False      </td><td>(58, 1)    </td><td>float64</td><td>[[0.06400419...                   </td></tr>\n",
       "<tr><td>SVGP.q_sqrt             </td><td>Parameter</td><td>FillTriangular  </td><td>       </td><td>False      </td><td>(1, 58, 58)</td><td>float64</td><td>[[[0.73797145, 0., 0....          </td></tr>\n",
       "</tbody>\n",
       "</table>"
      ],
      "text/plain": [
       "<IPython.core.display.HTML object>"
      ]
     },
     "metadata": {},
     "output_type": "display_data"
    },
    {
     "name": "stdout",
     "output_type": "stream",
     "text": [
      "Best_guess f([0.625 0.525 0.725]) = -2.5232859597452326\n",
      "Beginning evaluation 37\n",
      "Maximizer:\n",
      "[[0.625 0.525 0.725]]\n",
      "Evaluation 37: Next query is [[0.625 0.525 0.725]\n",
      " [0.625 0.525 0.675]] with EI value of [0.3380852]\n",
      "Evaluation 37: Training model\n",
      "Optimizer config:  {'name': 'RMSprop', 'learning_rate': 0.001, 'decay': 0.0, 'rho': 0.0, 'momentum': 0.0, 'epsilon': 1e-07, 'centered': False}\n",
      "Indifference_threshold is fixed at 0.0\n",
      "Initialize lengthscale at [0.5 0.5 0.5]\n",
      "       signal variance at 1.0\n",
      "   Initial negative ELBO: 35983698.12784259\n",
      "Negative ELBO at step 0: 35336025.88503747 in 0.7226s\n",
      "Negative ELBO at step 500: 23802.720454248076 in 239.4986s\n",
      "Negative ELBO at step 1000: 66.7473713360001 in 240.3254s\n",
      "Negative ELBO at step 1500: 41.917200725616176 in 246.4720s\n",
      "Negative ELBO at step 2000: 40.00495230738944 in 255.9399s\n",
      "Negative ELBO at step 2500: 38.94193771217415 in 254.3737s\n"
     ]
    },
    {
     "data": {
      "text/html": [
       "<table>\n",
       "<thead>\n",
       "<tr><th>name                    </th><th>class    </th><th>transform       </th><th>prior  </th><th>trainable  </th><th>shape      </th><th>dtype  </th><th>value                                               </th></tr>\n",
       "</thead>\n",
       "<tbody>\n",
       "<tr><td>SVGP.kernel.variance    </td><td>Parameter</td><td>Softplus        </td><td>       </td><td>True       </td><td>()         </td><td>float64</td><td>0.6234237925271019                                  </td></tr>\n",
       "<tr><td>SVGP.kernel.lengthscale </td><td>Parameter</td><td>Softplus + Shift</td><td>       </td><td>True       </td><td>(3,)       </td><td>float64</td><td>[0.12055696 0.12565252 0.10441243]                  </td></tr>\n",
       "<tr><td>SVGP.likelihood.variance</td><td>Parameter</td><td>Softplus + Shift</td><td>       </td><td>True       </td><td>()         </td><td>float64</td><td>1.0                                                 </td></tr>\n",
       "<tr><td>SVGP.inducing_variable.Z</td><td>Parameter</td><td>                </td><td>       </td><td>False      </td><td>(58, 3)    </td><td>float64</td><td>[[0.125, 0.025, 0.075...                            </td></tr>\n",
       "<tr><td>SVGP.q_mu               </td><td>Parameter</td><td>                </td><td>       </td><td>False      </td><td>(58, 1)    </td><td>float64</td><td>[[0.00599981...                                     </td></tr>\n",
       "<tr><td>SVGP.q_sqrt             </td><td>Parameter</td><td>FillTriangular  </td><td>       </td><td>False      </td><td>(1, 58, 58)</td><td>float64</td><td>[[[7.56005793e-01, 0.00000000e+00, 0.00000000e+00...</td></tr>\n",
       "</tbody>\n",
       "</table>"
      ],
      "text/plain": [
       "<IPython.core.display.HTML object>"
      ]
     },
     "metadata": {},
     "output_type": "display_data"
    },
    {
     "name": "stdout",
     "output_type": "stream",
     "text": [
      "Best_guess f([0.625 0.525 0.725]) = -2.5232859597452326\n",
      "Beginning evaluation 38\n",
      "Maximizer:\n",
      "[[0.625 0.525 0.725]]\n",
      "Evaluation 38: Next query is [[0.625 0.525 0.725]\n",
      " [0.625 0.475 0.775]] with EI value of [0.25423752]\n",
      "Evaluation 38: Training model\n",
      "Optimizer config:  {'name': 'RMSprop', 'learning_rate': 0.001, 'decay': 0.0, 'rho': 0.0, 'momentum': 0.0, 'epsilon': 1e-07, 'centered': False}\n",
      "Indifference_threshold is fixed at 0.0\n",
      "Initialize lengthscale at [0.5 0.5 0.5]\n",
      "       signal variance at 1.0\n",
      "   Initial negative ELBO: 37592743.91122413\n",
      "Negative ELBO at step 0: 36896893.792091526 in 0.8004s\n",
      "Negative ELBO at step 500: 23924.91817488199 in 257.9203s\n",
      "Negative ELBO at step 1000: 68.69593515474244 in 260.5071s\n",
      "Negative ELBO at step 1500: 42.7837902737471 in 255.0291s\n",
      "Negative ELBO at step 2000: 40.77220951216143 in 251.8387s\n",
      "Negative ELBO at step 2500: 39.61531642292538 in 257.1114s\n"
     ]
    },
    {
     "data": {
      "text/html": [
       "<table>\n",
       "<thead>\n",
       "<tr><th>name                    </th><th>class    </th><th>transform       </th><th>prior  </th><th>trainable  </th><th>shape      </th><th>dtype  </th><th>value                             </th></tr>\n",
       "</thead>\n",
       "<tbody>\n",
       "<tr><td>SVGP.kernel.variance    </td><td>Parameter</td><td>Softplus        </td><td>       </td><td>True       </td><td>()         </td><td>float64</td><td>0.6215701729492621                </td></tr>\n",
       "<tr><td>SVGP.kernel.lengthscale </td><td>Parameter</td><td>Softplus + Shift</td><td>       </td><td>True       </td><td>(3,)       </td><td>float64</td><td>[0.11284939 0.13144683 0.09787406]</td></tr>\n",
       "<tr><td>SVGP.likelihood.variance</td><td>Parameter</td><td>Softplus + Shift</td><td>       </td><td>True       </td><td>()         </td><td>float64</td><td>1.0                               </td></tr>\n",
       "<tr><td>SVGP.inducing_variable.Z</td><td>Parameter</td><td>                </td><td>       </td><td>False      </td><td>(59, 3)    </td><td>float64</td><td>[[0.125, 0.025, 0.075...          </td></tr>\n",
       "<tr><td>SVGP.q_mu               </td><td>Parameter</td><td>                </td><td>       </td><td>False      </td><td>(59, 1)    </td><td>float64</td><td>[[0.07799298...                   </td></tr>\n",
       "<tr><td>SVGP.q_sqrt             </td><td>Parameter</td><td>FillTriangular  </td><td>       </td><td>False      </td><td>(1, 59, 59)</td><td>float64</td><td>[[[0.75598592, 0., 0....          </td></tr>\n",
       "</tbody>\n",
       "</table>"
      ],
      "text/plain": [
       "<IPython.core.display.HTML object>"
      ]
     },
     "metadata": {},
     "output_type": "display_data"
    },
    {
     "name": "stdout",
     "output_type": "stream",
     "text": [
      "Best_guess f([0.625 0.575 0.725]) = -2.5033475334714184\n",
      "Beginning evaluation 39\n",
      "Maximizer:\n",
      "[[0.625 0.525 0.725]]\n",
      "Evaluation 39: Next query is [[0.625 0.525 0.725]\n",
      " [0.675 0.525 0.775]] with EI value of [0.26356636]\n",
      "Evaluation 39: Training model\n",
      "Optimizer config:  {'name': 'RMSprop', 'learning_rate': 0.001, 'decay': 0.0, 'rho': 0.0, 'momentum': 0.0, 'epsilon': 1e-07, 'centered': False}\n",
      "Indifference_threshold is fixed at 0.0\n",
      "Initialize lengthscale at [0.5 0.5 0.5]\n",
      "       signal variance at 1.0\n",
      "   Initial negative ELBO: 41160305.727181554\n",
      "Negative ELBO at step 0: 40384686.3524672 in 0.7822s\n",
      "Negative ELBO at step 500: 24480.96765409432 in 248.0860s\n",
      "Negative ELBO at step 1000: 68.14931615572443 in 251.8795s\n",
      "Negative ELBO at step 1500: 43.3960518517949 in 256.2404s\n",
      "Negative ELBO at step 2000: 41.01691676177124 in 253.6340s\n",
      "Negative ELBO at step 2500: 39.85406892142185 in 251.7780s\n"
     ]
    },
    {
     "data": {
      "text/html": [
       "<table>\n",
       "<thead>\n",
       "<tr><th>name                    </th><th>class    </th><th>transform       </th><th>prior  </th><th>trainable  </th><th>shape      </th><th>dtype  </th><th>value                                               </th></tr>\n",
       "</thead>\n",
       "<tbody>\n",
       "<tr><td>SVGP.kernel.variance    </td><td>Parameter</td><td>Softplus        </td><td>       </td><td>True       </td><td>()         </td><td>float64</td><td>0.6450261873024752                                  </td></tr>\n",
       "<tr><td>SVGP.kernel.lengthscale </td><td>Parameter</td><td>Softplus + Shift</td><td>       </td><td>True       </td><td>(3,)       </td><td>float64</td><td>[0.11719497 0.1263636  0.10322879]                  </td></tr>\n",
       "<tr><td>SVGP.likelihood.variance</td><td>Parameter</td><td>Softplus + Shift</td><td>       </td><td>True       </td><td>()         </td><td>float64</td><td>1.0                                                 </td></tr>\n",
       "<tr><td>SVGP.inducing_variable.Z</td><td>Parameter</td><td>                </td><td>       </td><td>False      </td><td>(60, 3)    </td><td>float64</td><td>[[0.125, 0.025, 0.075...                            </td></tr>\n",
       "<tr><td>SVGP.q_mu               </td><td>Parameter</td><td>                </td><td>       </td><td>False      </td><td>(60, 1)    </td><td>float64</td><td>[[0.10600334...                                     </td></tr>\n",
       "<tr><td>SVGP.q_sqrt             </td><td>Parameter</td><td>FillTriangular  </td><td>       </td><td>False      </td><td>(1, 60, 60)</td><td>float64</td><td>[[[7.31993224e-01, 0.00000000e+00, 0.00000000e+00...</td></tr>\n",
       "</tbody>\n",
       "</table>"
      ],
      "text/plain": [
       "<IPython.core.display.HTML object>"
      ]
     },
     "metadata": {},
     "output_type": "display_data"
    },
    {
     "name": "stdout",
     "output_type": "stream",
     "text": [
      "Best_guess f([0.625 0.525 0.725]) = -2.5232859597452326\n",
      "Beginning evaluation 40\n",
      "Maximizer:\n",
      "[[0.625 0.525 0.725]]\n",
      "Evaluation 40: Next query is [[0.625 0.525 0.725]\n",
      " [0.625 0.575 0.675]] with EI value of [0.26994941]\n",
      "Evaluation 40: Training model\n",
      "Optimizer config:  {'name': 'RMSprop', 'learning_rate': 0.001, 'decay': 0.0, 'rho': 0.0, 'momentum': 0.0, 'epsilon': 1e-07, 'centered': False}\n",
      "Indifference_threshold is fixed at 0.0\n",
      "Initialize lengthscale at [0.5 0.5 0.5]\n",
      "       signal variance at 1.0\n",
      "   Initial negative ELBO: 42880318.31144331\n",
      "Negative ELBO at step 0: 42087830.81836036 in 0.7497s\n",
      "Negative ELBO at step 500: 25394.00733434902 in 262.1487s\n",
      "Negative ELBO at step 1000: 71.43261868808493 in 263.9944s\n",
      "Negative ELBO at step 1500: 44.248197604638236 in 264.3021s\n",
      "Negative ELBO at step 2000: 42.09294644676692 in 256.0424s\n",
      "Negative ELBO at step 2500: 40.7983073001026 in 252.1127s\n"
     ]
    },
    {
     "data": {
      "text/html": [
       "<table>\n",
       "<thead>\n",
       "<tr><th>name                    </th><th>class    </th><th>transform       </th><th>prior  </th><th>trainable  </th><th>shape      </th><th>dtype  </th><th>value                                               </th></tr>\n",
       "</thead>\n",
       "<tbody>\n",
       "<tr><td>SVGP.kernel.variance    </td><td>Parameter</td><td>Softplus        </td><td>       </td><td>True       </td><td>()         </td><td>float64</td><td>0.6355691085614603                                  </td></tr>\n",
       "<tr><td>SVGP.kernel.lengthscale </td><td>Parameter</td><td>Softplus + Shift</td><td>       </td><td>True       </td><td>(3,)       </td><td>float64</td><td>[0.11306239 0.1249463  0.10225283]                  </td></tr>\n",
       "<tr><td>SVGP.likelihood.variance</td><td>Parameter</td><td>Softplus + Shift</td><td>       </td><td>True       </td><td>()         </td><td>float64</td><td>1.0                                                 </td></tr>\n",
       "<tr><td>SVGP.inducing_variable.Z</td><td>Parameter</td><td>                </td><td>       </td><td>False      </td><td>(60, 3)    </td><td>float64</td><td>[[0.125, 0.025, 0.075...                            </td></tr>\n",
       "<tr><td>SVGP.q_mu               </td><td>Parameter</td><td>                </td><td>       </td><td>False      </td><td>(60, 1)    </td><td>float64</td><td>[[7.60062429e-02...                                 </td></tr>\n",
       "<tr><td>SVGP.q_sqrt             </td><td>Parameter</td><td>FillTriangular  </td><td>       </td><td>False      </td><td>(1, 60, 60)</td><td>float64</td><td>[[[7.23996452e-01, 0.00000000e+00, 0.00000000e+00...</td></tr>\n",
       "</tbody>\n",
       "</table>"
      ],
      "text/plain": [
       "<IPython.core.display.HTML object>"
      ]
     },
     "metadata": {},
     "output_type": "display_data"
    },
    {
     "name": "stdout",
     "output_type": "stream",
     "text": [
      "Best_guess f([0.625 0.525 0.675]) = -1.8537330917021457\n",
      "Beginning evaluation 41\n",
      "Maximizer:\n",
      "[[0.625 0.525 0.675]]\n",
      "Evaluation 41: Next query is [[0.625 0.525 0.675]\n",
      " [0.625 0.575 0.675]] with EI value of [0.29538033]\n",
      "Evaluation 41: Training model\n",
      "Optimizer config:  {'name': 'RMSprop', 'learning_rate': 0.001, 'decay': 0.0, 'rho': 0.0, 'momentum': 0.0, 'epsilon': 1e-07, 'centered': False}\n",
      "Indifference_threshold is fixed at 0.0\n",
      "Initialize lengthscale at [0.5 0.5 0.5]\n",
      "       signal variance at 1.0\n",
      "   Initial negative ELBO: 43484007.2011078\n",
      "Negative ELBO at step 0: 42673695.457050115 in 0.7551s\n",
      "Negative ELBO at step 500: 25129.74723815737 in 256.0645s\n",
      "Negative ELBO at step 1000: 69.76516170622851 in 256.3049s\n",
      "Negative ELBO at step 1500: 45.06653757028893 in 257.0873s\n",
      "Negative ELBO at step 2000: 42.96183606123475 in 256.1539s\n",
      "Negative ELBO at step 2500: 41.70776200254482 in 260.2474s\n"
     ]
    },
    {
     "data": {
      "text/html": [
       "<table>\n",
       "<thead>\n",
       "<tr><th>name                    </th><th>class    </th><th>transform       </th><th>prior  </th><th>trainable  </th><th>shape      </th><th>dtype  </th><th>value                                               </th></tr>\n",
       "</thead>\n",
       "<tbody>\n",
       "<tr><td>SVGP.kernel.variance    </td><td>Parameter</td><td>Softplus        </td><td>       </td><td>True       </td><td>()         </td><td>float64</td><td>0.6169536165910772                                  </td></tr>\n",
       "<tr><td>SVGP.kernel.lengthscale </td><td>Parameter</td><td>Softplus + Shift</td><td>       </td><td>True       </td><td>(3,)       </td><td>float64</td><td>[0.10804151 0.12124689 0.10886158]                  </td></tr>\n",
       "<tr><td>SVGP.likelihood.variance</td><td>Parameter</td><td>Softplus + Shift</td><td>       </td><td>True       </td><td>()         </td><td>float64</td><td>1.0                                                 </td></tr>\n",
       "<tr><td>SVGP.inducing_variable.Z</td><td>Parameter</td><td>                </td><td>       </td><td>False      </td><td>(60, 3)    </td><td>float64</td><td>[[0.125, 0.025, 0.075...                            </td></tr>\n",
       "<tr><td>SVGP.q_mu               </td><td>Parameter</td><td>                </td><td>       </td><td>False      </td><td>(60, 1)    </td><td>float64</td><td>[[0.09999393...                                     </td></tr>\n",
       "<tr><td>SVGP.q_sqrt             </td><td>Parameter</td><td>FillTriangular  </td><td>       </td><td>False      </td><td>(1, 60, 60)</td><td>float64</td><td>[[[7.12017414e-01, 0.00000000e+00, 0.00000000e+00...</td></tr>\n",
       "</tbody>\n",
       "</table>"
      ],
      "text/plain": [
       "<IPython.core.display.HTML object>"
      ]
     },
     "metadata": {},
     "output_type": "display_data"
    },
    {
     "name": "stdout",
     "output_type": "stream",
     "text": [
      "Best_guess f([0.625 0.575 0.725]) = -2.5033475334714184\n",
      "Beginning evaluation 42\n",
      "Maximizer:\n",
      "[[0.625 0.575 0.675]]\n",
      "Evaluation 42: Next query is [[0.625 0.575 0.675]\n",
      " [0.575 0.525 0.725]] with EI value of [0.26759243]\n",
      "Evaluation 42: Training model\n",
      "Optimizer config:  {'name': 'RMSprop', 'learning_rate': 0.001, 'decay': 0.0, 'rho': 0.0, 'momentum': 0.0, 'epsilon': 1e-07, 'centered': False}\n",
      "Indifference_threshold is fixed at 0.0\n",
      "Initialize lengthscale at [0.5 0.5 0.5]\n",
      "       signal variance at 1.0\n",
      "   Initial negative ELBO: 53968119.65305446\n",
      "Negative ELBO at step 0: 52945448.911378816 in 0.7820s\n",
      "Negative ELBO at step 500: 28022.156126887607 in 275.5065s\n",
      "Negative ELBO at step 1000: 73.04788485887443 in 267.8099s\n",
      "Negative ELBO at step 1500: 46.072249712422014 in 266.7244s\n",
      "Negative ELBO at step 2000: 43.70703991252546 in 261.8879s\n",
      "Negative ELBO at step 2500: 42.31202764701145 in 265.9162s\n"
     ]
    },
    {
     "data": {
      "text/html": [
       "<table>\n",
       "<thead>\n",
       "<tr><th>name                    </th><th>class    </th><th>transform       </th><th>prior  </th><th>trainable  </th><th>shape      </th><th>dtype  </th><th>value                             </th></tr>\n",
       "</thead>\n",
       "<tbody>\n",
       "<tr><td>SVGP.kernel.variance    </td><td>Parameter</td><td>Softplus        </td><td>       </td><td>True       </td><td>()         </td><td>float64</td><td>0.630877919737775                 </td></tr>\n",
       "<tr><td>SVGP.kernel.lengthscale </td><td>Parameter</td><td>Softplus + Shift</td><td>       </td><td>True       </td><td>(3,)       </td><td>float64</td><td>[0.11609369 0.12755438 0.10034083]</td></tr>\n",
       "<tr><td>SVGP.likelihood.variance</td><td>Parameter</td><td>Softplus + Shift</td><td>       </td><td>True       </td><td>()         </td><td>float64</td><td>1.0                               </td></tr>\n",
       "<tr><td>SVGP.inducing_variable.Z</td><td>Parameter</td><td>                </td><td>       </td><td>False      </td><td>(61, 3)    </td><td>float64</td><td>[[0.125, 0.025, 0.075...          </td></tr>\n",
       "<tr><td>SVGP.q_mu               </td><td>Parameter</td><td>                </td><td>       </td><td>False      </td><td>(61, 1)    </td><td>float64</td><td>[[0.09600074...                   </td></tr>\n",
       "<tr><td>SVGP.q_sqrt             </td><td>Parameter</td><td>FillTriangular  </td><td>       </td><td>False      </td><td>(1, 61, 61)</td><td>float64</td><td>[[[0.71989469, 0., 0....          </td></tr>\n",
       "</tbody>\n",
       "</table>"
      ],
      "text/plain": [
       "<IPython.core.display.HTML object>"
      ]
     },
     "metadata": {},
     "output_type": "display_data"
    },
    {
     "name": "stdout",
     "output_type": "stream",
     "text": [
      "Best_guess f([0.575 0.575 0.725]) = -2.5488006839064354\n",
      "Beginning evaluation 43\n",
      "Maximizer:\n",
      "[[0.575 0.525 0.725]]\n",
      "Evaluation 43: Next query is [[0.575 0.525 0.725]\n",
      " [0.575 0.625 0.725]] with EI value of [0.27648232]\n",
      "Evaluation 43: Training model\n",
      "Optimizer config:  {'name': 'RMSprop', 'learning_rate': 0.001, 'decay': 0.0, 'rho': 0.0, 'momentum': 0.0, 'epsilon': 1e-07, 'centered': False}\n",
      "Indifference_threshold is fixed at 0.0\n",
      "Initialize lengthscale at [0.5 0.5 0.5]\n",
      "       signal variance at 1.0\n",
      "   Initial negative ELBO: 62525036.311109655\n",
      "Negative ELBO at step 0: 61302646.57961383 in 0.7932s\n",
      "Negative ELBO at step 500: 32426.992021363836 in 261.9027s\n",
      "Negative ELBO at step 1000: 77.91389143871704 in 265.9234s\n",
      "Negative ELBO at step 1500: 47.007113207485375 in 270.3025s\n",
      "Negative ELBO at step 2000: 45.10746782659037 in 267.8271s\n",
      "Negative ELBO at step 2500: 43.41907025968045 in 267.9143s\n"
     ]
    },
    {
     "data": {
      "text/html": [
       "<table>\n",
       "<thead>\n",
       "<tr><th>name                    </th><th>class    </th><th>transform       </th><th>prior  </th><th>trainable  </th><th>shape      </th><th>dtype  </th><th>value                             </th></tr>\n",
       "</thead>\n",
       "<tbody>\n",
       "<tr><td>SVGP.kernel.variance    </td><td>Parameter</td><td>Softplus        </td><td>       </td><td>True       </td><td>()         </td><td>float64</td><td>0.6318141418638383                </td></tr>\n",
       "<tr><td>SVGP.kernel.lengthscale </td><td>Parameter</td><td>Softplus + Shift</td><td>       </td><td>True       </td><td>(3,)       </td><td>float64</td><td>[0.12612597 0.1178603  0.10381923]</td></tr>\n",
       "<tr><td>SVGP.likelihood.variance</td><td>Parameter</td><td>Softplus + Shift</td><td>       </td><td>True       </td><td>()         </td><td>float64</td><td>1.0                               </td></tr>\n",
       "<tr><td>SVGP.inducing_variable.Z</td><td>Parameter</td><td>                </td><td>       </td><td>False      </td><td>(62, 3)    </td><td>float64</td><td>[[0.125, 0.025, 0.075...          </td></tr>\n",
       "<tr><td>SVGP.q_mu               </td><td>Parameter</td><td>                </td><td>       </td><td>False      </td><td>(62, 1)    </td><td>float64</td><td>[[7.80194910e-02...               </td></tr>\n",
       "<tr><td>SVGP.q_sqrt             </td><td>Parameter</td><td>FillTriangular  </td><td>       </td><td>False      </td><td>(1, 62, 62)</td><td>float64</td><td>[[[0.74199316, 0., 0....          </td></tr>\n",
       "</tbody>\n",
       "</table>"
      ],
      "text/plain": [
       "<IPython.core.display.HTML object>"
      ]
     },
     "metadata": {},
     "output_type": "display_data"
    },
    {
     "name": "stdout",
     "output_type": "stream",
     "text": [
      "Best_guess f([0.575 0.625 0.725]) = -2.4545393650716893\n",
      "Beginning evaluation 44\n",
      "Maximizer:\n",
      "[[0.575 0.625 0.725]]\n",
      "Evaluation 44: Next query is [[0.575 0.625 0.725]\n",
      " [0.575 0.575 0.725]] with EI value of [0.29583675]\n",
      "Evaluation 44: Training model\n",
      "Optimizer config:  {'name': 'RMSprop', 'learning_rate': 0.001, 'decay': 0.0, 'rho': 0.0, 'momentum': 0.0, 'epsilon': 1e-07, 'centered': False}\n",
      "Indifference_threshold is fixed at 0.0\n",
      "Initialize lengthscale at [0.5 0.5 0.5]\n",
      "       signal variance at 1.0\n",
      "   Initial negative ELBO: 158390831.15600127\n",
      "Negative ELBO at step 0: 155341484.4777395 in 0.8690s\n",
      "Negative ELBO at step 500: 74507.51095969666 in 280.6315s\n",
      "Negative ELBO at step 1000: 91.9459474413415 in 272.5592s\n",
      "Negative ELBO at step 1500: 48.589928493974206 in 281.7128s\n",
      "Negative ELBO at step 2000: 46.32197368364657 in 278.4861s\n",
      "Negative ELBO at step 2500: 44.37857862248342 in 270.0824s\n"
     ]
    },
    {
     "data": {
      "text/html": [
       "<table>\n",
       "<thead>\n",
       "<tr><th>name                    </th><th>class    </th><th>transform       </th><th>prior  </th><th>trainable  </th><th>shape      </th><th>dtype  </th><th>value                                               </th></tr>\n",
       "</thead>\n",
       "<tbody>\n",
       "<tr><td>SVGP.kernel.variance    </td><td>Parameter</td><td>Softplus        </td><td>       </td><td>True       </td><td>()         </td><td>float64</td><td>0.6632697725801195                                  </td></tr>\n",
       "<tr><td>SVGP.kernel.lengthscale </td><td>Parameter</td><td>Softplus + Shift</td><td>       </td><td>True       </td><td>(3,)       </td><td>float64</td><td>[0.11808356 0.11808287 0.10401659]                  </td></tr>\n",
       "<tr><td>SVGP.likelihood.variance</td><td>Parameter</td><td>Softplus + Shift</td><td>       </td><td>True       </td><td>()         </td><td>float64</td><td>1.0                                                 </td></tr>\n",
       "<tr><td>SVGP.inducing_variable.Z</td><td>Parameter</td><td>                </td><td>       </td><td>False      </td><td>(63, 3)    </td><td>float64</td><td>[[0.125, 0.025, 0.075...                            </td></tr>\n",
       "<tr><td>SVGP.q_mu               </td><td>Parameter</td><td>                </td><td>       </td><td>False      </td><td>(63, 1)    </td><td>float64</td><td>[[0.11000213...                                     </td></tr>\n",
       "<tr><td>SVGP.q_sqrt             </td><td>Parameter</td><td>FillTriangular  </td><td>       </td><td>False      </td><td>(1, 63, 63)</td><td>float64</td><td>[[[7.63984951e-01, 0.00000000e+00, 0.00000000e+00...</td></tr>\n",
       "</tbody>\n",
       "</table>"
      ],
      "text/plain": [
       "<IPython.core.display.HTML object>"
      ]
     },
     "metadata": {},
     "output_type": "display_data"
    },
    {
     "name": "stdout",
     "output_type": "stream",
     "text": [
      "Best_guess f([0.625 0.575 0.725]) = -2.5033475334714184\n",
      "Beginning evaluation 45\n",
      "Maximizer:\n",
      "[[0.575 0.575 0.725]]\n",
      "Evaluation 45: Next query is [[0.575 0.575 0.725]\n",
      " [0.475 0.075 0.475]] with EI value of [0.24402267]\n",
      "Evaluation 45: Training model\n",
      "Optimizer config:  {'name': 'RMSprop', 'learning_rate': 0.001, 'decay': 0.0, 'rho': 0.0, 'momentum': 0.0, 'epsilon': 1e-07, 'centered': False}\n",
      "Indifference_threshold is fixed at 0.0\n",
      "Initialize lengthscale at [0.5 0.5 0.5]\n",
      "       signal variance at 1.0\n",
      "   Initial negative ELBO: 166707286.38148278\n",
      "Negative ELBO at step 0: 163441547.54096493 in 0.8072s\n",
      "Negative ELBO at step 500: 75092.96711881066 in 281.5243s\n",
      "Negative ELBO at step 1000: 92.28848735059945 in 277.0367s\n",
      "Negative ELBO at step 1500: 49.18657986962313 in 274.4562s\n",
      "Negative ELBO at step 2000: 47.14998128687688 in 273.4717s\n",
      "Negative ELBO at step 2500: 45.392882943647635 in 274.8247s\n"
     ]
    },
    {
     "data": {
      "text/html": [
       "<table>\n",
       "<thead>\n",
       "<tr><th>name                    </th><th>class    </th><th>transform       </th><th>prior  </th><th>trainable  </th><th>shape      </th><th>dtype  </th><th>value                             </th></tr>\n",
       "</thead>\n",
       "<tbody>\n",
       "<tr><td>SVGP.kernel.variance    </td><td>Parameter</td><td>Softplus        </td><td>       </td><td>True       </td><td>()         </td><td>float64</td><td>0.6555443906091402                </td></tr>\n",
       "<tr><td>SVGP.kernel.lengthscale </td><td>Parameter</td><td>Softplus + Shift</td><td>       </td><td>True       </td><td>(3,)       </td><td>float64</td><td>[0.11349131 0.1207844  0.09862151]</td></tr>\n",
       "<tr><td>SVGP.likelihood.variance</td><td>Parameter</td><td>Softplus + Shift</td><td>       </td><td>True       </td><td>()         </td><td>float64</td><td>1.0                               </td></tr>\n",
       "<tr><td>SVGP.inducing_variable.Z</td><td>Parameter</td><td>                </td><td>       </td><td>False      </td><td>(64, 3)    </td><td>float64</td><td>[[0.125, 0.025, 0.075...          </td></tr>\n",
       "<tr><td>SVGP.q_mu               </td><td>Parameter</td><td>                </td><td>       </td><td>False      </td><td>(64, 1)    </td><td>float64</td><td>[[0.14199236...                   </td></tr>\n",
       "<tr><td>SVGP.q_sqrt             </td><td>Parameter</td><td>FillTriangular  </td><td>       </td><td>False      </td><td>(1, 64, 64)</td><td>float64</td><td>[[[0.73998026, 0., 0....          </td></tr>\n",
       "</tbody>\n",
       "</table>"
      ],
      "text/plain": [
       "<IPython.core.display.HTML object>"
      ]
     },
     "metadata": {},
     "output_type": "display_data"
    },
    {
     "name": "stdout",
     "output_type": "stream",
     "text": [
      "Best_guess f([0.575 0.575 0.725]) = -2.5488006839064354\n",
      "Beginning evaluation 46\n",
      "Maximizer:\n",
      "[[0.575 0.575 0.725]]\n",
      "Evaluation 46: Next query is [[0.575 0.575 0.725]\n",
      " [0.525 0.575 0.775]] with EI value of [0.23234371]\n",
      "Evaluation 46: Training model\n",
      "Optimizer config:  {'name': 'RMSprop', 'learning_rate': 0.001, 'decay': 0.0, 'rho': 0.0, 'momentum': 0.0, 'epsilon': 1e-07, 'centered': False}\n",
      "Indifference_threshold is fixed at 0.0\n",
      "Initialize lengthscale at [0.5 0.5 0.5]\n",
      "       signal variance at 1.0\n",
      "   Initial negative ELBO: 210142644.53454387\n",
      "Negative ELBO at step 0: 206050245.3817718 in 0.8941s\n",
      "Negative ELBO at step 500: 91526.95976439885 in 299.3042s\n",
      "Negative ELBO at step 1000: 105.54773225734336 in 286.7505s\n",
      "Negative ELBO at step 1500: 50.43698863231314 in 280.9974s\n",
      "Negative ELBO at step 2000: 48.27942253694722 in 286.1477s\n",
      "Negative ELBO at step 2500: 45.9346995540815 in 289.0684s\n"
     ]
    },
    {
     "data": {
      "text/html": [
       "<table>\n",
       "<thead>\n",
       "<tr><th>name                    </th><th>class    </th><th>transform       </th><th>prior  </th><th>trainable  </th><th>shape      </th><th>dtype  </th><th>value                             </th></tr>\n",
       "</thead>\n",
       "<tbody>\n",
       "<tr><td>SVGP.kernel.variance    </td><td>Parameter</td><td>Softplus        </td><td>       </td><td>True       </td><td>()         </td><td>float64</td><td>0.6720372643855547                </td></tr>\n",
       "<tr><td>SVGP.kernel.lengthscale </td><td>Parameter</td><td>Softplus + Shift</td><td>       </td><td>True       </td><td>(3,)       </td><td>float64</td><td>[0.11413674 0.12331065 0.09918667]</td></tr>\n",
       "<tr><td>SVGP.likelihood.variance</td><td>Parameter</td><td>Softplus + Shift</td><td>       </td><td>True       </td><td>()         </td><td>float64</td><td>1.0                               </td></tr>\n",
       "<tr><td>SVGP.inducing_variable.Z</td><td>Parameter</td><td>                </td><td>       </td><td>False      </td><td>(65, 3)    </td><td>float64</td><td>[[0.125, 0.025, 0.075...          </td></tr>\n",
       "<tr><td>SVGP.q_mu               </td><td>Parameter</td><td>                </td><td>       </td><td>False      </td><td>(65, 1)    </td><td>float64</td><td>[[0.12400255...                   </td></tr>\n",
       "<tr><td>SVGP.q_sqrt             </td><td>Parameter</td><td>FillTriangular  </td><td>       </td><td>False      </td><td>(1, 65, 65)</td><td>float64</td><td>[[[0.74791158, 0., 0....          </td></tr>\n",
       "</tbody>\n",
       "</table>"
      ],
      "text/plain": [
       "<IPython.core.display.HTML object>"
      ]
     },
     "metadata": {},
     "output_type": "display_data"
    },
    {
     "name": "stdout",
     "output_type": "stream",
     "text": [
      "Best_guess f([0.625 0.575 0.725]) = -2.5033475334714184\n",
      "Beginning evaluation 47\n",
      "Maximizer:\n",
      "[[0.575 0.575 0.725]]\n",
      "Evaluation 47: Next query is [[0.575 0.575 0.725]\n",
      " [0.625 0.625 0.775]] with EI value of [0.21981507]\n",
      "Evaluation 47: Training model\n",
      "Optimizer config:  {'name': 'RMSprop', 'learning_rate': 0.001, 'decay': 0.0, 'rho': 0.0, 'momentum': 0.0, 'epsilon': 1e-07, 'centered': False}\n",
      "Indifference_threshold is fixed at 0.0\n",
      "Initialize lengthscale at [0.5 0.5 0.5]\n",
      "       signal variance at 1.0\n",
      "   Initial negative ELBO: 271024920.7871138\n",
      "Negative ELBO at step 0: 265683684.69968912 in 0.8401s\n",
      "Negative ELBO at step 500: 108666.79416400923 in 295.6161s\n",
      "Negative ELBO at step 1000: 113.92004480681543 in 298.5999s\n",
      "Negative ELBO at step 1500: 51.18515466008144 in 296.0287s\n",
      "Negative ELBO at step 2000: 48.956036081438775 in 286.9893s\n",
      "Negative ELBO at step 2500: 47.046313010500064 in 287.3355s\n"
     ]
    },
    {
     "data": {
      "text/html": [
       "<table>\n",
       "<thead>\n",
       "<tr><th>name                    </th><th>class    </th><th>transform       </th><th>prior  </th><th>trainable  </th><th>shape      </th><th>dtype  </th><th>value                             </th></tr>\n",
       "</thead>\n",
       "<tbody>\n",
       "<tr><td>SVGP.kernel.variance    </td><td>Parameter</td><td>Softplus        </td><td>       </td><td>True       </td><td>()         </td><td>float64</td><td>0.6818739472286823                </td></tr>\n",
       "<tr><td>SVGP.kernel.lengthscale </td><td>Parameter</td><td>Softplus + Shift</td><td>       </td><td>True       </td><td>(3,)       </td><td>float64</td><td>[0.10421405 0.1167533  0.10013559]</td></tr>\n",
       "<tr><td>SVGP.likelihood.variance</td><td>Parameter</td><td>Softplus + Shift</td><td>       </td><td>True       </td><td>()         </td><td>float64</td><td>1.0                               </td></tr>\n",
       "<tr><td>SVGP.inducing_variable.Z</td><td>Parameter</td><td>                </td><td>       </td><td>False      </td><td>(66, 3)    </td><td>float64</td><td>[[0.125, 0.025, 0.075...          </td></tr>\n",
       "<tr><td>SVGP.q_mu               </td><td>Parameter</td><td>                </td><td>       </td><td>False      </td><td>(66, 1)    </td><td>float64</td><td>[[0.14599866...                   </td></tr>\n",
       "<tr><td>SVGP.q_sqrt             </td><td>Parameter</td><td>FillTriangular  </td><td>       </td><td>False      </td><td>(1, 66, 66)</td><td>float64</td><td>[[[0.74593579, 0., 0....          </td></tr>\n",
       "</tbody>\n",
       "</table>"
      ],
      "text/plain": [
       "<IPython.core.display.HTML object>"
      ]
     },
     "metadata": {},
     "output_type": "display_data"
    },
    {
     "name": "stdout",
     "output_type": "stream",
     "text": [
      "Best_guess f([0.625 0.625 0.725]) = -2.3978795569327045\n",
      "Beginning evaluation 48\n",
      "Maximizer:\n",
      "[[0.625 0.625 0.775]]\n",
      "Evaluation 48: Next query is [[0.625 0.625 0.775]\n",
      " [0.625 0.675 0.725]] with EI value of [0.26073026]\n",
      "Evaluation 48: Training model\n",
      "Optimizer config:  {'name': 'RMSprop', 'learning_rate': 0.001, 'decay': 0.0, 'rho': 0.0, 'momentum': 0.0, 'epsilon': 1e-07, 'centered': False}\n",
      "Indifference_threshold is fixed at 0.0\n",
      "Initialize lengthscale at [0.5 0.5 0.5]\n",
      "       signal variance at 1.0\n",
      "   Initial negative ELBO: 336012709.37344545\n",
      "Negative ELBO at step 0: 329627565.63838255 in 0.8791s\n",
      "Negative ELBO at step 500: 189467.63135032397 in 291.6735s\n",
      "Negative ELBO at step 1000: 171.59883330099512 in 302.5804s\n",
      "Negative ELBO at step 1500: 52.5614426199668 in 299.8545s\n",
      "Negative ELBO at step 2000: 50.064775805478654 in 300.7827s\n",
      "Negative ELBO at step 2500: 48.258666608625326 in 296.4213s\n"
     ]
    },
    {
     "data": {
      "text/html": [
       "<table>\n",
       "<thead>\n",
       "<tr><th>name                    </th><th>class    </th><th>transform       </th><th>prior  </th><th>trainable  </th><th>shape      </th><th>dtype  </th><th>value                             </th></tr>\n",
       "</thead>\n",
       "<tbody>\n",
       "<tr><td>SVGP.kernel.variance    </td><td>Parameter</td><td>Softplus        </td><td>       </td><td>True       </td><td>()         </td><td>float64</td><td>0.7263429702274361                </td></tr>\n",
       "<tr><td>SVGP.kernel.lengthscale </td><td>Parameter</td><td>Softplus + Shift</td><td>       </td><td>True       </td><td>(3,)       </td><td>float64</td><td>[0.10948291 0.12900052 0.09367218]</td></tr>\n",
       "<tr><td>SVGP.likelihood.variance</td><td>Parameter</td><td>Softplus + Shift</td><td>       </td><td>True       </td><td>()         </td><td>float64</td><td>1.0                               </td></tr>\n",
       "<tr><td>SVGP.inducing_variable.Z</td><td>Parameter</td><td>                </td><td>       </td><td>False      </td><td>(67, 3)    </td><td>float64</td><td>[[0.125, 0.025, 0.075...          </td></tr>\n",
       "<tr><td>SVGP.q_mu               </td><td>Parameter</td><td>                </td><td>       </td><td>False      </td><td>(67, 1)    </td><td>float64</td><td>[[0.13200573...                   </td></tr>\n",
       "<tr><td>SVGP.q_sqrt             </td><td>Parameter</td><td>FillTriangular  </td><td>       </td><td>False      </td><td>(1, 67, 67)</td><td>float64</td><td>[[[0.75800125, 0., 0....          </td></tr>\n",
       "</tbody>\n",
       "</table>"
      ],
      "text/plain": [
       "<IPython.core.display.HTML object>"
      ]
     },
     "metadata": {},
     "output_type": "display_data"
    },
    {
     "name": "stdout",
     "output_type": "stream",
     "text": [
      "Best_guess f([0.625 0.625 0.725]) = -2.3978795569327045\n",
      "Beginning evaluation 49\n",
      "Maximizer:\n",
      "[[0.625 0.675 0.725]]\n",
      "Evaluation 49: Next query is [[0.625 0.675 0.725]\n",
      " [0.725 0.125 0.575]] with EI value of [0.28106412]\n",
      "Evaluation 49: Training model\n",
      "Optimizer config:  {'name': 'RMSprop', 'learning_rate': 0.001, 'decay': 0.0, 'rho': 0.0, 'momentum': 0.0, 'epsilon': 1e-07, 'centered': False}\n",
      "Indifference_threshold is fixed at 0.0\n",
      "Initialize lengthscale at [0.5 0.5 0.5]\n",
      "       signal variance at 1.0\n",
      "   Initial negative ELBO: 468836151.7042549\n",
      "Negative ELBO at step 0: 459594185.0514141 in 0.9094s\n",
      "Negative ELBO at step 500: 209162.01151851623 in 299.2539s\n",
      "Negative ELBO at step 1000: 158.08189577157293 in 311.0857s\n",
      "Negative ELBO at step 1500: 53.349458568805666 in 308.6724s\n",
      "Negative ELBO at step 2000: 50.75223625069775 in 308.2139s\n",
      "Negative ELBO at step 2500: 49.101540525322235 in 307.1971s\n"
     ]
    },
    {
     "data": {
      "text/html": [
       "<table>\n",
       "<thead>\n",
       "<tr><th>name                    </th><th>class    </th><th>transform       </th><th>prior  </th><th>trainable  </th><th>shape      </th><th>dtype  </th><th>value                             </th></tr>\n",
       "</thead>\n",
       "<tbody>\n",
       "<tr><td>SVGP.kernel.variance    </td><td>Parameter</td><td>Softplus        </td><td>       </td><td>True       </td><td>()         </td><td>float64</td><td>0.7130029652418479                </td></tr>\n",
       "<tr><td>SVGP.kernel.lengthscale </td><td>Parameter</td><td>Softplus + Shift</td><td>       </td><td>True       </td><td>(3,)       </td><td>float64</td><td>[0.1176382  0.12331225 0.09806015]</td></tr>\n",
       "<tr><td>SVGP.likelihood.variance</td><td>Parameter</td><td>Softplus + Shift</td><td>       </td><td>True       </td><td>()         </td><td>float64</td><td>1.0                               </td></tr>\n",
       "<tr><td>SVGP.inducing_variable.Z</td><td>Parameter</td><td>                </td><td>       </td><td>False      </td><td>(68, 3)    </td><td>float64</td><td>[[0.125, 0.025, 0.075...          </td></tr>\n",
       "<tr><td>SVGP.q_mu               </td><td>Parameter</td><td>                </td><td>       </td><td>False      </td><td>(68, 1)    </td><td>float64</td><td>[[1.16009138e-01...               </td></tr>\n",
       "<tr><td>SVGP.q_sqrt             </td><td>Parameter</td><td>FillTriangular  </td><td>       </td><td>False      </td><td>(1, 68, 68)</td><td>float64</td><td>[[[0.77196132, 0., 0....          </td></tr>\n",
       "</tbody>\n",
       "</table>"
      ],
      "text/plain": [
       "<IPython.core.display.HTML object>"
      ]
     },
     "metadata": {},
     "output_type": "display_data"
    },
    {
     "name": "stdout",
     "output_type": "stream",
     "text": [
      "Best_guess f([0.075 0.525 0.825]) = -3.763801633955994\n",
      "\n",
      "==================\n",
      "Beginning run 7\n",
      "Optimizer config:  {'name': 'RMSprop', 'learning_rate': 0.001, 'decay': 0.0, 'rho': 0.0, 'momentum': 0.0, 'epsilon': 1e-07, 'centered': False}\n",
      "Indifference_threshold is fixed at 0.0\n",
      "Initialize lengthscale at [0.5 0.5 0.5]\n",
      "       signal variance at 1.0\n",
      "   Initial negative ELBO: 3315.048812145677\n",
      "Negative ELBO at step 0: 3271.2900539716334 in 0.2254s\n",
      "Negative ELBO at step 500: 16.42614212493459 in 70.0606s\n",
      "Negative ELBO at step 1000: 11.18147295387717 in 69.5761s\n",
      "Negative ELBO at step 1500: 10.935488392526828 in 69.3576s\n",
      "Negative ELBO at step 2000: 10.732087245233828 in 72.6946s\n",
      "Negative ELBO at step 2500: 10.6365313754329 in 72.9854s\n",
      "Beginning evaluation 0\n",
      "Maximizer:\n",
      "[[0.725 0.575 0.975]]\n",
      "Evaluation 0: Next query is [[0.725 0.575 0.975]\n",
      " [0.775 0.625 0.925]] with EI value of [0.45122026]\n",
      "Evaluation 0: Training model\n",
      "Optimizer config:  {'name': 'RMSprop', 'learning_rate': 0.001, 'decay': 0.0, 'rho': 0.0, 'momentum': 0.0, 'epsilon': 1e-07, 'centered': False}\n",
      "Indifference_threshold is fixed at 0.0\n",
      "Initialize lengthscale at [0.5 0.5 0.5]\n",
      "       signal variance at 1.0\n",
      "   Initial negative ELBO: 3895.6295665357934\n",
      "Negative ELBO at step 0: 3844.771215534529 in 0.2382s\n",
      "Negative ELBO at step 500: 20.28514637592852 in 78.4552s\n",
      "Negative ELBO at step 1000: 11.893972241633875 in 77.7504s\n",
      "Negative ELBO at step 1500: 11.677096488347154 in 78.4180s\n",
      "Negative ELBO at step 2000: 11.505747465037137 in 78.8371s\n",
      "Negative ELBO at step 2500: 11.468920976415928 in 78.1959s\n"
     ]
    },
    {
     "data": {
      "text/html": [
       "<table>\n",
       "<thead>\n",
       "<tr><th>name                    </th><th>class    </th><th>transform       </th><th>prior  </th><th>trainable  </th><th>shape      </th><th>dtype  </th><th>value                                               </th></tr>\n",
       "</thead>\n",
       "<tbody>\n",
       "<tr><td>SVGP.kernel.variance    </td><td>Parameter</td><td>Softplus        </td><td>       </td><td>True       </td><td>()         </td><td>float64</td><td>1.1541873791452149                                  </td></tr>\n",
       "<tr><td>SVGP.kernel.lengthscale </td><td>Parameter</td><td>Softplus + Shift</td><td>       </td><td>True       </td><td>(3,)       </td><td>float64</td><td>[0.85393524 0.1316873  0.40493005]                  </td></tr>\n",
       "<tr><td>SVGP.likelihood.variance</td><td>Parameter</td><td>Softplus + Shift</td><td>       </td><td>True       </td><td>()         </td><td>float64</td><td>1.0                                                 </td></tr>\n",
       "<tr><td>SVGP.inducing_variable.Z</td><td>Parameter</td><td>                </td><td>       </td><td>False      </td><td>(25, 3)    </td><td>float64</td><td>[[0.725, 0.625, 0.025...                            </td></tr>\n",
       "<tr><td>SVGP.q_mu               </td><td>Parameter</td><td>                </td><td>       </td><td>False      </td><td>(25, 1)    </td><td>float64</td><td>[[0.35999722...                                     </td></tr>\n",
       "<tr><td>SVGP.q_sqrt             </td><td>Parameter</td><td>FillTriangular  </td><td>       </td><td>False      </td><td>(1, 25, 25)</td><td>float64</td><td>[[[9.22055542e-01, 0.00000000e+00, 0.00000000e+00...</td></tr>\n",
       "</tbody>\n",
       "</table>"
      ],
      "text/plain": [
       "<IPython.core.display.HTML object>"
      ]
     },
     "metadata": {},
     "output_type": "display_data"
    },
    {
     "name": "stdout",
     "output_type": "stream",
     "text": [
      "Best_guess f([0.525 0.575 0.925]) = -3.276846532748094\n",
      "Beginning evaluation 1\n",
      "Maximizer:\n",
      "[[0.725 0.575 0.975]]\n",
      "Evaluation 1: Next query is [[0.725 0.575 0.975]\n",
      " [0.475 0.625 0.975]] with EI value of [0.3838761]\n",
      "Evaluation 1: Training model\n",
      "Optimizer config:  {'name': 'RMSprop', 'learning_rate': 0.001, 'decay': 0.0, 'rho': 0.0, 'momentum': 0.0, 'epsilon': 1e-07, 'centered': False}\n",
      "Indifference_threshold is fixed at 0.0\n",
      "Initialize lengthscale at [0.5 0.5 0.5]\n",
      "       signal variance at 1.0\n",
      "   Initial negative ELBO: 4964.818288999205\n",
      "Negative ELBO at step 0: 4901.02505843055 in 0.2512s\n",
      "Negative ELBO at step 500: 23.105937334644643 in 79.3224s\n",
      "Negative ELBO at step 1000: 12.61224412038606 in 80.0534s\n",
      "Negative ELBO at step 1500: 12.362225522022689 in 78.5048s\n",
      "Negative ELBO at step 2000: 12.221451515907503 in 78.3783s\n",
      "Negative ELBO at step 2500: 12.211210064084568 in 78.2577s\n"
     ]
    },
    {
     "data": {
      "text/html": [
       "<table>\n",
       "<thead>\n",
       "<tr><th>name                    </th><th>class    </th><th>transform       </th><th>prior  </th><th>trainable  </th><th>shape      </th><th>dtype  </th><th>value                                               </th></tr>\n",
       "</thead>\n",
       "<tbody>\n",
       "<tr><td>SVGP.kernel.variance    </td><td>Parameter</td><td>Softplus        </td><td>       </td><td>True       </td><td>()         </td><td>float64</td><td>1.1309939321915414                                  </td></tr>\n",
       "<tr><td>SVGP.kernel.lengthscale </td><td>Parameter</td><td>Softplus + Shift</td><td>       </td><td>True       </td><td>(3,)       </td><td>float64</td><td>[0.79774559 0.13929015 0.3796271 ]                  </td></tr>\n",
       "<tr><td>SVGP.likelihood.variance</td><td>Parameter</td><td>Softplus + Shift</td><td>       </td><td>True       </td><td>()         </td><td>float64</td><td>1.0                                                 </td></tr>\n",
       "<tr><td>SVGP.inducing_variable.Z</td><td>Parameter</td><td>                </td><td>       </td><td>False      </td><td>(26, 3)    </td><td>float64</td><td>[[0.725, 0.625, 0.025...                            </td></tr>\n",
       "<tr><td>SVGP.q_mu               </td><td>Parameter</td><td>                </td><td>       </td><td>False      </td><td>(26, 1)    </td><td>float64</td><td>[[0.31014669...                                     </td></tr>\n",
       "<tr><td>SVGP.q_sqrt             </td><td>Parameter</td><td>FillTriangular  </td><td>       </td><td>False      </td><td>(1, 26, 26)</td><td>float64</td><td>[[[9.10302381e-01, 0.00000000e+00, 0.00000000e+00...</td></tr>\n",
       "</tbody>\n",
       "</table>"
      ],
      "text/plain": [
       "<IPython.core.display.HTML object>"
      ]
     },
     "metadata": {},
     "output_type": "display_data"
    },
    {
     "name": "stdout",
     "output_type": "stream",
     "text": [
      "Best_guess f([0.425 0.625 0.925]) = -3.1861704778063116\n",
      "Beginning evaluation 2\n",
      "Maximizer:\n",
      "[[0.475 0.625 0.975]]\n",
      "Evaluation 2: Next query is [[0.475 0.625 0.975]\n",
      " [0.275 0.625 0.925]] with EI value of [0.35830731]\n",
      "Evaluation 2: Training model\n",
      "Optimizer config:  {'name': 'RMSprop', 'learning_rate': 0.001, 'decay': 0.0, 'rho': 0.0, 'momentum': 0.0, 'epsilon': 1e-07, 'centered': False}\n",
      "Indifference_threshold is fixed at 0.0\n",
      "Initialize lengthscale at [0.5 0.5 0.5]\n",
      "       signal variance at 1.0\n",
      "   Initial negative ELBO: 6192.129803075216\n",
      "Negative ELBO at step 0: 6110.050631033074 in 0.2660s\n",
      "Negative ELBO at step 500: 29.049901318578083 in 85.5253s\n",
      "Negative ELBO at step 1000: 13.389713706763462 in 86.0620s\n",
      "Negative ELBO at step 1500: 13.067338360315832 in 86.6078s\n",
      "Negative ELBO at step 2000: 13.018052409800694 in 86.7511s\n",
      "Negative ELBO at step 2500: 13.018040066847279 in 87.5219s\n"
     ]
    },
    {
     "data": {
      "text/html": [
       "<table>\n",
       "<thead>\n",
       "<tr><th>name                    </th><th>class    </th><th>transform       </th><th>prior  </th><th>trainable  </th><th>shape      </th><th>dtype  </th><th>value                                               </th></tr>\n",
       "</thead>\n",
       "<tbody>\n",
       "<tr><td>SVGP.kernel.variance    </td><td>Parameter</td><td>Softplus        </td><td>       </td><td>True       </td><td>()         </td><td>float64</td><td>1.0460991695554724                                  </td></tr>\n",
       "<tr><td>SVGP.kernel.lengthscale </td><td>Parameter</td><td>Softplus + Shift</td><td>       </td><td>True       </td><td>(3,)       </td><td>float64</td><td>[0.60231628 0.15005976 0.27155706]                  </td></tr>\n",
       "<tr><td>SVGP.likelihood.variance</td><td>Parameter</td><td>Softplus + Shift</td><td>       </td><td>True       </td><td>()         </td><td>float64</td><td>1.0                                                 </td></tr>\n",
       "<tr><td>SVGP.inducing_variable.Z</td><td>Parameter</td><td>                </td><td>       </td><td>False      </td><td>(27, 3)    </td><td>float64</td><td>[[0.725, 0.625, 0.025...                            </td></tr>\n",
       "<tr><td>SVGP.q_mu               </td><td>Parameter</td><td>                </td><td>       </td><td>False      </td><td>(27, 1)    </td><td>float64</td><td>[[0.3161782...                                      </td></tr>\n",
       "<tr><td>SVGP.q_sqrt             </td><td>Parameter</td><td>FillTriangular  </td><td>       </td><td>False      </td><td>(1, 27, 27)</td><td>float64</td><td>[[[8.96070649e-01, 0.00000000e+00, 0.00000000e+00...</td></tr>\n",
       "</tbody>\n",
       "</table>"
      ],
      "text/plain": [
       "<IPython.core.display.HTML object>"
      ]
     },
     "metadata": {},
     "output_type": "display_data"
    },
    {
     "name": "stdout",
     "output_type": "stream",
     "text": [
      "Best_guess f([0.325 0.625 0.875]) = -3.6285138824734746\n",
      "Beginning evaluation 3\n",
      "Maximizer:\n",
      "[[0.275 0.625 0.925]]\n",
      "Evaluation 3: Next query is [[0.275 0.625 0.925]\n",
      " [0.175 0.625 0.925]] with EI value of [0.36948684]\n",
      "Evaluation 3: Training model\n",
      "Optimizer config:  {'name': 'RMSprop', 'learning_rate': 0.001, 'decay': 0.0, 'rho': 0.0, 'momentum': 0.0, 'epsilon': 1e-07, 'centered': False}\n",
      "Indifference_threshold is fixed at 0.0\n",
      "Initialize lengthscale at [0.5 0.5 0.5]\n",
      "       signal variance at 1.0\n",
      "   Initial negative ELBO: 8468.969157241623\n",
      "Negative ELBO at step 0: 8354.049688087047 in 0.2772s\n",
      "Negative ELBO at step 500: 34.32641060505297 in 88.8159s\n",
      "Negative ELBO at step 1000: 14.118393011363226 in 89.2695s\n",
      "Negative ELBO at step 1500: 13.88336969738167 in 88.6334s\n",
      "Negative ELBO at step 2000: 13.8833595901426 in 88.2490s\n",
      "Negative ELBO at step 2500: 13.883350871686455 in 88.1379s\n"
     ]
    },
    {
     "data": {
      "text/html": [
       "<table>\n",
       "<thead>\n",
       "<tr><th>name                    </th><th>class    </th><th>transform       </th><th>prior  </th><th>trainable  </th><th>shape      </th><th>dtype  </th><th>value                                               </th></tr>\n",
       "</thead>\n",
       "<tbody>\n",
       "<tr><td>SVGP.kernel.variance    </td><td>Parameter</td><td>Softplus        </td><td>       </td><td>True       </td><td>()         </td><td>float64</td><td>1.0656465017685206                                  </td></tr>\n",
       "<tr><td>SVGP.kernel.lengthscale </td><td>Parameter</td><td>Softplus + Shift</td><td>       </td><td>True       </td><td>(3,)       </td><td>float64</td><td>[0.41163578 0.16859871 0.20384444]                  </td></tr>\n",
       "<tr><td>SVGP.likelihood.variance</td><td>Parameter</td><td>Softplus + Shift</td><td>       </td><td>True       </td><td>()         </td><td>float64</td><td>1.0                                                 </td></tr>\n",
       "<tr><td>SVGP.inducing_variable.Z</td><td>Parameter</td><td>                </td><td>       </td><td>False      </td><td>(28, 3)    </td><td>float64</td><td>[[0.725, 0.625, 0.025...                            </td></tr>\n",
       "<tr><td>SVGP.q_mu               </td><td>Parameter</td><td>                </td><td>       </td><td>False      </td><td>(28, 1)    </td><td>float64</td><td>[[0.28598522...                                     </td></tr>\n",
       "<tr><td>SVGP.q_sqrt             </td><td>Parameter</td><td>FillTriangular  </td><td>       </td><td>False      </td><td>(1, 28, 28)</td><td>float64</td><td>[[[9.21866334e-01, 0.00000000e+00, 0.00000000e+00...</td></tr>\n",
       "</tbody>\n",
       "</table>"
      ],
      "text/plain": [
       "<IPython.core.display.HTML object>"
      ]
     },
     "metadata": {},
     "output_type": "display_data"
    },
    {
     "name": "stdout",
     "output_type": "stream",
     "text": [
      "Best_guess f([0.425 0.625 0.925]) = -3.1861704778063116\n",
      "Beginning evaluation 4\n",
      "Maximizer:\n",
      "[[0.475 0.625 0.975]]\n",
      "Evaluation 4: Next query is [[0.475 0.625 0.975]\n",
      " [0.325 0.575 0.925]] with EI value of [0.37417312]\n",
      "Evaluation 4: Training model\n",
      "Optimizer config:  {'name': 'RMSprop', 'learning_rate': 0.001, 'decay': 0.0, 'rho': 0.0, 'momentum': 0.0, 'epsilon': 1e-07, 'centered': False}\n",
      "Indifference_threshold is fixed at 0.0\n",
      "Initialize lengthscale at [0.5 0.5 0.5]\n",
      "       signal variance at 1.0\n",
      "   Initial negative ELBO: 16930.62751966558\n",
      "Negative ELBO at step 0: 16715.72043468246 in 0.3001s\n",
      "Negative ELBO at step 500: 69.45883909253853 in 92.1233s\n",
      "Negative ELBO at step 1000: 14.972043481188257 in 92.1175s\n",
      "Negative ELBO at step 1500: 14.530739796313014 in 91.7351s\n",
      "Negative ELBO at step 2000: 14.530726971309196 in 92.1760s\n",
      "Negative ELBO at step 2500: 14.53071698192136 in 91.6470s\n"
     ]
    },
    {
     "data": {
      "text/html": [
       "<table>\n",
       "<thead>\n",
       "<tr><th>name                    </th><th>class    </th><th>transform       </th><th>prior  </th><th>trainable  </th><th>shape      </th><th>dtype  </th><th>value                                               </th></tr>\n",
       "</thead>\n",
       "<tbody>\n",
       "<tr><td>SVGP.kernel.variance    </td><td>Parameter</td><td>Softplus        </td><td>       </td><td>True       </td><td>()         </td><td>float64</td><td>1.0841154577748222                                  </td></tr>\n",
       "<tr><td>SVGP.kernel.lengthscale </td><td>Parameter</td><td>Softplus + Shift</td><td>       </td><td>True       </td><td>(3,)       </td><td>float64</td><td>[0.4315886  0.15601907 0.17110012]                  </td></tr>\n",
       "<tr><td>SVGP.likelihood.variance</td><td>Parameter</td><td>Softplus + Shift</td><td>       </td><td>True       </td><td>()         </td><td>float64</td><td>1.0                                                 </td></tr>\n",
       "<tr><td>SVGP.inducing_variable.Z</td><td>Parameter</td><td>                </td><td>       </td><td>False      </td><td>(29, 3)    </td><td>float64</td><td>[[0.725, 0.625, 0.025...                            </td></tr>\n",
       "<tr><td>SVGP.q_mu               </td><td>Parameter</td><td>                </td><td>       </td><td>False      </td><td>(29, 1)    </td><td>float64</td><td>[[0.33224074...                                     </td></tr>\n",
       "<tr><td>SVGP.q_sqrt             </td><td>Parameter</td><td>FillTriangular  </td><td>       </td><td>False      </td><td>(1, 29, 29)</td><td>float64</td><td>[[[9.49817607e-01, 0.00000000e+00, 0.00000000e+00...</td></tr>\n",
       "</tbody>\n",
       "</table>"
      ],
      "text/plain": [
       "<IPython.core.display.HTML object>"
      ]
     },
     "metadata": {},
     "output_type": "display_data"
    },
    {
     "name": "stdout",
     "output_type": "stream",
     "text": [
      "Best_guess f([0.325 0.625 0.875]) = -3.6285138824734746\n",
      "Beginning evaluation 5\n",
      "Maximizer:\n",
      "[[0.325 0.575 0.925]]\n",
      "Evaluation 5: Next query is [[0.325 0.575 0.925]\n",
      " [0.325 0.625 0.875]] with EI value of [0.3870042]\n",
      "Evaluation 5: Training model\n",
      "Optimizer config:  {'name': 'RMSprop', 'learning_rate': 0.001, 'decay': 0.0, 'rho': 0.0, 'momentum': 0.0, 'epsilon': 1e-07, 'centered': False}\n",
      "Indifference_threshold is fixed at 0.0\n",
      "Initialize lengthscale at [0.5 0.5 0.5]\n",
      "       signal variance at 1.0\n",
      "   Initial negative ELBO: 36492.93770430383\n",
      "Negative ELBO at step 0: 36029.034804925366 in 0.3036s\n",
      "Negative ELBO at step 500: 92.315283651311 in 100.2554s\n",
      "Negative ELBO at step 1000: 15.783366118683631 in 103.2869s\n",
      "Negative ELBO at step 1500: 15.305060286560826 in 99.0722s\n",
      "Negative ELBO at step 2000: 15.285567661907544 in 99.1629s\n",
      "Negative ELBO at step 2500: 15.2855541010915 in 98.8087s\n"
     ]
    },
    {
     "data": {
      "text/html": [
       "<table>\n",
       "<thead>\n",
       "<tr><th>name                    </th><th>class    </th><th>transform       </th><th>prior  </th><th>trainable  </th><th>shape      </th><th>dtype  </th><th>value                                               </th></tr>\n",
       "</thead>\n",
       "<tbody>\n",
       "<tr><td>SVGP.kernel.variance    </td><td>Parameter</td><td>Softplus        </td><td>       </td><td>True       </td><td>()         </td><td>float64</td><td>0.966101255891136                                   </td></tr>\n",
       "<tr><td>SVGP.kernel.lengthscale </td><td>Parameter</td><td>Softplus + Shift</td><td>       </td><td>True       </td><td>(3,)       </td><td>float64</td><td>[0.39114041 0.15258743 0.17782072]                  </td></tr>\n",
       "<tr><td>SVGP.likelihood.variance</td><td>Parameter</td><td>Softplus + Shift</td><td>       </td><td>True       </td><td>()         </td><td>float64</td><td>1.0                                                 </td></tr>\n",
       "<tr><td>SVGP.inducing_variable.Z</td><td>Parameter</td><td>                </td><td>       </td><td>False      </td><td>(30, 3)    </td><td>float64</td><td>[[0.725, 0.625, 0.025...                            </td></tr>\n",
       "<tr><td>SVGP.q_mu               </td><td>Parameter</td><td>                </td><td>       </td><td>False      </td><td>(30, 1)    </td><td>float64</td><td>[[0.31805874...                                     </td></tr>\n",
       "<tr><td>SVGP.q_sqrt             </td><td>Parameter</td><td>FillTriangular  </td><td>       </td><td>False      </td><td>(1, 30, 30)</td><td>float64</td><td>[[[9.08074433e-01, 0.00000000e+00, 0.00000000e+00...</td></tr>\n",
       "</tbody>\n",
       "</table>"
      ],
      "text/plain": [
       "<IPython.core.display.HTML object>"
      ]
     },
     "metadata": {},
     "output_type": "display_data"
    },
    {
     "name": "stdout",
     "output_type": "stream",
     "text": [
      "Best_guess f([0.375 0.625 0.825]) = -3.574545208591993\n",
      "Beginning evaluation 6\n",
      "Maximizer:\n",
      "[[0.325 0.625 0.875]]\n",
      "Evaluation 6: Next query is [[0.325 0.625 0.875]\n",
      " [0.325 0.625 0.825]] with EI value of [0.36483869]\n",
      "Evaluation 6: Training model\n",
      "Optimizer config:  {'name': 'RMSprop', 'learning_rate': 0.001, 'decay': 0.0, 'rho': 0.0, 'momentum': 0.0, 'epsilon': 1e-07, 'centered': False}\n",
      "Indifference_threshold is fixed at 0.0\n",
      "Initialize lengthscale at [0.5 0.5 0.5]\n",
      "       signal variance at 1.0\n",
      "   Initial negative ELBO: 187905.30826043471\n",
      "Negative ELBO at step 0: 185585.57912463215 in 0.3131s\n",
      "Negative ELBO at step 500: 339.0178555310624 in 101.2553s\n",
      "Negative ELBO at step 1000: 17.189525616996512 in 102.7242s\n",
      "Negative ELBO at step 1500: 16.248530224353136 in 103.4019s\n",
      "Negative ELBO at step 2000: 16.092738725759737 in 102.4435s\n",
      "Negative ELBO at step 2500: 16.066563875879595 in 102.1736s\n"
     ]
    },
    {
     "data": {
      "text/html": [
       "<table>\n",
       "<thead>\n",
       "<tr><th>name                    </th><th>class    </th><th>transform       </th><th>prior  </th><th>trainable  </th><th>shape      </th><th>dtype  </th><th>value                                               </th></tr>\n",
       "</thead>\n",
       "<tbody>\n",
       "<tr><td>SVGP.kernel.variance    </td><td>Parameter</td><td>Softplus        </td><td>       </td><td>True       </td><td>()         </td><td>float64</td><td>0.7419248553296575                                  </td></tr>\n",
       "<tr><td>SVGP.kernel.lengthscale </td><td>Parameter</td><td>Softplus + Shift</td><td>       </td><td>True       </td><td>(3,)       </td><td>float64</td><td>[0.3898464  0.12683917 0.14729772]                  </td></tr>\n",
       "<tr><td>SVGP.likelihood.variance</td><td>Parameter</td><td>Softplus + Shift</td><td>       </td><td>True       </td><td>()         </td><td>float64</td><td>1.0                                                 </td></tr>\n",
       "<tr><td>SVGP.inducing_variable.Z</td><td>Parameter</td><td>                </td><td>       </td><td>False      </td><td>(31, 3)    </td><td>float64</td><td>[[0.725, 0.625, 0.025...                            </td></tr>\n",
       "<tr><td>SVGP.q_mu               </td><td>Parameter</td><td>                </td><td>       </td><td>False      </td><td>(31, 1)    </td><td>float64</td><td>[[0.28585078...                                     </td></tr>\n",
       "<tr><td>SVGP.q_sqrt             </td><td>Parameter</td><td>FillTriangular  </td><td>       </td><td>False      </td><td>(1, 31, 31)</td><td>float64</td><td>[[[8.41942015e-01, 0.00000000e+00, 0.00000000e+00...</td></tr>\n",
       "</tbody>\n",
       "</table>"
      ],
      "text/plain": [
       "<IPython.core.display.HTML object>"
      ]
     },
     "metadata": {},
     "output_type": "display_data"
    },
    {
     "name": "stdout",
     "output_type": "stream",
     "text": [
      "Best_guess f([0.325 0.625 0.775]) = -3.211492624668752\n",
      "Beginning evaluation 7\n",
      "Maximizer:\n",
      "[[0.325 0.625 0.825]]\n",
      "Evaluation 7: Next query is [[0.325 0.625 0.825]\n",
      " [0.475 0.625 0.775]] with EI value of [0.35294214]\n",
      "Evaluation 7: Training model\n",
      "Optimizer config:  {'name': 'RMSprop', 'learning_rate': 0.001, 'decay': 0.0, 'rho': 0.0, 'momentum': 0.0, 'epsilon': 1e-07, 'centered': False}\n",
      "Indifference_threshold is fixed at 0.0\n",
      "Initialize lengthscale at [0.5 0.5 0.5]\n",
      "       signal variance at 1.0\n",
      "   Initial negative ELBO: 224972.38062387044\n",
      "Negative ELBO at step 0: 222106.00530998202 in 0.3317s\n",
      "Negative ELBO at step 500: 411.32553486029144 in 104.5683s\n",
      "Negative ELBO at step 1000: 18.009264928758014 in 105.1391s\n",
      "Negative ELBO at step 1500: 17.07296613703045 in 108.9980s\n",
      "Negative ELBO at step 2000: 16.87740725881955 in 109.4872s\n",
      "Negative ELBO at step 2500: 16.759543304661676 in 106.3025s\n"
     ]
    },
    {
     "data": {
      "text/html": [
       "<table>\n",
       "<thead>\n",
       "<tr><th>name                    </th><th>class    </th><th>transform       </th><th>prior  </th><th>trainable  </th><th>shape      </th><th>dtype  </th><th>value                             </th></tr>\n",
       "</thead>\n",
       "<tbody>\n",
       "<tr><td>SVGP.kernel.variance    </td><td>Parameter</td><td>Softplus        </td><td>       </td><td>True       </td><td>()         </td><td>float64</td><td>0.6215652191816639                </td></tr>\n",
       "<tr><td>SVGP.kernel.lengthscale </td><td>Parameter</td><td>Softplus + Shift</td><td>       </td><td>True       </td><td>(3,)       </td><td>float64</td><td>[0.31359705 0.15437828 0.15601973]</td></tr>\n",
       "<tr><td>SVGP.likelihood.variance</td><td>Parameter</td><td>Softplus + Shift</td><td>       </td><td>True       </td><td>()         </td><td>float64</td><td>1.0                               </td></tr>\n",
       "<tr><td>SVGP.inducing_variable.Z</td><td>Parameter</td><td>                </td><td>       </td><td>False      </td><td>(32, 3)    </td><td>float64</td><td>[[0.725, 0.625, 0.025...          </td></tr>\n",
       "<tr><td>SVGP.q_mu               </td><td>Parameter</td><td>                </td><td>       </td><td>False      </td><td>(32, 1)    </td><td>float64</td><td>[[0.23802776...                   </td></tr>\n",
       "<tr><td>SVGP.q_sqrt             </td><td>Parameter</td><td>FillTriangular  </td><td>       </td><td>False      </td><td>(1, 32, 32)</td><td>float64</td><td>[[[0.76405698, 0., 0....          </td></tr>\n",
       "</tbody>\n",
       "</table>"
      ],
      "text/plain": [
       "<IPython.core.display.HTML object>"
      ]
     },
     "metadata": {},
     "output_type": "display_data"
    },
    {
     "name": "stdout",
     "output_type": "stream",
     "text": [
      "Best_guess f([0.075 0.425 0.425]) = -0.41680635187694814\n",
      "Beginning evaluation 8\n",
      "Maximizer:\n",
      "[[0.025 0.375 0.425]]\n",
      "Evaluation 8: Next query is [[0.025 0.375 0.425]\n",
      " [0.175 0.425 0.375]] with EI value of [0.30499107]\n",
      "Evaluation 8: Training model\n",
      "Optimizer config:  {'name': 'RMSprop', 'learning_rate': 0.001, 'decay': 0.0, 'rho': 0.0, 'momentum': 0.0, 'epsilon': 1e-07, 'centered': False}\n",
      "Indifference_threshold is fixed at 0.0\n",
      "Initialize lengthscale at [0.5 0.5 0.5]\n",
      "       signal variance at 1.0\n",
      "   Initial negative ELBO: 252034.86891533065\n",
      "Negative ELBO at step 0: 248858.5708026711 in 0.3363s\n",
      "Negative ELBO at step 500: 452.8449583661421 in 109.4221s\n",
      "Negative ELBO at step 1000: 18.669069005576837 in 109.6854s\n",
      "Negative ELBO at step 1500: 17.888034992984124 in 113.3290s\n",
      "Negative ELBO at step 2000: 17.688564378885957 in 113.5066s\n",
      "Negative ELBO at step 2500: 17.53025909453305 in 110.6807s\n"
     ]
    },
    {
     "data": {
      "text/html": [
       "<table>\n",
       "<thead>\n",
       "<tr><th>name                    </th><th>class    </th><th>transform       </th><th>prior  </th><th>trainable  </th><th>shape      </th><th>dtype  </th><th>value                                               </th></tr>\n",
       "</thead>\n",
       "<tbody>\n",
       "<tr><td>SVGP.kernel.variance    </td><td>Parameter</td><td>Softplus        </td><td>       </td><td>True       </td><td>()         </td><td>float64</td><td>0.5906910251304985                                  </td></tr>\n",
       "<tr><td>SVGP.kernel.lengthscale </td><td>Parameter</td><td>Softplus + Shift</td><td>       </td><td>True       </td><td>(3,)       </td><td>float64</td><td>[0.29370044 0.1868189  0.1604093 ]                  </td></tr>\n",
       "<tr><td>SVGP.likelihood.variance</td><td>Parameter</td><td>Softplus + Shift</td><td>       </td><td>True       </td><td>()         </td><td>float64</td><td>1.0                                                 </td></tr>\n",
       "<tr><td>SVGP.inducing_variable.Z</td><td>Parameter</td><td>                </td><td>       </td><td>False      </td><td>(33, 3)    </td><td>float64</td><td>[[0.725, 0.625, 0.025...                            </td></tr>\n",
       "<tr><td>SVGP.q_mu               </td><td>Parameter</td><td>                </td><td>       </td><td>False      </td><td>(33, 1)    </td><td>float64</td><td>[[0.24018301...                                     </td></tr>\n",
       "<tr><td>SVGP.q_sqrt             </td><td>Parameter</td><td>FillTriangular  </td><td>       </td><td>False      </td><td>(1, 33, 33)</td><td>float64</td><td>[[[7.12150846e-01, 0.00000000e+00, 0.00000000e+00...</td></tr>\n",
       "</tbody>\n",
       "</table>"
      ],
      "text/plain": [
       "<IPython.core.display.HTML object>"
      ]
     },
     "metadata": {},
     "output_type": "display_data"
    },
    {
     "name": "stdout",
     "output_type": "stream",
     "text": [
      "Best_guess f([0.025 0.375 0.425]) = -0.35050032823681226\n",
      "Beginning evaluation 9\n",
      "Maximizer:\n",
      "[[0.025 0.375 0.425]]\n",
      "Evaluation 9: Next query is [[0.025 0.375 0.425]\n",
      " [0.075 0.625 0.725]] with EI value of [0.27777167]\n",
      "Evaluation 9: Training model\n",
      "Optimizer config:  {'name': 'RMSprop', 'learning_rate': 0.001, 'decay': 0.0, 'rho': 0.0, 'momentum': 0.0, 'epsilon': 1e-07, 'centered': False}\n",
      "Indifference_threshold is fixed at 0.0\n",
      "Initialize lengthscale at [0.5 0.5 0.5]\n",
      "       signal variance at 1.0\n",
      "   Initial negative ELBO: 439860.36617083644\n",
      "Negative ELBO at step 0: 433873.61567646114 in 0.3458s\n",
      "Negative ELBO at step 500: 776.4874202926586 in 112.1334s\n",
      "Negative ELBO at step 1000: 20.116676432287218 in 110.1779s\n",
      "Negative ELBO at step 1500: 18.705628729092453 in 111.2717s\n",
      "Negative ELBO at step 2000: 18.498499105587147 in 117.1084s\n",
      "Negative ELBO at step 2500: 18.388983348095028 in 117.6386s\n"
     ]
    },
    {
     "data": {
      "text/html": [
       "<table>\n",
       "<thead>\n",
       "<tr><th>name                    </th><th>class    </th><th>transform       </th><th>prior  </th><th>trainable  </th><th>shape      </th><th>dtype  </th><th>value                                               </th></tr>\n",
       "</thead>\n",
       "<tbody>\n",
       "<tr><td>SVGP.kernel.variance    </td><td>Parameter</td><td>Softplus        </td><td>       </td><td>True       </td><td>()         </td><td>float64</td><td>0.6808844337359178                                  </td></tr>\n",
       "<tr><td>SVGP.kernel.lengthscale </td><td>Parameter</td><td>Softplus + Shift</td><td>       </td><td>True       </td><td>(3,)       </td><td>float64</td><td>[0.23491999 0.16922226 0.16953027]                  </td></tr>\n",
       "<tr><td>SVGP.likelihood.variance</td><td>Parameter</td><td>Softplus + Shift</td><td>       </td><td>True       </td><td>()         </td><td>float64</td><td>1.0                                                 </td></tr>\n",
       "<tr><td>SVGP.inducing_variable.Z</td><td>Parameter</td><td>                </td><td>       </td><td>False      </td><td>(34, 3)    </td><td>float64</td><td>[[0.725, 0.625, 0.025...                            </td></tr>\n",
       "<tr><td>SVGP.q_mu               </td><td>Parameter</td><td>                </td><td>       </td><td>False      </td><td>(34, 1)    </td><td>float64</td><td>[[0.27191992...                                     </td></tr>\n",
       "<tr><td>SVGP.q_sqrt             </td><td>Parameter</td><td>FillTriangular  </td><td>       </td><td>False      </td><td>(1, 34, 34)</td><td>float64</td><td>[[[7.89169347e-01, 0.00000000e+00, 0.00000000e+00...</td></tr>\n",
       "</tbody>\n",
       "</table>"
      ],
      "text/plain": [
       "<IPython.core.display.HTML object>"
      ]
     },
     "metadata": {},
     "output_type": "display_data"
    },
    {
     "name": "stdout",
     "output_type": "stream",
     "text": [
      "Best_guess f([0.075 0.625 0.725]) = -2.801909648667788\n",
      "Beginning evaluation 10\n",
      "Maximizer:\n",
      "[[0.075 0.625 0.725]]\n",
      "Evaluation 10: Next query is [[0.075 0.625 0.725]\n",
      " [0.125 0.625 0.725]] with EI value of [0.33434966]\n",
      "Evaluation 10: Training model\n",
      "Optimizer config:  {'name': 'RMSprop', 'learning_rate': 0.001, 'decay': 0.0, 'rho': 0.0, 'momentum': 0.0, 'epsilon': 1e-07, 'centered': False}\n",
      "Indifference_threshold is fixed at 0.0\n",
      "Initialize lengthscale at [0.5 0.5 0.5]\n",
      "       signal variance at 1.0\n",
      "   Initial negative ELBO: 4026396.1394339288\n",
      "Negative ELBO at step 0: 3965356.43431424 in 0.3928s\n",
      "Negative ELBO at step 500: 5402.8169564897335 in 117.5924s\n",
      "Negative ELBO at step 1000: 23.73985924167147 in 122.9660s\n",
      "Negative ELBO at step 1500: 19.904336768416144 in 122.3613s\n",
      "Negative ELBO at step 2000: 19.00809919259917 in 119.4266s\n",
      "Negative ELBO at step 2500: 18.879689200046247 in 117.6468s\n"
     ]
    },
    {
     "data": {
      "text/html": [
       "<table>\n",
       "<thead>\n",
       "<tr><th>name                    </th><th>class    </th><th>transform       </th><th>prior  </th><th>trainable  </th><th>shape      </th><th>dtype  </th><th>value                             </th></tr>\n",
       "</thead>\n",
       "<tbody>\n",
       "<tr><td>SVGP.kernel.variance    </td><td>Parameter</td><td>Softplus        </td><td>       </td><td>True       </td><td>()         </td><td>float64</td><td>0.7429764891791169                </td></tr>\n",
       "<tr><td>SVGP.kernel.lengthscale </td><td>Parameter</td><td>Softplus + Shift</td><td>       </td><td>True       </td><td>(3,)       </td><td>float64</td><td>[0.15630859 0.1032301  0.08051857]</td></tr>\n",
       "<tr><td>SVGP.likelihood.variance</td><td>Parameter</td><td>Softplus + Shift</td><td>       </td><td>True       </td><td>()         </td><td>float64</td><td>1.0                               </td></tr>\n",
       "<tr><td>SVGP.inducing_variable.Z</td><td>Parameter</td><td>                </td><td>       </td><td>False      </td><td>(35, 3)    </td><td>float64</td><td>[[0.725, 0.625, 0.025...          </td></tr>\n",
       "<tr><td>SVGP.q_mu               </td><td>Parameter</td><td>                </td><td>       </td><td>False      </td><td>(35, 1)    </td><td>float64</td><td>[[0.27418123...                   </td></tr>\n",
       "<tr><td>SVGP.q_sqrt             </td><td>Parameter</td><td>FillTriangular  </td><td>       </td><td>False      </td><td>(1, 35, 35)</td><td>float64</td><td>[[[0.77794139, 0., 0....          </td></tr>\n",
       "</tbody>\n",
       "</table>"
      ],
      "text/plain": [
       "<IPython.core.display.HTML object>"
      ]
     },
     "metadata": {},
     "output_type": "display_data"
    },
    {
     "name": "stdout",
     "output_type": "stream",
     "text": [
      "Best_guess f([0.325 0.625 0.875]) = -3.6285138824734746\n",
      "Beginning evaluation 11\n",
      "Maximizer:\n",
      "[[0.325 0.625 0.875]]\n",
      "Evaluation 11: Next query is [[0.325 0.625 0.875]\n",
      " [0.275 0.625 0.875]] with EI value of [0.32655463]\n",
      "Evaluation 11: Training model\n",
      "Optimizer config:  {'name': 'RMSprop', 'learning_rate': 0.001, 'decay': 0.0, 'rho': 0.0, 'momentum': 0.0, 'epsilon': 1e-07, 'centered': False}\n",
      "Indifference_threshold is fixed at 0.0\n",
      "Initialize lengthscale at [0.5 0.5 0.5]\n",
      "       signal variance at 1.0\n",
      "   Initial negative ELBO: 4826226.547572662\n",
      "Negative ELBO at step 0: 4753190.4524764335 in 0.3671s\n",
      "Negative ELBO at step 500: 6250.4940618938535 in 120.2678s\n",
      "Negative ELBO at step 1000: 25.989445707098483 in 120.5314s\n",
      "Negative ELBO at step 1500: 21.561840734858958 in 123.2464s\n",
      "Negative ELBO at step 2000: 20.04881815667451 in 123.8552s\n",
      "Negative ELBO at step 2500: 19.565573627865252 in 122.3850s\n"
     ]
    },
    {
     "data": {
      "text/html": [
       "<table>\n",
       "<thead>\n",
       "<tr><th>name                    </th><th>class    </th><th>transform       </th><th>prior  </th><th>trainable  </th><th>shape      </th><th>dtype  </th><th>value                             </th></tr>\n",
       "</thead>\n",
       "<tbody>\n",
       "<tr><td>SVGP.kernel.variance    </td><td>Parameter</td><td>Softplus        </td><td>       </td><td>True       </td><td>()         </td><td>float64</td><td>0.6779243334541059                </td></tr>\n",
       "<tr><td>SVGP.kernel.lengthscale </td><td>Parameter</td><td>Softplus + Shift</td><td>       </td><td>True       </td><td>(3,)       </td><td>float64</td><td>[0.1462127  0.10318014 0.07688599]</td></tr>\n",
       "<tr><td>SVGP.likelihood.variance</td><td>Parameter</td><td>Softplus + Shift</td><td>       </td><td>True       </td><td>()         </td><td>float64</td><td>1.0                               </td></tr>\n",
       "<tr><td>SVGP.inducing_variable.Z</td><td>Parameter</td><td>                </td><td>       </td><td>False      </td><td>(36, 3)    </td><td>float64</td><td>[[0.725, 0.625, 0.025...          </td></tr>\n",
       "<tr><td>SVGP.q_mu               </td><td>Parameter</td><td>                </td><td>       </td><td>False      </td><td>(36, 1)    </td><td>float64</td><td>[[0.21638642...                   </td></tr>\n",
       "<tr><td>SVGP.q_sqrt             </td><td>Parameter</td><td>FillTriangular  </td><td>       </td><td>False      </td><td>(1, 36, 36)</td><td>float64</td><td>[[[0.76211981, 0., 0....          </td></tr>\n",
       "</tbody>\n",
       "</table>"
      ],
      "text/plain": [
       "<IPython.core.display.HTML object>"
      ]
     },
     "metadata": {},
     "output_type": "display_data"
    },
    {
     "name": "stdout",
     "output_type": "stream",
     "text": [
      "Best_guess f([0.325 0.625 0.875]) = -3.6285138824734746\n",
      "Beginning evaluation 12\n",
      "Maximizer:\n",
      "[[0.325 0.625 0.875]]\n",
      "Evaluation 12: Next query is [[0.325 0.625 0.875]\n",
      " [0.325 0.675 0.875]] with EI value of [0.27864521]\n",
      "Evaluation 12: Training model\n",
      "Optimizer config:  {'name': 'RMSprop', 'learning_rate': 0.001, 'decay': 0.0, 'rho': 0.0, 'momentum': 0.0, 'epsilon': 1e-07, 'centered': False}\n",
      "Indifference_threshold is fixed at 0.0\n",
      "Initialize lengthscale at [0.5 0.5 0.5]\n",
      "       signal variance at 1.0\n",
      "   Initial negative ELBO: 5214699.824536463\n",
      "Negative ELBO at step 0: 5136172.018974912 in 0.4062s\n",
      "Negative ELBO at step 500: 6311.673026937294 in 129.3720s\n",
      "Negative ELBO at step 1000: 26.9950272140873 in 129.6836s\n",
      "Negative ELBO at step 1500: 22.009085016122775 in 128.5934s\n",
      "Negative ELBO at step 2000: 20.664953595845244 in 128.9472s\n",
      "Negative ELBO at step 2500: 20.31892286125704 in 127.0996s\n"
     ]
    },
    {
     "data": {
      "text/html": [
       "<table>\n",
       "<thead>\n",
       "<tr><th>name                    </th><th>class    </th><th>transform       </th><th>prior  </th><th>trainable  </th><th>shape      </th><th>dtype  </th><th>value                                               </th></tr>\n",
       "</thead>\n",
       "<tbody>\n",
       "<tr><td>SVGP.kernel.variance    </td><td>Parameter</td><td>Softplus        </td><td>       </td><td>True       </td><td>()         </td><td>float64</td><td>0.6681306510254819                                  </td></tr>\n",
       "<tr><td>SVGP.kernel.lengthscale </td><td>Parameter</td><td>Softplus + Shift</td><td>       </td><td>True       </td><td>(3,)       </td><td>float64</td><td>[0.14811706 0.11786076 0.07585718]                  </td></tr>\n",
       "<tr><td>SVGP.likelihood.variance</td><td>Parameter</td><td>Softplus + Shift</td><td>       </td><td>True       </td><td>()         </td><td>float64</td><td>1.0                                                 </td></tr>\n",
       "<tr><td>SVGP.inducing_variable.Z</td><td>Parameter</td><td>                </td><td>       </td><td>False      </td><td>(37, 3)    </td><td>float64</td><td>[[0.725, 0.625, 0.025...                            </td></tr>\n",
       "<tr><td>SVGP.q_mu               </td><td>Parameter</td><td>                </td><td>       </td><td>False      </td><td>(37, 1)    </td><td>float64</td><td>[[0.28402102...                                     </td></tr>\n",
       "<tr><td>SVGP.q_sqrt             </td><td>Parameter</td><td>FillTriangular  </td><td>       </td><td>False      </td><td>(1, 37, 37)</td><td>float64</td><td>[[[7.49996991e-01, 0.00000000e+00, 0.00000000e+00...</td></tr>\n",
       "</tbody>\n",
       "</table>"
      ],
      "text/plain": [
       "<IPython.core.display.HTML object>"
      ]
     },
     "metadata": {},
     "output_type": "display_data"
    },
    {
     "name": "stdout",
     "output_type": "stream",
     "text": [
      "Best_guess f([0.325 0.625 0.875]) = -3.6285138824734746\n",
      "Beginning evaluation 13\n",
      "Maximizer:\n",
      "[[0.325 0.625 0.875]]\n",
      "Evaluation 13: Next query is [[0.325 0.625 0.875]\n",
      " [0.375 0.725 0.875]] with EI value of [0.26212885]\n",
      "Evaluation 13: Training model\n",
      "Optimizer config:  {'name': 'RMSprop', 'learning_rate': 0.001, 'decay': 0.0, 'rho': 0.0, 'momentum': 0.0, 'epsilon': 1e-07, 'centered': False}\n",
      "Indifference_threshold is fixed at 0.0\n",
      "Initialize lengthscale at [0.5 0.5 0.5]\n",
      "       signal variance at 1.0\n",
      "   Initial negative ELBO: 5736514.524715565\n",
      "Negative ELBO at step 0: 5650529.910294909 in 0.4081s\n",
      "Negative ELBO at step 500: 6885.247881271773 in 130.6938s\n",
      "Negative ELBO at step 1000: 28.01088894788426 in 129.2095s\n",
      "Negative ELBO at step 1500: 22.501958370286616 in 130.7049s\n",
      "Negative ELBO at step 2000: 21.051402872996043 in 137.9209s\n",
      "Negative ELBO at step 2500: 20.875997421204648 in 138.9878s\n"
     ]
    },
    {
     "data": {
      "text/html": [
       "<table>\n",
       "<thead>\n",
       "<tr><th>name                    </th><th>class    </th><th>transform       </th><th>prior  </th><th>trainable  </th><th>shape      </th><th>dtype  </th><th>value                             </th></tr>\n",
       "</thead>\n",
       "<tbody>\n",
       "<tr><td>SVGP.kernel.variance    </td><td>Parameter</td><td>Softplus        </td><td>       </td><td>True       </td><td>()         </td><td>float64</td><td>0.8110263283422312                </td></tr>\n",
       "<tr><td>SVGP.kernel.lengthscale </td><td>Parameter</td><td>Softplus + Shift</td><td>       </td><td>True       </td><td>(3,)       </td><td>float64</td><td>[0.14085614 0.11221028 0.07913731]</td></tr>\n",
       "<tr><td>SVGP.likelihood.variance</td><td>Parameter</td><td>Softplus + Shift</td><td>       </td><td>True       </td><td>()         </td><td>float64</td><td>1.0                               </td></tr>\n",
       "<tr><td>SVGP.inducing_variable.Z</td><td>Parameter</td><td>                </td><td>       </td><td>False      </td><td>(38, 3)    </td><td>float64</td><td>[[0.725, 0.625, 0.025...          </td></tr>\n",
       "<tr><td>SVGP.q_mu               </td><td>Parameter</td><td>                </td><td>       </td><td>False      </td><td>(38, 1)    </td><td>float64</td><td>[[0.2689749...                    </td></tr>\n",
       "<tr><td>SVGP.q_sqrt             </td><td>Parameter</td><td>FillTriangular  </td><td>       </td><td>False      </td><td>(1, 38, 38)</td><td>float64</td><td>[[[0.87603504, 0., 0....          </td></tr>\n",
       "</tbody>\n",
       "</table>"
      ],
      "text/plain": [
       "<IPython.core.display.HTML object>"
      ]
     },
     "metadata": {},
     "output_type": "display_data"
    },
    {
     "name": "stdout",
     "output_type": "stream",
     "text": [
      "Best_guess f([0.325 0.625 0.875]) = -3.6285138824734746\n",
      "Beginning evaluation 14\n",
      "Maximizer:\n",
      "[[0.325 0.625 0.875]]\n",
      "Evaluation 14: Next query is [[0.325 0.625 0.875]\n",
      " [0.375 0.625 0.875]] with EI value of [0.31948718]\n",
      "Evaluation 14: Training model\n",
      "Optimizer config:  {'name': 'RMSprop', 'learning_rate': 0.001, 'decay': 0.0, 'rho': 0.0, 'momentum': 0.0, 'epsilon': 1e-07, 'centered': False}\n",
      "Indifference_threshold is fixed at 0.0\n",
      "Initialize lengthscale at [0.5 0.5 0.5]\n",
      "       signal variance at 1.0\n",
      "   Initial negative ELBO: 69227840.6159183\n",
      "Negative ELBO at step 0: 68269620.4242242 in 0.4077s\n",
      "Negative ELBO at step 500: 21739.747902106275 in 139.5129s\n",
      "Negative ELBO at step 1000: 43.161523524960835 in 140.3058s\n",
      "Negative ELBO at step 1500: 23.497852012093837 in 137.6840s\n",
      "Negative ELBO at step 2000: 21.789165392212443 in 137.1069s\n",
      "Negative ELBO at step 2500: 21.041854829259822 in 135.9081s\n"
     ]
    },
    {
     "data": {
      "text/html": [
       "<table>\n",
       "<thead>\n",
       "<tr><th>name                    </th><th>class    </th><th>transform       </th><th>prior  </th><th>trainable  </th><th>shape      </th><th>dtype  </th><th>value                             </th></tr>\n",
       "</thead>\n",
       "<tbody>\n",
       "<tr><td>SVGP.kernel.variance    </td><td>Parameter</td><td>Softplus        </td><td>       </td><td>True       </td><td>()         </td><td>float64</td><td>1.144572454194606                 </td></tr>\n",
       "<tr><td>SVGP.kernel.lengthscale </td><td>Parameter</td><td>Softplus + Shift</td><td>       </td><td>True       </td><td>(3,)       </td><td>float64</td><td>[0.04127747 0.17491155 0.15194277]</td></tr>\n",
       "<tr><td>SVGP.likelihood.variance</td><td>Parameter</td><td>Softplus + Shift</td><td>       </td><td>True       </td><td>()         </td><td>float64</td><td>1.0                               </td></tr>\n",
       "<tr><td>SVGP.inducing_variable.Z</td><td>Parameter</td><td>                </td><td>       </td><td>False      </td><td>(39, 3)    </td><td>float64</td><td>[[0.725, 0.625, 0.025...          </td></tr>\n",
       "<tr><td>SVGP.q_mu               </td><td>Parameter</td><td>                </td><td>       </td><td>False      </td><td>(39, 1)    </td><td>float64</td><td>[[0.43552186...                   </td></tr>\n",
       "<tr><td>SVGP.q_sqrt             </td><td>Parameter</td><td>FillTriangular  </td><td>       </td><td>False      </td><td>(1, 39, 39)</td><td>float64</td><td>[[[1.00206589, 0., 0....          </td></tr>\n",
       "</tbody>\n",
       "</table>"
      ],
      "text/plain": [
       "<IPython.core.display.HTML object>"
      ]
     },
     "metadata": {},
     "output_type": "display_data"
    },
    {
     "name": "stdout",
     "output_type": "stream",
     "text": [
      "Best_guess f([0.325 0.625 0.825]) = -3.593266574210071\n",
      "Beginning evaluation 15\n",
      "Maximizer:\n",
      "[[0.325 0.625 0.825]]\n",
      "Evaluation 15: Next query is [[0.325 0.625 0.825]\n",
      " [0.325 0.725 0.775]] with EI value of [0.28543799]\n",
      "Evaluation 15: Training model\n",
      "Optimizer config:  {'name': 'RMSprop', 'learning_rate': 0.001, 'decay': 0.0, 'rho': 0.0, 'momentum': 0.0, 'epsilon': 1e-07, 'centered': False}\n",
      "Indifference_threshold is fixed at 0.0\n",
      "Initialize lengthscale at [0.5 0.5 0.5]\n",
      "       signal variance at 1.0\n",
      "   Initial negative ELBO: 79881041.93355633\n",
      "Negative ELBO at step 0: 78765227.71211599 in 0.4275s\n",
      "Negative ELBO at step 500: 24752.423392088414 in 141.0759s\n",
      "Negative ELBO at step 1000: 46.30496072063026 in 143.2120s\n",
      "Negative ELBO at step 1500: 24.155023912052727 in 144.1817s\n",
      "Negative ELBO at step 2000: 22.270204372641032 in 138.9748s\n",
      "Negative ELBO at step 2500: 21.52245871220435 in 140.1676s\n"
     ]
    },
    {
     "data": {
      "text/html": [
       "<table>\n",
       "<thead>\n",
       "<tr><th>name                    </th><th>class    </th><th>transform       </th><th>prior  </th><th>trainable  </th><th>shape      </th><th>dtype  </th><th>value                             </th></tr>\n",
       "</thead>\n",
       "<tbody>\n",
       "<tr><td>SVGP.kernel.variance    </td><td>Parameter</td><td>Softplus        </td><td>       </td><td>True       </td><td>()         </td><td>float64</td><td>1.1872504159019837                </td></tr>\n",
       "<tr><td>SVGP.kernel.lengthscale </td><td>Parameter</td><td>Softplus + Shift</td><td>       </td><td>True       </td><td>(3,)       </td><td>float64</td><td>[0.03764304 0.13671271 0.10927561]</td></tr>\n",
       "<tr><td>SVGP.likelihood.variance</td><td>Parameter</td><td>Softplus + Shift</td><td>       </td><td>True       </td><td>()         </td><td>float64</td><td>1.0                               </td></tr>\n",
       "<tr><td>SVGP.inducing_variable.Z</td><td>Parameter</td><td>                </td><td>       </td><td>False      </td><td>(40, 3)    </td><td>float64</td><td>[[0.725, 0.625, 0.025...          </td></tr>\n",
       "<tr><td>SVGP.q_mu               </td><td>Parameter</td><td>                </td><td>       </td><td>False      </td><td>(40, 1)    </td><td>float64</td><td>[[0.34788053...                   </td></tr>\n",
       "<tr><td>SVGP.q_sqrt             </td><td>Parameter</td><td>FillTriangular  </td><td>       </td><td>False      </td><td>(1, 40, 40)</td><td>float64</td><td>[[[0.99205395, 0., 0....          </td></tr>\n",
       "</tbody>\n",
       "</table>"
      ],
      "text/plain": [
       "<IPython.core.display.HTML object>"
      ]
     },
     "metadata": {},
     "output_type": "display_data"
    },
    {
     "name": "stdout",
     "output_type": "stream",
     "text": [
      "Best_guess f([0.325 0.625 0.875]) = -3.6285138824734746\n",
      "Beginning evaluation 16\n",
      "Maximizer:\n",
      "[[0.325 0.625 0.875]]\n",
      "Evaluation 16: Next query is [[0.325 0.625 0.875]\n",
      " [0.325 0.575 0.925]] with EI value of [0.19497081]\n",
      "Evaluation 16: Training model\n",
      "Optimizer config:  {'name': 'RMSprop', 'learning_rate': 0.001, 'decay': 0.0, 'rho': 0.0, 'momentum': 0.0, 'epsilon': 1e-07, 'centered': False}\n",
      "Indifference_threshold is fixed at 0.0\n",
      "Initialize lengthscale at [0.5 0.5 0.5]\n",
      "       signal variance at 1.0\n",
      "   Initial negative ELBO: 76100613.79890485\n",
      "Negative ELBO at step 0: 75006917.60258654 in 0.4367s\n",
      "Negative ELBO at step 500: 24531.46790411587 in 147.2263s\n",
      "Negative ELBO at step 1000: 45.8003810664555 in 140.9688s\n",
      "Negative ELBO at step 1500: 24.77938174936258 in 145.7179s\n",
      "Negative ELBO at step 2000: 22.722493678379838 in 144.8115s\n",
      "Negative ELBO at step 2500: 21.938615162619918 in 145.9514s\n"
     ]
    },
    {
     "data": {
      "text/html": [
       "<table>\n",
       "<thead>\n",
       "<tr><th>name                    </th><th>class    </th><th>transform       </th><th>prior  </th><th>trainable  </th><th>shape      </th><th>dtype  </th><th>value                             </th></tr>\n",
       "</thead>\n",
       "<tbody>\n",
       "<tr><td>SVGP.kernel.variance    </td><td>Parameter</td><td>Softplus        </td><td>       </td><td>True       </td><td>()         </td><td>float64</td><td>1.1900334219903685                </td></tr>\n",
       "<tr><td>SVGP.kernel.lengthscale </td><td>Parameter</td><td>Softplus + Shift</td><td>       </td><td>True       </td><td>(3,)       </td><td>float64</td><td>[0.03876773 0.05500503 0.20568995]</td></tr>\n",
       "<tr><td>SVGP.likelihood.variance</td><td>Parameter</td><td>Softplus + Shift</td><td>       </td><td>True       </td><td>()         </td><td>float64</td><td>1.0                               </td></tr>\n",
       "<tr><td>SVGP.inducing_variable.Z</td><td>Parameter</td><td>                </td><td>       </td><td>False      </td><td>(40, 3)    </td><td>float64</td><td>[[0.725, 0.625, 0.025...          </td></tr>\n",
       "<tr><td>SVGP.q_mu               </td><td>Parameter</td><td>                </td><td>       </td><td>False      </td><td>(40, 1)    </td><td>float64</td><td>[[0.43160384...                   </td></tr>\n",
       "<tr><td>SVGP.q_sqrt             </td><td>Parameter</td><td>FillTriangular  </td><td>       </td><td>False      </td><td>(1, 40, 40)</td><td>float64</td><td>[[[0.97384097, 0., 0....          </td></tr>\n",
       "</tbody>\n",
       "</table>"
      ],
      "text/plain": [
       "<IPython.core.display.HTML object>"
      ]
     },
     "metadata": {},
     "output_type": "display_data"
    },
    {
     "name": "stdout",
     "output_type": "stream",
     "text": [
      "Best_guess f([0.325 0.625 0.825]) = -3.593266574210071\n",
      "Beginning evaluation 17\n",
      "Maximizer:\n",
      "[[0.325 0.625 0.825]]\n",
      "Evaluation 17: Next query is [[0.325 0.625 0.825]\n",
      " [0.325 0.625 0.925]] with EI value of [0.32000971]\n",
      "Evaluation 17: Training model\n",
      "Optimizer config:  {'name': 'RMSprop', 'learning_rate': 0.001, 'decay': 0.0, 'rho': 0.0, 'momentum': 0.0, 'epsilon': 1e-07, 'centered': False}\n",
      "Indifference_threshold is fixed at 0.0\n",
      "Initialize lengthscale at [0.5 0.5 0.5]\n",
      "       signal variance at 1.0\n",
      "   Initial negative ELBO: 125934924.54660389\n",
      "Negative ELBO at step 0: 124156497.85904506 in 0.4729s\n",
      "Negative ELBO at step 500: 40359.71442413937 in 155.3609s\n",
      "Negative ELBO at step 1000: 59.61771310829362 in 152.5819s\n",
      "Negative ELBO at step 1500: 26.366269032345862 in 152.3070s\n",
      "Negative ELBO at step 2000: 24.48573661404181 in 153.3398s\n",
      "Negative ELBO at step 2500: 22.90342775552707 in 151.2216s\n"
     ]
    },
    {
     "data": {
      "text/html": [
       "<table>\n",
       "<thead>\n",
       "<tr><th>name                    </th><th>class    </th><th>transform       </th><th>prior  </th><th>trainable  </th><th>shape      </th><th>dtype  </th><th>value                                               </th></tr>\n",
       "</thead>\n",
       "<tbody>\n",
       "<tr><td>SVGP.kernel.variance    </td><td>Parameter</td><td>Softplus        </td><td>       </td><td>True       </td><td>()         </td><td>float64</td><td>0.960021524088312                                   </td></tr>\n",
       "<tr><td>SVGP.kernel.lengthscale </td><td>Parameter</td><td>Softplus + Shift</td><td>       </td><td>True       </td><td>(3,)       </td><td>float64</td><td>[0.04543243 0.0627694  0.10167079]                  </td></tr>\n",
       "<tr><td>SVGP.likelihood.variance</td><td>Parameter</td><td>Softplus + Shift</td><td>       </td><td>True       </td><td>()         </td><td>float64</td><td>1.0                                                 </td></tr>\n",
       "<tr><td>SVGP.inducing_variable.Z</td><td>Parameter</td><td>                </td><td>       </td><td>False      </td><td>(41, 3)    </td><td>float64</td><td>[[0.725, 0.625, 0.025...                            </td></tr>\n",
       "<tr><td>SVGP.q_mu               </td><td>Parameter</td><td>                </td><td>       </td><td>False      </td><td>(41, 1)    </td><td>float64</td><td>[[0.37361324...                                     </td></tr>\n",
       "<tr><td>SVGP.q_sqrt             </td><td>Parameter</td><td>FillTriangular  </td><td>       </td><td>False      </td><td>(1, 41, 41)</td><td>float64</td><td>[[[9.21973776e-01, 0.00000000e+00, 0.00000000e+00...</td></tr>\n",
       "</tbody>\n",
       "</table>"
      ],
      "text/plain": [
       "<IPython.core.display.HTML object>"
      ]
     },
     "metadata": {},
     "output_type": "display_data"
    },
    {
     "name": "stdout",
     "output_type": "stream",
     "text": [
      "Best_guess f([0.325 0.625 0.825]) = -3.593266574210071\n",
      "Beginning evaluation 18\n",
      "Maximizer:\n",
      "[[0.325 0.625 0.825]]\n",
      "Evaluation 18: Next query is [[0.325 0.625 0.825]\n",
      " [0.325 0.625 0.775]] with EI value of [0.25763903]\n",
      "Evaluation 18: Training model\n",
      "Optimizer config:  {'name': 'RMSprop', 'learning_rate': 0.001, 'decay': 0.0, 'rho': 0.0, 'momentum': 0.0, 'epsilon': 1e-07, 'centered': False}\n",
      "Indifference_threshold is fixed at 0.0\n",
      "Initialize lengthscale at [0.5 0.5 0.5]\n",
      "       signal variance at 1.0\n",
      "   Initial negative ELBO: 172247381.76367345\n",
      "Negative ELBO at step 0: 169685414.68927318 in 0.4720s\n",
      "Negative ELBO at step 500: 97479.80551397156 in 152.1495s\n",
      "Negative ELBO at step 1000: 59.458291831119354 in 155.0257s\n",
      "Negative ELBO at step 1500: 26.97453364575191 in 151.9803s\n",
      "Negative ELBO at step 2000: 26.135418842224016 in 153.1524s\n",
      "Negative ELBO at step 2500: 24.482692783431897 in 151.4684s\n"
     ]
    },
    {
     "data": {
      "text/html": [
       "<table>\n",
       "<thead>\n",
       "<tr><th>name                    </th><th>class    </th><th>transform       </th><th>prior  </th><th>trainable  </th><th>shape      </th><th>dtype  </th><th>value                             </th></tr>\n",
       "</thead>\n",
       "<tbody>\n",
       "<tr><td>SVGP.kernel.variance    </td><td>Parameter</td><td>Softplus        </td><td>       </td><td>True       </td><td>()         </td><td>float64</td><td>0.6691059019074211                </td></tr>\n",
       "<tr><td>SVGP.kernel.lengthscale </td><td>Parameter</td><td>Softplus + Shift</td><td>       </td><td>True       </td><td>(3,)       </td><td>float64</td><td>[0.06085153 0.05038658 0.10601035]</td></tr>\n",
       "<tr><td>SVGP.likelihood.variance</td><td>Parameter</td><td>Softplus + Shift</td><td>       </td><td>True       </td><td>()         </td><td>float64</td><td>1.0                               </td></tr>\n",
       "<tr><td>SVGP.inducing_variable.Z</td><td>Parameter</td><td>                </td><td>       </td><td>False      </td><td>(42, 3)    </td><td>float64</td><td>[[0.725, 0.625, 0.025...          </td></tr>\n",
       "<tr><td>SVGP.q_mu               </td><td>Parameter</td><td>                </td><td>       </td><td>False      </td><td>(42, 1)    </td><td>float64</td><td>[[0.26201603...                   </td></tr>\n",
       "<tr><td>SVGP.q_sqrt             </td><td>Parameter</td><td>FillTriangular  </td><td>       </td><td>False      </td><td>(1, 42, 42)</td><td>float64</td><td>[[[0.75817984, 0., 0....          </td></tr>\n",
       "</tbody>\n",
       "</table>"
      ],
      "text/plain": [
       "<IPython.core.display.HTML object>"
      ]
     },
     "metadata": {},
     "output_type": "display_data"
    },
    {
     "name": "stdout",
     "output_type": "stream",
     "text": [
      "Best_guess f([0.325 0.625 0.825]) = -3.593266574210071\n",
      "Beginning evaluation 19\n",
      "Maximizer:\n",
      "[[0.325 0.625 0.825]]\n",
      "Evaluation 19: Next query is [[0.325 0.625 0.825]\n",
      " [0.325 0.625 0.775]] with EI value of [0.27283338]\n",
      "Evaluation 19: Training model\n",
      "Optimizer config:  {'name': 'RMSprop', 'learning_rate': 0.001, 'decay': 0.0, 'rho': 0.0, 'momentum': 0.0, 'epsilon': 1e-07, 'centered': False}\n",
      "Indifference_threshold is fixed at 0.0\n",
      "Initialize lengthscale at [0.5 0.5 0.5]\n",
      "       signal variance at 1.0\n",
      "   Initial negative ELBO: 173916744.62941787\n",
      "Negative ELBO at step 0: 171397705.74450764 in 0.4766s\n",
      "Negative ELBO at step 500: 95977.68005102267 in 161.6060s\n",
      "Negative ELBO at step 1000: 58.909196477358314 in 158.7581s\n",
      "Negative ELBO at step 1500: 27.77551887900126 in 159.7048s\n",
      "Negative ELBO at step 2000: 27.042363006423653 in 158.2232s\n",
      "Negative ELBO at step 2500: 26.283326488185153 in 156.2561s\n"
     ]
    },
    {
     "data": {
      "text/html": [
       "<table>\n",
       "<thead>\n",
       "<tr><th>name                    </th><th>class    </th><th>transform       </th><th>prior  </th><th>trainable  </th><th>shape      </th><th>dtype  </th><th>value                                               </th></tr>\n",
       "</thead>\n",
       "<tbody>\n",
       "<tr><td>SVGP.kernel.variance    </td><td>Parameter</td><td>Softplus        </td><td>       </td><td>True       </td><td>()         </td><td>float64</td><td>0.6536230206068232                                  </td></tr>\n",
       "<tr><td>SVGP.kernel.lengthscale </td><td>Parameter</td><td>Softplus + Shift</td><td>       </td><td>True       </td><td>(3,)       </td><td>float64</td><td>[0.09313677 0.05876218 0.11115403]                  </td></tr>\n",
       "<tr><td>SVGP.likelihood.variance</td><td>Parameter</td><td>Softplus + Shift</td><td>       </td><td>True       </td><td>()         </td><td>float64</td><td>1.0                                                 </td></tr>\n",
       "<tr><td>SVGP.inducing_variable.Z</td><td>Parameter</td><td>                </td><td>       </td><td>False      </td><td>(42, 3)    </td><td>float64</td><td>[[0.725, 0.625, 0.025...                            </td></tr>\n",
       "<tr><td>SVGP.q_mu               </td><td>Parameter</td><td>                </td><td>       </td><td>False      </td><td>(42, 1)    </td><td>float64</td><td>[[0.24964233...                                     </td></tr>\n",
       "<tr><td>SVGP.q_sqrt             </td><td>Parameter</td><td>FillTriangular  </td><td>       </td><td>False      </td><td>(1, 42, 42)</td><td>float64</td><td>[[[7.53625941e-01, 0.00000000e+00, 0.00000000e+00...</td></tr>\n",
       "</tbody>\n",
       "</table>"
      ],
      "text/plain": [
       "<IPython.core.display.HTML object>"
      ]
     },
     "metadata": {},
     "output_type": "display_data"
    },
    {
     "name": "stdout",
     "output_type": "stream",
     "text": [
      "Best_guess f([0.025 0.625 0.725]) = -2.7867281162935775\n",
      "Beginning evaluation 20\n",
      "Maximizer:\n",
      "[[0.025 0.625 0.725]]\n",
      "Evaluation 20: Next query is [[0.025 0.625 0.725]\n",
      " [0.025 0.625 0.625]] with EI value of [0.23156543]\n",
      "Evaluation 20: Training model\n",
      "Optimizer config:  {'name': 'RMSprop', 'learning_rate': 0.001, 'decay': 0.0, 'rho': 0.0, 'momentum': 0.0, 'epsilon': 1e-07, 'centered': False}\n",
      "Indifference_threshold is fixed at 0.0\n",
      "Initialize lengthscale at [0.5 0.5 0.5]\n",
      "       signal variance at 1.0\n",
      "   Initial negative ELBO: 320377652.78007907\n",
      "Negative ELBO at step 0: 315636348.25007135 in 0.4830s\n",
      "Negative ELBO at step 500: 118551.21282336696 in 166.5765s\n",
      "Negative ELBO at step 1000: 64.38051756289632 in 164.1354s\n",
      "Negative ELBO at step 1500: 28.389631681082662 in 161.1429s\n",
      "Negative ELBO at step 2000: 27.63867833573013 in 164.4277s\n",
      "Negative ELBO at step 2500: 26.706011205614878 in 166.9178s\n"
     ]
    },
    {
     "data": {
      "text/html": [
       "<table>\n",
       "<thead>\n",
       "<tr><th>name                    </th><th>class    </th><th>transform       </th><th>prior  </th><th>trainable  </th><th>shape      </th><th>dtype  </th><th>value                             </th></tr>\n",
       "</thead>\n",
       "<tbody>\n",
       "<tr><td>SVGP.kernel.variance    </td><td>Parameter</td><td>Softplus        </td><td>       </td><td>True       </td><td>()         </td><td>float64</td><td>0.6730165008573734                </td></tr>\n",
       "<tr><td>SVGP.kernel.lengthscale </td><td>Parameter</td><td>Softplus + Shift</td><td>       </td><td>True       </td><td>(3,)       </td><td>float64</td><td>[0.06588537 0.09085269 0.12565249]</td></tr>\n",
       "<tr><td>SVGP.likelihood.variance</td><td>Parameter</td><td>Softplus + Shift</td><td>       </td><td>True       </td><td>()         </td><td>float64</td><td>1.0                               </td></tr>\n",
       "<tr><td>SVGP.inducing_variable.Z</td><td>Parameter</td><td>                </td><td>       </td><td>False      </td><td>(43, 3)    </td><td>float64</td><td>[[0.725, 0.625, 0.025...          </td></tr>\n",
       "<tr><td>SVGP.q_mu               </td><td>Parameter</td><td>                </td><td>       </td><td>False      </td><td>(43, 1)    </td><td>float64</td><td>[[0.26989067...                   </td></tr>\n",
       "<tr><td>SVGP.q_sqrt             </td><td>Parameter</td><td>FillTriangular  </td><td>       </td><td>False      </td><td>(1, 43, 43)</td><td>float64</td><td>[[[0.7965092, 0., 0....           </td></tr>\n",
       "</tbody>\n",
       "</table>"
      ],
      "text/plain": [
       "<IPython.core.display.HTML object>"
      ]
     },
     "metadata": {},
     "output_type": "display_data"
    },
    {
     "name": "stdout",
     "output_type": "stream",
     "text": [
      "Best_guess f([0.025 0.625 0.675]) = -2.4094904235741508\n",
      "Beginning evaluation 21\n",
      "Maximizer:\n",
      "[[0.025 0.625 0.625]]\n",
      "Evaluation 21: Next query is [[0.025 0.625 0.625]\n",
      " [0.075 0.625 0.675]] with EI value of [0.30879885]\n",
      "Evaluation 21: Training model\n",
      "Optimizer config:  {'name': 'RMSprop', 'learning_rate': 0.001, 'decay': 0.0, 'rho': 0.0, 'momentum': 0.0, 'epsilon': 1e-07, 'centered': False}\n",
      "Indifference_threshold is fixed at 0.0\n",
      "Initialize lengthscale at [0.5 0.5 0.5]\n",
      "       signal variance at 1.0\n",
      "   Initial negative ELBO: 1387806779.2118485\n",
      "Negative ELBO at step 0: 1365368391.8984685 in 0.5306s\n",
      "Negative ELBO at step 500: 209236.23383897025 in 168.5359s\n",
      "Negative ELBO at step 1000: 86.54533718781579 in 169.1472s\n",
      "Negative ELBO at step 1500: 29.356705018042916 in 167.7593s\n",
      "Negative ELBO at step 2000: 28.17987244834112 in 169.4501s\n",
      "Negative ELBO at step 2500: 27.096304345061693 in 167.1677s\n"
     ]
    },
    {
     "data": {
      "text/html": [
       "<table>\n",
       "<thead>\n",
       "<tr><th>name                    </th><th>class    </th><th>transform       </th><th>prior  </th><th>trainable  </th><th>shape      </th><th>dtype  </th><th>value                                               </th></tr>\n",
       "</thead>\n",
       "<tbody>\n",
       "<tr><td>SVGP.kernel.variance    </td><td>Parameter</td><td>Softplus        </td><td>       </td><td>True       </td><td>()         </td><td>float64</td><td>0.7398518889831922                                  </td></tr>\n",
       "<tr><td>SVGP.kernel.lengthscale </td><td>Parameter</td><td>Softplus + Shift</td><td>       </td><td>True       </td><td>(3,)       </td><td>float64</td><td>[0.08777735 0.04168387 0.11370736]                  </td></tr>\n",
       "<tr><td>SVGP.likelihood.variance</td><td>Parameter</td><td>Softplus + Shift</td><td>       </td><td>True       </td><td>()         </td><td>float64</td><td>1.0                                                 </td></tr>\n",
       "<tr><td>SVGP.inducing_variable.Z</td><td>Parameter</td><td>                </td><td>       </td><td>False      </td><td>(44, 3)    </td><td>float64</td><td>[[0.725, 0.625, 0.025...                            </td></tr>\n",
       "<tr><td>SVGP.q_mu               </td><td>Parameter</td><td>                </td><td>       </td><td>False      </td><td>(44, 1)    </td><td>float64</td><td>[[0.2839449...                                      </td></tr>\n",
       "<tr><td>SVGP.q_sqrt             </td><td>Parameter</td><td>FillTriangular  </td><td>       </td><td>False      </td><td>(1, 44, 44)</td><td>float64</td><td>[[[8.28026311e-01, 0.00000000e+00, 0.00000000e+00...</td></tr>\n",
       "</tbody>\n",
       "</table>"
      ],
      "text/plain": [
       "<IPython.core.display.HTML object>"
      ]
     },
     "metadata": {},
     "output_type": "display_data"
    },
    {
     "name": "stdout",
     "output_type": "stream",
     "text": [
      "Best_guess f([0.325 0.625 0.825]) = -3.593266574210071\n",
      "Beginning evaluation 22\n",
      "Maximizer:\n",
      "[[0.325 0.625 0.825]]\n",
      "Evaluation 22: Next query is [[0.325 0.625 0.825]\n",
      " [0.075 0.625 0.675]] with EI value of [0.30142356]\n",
      "Evaluation 22: Training model\n",
      "Optimizer config:  {'name': 'RMSprop', 'learning_rate': 0.001, 'decay': 0.0, 'rho': 0.0, 'momentum': 0.0, 'epsilon': 1e-07, 'centered': False}\n",
      "Indifference_threshold is fixed at 0.0\n",
      "Initialize lengthscale at [0.5 0.5 0.5]\n",
      "       signal variance at 1.0\n",
      "   Initial negative ELBO: 1388625191.5052226\n",
      "Negative ELBO at step 0: 1366303107.2394345 in 0.5134s\n",
      "Negative ELBO at step 500: 213912.19987540078 in 170.9561s\n",
      "Negative ELBO at step 1000: 89.35319071287783 in 168.2231s\n",
      "Negative ELBO at step 1500: 30.042060988544236 in 174.9657s\n",
      "Negative ELBO at step 2000: 28.88717474318132 in 171.0608s\n",
      "Negative ELBO at step 2500: 27.038928254508335 in 173.5670s\n"
     ]
    },
    {
     "data": {
      "text/html": [
       "<table>\n",
       "<thead>\n",
       "<tr><th>name                    </th><th>class    </th><th>transform       </th><th>prior  </th><th>trainable  </th><th>shape      </th><th>dtype  </th><th>value                                               </th></tr>\n",
       "</thead>\n",
       "<tbody>\n",
       "<tr><td>SVGP.kernel.variance    </td><td>Parameter</td><td>Softplus        </td><td>       </td><td>True       </td><td>()         </td><td>float64</td><td>0.7304816970225846                                  </td></tr>\n",
       "<tr><td>SVGP.kernel.lengthscale </td><td>Parameter</td><td>Softplus + Shift</td><td>       </td><td>True       </td><td>(3,)       </td><td>float64</td><td>[0.05991404 0.05078057 0.11052473]                  </td></tr>\n",
       "<tr><td>SVGP.likelihood.variance</td><td>Parameter</td><td>Softplus + Shift</td><td>       </td><td>True       </td><td>()         </td><td>float64</td><td>1.0                                                 </td></tr>\n",
       "<tr><td>SVGP.inducing_variable.Z</td><td>Parameter</td><td>                </td><td>       </td><td>False      </td><td>(44, 3)    </td><td>float64</td><td>[[0.725, 0.625, 0.025...                            </td></tr>\n",
       "<tr><td>SVGP.q_mu               </td><td>Parameter</td><td>                </td><td>       </td><td>False      </td><td>(44, 1)    </td><td>float64</td><td>[[0.31812681...                                     </td></tr>\n",
       "<tr><td>SVGP.q_sqrt             </td><td>Parameter</td><td>FillTriangular  </td><td>       </td><td>False      </td><td>(1, 44, 44)</td><td>float64</td><td>[[[8.15849249e-01, 0.00000000e+00, 0.00000000e+00...</td></tr>\n",
       "</tbody>\n",
       "</table>"
      ],
      "text/plain": [
       "<IPython.core.display.HTML object>"
      ]
     },
     "metadata": {},
     "output_type": "display_data"
    },
    {
     "name": "stdout",
     "output_type": "stream",
     "text": [
      "Best_guess f([0.325 0.625 0.825]) = -3.593266574210071\n",
      "Beginning evaluation 23\n",
      "Maximizer:\n",
      "[[0.325 0.625 0.825]]\n",
      "Evaluation 23: Next query is [[0.325 0.625 0.825]\n",
      " [0.275 0.625 0.725]] with EI value of [0.11446679]\n",
      "Evaluation 23: Training model\n",
      "Optimizer config:  {'name': 'RMSprop', 'learning_rate': 0.001, 'decay': 0.0, 'rho': 0.0, 'momentum': 0.0, 'epsilon': 1e-07, 'centered': False}\n",
      "Indifference_threshold is fixed at 0.0\n",
      "Initialize lengthscale at [0.5 0.5 0.5]\n",
      "       signal variance at 1.0\n",
      "   Initial negative ELBO: 1762396391.5222316\n",
      "Negative ELBO at step 0: 1733269349.1390953 in 0.5233s\n",
      "Negative ELBO at step 500: 565361.0415502354 in 174.0272s\n",
      "Negative ELBO at step 1000: 136.50873119967378 in 176.3449s\n",
      "Negative ELBO at step 1500: 32.045919164039034 in 176.5099s\n",
      "Negative ELBO at step 2000: 28.235114530397873 in 177.9160s\n",
      "Negative ELBO at step 2500: 26.756121531610013 in 179.1067s\n"
     ]
    },
    {
     "data": {
      "text/html": [
       "<table>\n",
       "<thead>\n",
       "<tr><th>name                    </th><th>class    </th><th>transform       </th><th>prior  </th><th>trainable  </th><th>shape      </th><th>dtype  </th><th>value                             </th></tr>\n",
       "</thead>\n",
       "<tbody>\n",
       "<tr><td>SVGP.kernel.variance    </td><td>Parameter</td><td>Softplus        </td><td>       </td><td>True       </td><td>()         </td><td>float64</td><td>0.9974626200670182                </td></tr>\n",
       "<tr><td>SVGP.kernel.lengthscale </td><td>Parameter</td><td>Softplus + Shift</td><td>       </td><td>True       </td><td>(3,)       </td><td>float64</td><td>[0.03698388 0.10989824 0.08947382]</td></tr>\n",
       "<tr><td>SVGP.likelihood.variance</td><td>Parameter</td><td>Softplus + Shift</td><td>       </td><td>True       </td><td>()         </td><td>float64</td><td>1.0                               </td></tr>\n",
       "<tr><td>SVGP.inducing_variable.Z</td><td>Parameter</td><td>                </td><td>       </td><td>False      </td><td>(45, 3)    </td><td>float64</td><td>[[0.725, 0.625, 0.025...          </td></tr>\n",
       "<tr><td>SVGP.q_mu               </td><td>Parameter</td><td>                </td><td>       </td><td>False      </td><td>(45, 1)    </td><td>float64</td><td>[[0.40400394...                   </td></tr>\n",
       "<tr><td>SVGP.q_sqrt             </td><td>Parameter</td><td>FillTriangular  </td><td>       </td><td>False      </td><td>(1, 45, 45)</td><td>float64</td><td>[[[0.9077933, 0., 0....           </td></tr>\n",
       "</tbody>\n",
       "</table>"
      ],
      "text/plain": [
       "<IPython.core.display.HTML object>"
      ]
     },
     "metadata": {},
     "output_type": "display_data"
    },
    {
     "name": "stdout",
     "output_type": "stream",
     "text": [
      "Best_guess f([0.325 0.625 0.825]) = -3.593266574210071\n",
      "Beginning evaluation 24\n",
      "Maximizer:\n",
      "[[0.325 0.625 0.825]]\n",
      "Evaluation 24: Next query is [[0.325 0.625 0.825]\n",
      " [0.325 0.575 0.825]] with EI value of [0.24864715]\n",
      "Evaluation 24: Training model\n",
      "Optimizer config:  {'name': 'RMSprop', 'learning_rate': 0.001, 'decay': 0.0, 'rho': 0.0, 'momentum': 0.0, 'epsilon': 1e-07, 'centered': False}\n",
      "Indifference_threshold is fixed at 0.0\n",
      "Initialize lengthscale at [0.5 0.5 0.5]\n",
      "       signal variance at 1.0\n",
      "   Initial negative ELBO: 1679453052.7713966\n",
      "Negative ELBO at step 0: 1651538569.1448925 in 0.5512s\n",
      "Negative ELBO at step 500: 542623.9791021121 in 183.3008s\n",
      "Negative ELBO at step 1000: 144.18671823590324 in 182.7927s\n",
      "Negative ELBO at step 1500: 32.879284055440344 in 181.5518s\n",
      "Negative ELBO at step 2000: 28.902218309879704 in 181.8845s\n",
      "Negative ELBO at step 2500: 27.24841940730152 in 181.7841s\n"
     ]
    },
    {
     "data": {
      "text/html": [
       "<table>\n",
       "<thead>\n",
       "<tr><th>name                    </th><th>class    </th><th>transform       </th><th>prior  </th><th>trainable  </th><th>shape      </th><th>dtype  </th><th>value                                               </th></tr>\n",
       "</thead>\n",
       "<tbody>\n",
       "<tr><td>SVGP.kernel.variance    </td><td>Parameter</td><td>Softplus        </td><td>       </td><td>True       </td><td>()         </td><td>float64</td><td>0.9624917266328427                                  </td></tr>\n",
       "<tr><td>SVGP.kernel.lengthscale </td><td>Parameter</td><td>Softplus + Shift</td><td>       </td><td>True       </td><td>(3,)       </td><td>float64</td><td>[0.03576942 0.05228708 0.10560954]                  </td></tr>\n",
       "<tr><td>SVGP.likelihood.variance</td><td>Parameter</td><td>Softplus + Shift</td><td>       </td><td>True       </td><td>()         </td><td>float64</td><td>1.0                                                 </td></tr>\n",
       "<tr><td>SVGP.inducing_variable.Z</td><td>Parameter</td><td>                </td><td>       </td><td>False      </td><td>(46, 3)    </td><td>float64</td><td>[[0.725, 0.625, 0.025...                            </td></tr>\n",
       "<tr><td>SVGP.q_mu               </td><td>Parameter</td><td>                </td><td>       </td><td>False      </td><td>(46, 1)    </td><td>float64</td><td>[[0.40792392...                                     </td></tr>\n",
       "<tr><td>SVGP.q_sqrt             </td><td>Parameter</td><td>FillTriangular  </td><td>       </td><td>False      </td><td>(1, 46, 46)</td><td>float64</td><td>[[[9.32127660e-01, 0.00000000e+00, 0.00000000e+00...</td></tr>\n",
       "</tbody>\n",
       "</table>"
      ],
      "text/plain": [
       "<IPython.core.display.HTML object>"
      ]
     },
     "metadata": {},
     "output_type": "display_data"
    },
    {
     "name": "stdout",
     "output_type": "stream",
     "text": [
      "Best_guess f([0.325 0.625 0.825]) = -3.593266574210071\n",
      "Beginning evaluation 25\n",
      "Maximizer:\n",
      "[[0.325 0.625 0.825]]\n",
      "Evaluation 25: Next query is [[0.325 0.625 0.825]\n",
      " [0.325 0.675 0.875]] with EI value of [0.21342019]\n",
      "Evaluation 25: Training model\n",
      "Optimizer config:  {'name': 'RMSprop', 'learning_rate': 0.001, 'decay': 0.0, 'rho': 0.0, 'momentum': 0.0, 'epsilon': 1e-07, 'centered': False}\n",
      "Indifference_threshold is fixed at 0.0\n",
      "Initialize lengthscale at [0.5 0.5 0.5]\n",
      "       signal variance at 1.0\n",
      "   Initial negative ELBO: 1715647434.5937173\n",
      "Negative ELBO at step 0: 1687433325.8235457 in 0.5566s\n",
      "Negative ELBO at step 500: 597204.6992153196 in 182.8859s\n",
      "Negative ELBO at step 1000: 143.85546296308956 in 186.2319s\n",
      "Negative ELBO at step 1500: 33.80621251528359 in 183.9200s\n",
      "Negative ELBO at step 2000: 29.788076467412754 in 185.8299s\n",
      "Negative ELBO at step 2500: 27.954997006246593 in 185.6470s\n"
     ]
    },
    {
     "data": {
      "text/html": [
       "<table>\n",
       "<thead>\n",
       "<tr><th>name                    </th><th>class    </th><th>transform       </th><th>prior  </th><th>trainable  </th><th>shape      </th><th>dtype  </th><th>value                                               </th></tr>\n",
       "</thead>\n",
       "<tbody>\n",
       "<tr><td>SVGP.kernel.variance    </td><td>Parameter</td><td>Softplus        </td><td>       </td><td>True       </td><td>()         </td><td>float64</td><td>0.9042558795339547                                  </td></tr>\n",
       "<tr><td>SVGP.kernel.lengthscale </td><td>Parameter</td><td>Softplus + Shift</td><td>       </td><td>True       </td><td>(3,)       </td><td>float64</td><td>[0.03899626 0.04472695 0.10783548]                  </td></tr>\n",
       "<tr><td>SVGP.likelihood.variance</td><td>Parameter</td><td>Softplus + Shift</td><td>       </td><td>True       </td><td>()         </td><td>float64</td><td>1.0                                                 </td></tr>\n",
       "<tr><td>SVGP.inducing_variable.Z</td><td>Parameter</td><td>                </td><td>       </td><td>False      </td><td>(46, 3)    </td><td>float64</td><td>[[0.725, 0.625, 0.025...                            </td></tr>\n",
       "<tr><td>SVGP.q_mu               </td><td>Parameter</td><td>                </td><td>       </td><td>False      </td><td>(46, 1)    </td><td>float64</td><td>[[0.34787637...                                     </td></tr>\n",
       "<tr><td>SVGP.q_sqrt             </td><td>Parameter</td><td>FillTriangular  </td><td>       </td><td>False      </td><td>(1, 46, 46)</td><td>float64</td><td>[[[8.92206992e-01, 0.00000000e+00, 0.00000000e+00...</td></tr>\n",
       "</tbody>\n",
       "</table>"
      ],
      "text/plain": [
       "<IPython.core.display.HTML object>"
      ]
     },
     "metadata": {},
     "output_type": "display_data"
    },
    {
     "name": "stdout",
     "output_type": "stream",
     "text": [
      "Best_guess f([0.325 0.625 0.825]) = -3.593266574210071\n",
      "Beginning evaluation 26\n",
      "Maximizer:\n",
      "[[0.325 0.625 0.825]]\n",
      "Evaluation 26: Next query is [[0.325 0.625 0.825]\n",
      " [0.325 0.675 0.825]] with EI value of [0.14147389]\n",
      "Evaluation 26: Training model\n",
      "Optimizer config:  {'name': 'RMSprop', 'learning_rate': 0.001, 'decay': 0.0, 'rho': 0.0, 'momentum': 0.0, 'epsilon': 1e-07, 'centered': False}\n",
      "Indifference_threshold is fixed at 0.0\n",
      "Initialize lengthscale at [0.5 0.5 0.5]\n",
      "       signal variance at 1.0\n",
      "   Initial negative ELBO: 2205430892.5013433\n",
      "Negative ELBO at step 0: 2168435600.6688848 in 0.6107s\n",
      "Negative ELBO at step 500: 1169112.7056640724 in 193.0224s\n",
      "Negative ELBO at step 1000: 241.95578564431838 in 190.0444s\n",
      "Negative ELBO at step 1500: 36.03913708433134 in 186.2257s\n",
      "Negative ELBO at step 2000: 30.560810658667073 in 189.4840s\n",
      "Negative ELBO at step 2500: 28.590912537838232 in 185.0388s\n"
     ]
    },
    {
     "data": {
      "text/html": [
       "<table>\n",
       "<thead>\n",
       "<tr><th>name                    </th><th>class    </th><th>transform       </th><th>prior  </th><th>trainable  </th><th>shape      </th><th>dtype  </th><th>value                                               </th></tr>\n",
       "</thead>\n",
       "<tbody>\n",
       "<tr><td>SVGP.kernel.variance    </td><td>Parameter</td><td>Softplus        </td><td>       </td><td>True       </td><td>()         </td><td>float64</td><td>0.9018767999412941                                  </td></tr>\n",
       "<tr><td>SVGP.kernel.lengthscale </td><td>Parameter</td><td>Softplus + Shift</td><td>       </td><td>True       </td><td>(3,)       </td><td>float64</td><td>[0.03514207 0.03473023 0.10205895]                  </td></tr>\n",
       "<tr><td>SVGP.likelihood.variance</td><td>Parameter</td><td>Softplus + Shift</td><td>       </td><td>True       </td><td>()         </td><td>float64</td><td>1.0                                                 </td></tr>\n",
       "<tr><td>SVGP.inducing_variable.Z</td><td>Parameter</td><td>                </td><td>       </td><td>False      </td><td>(47, 3)    </td><td>float64</td><td>[[0.725, 0.625, 0.025...                            </td></tr>\n",
       "<tr><td>SVGP.q_mu               </td><td>Parameter</td><td>                </td><td>       </td><td>False      </td><td>(47, 1)    </td><td>float64</td><td>[[0.36174063...                                     </td></tr>\n",
       "<tr><td>SVGP.q_sqrt             </td><td>Parameter</td><td>FillTriangular  </td><td>       </td><td>False      </td><td>(1, 47, 47)</td><td>float64</td><td>[[[8.89692330e-01, 0.00000000e+00, 0.00000000e+00...</td></tr>\n",
       "</tbody>\n",
       "</table>"
      ],
      "text/plain": [
       "<IPython.core.display.HTML object>"
      ]
     },
     "metadata": {},
     "output_type": "display_data"
    },
    {
     "name": "stdout",
     "output_type": "stream",
     "text": [
      "Best_guess f([0.325 0.625 0.825]) = -3.593266574210071\n",
      "Beginning evaluation 27\n",
      "Maximizer:\n",
      "[[0.325 0.625 0.825]]\n",
      "Evaluation 27: Next query is [[0.325 0.625 0.825]\n",
      " [0.325 0.625 0.725]] with EI value of [0.11584936]\n",
      "Evaluation 27: Training model\n",
      "Optimizer config:  {'name': 'RMSprop', 'learning_rate': 0.001, 'decay': 0.0, 'rho': 0.0, 'momentum': 0.0, 'epsilon': 1e-07, 'centered': False}\n",
      "Indifference_threshold is fixed at 0.0\n",
      "Initialize lengthscale at [0.5 0.5 0.5]\n",
      "       signal variance at 1.0\n",
      "   Initial negative ELBO: 2629863746.717059\n",
      "Negative ELBO at step 0: 2587638611.2051616 in 0.5727s\n",
      "Negative ELBO at step 500: 1905399.2104476332 in 192.8031s\n",
      "Negative ELBO at step 1000: 226.85605459523134 in 196.7768s\n",
      "Negative ELBO at step 1500: 36.918716081935074 in 196.6228s\n",
      "Negative ELBO at step 2000: 33.38007721906851 in 197.4049s\n",
      "Negative ELBO at step 2500: 32.169855715475606 in 196.4368s\n"
     ]
    },
    {
     "data": {
      "text/html": [
       "<table>\n",
       "<thead>\n",
       "<tr><th>name                    </th><th>class    </th><th>transform       </th><th>prior  </th><th>trainable  </th><th>shape      </th><th>dtype  </th><th>value                             </th></tr>\n",
       "</thead>\n",
       "<tbody>\n",
       "<tr><td>SVGP.kernel.variance    </td><td>Parameter</td><td>Softplus        </td><td>       </td><td>True       </td><td>()         </td><td>float64</td><td>0.8759662836141933                </td></tr>\n",
       "<tr><td>SVGP.kernel.lengthscale </td><td>Parameter</td><td>Softplus + Shift</td><td>       </td><td>True       </td><td>(3,)       </td><td>float64</td><td>[0.09137549 0.03178827 0.09475207]</td></tr>\n",
       "<tr><td>SVGP.likelihood.variance</td><td>Parameter</td><td>Softplus + Shift</td><td>       </td><td>True       </td><td>()         </td><td>float64</td><td>1.0                               </td></tr>\n",
       "<tr><td>SVGP.inducing_variable.Z</td><td>Parameter</td><td>                </td><td>       </td><td>False      </td><td>(48, 3)    </td><td>float64</td><td>[[0.725, 0.625, 0.025...          </td></tr>\n",
       "<tr><td>SVGP.q_mu               </td><td>Parameter</td><td>                </td><td>       </td><td>False      </td><td>(48, 1)    </td><td>float64</td><td>[[0.30947889...                   </td></tr>\n",
       "<tr><td>SVGP.q_sqrt             </td><td>Parameter</td><td>FillTriangular  </td><td>       </td><td>False      </td><td>(1, 48, 48)</td><td>float64</td><td>[[[0.88809273, 0., 0....          </td></tr>\n",
       "</tbody>\n",
       "</table>"
      ],
      "text/plain": [
       "<IPython.core.display.HTML object>"
      ]
     },
     "metadata": {},
     "output_type": "display_data"
    },
    {
     "name": "stdout",
     "output_type": "stream",
     "text": [
      "Best_guess f([0.325 0.625 0.825]) = -3.593266574210071\n",
      "Beginning evaluation 28\n",
      "Maximizer:\n",
      "[[0.325 0.625 0.825]]\n",
      "Evaluation 28: Next query is [[0.325 0.625 0.825]\n",
      " [0.025 0.625 0.725]] with EI value of [0.21620759]\n",
      "Evaluation 28: Training model\n",
      "Optimizer config:  {'name': 'RMSprop', 'learning_rate': 0.001, 'decay': 0.0, 'rho': 0.0, 'momentum': 0.0, 'epsilon': 1e-07, 'centered': False}\n",
      "Indifference_threshold is fixed at 0.0\n",
      "Initialize lengthscale at [0.5 0.5 0.5]\n",
      "       signal variance at 1.0\n",
      "   Initial negative ELBO: 2682811627.065978\n",
      "Negative ELBO at step 0: 2639410018.7274284 in 0.5974s\n",
      "Negative ELBO at step 500: 1816055.2001484262 in 195.7869s\n",
      "Negative ELBO at step 1000: 253.30239004359157 in 197.6028s\n",
      "Negative ELBO at step 1500: 37.86599067902736 in 197.3920s\n",
      "Negative ELBO at step 2000: 32.159619951838046 in 195.5543s\n",
      "Negative ELBO at step 2500: 30.203408256141124 in 196.9828s\n"
     ]
    },
    {
     "data": {
      "text/html": [
       "<table>\n",
       "<thead>\n",
       "<tr><th>name                    </th><th>class    </th><th>transform       </th><th>prior  </th><th>trainable  </th><th>shape      </th><th>dtype  </th><th>value                             </th></tr>\n",
       "</thead>\n",
       "<tbody>\n",
       "<tr><td>SVGP.kernel.variance    </td><td>Parameter</td><td>Softplus        </td><td>       </td><td>True       </td><td>()         </td><td>float64</td><td>0.8853339334893672                </td></tr>\n",
       "<tr><td>SVGP.kernel.lengthscale </td><td>Parameter</td><td>Softplus + Shift</td><td>       </td><td>True       </td><td>(3,)       </td><td>float64</td><td>[0.04429187 0.0350734  0.08239549]</td></tr>\n",
       "<tr><td>SVGP.likelihood.variance</td><td>Parameter</td><td>Softplus + Shift</td><td>       </td><td>True       </td><td>()         </td><td>float64</td><td>1.0                               </td></tr>\n",
       "<tr><td>SVGP.inducing_variable.Z</td><td>Parameter</td><td>                </td><td>       </td><td>False      </td><td>(48, 3)    </td><td>float64</td><td>[[0.725, 0.625, 0.025...          </td></tr>\n",
       "<tr><td>SVGP.q_mu               </td><td>Parameter</td><td>                </td><td>       </td><td>False      </td><td>(48, 1)    </td><td>float64</td><td>[[3.24167531e-01...               </td></tr>\n",
       "<tr><td>SVGP.q_sqrt             </td><td>Parameter</td><td>FillTriangular  </td><td>       </td><td>False      </td><td>(1, 48, 48)</td><td>float64</td><td>[[[0.88626709, 0., 0....          </td></tr>\n",
       "</tbody>\n",
       "</table>"
      ],
      "text/plain": [
       "<IPython.core.display.HTML object>"
      ]
     },
     "metadata": {},
     "output_type": "display_data"
    },
    {
     "name": "stdout",
     "output_type": "stream",
     "text": [
      "Best_guess f([0.325 0.625 0.825]) = -3.593266574210071\n",
      "Beginning evaluation 29\n",
      "Maximizer:\n",
      "[[0.325 0.625 0.825]]\n",
      "Evaluation 29: Next query is [[0.325 0.625 0.825]\n",
      " [0.375 0.625 0.875]] with EI value of [0.06038303]\n",
      "Evaluation 29: Training model\n",
      "Optimizer config:  {'name': 'RMSprop', 'learning_rate': 0.001, 'decay': 0.0, 'rho': 0.0, 'momentum': 0.0, 'epsilon': 1e-07, 'centered': False}\n",
      "Indifference_threshold is fixed at 0.0\n",
      "Initialize lengthscale at [0.5 0.5 0.5]\n",
      "       signal variance at 1.0\n",
      "   Initial negative ELBO: 2669037409.6724753\n",
      "Negative ELBO at step 0: 2625857572.979399 in 0.6403s\n",
      "Negative ELBO at step 500: 1778400.4476399552 in 204.8899s\n",
      "Negative ELBO at step 1000: 247.74031361434686 in 203.9662s\n",
      "Negative ELBO at step 1500: 38.549147614193075 in 204.9174s\n",
      "Negative ELBO at step 2000: 33.22989728001909 in 200.2482s\n",
      "Negative ELBO at step 2500: 31.304099189814604 in 201.6125s\n"
     ]
    },
    {
     "data": {
      "text/html": [
       "<table>\n",
       "<thead>\n",
       "<tr><th>name                    </th><th>class    </th><th>transform       </th><th>prior  </th><th>trainable  </th><th>shape      </th><th>dtype  </th><th>value                             </th></tr>\n",
       "</thead>\n",
       "<tbody>\n",
       "<tr><td>SVGP.kernel.variance    </td><td>Parameter</td><td>Softplus        </td><td>       </td><td>True       </td><td>()         </td><td>float64</td><td>0.8876857176906263                </td></tr>\n",
       "<tr><td>SVGP.kernel.lengthscale </td><td>Parameter</td><td>Softplus + Shift</td><td>       </td><td>True       </td><td>(3,)       </td><td>float64</td><td>[0.07703479 0.0339874  0.08255331]</td></tr>\n",
       "<tr><td>SVGP.likelihood.variance</td><td>Parameter</td><td>Softplus + Shift</td><td>       </td><td>True       </td><td>()         </td><td>float64</td><td>1.0                               </td></tr>\n",
       "<tr><td>SVGP.inducing_variable.Z</td><td>Parameter</td><td>                </td><td>       </td><td>False      </td><td>(48, 3)    </td><td>float64</td><td>[[0.725, 0.625, 0.025...          </td></tr>\n",
       "<tr><td>SVGP.q_mu               </td><td>Parameter</td><td>                </td><td>       </td><td>False      </td><td>(48, 1)    </td><td>float64</td><td>[[0.34938043...                   </td></tr>\n",
       "<tr><td>SVGP.q_sqrt             </td><td>Parameter</td><td>FillTriangular  </td><td>       </td><td>False      </td><td>(1, 48, 48)</td><td>float64</td><td>[[[0.88945103, 0., 0....          </td></tr>\n",
       "</tbody>\n",
       "</table>"
      ],
      "text/plain": [
       "<IPython.core.display.HTML object>"
      ]
     },
     "metadata": {},
     "output_type": "display_data"
    },
    {
     "name": "stdout",
     "output_type": "stream",
     "text": [
      "Best_guess f([0.325 0.625 0.825]) = -3.593266574210071\n",
      "Beginning evaluation 30\n",
      "Maximizer:\n",
      "[[0.325 0.625 0.825]]\n",
      "Evaluation 30: Next query is [[0.325 0.625 0.825]\n",
      " [0.075 0.625 0.675]] with EI value of [0.11063608]\n",
      "Evaluation 30: Training model\n",
      "Optimizer config:  {'name': 'RMSprop', 'learning_rate': 0.001, 'decay': 0.0, 'rho': 0.0, 'momentum': 0.0, 'epsilon': 1e-07, 'centered': False}\n",
      "Indifference_threshold is fixed at 0.0\n",
      "Initialize lengthscale at [0.5 0.5 0.5]\n",
      "       signal variance at 1.0\n",
      "   Initial negative ELBO: 2701518167.575078\n",
      "Negative ELBO at step 0: 2657706697.586913 in 0.6137s\n",
      "Negative ELBO at step 500: 1870599.046348056 in 206.0375s\n",
      "Negative ELBO at step 1000: 255.76783643820698 in 203.6314s\n",
      "Negative ELBO at step 1500: 39.093535086772334 in 207.9061s\n",
      "Negative ELBO at step 2000: 33.79748868066459 in 213.9957s\n",
      "Negative ELBO at step 2500: 32.027617953878504 in 214.2159s\n"
     ]
    },
    {
     "data": {
      "text/html": [
       "<table>\n",
       "<thead>\n",
       "<tr><th>name                    </th><th>class    </th><th>transform       </th><th>prior  </th><th>trainable  </th><th>shape      </th><th>dtype  </th><th>value                                               </th></tr>\n",
       "</thead>\n",
       "<tbody>\n",
       "<tr><td>SVGP.kernel.variance    </td><td>Parameter</td><td>Softplus        </td><td>       </td><td>True       </td><td>()         </td><td>float64</td><td>0.8912205760692905                                  </td></tr>\n",
       "<tr><td>SVGP.kernel.lengthscale </td><td>Parameter</td><td>Softplus + Shift</td><td>       </td><td>True       </td><td>(3,)       </td><td>float64</td><td>[0.07527434 0.03473033 0.08677438]                  </td></tr>\n",
       "<tr><td>SVGP.likelihood.variance</td><td>Parameter</td><td>Softplus + Shift</td><td>       </td><td>True       </td><td>()         </td><td>float64</td><td>1.0                                                 </td></tr>\n",
       "<tr><td>SVGP.inducing_variable.Z</td><td>Parameter</td><td>                </td><td>       </td><td>False      </td><td>(48, 3)    </td><td>float64</td><td>[[0.725, 0.625, 0.025...                            </td></tr>\n",
       "<tr><td>SVGP.q_mu               </td><td>Parameter</td><td>                </td><td>       </td><td>False      </td><td>(48, 1)    </td><td>float64</td><td>[[0.38195421...                                     </td></tr>\n",
       "<tr><td>SVGP.q_sqrt             </td><td>Parameter</td><td>FillTriangular  </td><td>       </td><td>False      </td><td>(1, 48, 48)</td><td>float64</td><td>[[[9.21892760e-01, 0.00000000e+00, 0.00000000e+00...</td></tr>\n",
       "</tbody>\n",
       "</table>"
      ],
      "text/plain": [
       "<IPython.core.display.HTML object>"
      ]
     },
     "metadata": {},
     "output_type": "display_data"
    },
    {
     "name": "stdout",
     "output_type": "stream",
     "text": [
      "Best_guess f([0.325 0.625 0.825]) = -3.593266574210071\n",
      "Beginning evaluation 31\n",
      "Maximizer:\n",
      "[[0.325 0.625 0.825]]\n",
      "Evaluation 31: Next query is [[0.325 0.625 0.825]\n",
      " [0.075 0.625 0.675]] with EI value of [0.25420404]\n",
      "Evaluation 31: Training model\n",
      "Optimizer config:  {'name': 'RMSprop', 'learning_rate': 0.001, 'decay': 0.0, 'rho': 0.0, 'momentum': 0.0, 'epsilon': 1e-07, 'centered': False}\n",
      "Indifference_threshold is fixed at 0.0\n",
      "Initialize lengthscale at [0.5 0.5 0.5]\n",
      "       signal variance at 1.0\n",
      "   Initial negative ELBO: 2658925708.8952565\n",
      "Negative ELBO at step 0: 2615553286.326329 in 0.6370s\n",
      "Negative ELBO at step 500: 1892222.8131636293 in 215.4778s\n",
      "Negative ELBO at step 1000: 238.23711926629198 in 211.9116s\n",
      "Negative ELBO at step 1500: 40.02504669419395 in 214.8295s\n",
      "Negative ELBO at step 2000: 36.531978990201395 in 210.9117s\n",
      "Negative ELBO at step 2500: 35.24746114211943 in 211.3348s\n"
     ]
    },
    {
     "data": {
      "text/html": [
       "<table>\n",
       "<thead>\n",
       "<tr><th>name                    </th><th>class    </th><th>transform       </th><th>prior  </th><th>trainable  </th><th>shape      </th><th>dtype  </th><th>value                                               </th></tr>\n",
       "</thead>\n",
       "<tbody>\n",
       "<tr><td>SVGP.kernel.variance    </td><td>Parameter</td><td>Softplus        </td><td>       </td><td>True       </td><td>()         </td><td>float64</td><td>0.875966321114408                                   </td></tr>\n",
       "<tr><td>SVGP.kernel.lengthscale </td><td>Parameter</td><td>Softplus + Shift</td><td>       </td><td>True       </td><td>(3,)       </td><td>float64</td><td>[0.10032619 0.03178827 0.08828309]                  </td></tr>\n",
       "<tr><td>SVGP.likelihood.variance</td><td>Parameter</td><td>Softplus + Shift</td><td>       </td><td>True       </td><td>()         </td><td>float64</td><td>1.0                                                 </td></tr>\n",
       "<tr><td>SVGP.inducing_variable.Z</td><td>Parameter</td><td>                </td><td>       </td><td>False      </td><td>(48, 3)    </td><td>float64</td><td>[[0.725, 0.625, 0.025...                            </td></tr>\n",
       "<tr><td>SVGP.q_mu               </td><td>Parameter</td><td>                </td><td>       </td><td>False      </td><td>(48, 1)    </td><td>float64</td><td>[[0.3484243...                                      </td></tr>\n",
       "<tr><td>SVGP.q_sqrt             </td><td>Parameter</td><td>FillTriangular  </td><td>       </td><td>False      </td><td>(1, 48, 48)</td><td>float64</td><td>[[[8.44210671e-01, 0.00000000e+00, 0.00000000e+00...</td></tr>\n",
       "</tbody>\n",
       "</table>"
      ],
      "text/plain": [
       "<IPython.core.display.HTML object>"
      ]
     },
     "metadata": {},
     "output_type": "display_data"
    },
    {
     "name": "stdout",
     "output_type": "stream",
     "text": [
      "Best_guess f([0.325 0.625 0.825]) = -3.593266574210071\n",
      "Beginning evaluation 32\n",
      "Maximizer:\n",
      "[[0.325 0.625 0.825]]\n",
      "Evaluation 32: Next query is [[0.325 0.625 0.825]\n",
      " [0.625 0.525 0.875]] with EI value of [0.2105101]\n",
      "Evaluation 32: Training model\n",
      "Optimizer config:  {'name': 'RMSprop', 'learning_rate': 0.001, 'decay': 0.0, 'rho': 0.0, 'momentum': 0.0, 'epsilon': 1e-07, 'centered': False}\n",
      "Indifference_threshold is fixed at 0.0\n",
      "Initialize lengthscale at [0.5 0.5 0.5]\n",
      "       signal variance at 1.0\n",
      "   Initial negative ELBO: 2853774102.290718\n",
      "Negative ELBO at step 0: 2807268108.1433897 in 0.6435s\n",
      "Negative ELBO at step 500: 2074246.9826372606 in 219.6451s\n",
      "Negative ELBO at step 1000: 259.07631487452886 in 216.6069s\n",
      "Negative ELBO at step 1500: 40.683254951244585 in 216.9885s\n",
      "Negative ELBO at step 2000: 37.074537921024216 in 219.1441s\n",
      "Negative ELBO at step 2500: 34.52488838202783 in 215.9293s\n"
     ]
    },
    {
     "data": {
      "text/html": [
       "<table>\n",
       "<thead>\n",
       "<tr><th>name                    </th><th>class    </th><th>transform       </th><th>prior  </th><th>trainable  </th><th>shape      </th><th>dtype  </th><th>value                                               </th></tr>\n",
       "</thead>\n",
       "<tbody>\n",
       "<tr><td>SVGP.kernel.variance    </td><td>Parameter</td><td>Softplus        </td><td>       </td><td>True       </td><td>()         </td><td>float64</td><td>0.8818138441179139                                  </td></tr>\n",
       "<tr><td>SVGP.kernel.lengthscale </td><td>Parameter</td><td>Softplus + Shift</td><td>       </td><td>True       </td><td>(3,)       </td><td>float64</td><td>[0.09137532 0.03222926 0.08129616]                  </td></tr>\n",
       "<tr><td>SVGP.likelihood.variance</td><td>Parameter</td><td>Softplus + Shift</td><td>       </td><td>True       </td><td>()         </td><td>float64</td><td>1.0                                                 </td></tr>\n",
       "<tr><td>SVGP.inducing_variable.Z</td><td>Parameter</td><td>                </td><td>       </td><td>False      </td><td>(49, 3)    </td><td>float64</td><td>[[0.725, 0.625, 0.025...                            </td></tr>\n",
       "<tr><td>SVGP.q_mu               </td><td>Parameter</td><td>                </td><td>       </td><td>False      </td><td>(49, 1)    </td><td>float64</td><td>[[0.35586321...                                     </td></tr>\n",
       "<tr><td>SVGP.q_sqrt             </td><td>Parameter</td><td>FillTriangular  </td><td>       </td><td>False      </td><td>(1, 49, 49)</td><td>float64</td><td>[[[8.82487004e-01, 0.00000000e+00, 0.00000000e+00...</td></tr>\n",
       "</tbody>\n",
       "</table>"
      ],
      "text/plain": [
       "<IPython.core.display.HTML object>"
      ]
     },
     "metadata": {},
     "output_type": "display_data"
    },
    {
     "name": "stdout",
     "output_type": "stream",
     "text": [
      "Best_guess f([0.325 0.625 0.825]) = -3.593266574210071\n",
      "Beginning evaluation 33\n",
      "Maximizer:\n",
      "[[0.325 0.625 0.825]]\n",
      "Evaluation 33: Next query is [[0.325 0.625 0.825]\n",
      " [0.025 0.625 0.675]] with EI value of [0.16927894]\n",
      "Evaluation 33: Training model\n",
      "Optimizer config:  {'name': 'RMSprop', 'learning_rate': 0.001, 'decay': 0.0, 'rho': 0.0, 'momentum': 0.0, 'epsilon': 1e-07, 'centered': False}\n",
      "Indifference_threshold is fixed at 0.0\n",
      "Initialize lengthscale at [0.5 0.5 0.5]\n",
      "       signal variance at 1.0\n",
      "   Initial negative ELBO: 3664284755.1982217\n",
      "Negative ELBO at step 0: 3602973290.7869744 in 0.6606s\n",
      "Negative ELBO at step 500: 2123973.881544432 in 224.4714s\n",
      "Negative ELBO at step 1000: 250.3357185769314 in 221.7301s\n",
      "Negative ELBO at step 1500: 41.42579025487097 in 219.1492s\n",
      "Negative ELBO at step 2000: 37.80523946567193 in 226.2130s\n",
      "Negative ELBO at step 2500: 35.199170319749605 in 224.6360s\n"
     ]
    },
    {
     "data": {
      "text/html": [
       "<table>\n",
       "<thead>\n",
       "<tr><th>name                    </th><th>class    </th><th>transform       </th><th>prior  </th><th>trainable  </th><th>shape      </th><th>dtype  </th><th>value                             </th></tr>\n",
       "</thead>\n",
       "<tbody>\n",
       "<tr><td>SVGP.kernel.variance    </td><td>Parameter</td><td>Softplus        </td><td>       </td><td>True       </td><td>()         </td><td>float64</td><td>0.8841596690423627                </td></tr>\n",
       "<tr><td>SVGP.kernel.lengthscale </td><td>Parameter</td><td>Softplus + Shift</td><td>       </td><td>True       </td><td>(3,)       </td><td>float64</td><td>[0.08862151 0.03178826 0.08129547]</td></tr>\n",
       "<tr><td>SVGP.likelihood.variance</td><td>Parameter</td><td>Softplus + Shift</td><td>       </td><td>True       </td><td>()         </td><td>float64</td><td>1.0                               </td></tr>\n",
       "<tr><td>SVGP.inducing_variable.Z</td><td>Parameter</td><td>                </td><td>       </td><td>False      </td><td>(50, 3)    </td><td>float64</td><td>[[0.725, 0.625, 0.025...          </td></tr>\n",
       "<tr><td>SVGP.q_mu               </td><td>Parameter</td><td>                </td><td>       </td><td>False      </td><td>(50, 1)    </td><td>float64</td><td>[[0.34034904...                   </td></tr>\n",
       "<tr><td>SVGP.q_sqrt             </td><td>Parameter</td><td>FillTriangular  </td><td>       </td><td>False      </td><td>(1, 50, 50)</td><td>float64</td><td>[[[0.89844307, 0., 0....          </td></tr>\n",
       "</tbody>\n",
       "</table>"
      ],
      "text/plain": [
       "<IPython.core.display.HTML object>"
      ]
     },
     "metadata": {},
     "output_type": "display_data"
    },
    {
     "name": "stdout",
     "output_type": "stream",
     "text": [
      "Best_guess f([0.325 0.625 0.825]) = -3.593266574210071\n",
      "Beginning evaluation 34\n",
      "Maximizer:\n",
      "[[0.325 0.625 0.825]]\n",
      "Evaluation 34: Next query is [[0.325 0.625 0.825]\n",
      " [0.325 0.625 0.875]] with EI value of [0.196521]\n",
      "Evaluation 34: Training model\n",
      "Optimizer config:  {'name': 'RMSprop', 'learning_rate': 0.001, 'decay': 0.0, 'rho': 0.0, 'momentum': 0.0, 'epsilon': 1e-07, 'centered': False}\n",
      "Indifference_threshold is fixed at 0.0\n",
      "Initialize lengthscale at [0.5 0.5 0.5]\n",
      "       signal variance at 1.0\n",
      "   Initial negative ELBO: 3556787355.836768\n",
      "Negative ELBO at step 0: 3497763576.9750953 in 0.6812s\n",
      "Negative ELBO at step 500: 1956238.5299895334 in 231.9466s\n",
      "Negative ELBO at step 1000: 249.90895308720565 in 225.2716s\n",
      "Negative ELBO at step 1500: 42.208712830616065 in 225.5026s\n",
      "Negative ELBO at step 2000: 38.6810959419506 in 228.4525s\n",
      "Negative ELBO at step 2500: 35.960589392900786 in 222.5231s\n"
     ]
    },
    {
     "data": {
      "text/html": [
       "<table>\n",
       "<thead>\n",
       "<tr><th>name                    </th><th>class    </th><th>transform       </th><th>prior  </th><th>trainable  </th><th>shape      </th><th>dtype  </th><th>value                             </th></tr>\n",
       "</thead>\n",
       "<tbody>\n",
       "<tr><td>SVGP.kernel.variance    </td><td>Parameter</td><td>Softplus        </td><td>       </td><td>True       </td><td>()         </td><td>float64</td><td>0.8806424211972096                </td></tr>\n",
       "<tr><td>SVGP.kernel.lengthscale </td><td>Parameter</td><td>Softplus + Shift</td><td>       </td><td>True       </td><td>(3,)       </td><td>float64</td><td>[0.09584272 0.03229277 0.07883355]</td></tr>\n",
       "<tr><td>SVGP.likelihood.variance</td><td>Parameter</td><td>Softplus + Shift</td><td>       </td><td>True       </td><td>()         </td><td>float64</td><td>1.0                               </td></tr>\n",
       "<tr><td>SVGP.inducing_variable.Z</td><td>Parameter</td><td>                </td><td>       </td><td>False      </td><td>(50, 3)    </td><td>float64</td><td>[[0.725, 0.625, 0.025...          </td></tr>\n",
       "<tr><td>SVGP.q_mu               </td><td>Parameter</td><td>                </td><td>       </td><td>False      </td><td>(50, 1)    </td><td>float64</td><td>[[0.32615199...                   </td></tr>\n",
       "<tr><td>SVGP.q_sqrt             </td><td>Parameter</td><td>FillTriangular  </td><td>       </td><td>False      </td><td>(1, 50, 50)</td><td>float64</td><td>[[[0.8438226, 0., 0....           </td></tr>\n",
       "</tbody>\n",
       "</table>"
      ],
      "text/plain": [
       "<IPython.core.display.HTML object>"
      ]
     },
     "metadata": {},
     "output_type": "display_data"
    },
    {
     "name": "stdout",
     "output_type": "stream",
     "text": [
      "Best_guess f([0.325 0.625 0.825]) = -3.593266574210071\n",
      "Beginning evaluation 35\n",
      "Maximizer:\n",
      "[[0.325 0.625 0.825]]\n",
      "Evaluation 35: Next query is [[0.325 0.625 0.825]\n",
      " [0.575 0.775 0.975]] with EI value of [0.09421718]\n",
      "Evaluation 35: Training model\n",
      "Optimizer config:  {'name': 'RMSprop', 'learning_rate': 0.001, 'decay': 0.0, 'rho': 0.0, 'momentum': 0.0, 'epsilon': 1e-07, 'centered': False}\n",
      "Indifference_threshold is fixed at 0.0\n",
      "Initialize lengthscale at [0.5 0.5 0.5]\n",
      "       signal variance at 1.0\n",
      "   Initial negative ELBO: 3317395404.7752604\n",
      "Negative ELBO at step 0: 3262267086.195877 in 0.7262s\n",
      "Negative ELBO at step 500: 2100183.378910746 in 232.9814s\n",
      "Negative ELBO at step 1000: 259.5966711457309 in 233.8625s\n",
      "Negative ELBO at step 1500: 43.450290688017766 in 233.3918s\n",
      "Negative ELBO at step 2000: 38.781725016352745 in 235.3633s\n",
      "Negative ELBO at step 2500: 35.61850392113303 in 230.9812s\n"
     ]
    },
    {
     "data": {
      "text/html": [
       "<table>\n",
       "<thead>\n",
       "<tr><th>name                    </th><th>class    </th><th>transform       </th><th>prior  </th><th>trainable  </th><th>shape      </th><th>dtype  </th><th>value                             </th></tr>\n",
       "</thead>\n",
       "<tbody>\n",
       "<tr><td>SVGP.kernel.variance    </td><td>Parameter</td><td>Softplus        </td><td>       </td><td>True       </td><td>()         </td><td>float64</td><td>0.8959468505856862                </td></tr>\n",
       "<tr><td>SVGP.kernel.lengthscale </td><td>Parameter</td><td>Softplus + Shift</td><td>       </td><td>True       </td><td>(3,)       </td><td>float64</td><td>[0.08367091 0.03178825 0.07703415]</td></tr>\n",
       "<tr><td>SVGP.likelihood.variance</td><td>Parameter</td><td>Softplus + Shift</td><td>       </td><td>True       </td><td>()         </td><td>float64</td><td>1.0                               </td></tr>\n",
       "<tr><td>SVGP.inducing_variable.Z</td><td>Parameter</td><td>                </td><td>       </td><td>False      </td><td>(50, 3)    </td><td>float64</td><td>[[0.725, 0.625, 0.025...          </td></tr>\n",
       "<tr><td>SVGP.q_mu               </td><td>Parameter</td><td>                </td><td>       </td><td>False      </td><td>(50, 1)    </td><td>float64</td><td>[[0.35042542...                   </td></tr>\n",
       "<tr><td>SVGP.q_sqrt             </td><td>Parameter</td><td>FillTriangular  </td><td>       </td><td>False      </td><td>(1, 50, 50)</td><td>float64</td><td>[[[0.93001503, 0., 0....          </td></tr>\n",
       "</tbody>\n",
       "</table>"
      ],
      "text/plain": [
       "<IPython.core.display.HTML object>"
      ]
     },
     "metadata": {},
     "output_type": "display_data"
    },
    {
     "name": "stdout",
     "output_type": "stream",
     "text": [
      "Best_guess f([0.325 0.625 0.825]) = -3.593266574210071\n",
      "Beginning evaluation 36\n",
      "Maximizer:\n",
      "[[0.325 0.625 0.825]]\n",
      "Evaluation 36: Next query is [[0.325 0.625 0.825]\n",
      " [0.275 0.625 0.775]] with EI value of [0.07610477]\n",
      "Evaluation 36: Training model\n",
      "Optimizer config:  {'name': 'RMSprop', 'learning_rate': 0.001, 'decay': 0.0, 'rho': 0.0, 'momentum': 0.0, 'epsilon': 1e-07, 'centered': False}\n",
      "Indifference_threshold is fixed at 0.0\n",
      "Initialize lengthscale at [0.5 0.5 0.5]\n",
      "       signal variance at 1.0\n",
      "   Initial negative ELBO: 4578117620.063048\n",
      "Negative ELBO at step 0: 4494288628.601144 in 0.6865s\n",
      "Negative ELBO at step 500: 2181619.7906518886 in 240.0719s\n",
      "Negative ELBO at step 1000: 287.70326576412793 in 233.7776s\n",
      "Negative ELBO at step 1500: 44.94615804626662 in 236.6573s\n",
      "Negative ELBO at step 2000: 40.57107491810802 in 240.2293s\n",
      "Negative ELBO at step 2500: 37.8515808547385 in 240.8544s\n"
     ]
    },
    {
     "data": {
      "text/html": [
       "<table>\n",
       "<thead>\n",
       "<tr><th>name                    </th><th>class    </th><th>transform       </th><th>prior  </th><th>trainable  </th><th>shape      </th><th>dtype  </th><th>value                             </th></tr>\n",
       "</thead>\n",
       "<tbody>\n",
       "<tr><td>SVGP.kernel.variance    </td><td>Parameter</td><td>Softplus        </td><td>       </td><td>True       </td><td>()         </td><td>float64</td><td>0.8959468557699427                </td></tr>\n",
       "<tr><td>SVGP.kernel.lengthscale </td><td>Parameter</td><td>Softplus + Shift</td><td>       </td><td>True       </td><td>(3,)       </td><td>float64</td><td>[0.10560851 0.03439057 0.07990169]</td></tr>\n",
       "<tr><td>SVGP.likelihood.variance</td><td>Parameter</td><td>Softplus + Shift</td><td>       </td><td>True       </td><td>()         </td><td>float64</td><td>1.0                               </td></tr>\n",
       "<tr><td>SVGP.inducing_variable.Z</td><td>Parameter</td><td>                </td><td>       </td><td>False      </td><td>(51, 3)    </td><td>float64</td><td>[[0.725, 0.625, 0.025...          </td></tr>\n",
       "<tr><td>SVGP.q_mu               </td><td>Parameter</td><td>                </td><td>       </td><td>False      </td><td>(51, 1)    </td><td>float64</td><td>[[0.28972319...                   </td></tr>\n",
       "<tr><td>SVGP.q_sqrt             </td><td>Parameter</td><td>FillTriangular  </td><td>       </td><td>False      </td><td>(1, 51, 51)</td><td>float64</td><td>[[[0.90010465, 0., 0....          </td></tr>\n",
       "</tbody>\n",
       "</table>"
      ],
      "text/plain": [
       "<IPython.core.display.HTML object>"
      ]
     },
     "metadata": {},
     "output_type": "display_data"
    },
    {
     "name": "stdout",
     "output_type": "stream",
     "text": [
      "Best_guess f([0.325 0.625 0.825]) = -3.593266574210071\n",
      "Beginning evaluation 37\n",
      "Maximizer:\n",
      "[[0.325 0.625 0.825]]\n",
      "Evaluation 37: Next query is [[0.325 0.625 0.825]\n",
      " [0.375 0.625 0.825]] with EI value of [0.17051257]\n",
      "Evaluation 37: Training model\n",
      "Optimizer config:  {'name': 'RMSprop', 'learning_rate': 0.001, 'decay': 0.0, 'rho': 0.0, 'momentum': 0.0, 'epsilon': 1e-07, 'centered': False}\n",
      "Indifference_threshold is fixed at 0.0\n",
      "Initialize lengthscale at [0.4 0.4 0.4]\n",
      "       signal variance at 1.0\n",
      "   Initial negative ELBO: 2571146823.910172\n",
      "Negative ELBO at step 0: 2518026797.8098135 in 0.8462s\n",
      "Negative ELBO at step 500: 763380.0815844234 in 243.8733s\n",
      "Negative ELBO at step 1000: 129.28673892930954 in 240.4479s\n",
      "Negative ELBO at step 1500: 40.84343766559797 in 234.8595s\n",
      "Negative ELBO at step 2000: 37.687514140368606 in 236.6723s\n",
      "Negative ELBO at step 2500: 35.8608343722987 in 238.1309s\n"
     ]
    },
    {
     "data": {
      "text/html": [
       "<table>\n",
       "<thead>\n",
       "<tr><th>name                    </th><th>class    </th><th>transform       </th><th>prior  </th><th>trainable  </th><th>shape      </th><th>dtype  </th><th>value                             </th></tr>\n",
       "</thead>\n",
       "<tbody>\n",
       "<tr><td>SVGP.kernel.variance    </td><td>Parameter</td><td>Softplus        </td><td>       </td><td>True       </td><td>()         </td><td>float64</td><td>0.8065942870582751                </td></tr>\n",
       "<tr><td>SVGP.kernel.lengthscale </td><td>Parameter</td><td>Softplus + Shift</td><td>       </td><td>True       </td><td>(3,)       </td><td>float64</td><td>[0.07968081 0.02872453 0.08060605]</td></tr>\n",
       "<tr><td>SVGP.likelihood.variance</td><td>Parameter</td><td>Softplus + Shift</td><td>       </td><td>True       </td><td>()         </td><td>float64</td><td>1.0                               </td></tr>\n",
       "<tr><td>SVGP.inducing_variable.Z</td><td>Parameter</td><td>                </td><td>       </td><td>False      </td><td>(52, 3)    </td><td>float64</td><td>[[0.725, 0.625, 0.025...          </td></tr>\n",
       "<tr><td>SVGP.q_mu               </td><td>Parameter</td><td>                </td><td>       </td><td>False      </td><td>(52, 1)    </td><td>float64</td><td>[[0.3077957...                    </td></tr>\n",
       "<tr><td>SVGP.q_sqrt             </td><td>Parameter</td><td>FillTriangular  </td><td>       </td><td>False      </td><td>(1, 52, 52)</td><td>float64</td><td>[[[0.83820167, 0., 0....          </td></tr>\n",
       "</tbody>\n",
       "</table>"
      ],
      "text/plain": [
       "<IPython.core.display.HTML object>"
      ]
     },
     "metadata": {},
     "output_type": "display_data"
    },
    {
     "name": "stdout",
     "output_type": "stream",
     "text": [
      "Best_guess f([0.325 0.625 0.825]) = -3.593266574210071\n",
      "Beginning evaluation 38\n",
      "Maximizer:\n",
      "[[0.325 0.625 0.825]]\n",
      "Evaluation 38: Next query is [[0.325 0.625 0.825]\n",
      " [0.075 0.625 0.725]] with EI value of [0.06760599]\n",
      "Evaluation 38: Training model\n",
      "Optimizer config:  {'name': 'RMSprop', 'learning_rate': 0.001, 'decay': 0.0, 'rho': 0.0, 'momentum': 0.0, 'epsilon': 1e-07, 'centered': False}\n",
      "Indifference_threshold is fixed at 0.0\n",
      "Initialize lengthscale at [0.4 0.4 0.4]\n",
      "       signal variance at 1.0\n",
      "   Initial negative ELBO: 2313365548.316121\n",
      "Negative ELBO at step 0: 2266503986.069643 in 0.8158s\n",
      "Negative ELBO at step 500: 800972.2129992896 in 245.9268s\n",
      "Negative ELBO at step 1000: 129.2035160883921 in 249.6301s\n",
      "Negative ELBO at step 1500: 41.555601892329015 in 244.8769s\n",
      "Negative ELBO at step 2000: 38.4226078105688 in 244.2291s\n",
      "Negative ELBO at step 2500: 36.79711336589601 in 244.7965s\n"
     ]
    },
    {
     "data": {
      "text/html": [
       "<table>\n",
       "<thead>\n",
       "<tr><th>name                    </th><th>class    </th><th>transform       </th><th>prior  </th><th>trainable  </th><th>shape      </th><th>dtype  </th><th>value                             </th></tr>\n",
       "</thead>\n",
       "<tbody>\n",
       "<tr><td>SVGP.kernel.variance    </td><td>Parameter</td><td>Softplus        </td><td>       </td><td>True       </td><td>()         </td><td>float64</td><td>0.8233084253771106                </td></tr>\n",
       "<tr><td>SVGP.kernel.lengthscale </td><td>Parameter</td><td>Softplus + Shift</td><td>       </td><td>True       </td><td>(3,)       </td><td>float64</td><td>[0.07922205 0.02750506 0.08044955]</td></tr>\n",
       "<tr><td>SVGP.likelihood.variance</td><td>Parameter</td><td>Softplus + Shift</td><td>       </td><td>True       </td><td>()         </td><td>float64</td><td>1.0                               </td></tr>\n",
       "<tr><td>SVGP.inducing_variable.Z</td><td>Parameter</td><td>                </td><td>       </td><td>False      </td><td>(52, 3)    </td><td>float64</td><td>[[0.725, 0.625, 0.025...          </td></tr>\n",
       "<tr><td>SVGP.q_mu               </td><td>Parameter</td><td>                </td><td>       </td><td>False      </td><td>(52, 1)    </td><td>float64</td><td>[[0.2840979...                    </td></tr>\n",
       "<tr><td>SVGP.q_sqrt             </td><td>Parameter</td><td>FillTriangular  </td><td>       </td><td>False      </td><td>(1, 52, 52)</td><td>float64</td><td>[[[0.82603101, 0., 0....          </td></tr>\n",
       "</tbody>\n",
       "</table>"
      ],
      "text/plain": [
       "<IPython.core.display.HTML object>"
      ]
     },
     "metadata": {},
     "output_type": "display_data"
    },
    {
     "name": "stdout",
     "output_type": "stream",
     "text": [
      "Best_guess f([0.325 0.625 0.825]) = -3.593266574210071\n",
      "Beginning evaluation 39\n",
      "Maximizer:\n",
      "[[0.325 0.625 0.825]]\n",
      "Evaluation 39: Next query is [[0.325 0.625 0.825]\n",
      " [0.325 0.625 0.775]] with EI value of [0.12716416]\n",
      "Evaluation 39: Training model\n",
      "Optimizer config:  {'name': 'RMSprop', 'learning_rate': 0.001, 'decay': 0.0, 'rho': 0.0, 'momentum': 0.0, 'epsilon': 1e-07, 'centered': False}\n",
      "Indifference_threshold is fixed at 0.0\n",
      "Initialize lengthscale at [0.4 0.4 0.4]\n",
      "       signal variance at 1.0\n",
      "   Initial negative ELBO: 2441236079.4691544\n",
      "Negative ELBO at step 0: 2389970122.137444 in 0.8435s\n",
      "Negative ELBO at step 500: 862350.7167429719 in 244.4798s\n",
      "Negative ELBO at step 1000: 126.79085327336686 in 248.0593s\n",
      "Negative ELBO at step 1500: 42.6392287745749 in 245.2670s\n",
      "Negative ELBO at step 2000: 39.47756250751093 in 247.2321s\n",
      "Negative ELBO at step 2500: 37.75258111697936 in 251.5274s\n"
     ]
    },
    {
     "data": {
      "text/html": [
       "<table>\n",
       "<thead>\n",
       "<tr><th>name                    </th><th>class    </th><th>transform       </th><th>prior  </th><th>trainable  </th><th>shape      </th><th>dtype  </th><th>value                             </th></tr>\n",
       "</thead>\n",
       "<tbody>\n",
       "<tr><td>SVGP.kernel.variance    </td><td>Parameter</td><td>Softplus        </td><td>       </td><td>True       </td><td>()         </td><td>float64</td><td>0.7857348190266353                </td></tr>\n",
       "<tr><td>SVGP.kernel.lengthscale </td><td>Parameter</td><td>Softplus + Shift</td><td>       </td><td>True       </td><td>(3,)       </td><td>float64</td><td>[0.07801244 0.02419248 0.08456757]</td></tr>\n",
       "<tr><td>SVGP.likelihood.variance</td><td>Parameter</td><td>Softplus + Shift</td><td>       </td><td>True       </td><td>()         </td><td>float64</td><td>1.0                               </td></tr>\n",
       "<tr><td>SVGP.inducing_variable.Z</td><td>Parameter</td><td>                </td><td>       </td><td>False      </td><td>(52, 3)    </td><td>float64</td><td>[[0.725, 0.625, 0.025...          </td></tr>\n",
       "<tr><td>SVGP.q_mu               </td><td>Parameter</td><td>                </td><td>       </td><td>False      </td><td>(52, 1)    </td><td>float64</td><td>[[0.29425961...                   </td></tr>\n",
       "<tr><td>SVGP.q_sqrt             </td><td>Parameter</td><td>FillTriangular  </td><td>       </td><td>False      </td><td>(1, 52, 52)</td><td>float64</td><td>[[[0.84016817, 0., 0....          </td></tr>\n",
       "</tbody>\n",
       "</table>"
      ],
      "text/plain": [
       "<IPython.core.display.HTML object>"
      ]
     },
     "metadata": {},
     "output_type": "display_data"
    },
    {
     "name": "stdout",
     "output_type": "stream",
     "text": [
      "Best_guess f([0.325 0.625 0.825]) = -3.593266574210071\n",
      "Beginning evaluation 40\n",
      "Maximizer:\n",
      "[[0.325 0.625 0.825]]\n",
      "Evaluation 40: Next query is [[0.325 0.625 0.825]\n",
      " [0.075 0.625 0.775]] with EI value of [0.12954774]\n",
      "Evaluation 40: Training model\n",
      "Optimizer config:  {'name': 'RMSprop', 'learning_rate': 0.001, 'decay': 0.0, 'rho': 0.0, 'momentum': 0.0, 'epsilon': 1e-07, 'centered': False}\n",
      "Indifference_threshold is fixed at 0.0\n",
      "Initialize lengthscale at [0.4 0.4 0.4]\n",
      "       signal variance at 1.0\n",
      "   Initial negative ELBO: 3103805262.978141\n",
      "Negative ELBO at step 0: 3038701982.4419966 in 0.9330s\n",
      "Negative ELBO at step 500: 834724.1911753324 in 257.9862s\n",
      "Negative ELBO at step 1000: 130.1584970077472 in 253.6164s\n",
      "Negative ELBO at step 1500: 43.32228033241181 in 251.6052s\n",
      "Negative ELBO at step 2000: 40.05419651070168 in 250.3850s\n",
      "Negative ELBO at step 2500: 38.14634690712444 in 250.5501s\n"
     ]
    },
    {
     "data": {
      "text/html": [
       "<table>\n",
       "<thead>\n",
       "<tr><th>name                    </th><th>class    </th><th>transform       </th><th>prior  </th><th>trainable  </th><th>shape      </th><th>dtype  </th><th>value                             </th></tr>\n",
       "</thead>\n",
       "<tbody>\n",
       "<tr><td>SVGP.kernel.variance    </td><td>Parameter</td><td>Softplus        </td><td>       </td><td>True       </td><td>()         </td><td>float64</td><td>0.7695200049967758                </td></tr>\n",
       "<tr><td>SVGP.kernel.lengthscale </td><td>Parameter</td><td>Softplus + Shift</td><td>       </td><td>True       </td><td>(3,)       </td><td>float64</td><td>[0.07998651 0.02428822 0.08686829]</td></tr>\n",
       "<tr><td>SVGP.likelihood.variance</td><td>Parameter</td><td>Softplus + Shift</td><td>       </td><td>True       </td><td>()         </td><td>float64</td><td>1.0                               </td></tr>\n",
       "<tr><td>SVGP.inducing_variable.Z</td><td>Parameter</td><td>                </td><td>       </td><td>False      </td><td>(53, 3)    </td><td>float64</td><td>[[0.725, 0.625, 0.025...          </td></tr>\n",
       "<tr><td>SVGP.q_mu               </td><td>Parameter</td><td>                </td><td>       </td><td>False      </td><td>(53, 1)    </td><td>float64</td><td>[[0.30335901...                   </td></tr>\n",
       "<tr><td>SVGP.q_sqrt             </td><td>Parameter</td><td>FillTriangular  </td><td>       </td><td>False      </td><td>(1, 53, 53)</td><td>float64</td><td>[[[0.81430007, 0., 0....          </td></tr>\n",
       "</tbody>\n",
       "</table>"
      ],
      "text/plain": [
       "<IPython.core.display.HTML object>"
      ]
     },
     "metadata": {},
     "output_type": "display_data"
    },
    {
     "name": "stdout",
     "output_type": "stream",
     "text": [
      "Best_guess f([0.325 0.625 0.825]) = -3.593266574210071\n",
      "Beginning evaluation 41\n",
      "Maximizer:\n",
      "[[0.325 0.625 0.825]]\n",
      "Evaluation 41: Next query is [[0.325 0.625 0.825]\n",
      " [0.275 0.625 0.825]] with EI value of [0.19758875]\n",
      "Evaluation 41: Training model\n",
      "Optimizer config:  {'name': 'RMSprop', 'learning_rate': 0.001, 'decay': 0.0, 'rho': 0.0, 'momentum': 0.0, 'epsilon': 1e-07, 'centered': False}\n",
      "Indifference_threshold is fixed at 0.0\n",
      "Initialize lengthscale at [0.32 0.32 0.32]\n",
      "       signal variance at 1.0\n",
      "   Initial negative ELBO: 1510048998.9196408\n",
      "Negative ELBO at step 0: 1477585965.9560168 in 1.1053s\n",
      "Negative ELBO at step 1000: 94.86258142326933 in 264.8302s\n",
      "Negative ELBO at step 1500: 44.187024026706005 in 261.7110s\n",
      "Negative ELBO at step 2000: 41.02836335709313 in 262.8603s\n",
      "Negative ELBO at step 2500: 39.02329555946553 in 257.8628s\n"
     ]
    },
    {
     "data": {
      "text/html": [
       "<table>\n",
       "<thead>\n",
       "<tr><th>name                    </th><th>class    </th><th>transform       </th><th>prior  </th><th>trainable  </th><th>shape      </th><th>dtype  </th><th>value                                               </th></tr>\n",
       "</thead>\n",
       "<tbody>\n",
       "<tr><td>SVGP.kernel.variance    </td><td>Parameter</td><td>Softplus        </td><td>       </td><td>True       </td><td>()         </td><td>float64</td><td>0.7356774251283441                                  </td></tr>\n",
       "<tr><td>SVGP.kernel.lengthscale </td><td>Parameter</td><td>Softplus + Shift</td><td>       </td><td>True       </td><td>(3,)       </td><td>float64</td><td>[0.05738342 0.01860295 0.06911928]                  </td></tr>\n",
       "<tr><td>SVGP.likelihood.variance</td><td>Parameter</td><td>Softplus + Shift</td><td>       </td><td>True       </td><td>()         </td><td>float64</td><td>1.0                                                 </td></tr>\n",
       "<tr><td>SVGP.inducing_variable.Z</td><td>Parameter</td><td>                </td><td>       </td><td>False      </td><td>(54, 3)    </td><td>float64</td><td>[[0.725, 0.625, 0.025...                            </td></tr>\n",
       "<tr><td>SVGP.q_mu               </td><td>Parameter</td><td>                </td><td>       </td><td>False      </td><td>(54, 1)    </td><td>float64</td><td>[[0.2824999...                                      </td></tr>\n",
       "<tr><td>SVGP.q_sqrt             </td><td>Parameter</td><td>FillTriangular  </td><td>       </td><td>False      </td><td>(1, 54, 54)</td><td>float64</td><td>[[[8.51900241e-01, 0.00000000e+00, 0.00000000e+00...</td></tr>\n",
       "</tbody>\n",
       "</table>"
      ],
      "text/plain": [
       "<IPython.core.display.HTML object>"
      ]
     },
     "metadata": {},
     "output_type": "display_data"
    },
    {
     "name": "stdout",
     "output_type": "stream",
     "text": [
      "Best_guess f([0.325 0.625 0.825]) = -3.593266574210071\n",
      "Beginning evaluation 42\n",
      "Maximizer:\n",
      "[[0.325 0.625 0.825]]\n",
      "Evaluation 42: Next query is [[0.325 0.625 0.825]\n",
      " [0.025 0.625 0.675]] with EI value of [0.0646468]\n",
      "Evaluation 42: Training model\n",
      "Optimizer config:  {'name': 'RMSprop', 'learning_rate': 0.001, 'decay': 0.0, 'rho': 0.0, 'momentum': 0.0, 'epsilon': 1e-07, 'centered': False}\n",
      "Indifference_threshold is fixed at 0.0\n",
      "Initialize lengthscale at [0.32 0.32 0.32]\n",
      "       signal variance at 1.0\n",
      "   Initial negative ELBO: 1433411988.402114\n",
      "Negative ELBO at step 0: 1401449607.4039755 in 1.0483s\n",
      "Negative ELBO at step 500: 430022.5047145428 in 259.2711s\n",
      "Negative ELBO at step 1000: 93.56043302980548 in 259.9579s\n",
      "Negative ELBO at step 1500: 44.8490789513598 in 262.7765s\n",
      "Negative ELBO at step 2000: 41.52999647625069 in 261.6257s\n",
      "Negative ELBO at step 2500: 39.42620816850792 in 264.0935s\n"
     ]
    },
    {
     "data": {
      "text/html": [
       "<table>\n",
       "<thead>\n",
       "<tr><th>name                    </th><th>class    </th><th>transform       </th><th>prior  </th><th>trainable  </th><th>shape      </th><th>dtype  </th><th>value                                               </th></tr>\n",
       "</thead>\n",
       "<tbody>\n",
       "<tr><td>SVGP.kernel.variance    </td><td>Parameter</td><td>Softplus        </td><td>       </td><td>True       </td><td>()         </td><td>float64</td><td>0.7232493015448822                                  </td></tr>\n",
       "<tr><td>SVGP.kernel.lengthscale </td><td>Parameter</td><td>Softplus + Shift</td><td>       </td><td>True       </td><td>(3,)       </td><td>float64</td><td>[0.05277794 0.01860296 0.06832259]                  </td></tr>\n",
       "<tr><td>SVGP.likelihood.variance</td><td>Parameter</td><td>Softplus + Shift</td><td>       </td><td>True       </td><td>()         </td><td>float64</td><td>1.0                                                 </td></tr>\n",
       "<tr><td>SVGP.inducing_variable.Z</td><td>Parameter</td><td>                </td><td>       </td><td>False      </td><td>(54, 3)    </td><td>float64</td><td>[[0.725, 0.625, 0.025...                            </td></tr>\n",
       "<tr><td>SVGP.q_mu               </td><td>Parameter</td><td>                </td><td>       </td><td>False      </td><td>(54, 1)    </td><td>float64</td><td>[[0.27764512...                                     </td></tr>\n",
       "<tr><td>SVGP.q_sqrt             </td><td>Parameter</td><td>FillTriangular  </td><td>       </td><td>False      </td><td>(1, 54, 54)</td><td>float64</td><td>[[[8.13722007e-01, 0.00000000e+00, 0.00000000e+00...</td></tr>\n",
       "</tbody>\n",
       "</table>"
      ],
      "text/plain": [
       "<IPython.core.display.HTML object>"
      ]
     },
     "metadata": {},
     "output_type": "display_data"
    },
    {
     "name": "stdout",
     "output_type": "stream",
     "text": [
      "Best_guess f([0.325 0.625 0.825]) = -3.593266574210071\n",
      "Beginning evaluation 43\n",
      "Maximizer:\n",
      "[[0.325 0.625 0.825]]\n",
      "Evaluation 43: Next query is [[0.325 0.625 0.825]\n",
      " [0.075 0.625 0.725]] with EI value of [0.08015777]\n",
      "Evaluation 43: Training model\n",
      "Optimizer config:  {'name': 'RMSprop', 'learning_rate': 0.001, 'decay': 0.0, 'rho': 0.0, 'momentum': 0.0, 'epsilon': 1e-07, 'centered': False}\n",
      "Indifference_threshold is fixed at 0.0\n",
      "Initialize lengthscale at [0.32 0.32 0.32]\n",
      "       signal variance at 1.0\n",
      "   Initial negative ELBO: 1570876515.5165942\n",
      "Negative ELBO at step 0: 1536648207.3450375 in 1.0497s\n",
      "Negative ELBO at step 500: 451415.0314718991 in 267.3479s\n",
      "Negative ELBO at step 1000: 91.48453522776192 in 266.1254s\n",
      "Negative ELBO at step 1500: 45.53153509047183 in 267.0873s\n",
      "Negative ELBO at step 2000: 42.26539300684522 in 263.8796s\n",
      "Negative ELBO at step 2500: 40.02393348000654 in 264.7629s\n"
     ]
    },
    {
     "data": {
      "text/html": [
       "<table>\n",
       "<thead>\n",
       "<tr><th>name                    </th><th>class    </th><th>transform       </th><th>prior  </th><th>trainable  </th><th>shape      </th><th>dtype  </th><th>value                                               </th></tr>\n",
       "</thead>\n",
       "<tbody>\n",
       "<tr><td>SVGP.kernel.variance    </td><td>Parameter</td><td>Softplus        </td><td>       </td><td>True       </td><td>()         </td><td>float64</td><td>0.7253109028758641                                  </td></tr>\n",
       "<tr><td>SVGP.kernel.lengthscale </td><td>Parameter</td><td>Softplus + Shift</td><td>       </td><td>True       </td><td>(3,)       </td><td>float64</td><td>[0.05562464 0.01860297 0.06898585]                  </td></tr>\n",
       "<tr><td>SVGP.likelihood.variance</td><td>Parameter</td><td>Softplus + Shift</td><td>       </td><td>True       </td><td>()         </td><td>float64</td><td>1.0                                                 </td></tr>\n",
       "<tr><td>SVGP.inducing_variable.Z</td><td>Parameter</td><td>                </td><td>       </td><td>False      </td><td>(54, 3)    </td><td>float64</td><td>[[0.725, 0.625, 0.025...                            </td></tr>\n",
       "<tr><td>SVGP.q_mu               </td><td>Parameter</td><td>                </td><td>       </td><td>False      </td><td>(54, 1)    </td><td>float64</td><td>[[0.30756081...                                     </td></tr>\n",
       "<tr><td>SVGP.q_sqrt             </td><td>Parameter</td><td>FillTriangular  </td><td>       </td><td>False      </td><td>(1, 54, 54)</td><td>float64</td><td>[[[8.14028713e-01, 0.00000000e+00, 0.00000000e+00...</td></tr>\n",
       "</tbody>\n",
       "</table>"
      ],
      "text/plain": [
       "<IPython.core.display.HTML object>"
      ]
     },
     "metadata": {},
     "output_type": "display_data"
    },
    {
     "name": "stdout",
     "output_type": "stream",
     "text": [
      "Best_guess f([0.325 0.625 0.825]) = -3.593266574210071\n",
      "Beginning evaluation 44\n",
      "Maximizer:\n",
      "[[0.325 0.625 0.825]]\n",
      "Evaluation 44: Next query is [[0.325 0.625 0.825]\n",
      " [0.275 0.625 0.775]] with EI value of [0.06256924]\n",
      "Evaluation 44: Training model\n",
      "Optimizer config:  {'name': 'RMSprop', 'learning_rate': 0.001, 'decay': 0.0, 'rho': 0.0, 'momentum': 0.0, 'epsilon': 1e-07, 'centered': False}\n",
      "Indifference_threshold is fixed at 0.0\n",
      "Initialize lengthscale at [0.32 0.32 0.32]\n",
      "       signal variance at 1.0\n",
      "   Initial negative ELBO: 1538159851.6248748\n",
      "Negative ELBO at step 0: 1504148294.1801772 in 1.0424s\n"
     ]
    }
   ],
   "source": [
    "# CHANGE 9: need to store lengthscale and signal_variance from previous iteration to initialize the current iteration\n",
    "lengthscale_init = None\n",
    "signal_variance_init = None\n",
    "\n",
    "for run in range(num_runs):  # CHECK IF STARTING RUN IS CORRECT\n",
    "    print(\"\")\n",
    "    print(\"==================\")\n",
    "    print(\"Beginning run %s\" % (run))\n",
    "    \n",
    "    X = init_vals[run]\n",
    "    y = get_noisy_observation(X, objective)\n",
    "    \n",
    "    model, inputs, u_mean, inducing_vars = train_and_visualize(X, y, \n",
    "                                                        \"Run_{}:_Initial_model\".format(run))\n",
    "    # save optimized lengthscale and signal variance for next iteration\n",
    "    lengthscale_init = model.kernel.lengthscale.numpy()\n",
    "    signal_variance_init = model.kernel.variance.numpy()\n",
    "    \n",
    "    for evaluation in range(num_evals):\n",
    "        print(\"Beginning evaluation %s\" % (evaluation)) \n",
    "\n",
    "        # Get incumbent maximizer\n",
    "        input_vals = model.predict_f(inputs)[0].numpy()\n",
    "        maximizer = np.expand_dims(inputs[np.argmax(input_vals)], axis=0)\n",
    "        \n",
    "        print(\"Maximizer:\")\n",
    "        print(maximizer)\n",
    "        \n",
    "        # Sample possible next input points. In EI, all queries are a pair with the incumbent maximizer as the \n",
    "        # first point and a next input point as the second point\n",
    "        \n",
    "        samples = PBO.models.learning_fullgp.get_random_inputs(low=objective_low,\n",
    "                                                               high=objective_high,\n",
    "                                                               dim=objective_dim,\n",
    "                                                               delta=delta,\n",
    "                                                               size=num_samples,\n",
    "                                                               exclude_inputs=maximizer)\n",
    "\n",
    "        \n",
    "        # Calculate EI vals\n",
    "        ei_vals = PBO.acquisitions.ei.EI(model, maximizer, samples)\n",
    "        \n",
    "        L = np.argsort(np.ravel(-ei_vals))  # n-th element in this (num_samples, ) size array is the index of n-th\n",
    "        #largest element in ei_vals\n",
    "        \n",
    "        # Select query that maximizes EI\n",
    "        if np.all(np.equal(samples[L[0]], maximizer)):  #if value with highest EI is same as maximizer, pick the next\n",
    "            # highest value. Else pick this\n",
    "            next_idx = L[1]\n",
    "        else:\n",
    "            next_idx = L[0]\n",
    "            \n",
    "        next_query = np.zeros((num_choices, input_dims))\n",
    "        next_query[0, :] = maximizer  # EI only works in binary choices\n",
    "        next_query[1, :] = samples[next_idx]\n",
    "        print(\"Evaluation %s: Next query is %s with EI value of %s\" % (evaluation, next_query, ei_vals[next_idx]))\n",
    "\n",
    "        X = np.concatenate([X, [next_query]])\n",
    "        # Evaluate objective function\n",
    "        y = np.concatenate([y, get_noisy_observation(np.expand_dims(next_query, axis=0), objective)], axis=0)\n",
    "        \n",
    "        print(\"Evaluation %s: Training model\" % (evaluation))\n",
    "        model, inputs, u_mean, inducing_vars = train_and_visualize(X, y,  \n",
    "                                                                   \"Run_{}_Evaluation_{}\".format(run, evaluation))\n",
    "        \n",
    "        print_summary(model)\n",
    "\n",
    "        # save optimized lengthscale and signal variance for next iteration\n",
    "        lengthscale_init = model.kernel.lengthscale.numpy()\n",
    "        signal_variance_init = model.kernel.variance.numpy()\n",
    "\n",
    "        best_guess_results[run, evaluation, :] = best_guess(model)\n",
    "        # CHANGE 11: log both the estimated minimizer and its objective value\n",
    "        print(\"Best_guess f({}) = {}\".format(\n",
    "                best_guess_results[run, evaluation, :], \n",
    "                objective(best_guess_results[run, evaluation, :])))\n",
    "        \n",
    "        # Save model\n",
    "        pickle.dump((X, y, inputs, \n",
    "                     model.kernel.variance, \n",
    "                     model.kernel.lengthscale, \n",
    "                     model.likelihood.variance, \n",
    "                     inducing_vars, \n",
    "                     model.q_mu, \n",
    "                     model.q_sqrt, \n",
    "                     maximizer), \n",
    "                    open(results_dir + \"Model_Run_{}_Evaluation_{}.p\".format(run, evaluation), \"wb\"))\n",
    "\n",
    "    X_results[run] = X\n",
    "    y_results[run] = y"
   ]
  },
  {
   "cell_type": "code",
   "execution_count": null,
   "metadata": {},
   "outputs": [],
   "source": [
    "pickle.dump((X_results, y_results, best_guess_results), \n",
    "            open(results_dir + acquisition_name + \"_\" + objective_name + \"_\" + \"Xybestguess.p\", \"wb\"))"
   ]
  },
  {
   "cell_type": "code",
   "execution_count": null,
   "metadata": {},
   "outputs": [],
   "source": [
    "def dist(x, y):\n",
    "    \"\"\"\n",
    "    x and y have shape (..., input_dims)\n",
    "    \"\"\"\n",
    "    return np.sqrt(np.sum((x - y) * (x - y), axis=-1))\n",
    "\n",
    "xx = uniform_grid(input_dims, num_discrete_per_dim, low=objective_low, high=objective_high)\n",
    "global_min = xx[np.argmin(objective(xx))][0]\n",
    "\n",
    "for i in range(best_guess_results.shape[0]):\n",
    "    diff_from_min = dist(best_guess_results[i], global_min)\n",
    "    \n",
    "    x_axis = list(range(num_combs+1, num_combs+1+num_evals))\n",
    "    plt.figure(figsize=(12, 6))\n",
    "    plt.plot(x_axis, diff_from_min, 'kx', mew=2)\n",
    "    plt.xticks(x_axis)\n",
    "    plt.xlabel('Evaluations', fontsize=18)\n",
    "    plt.ylabel('Best guess distance', fontsize=16)\n",
    "    plt.title(\"Run %s\" % i)\n",
    "    plt.show()"
   ]
  }
 ],
 "metadata": {
  "kernelspec": {
   "display_name": "Python 3",
   "language": "python",
   "name": "python3"
  },
  "language_info": {
   "codemirror_mode": {
    "name": "ipython",
    "version": 3
   },
   "file_extension": ".py",
   "mimetype": "text/x-python",
   "name": "python",
   "nbconvert_exporter": "python",
   "pygments_lexer": "ipython3",
   "version": "3.7.4"
  }
 },
 "nbformat": 4,
 "nbformat_minor": 2
}
