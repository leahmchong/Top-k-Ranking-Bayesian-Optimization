{
 "cells": [
  {
   "cell_type": "markdown",
   "metadata": {},
   "source": [
    "# Preferential Bayesian Optimization: Predictive Entropy Search\n",
    "This notebook demonstrates the use of the Predictive Entropy Search (PES) acquisition function on ordinal (preference) data. \n",
    "\n",
    "Formulation by Nguyen Quoc Phong."
   ]
  },
  {
   "cell_type": "code",
   "execution_count": null,
   "metadata": {},
   "outputs": [],
   "source": [
    "import numpy as np\n",
    "import gpflow\n",
    "import tensorflow as tf\n",
    "import matplotlib.pyplot as plt\n",
    "import sys\n",
    "import os\n",
    "import pickle\n",
    "\n",
    "from gpflow.utilities import set_trainable, print_summary\n",
    "gpflow.config.set_default_summary_fmt(\"notebook\")\n",
    "\n",
    "sys.path.append(os.path.split(os.path.split(os.path.split(os.getcwd())[0])[0])[0]) # Move 3 levels up directory to import PBO\n",
    "import PBO"
   ]
  },
  {
   "cell_type": "code",
   "execution_count": null,
   "metadata": {},
   "outputs": [],
   "source": [
    "objective = PBO.objectives.hartmann3d\n",
    "objective_low = 0\n",
    "objective_high = 1.\n",
    "objective_name = \"Hart3\"\n",
    "acquisition_name = \"PES\"\n",
    "experiment_name = \"PBO\" + \"_\" + acquisition_name + \"_\" + objective_name"
   ]
  },
  {
   "cell_type": "code",
   "execution_count": null,
   "metadata": {},
   "outputs": [],
   "source": [
    "num_runs = 2\n",
    "num_evals = 2\n",
    "num_samples = 100\n",
    "num_choices = 2\n",
    "input_dims = 3\n",
    "num_maximizers = 20\n",
    "num_init_points = 3\n",
    "num_inducing_init = 3\n",
    "num_discrete_per_dim = 100 # Discretization of continuous input space"
   ]
  },
  {
   "cell_type": "code",
   "execution_count": null,
   "metadata": {
    "scrolled": true
   },
   "outputs": [],
   "source": [
    "results_dir = os.getcwd() + '/results/' + experiment_name + '/'\n",
    "\n",
    "try:\n",
    "    # Create target Directory\n",
    "    os.makedirs(results_dir)\n",
    "    print(\"Directory \" , results_dir ,  \" created \") \n",
    "except FileExistsError:\n",
    "    print(\"Directory \" , results_dir ,  \" already exists\")"
   ]
  },
  {
   "cell_type": "code",
   "execution_count": null,
   "metadata": {},
   "outputs": [],
   "source": [
    "def get_noisy_observation(X, objective):\n",
    "    f = PBO.objectives.objective_get_f_neg(X, objective)\n",
    "    return PBO.observation_model.gen_observation_from_f(X, f, 1)"
   ]
  },
  {
   "cell_type": "code",
   "execution_count": null,
   "metadata": {},
   "outputs": [],
   "source": [
    "def train_and_visualize(X, y, num_inducing, title):\n",
    "    \n",
    "    # Train model with data\n",
    "    q_mu, q_sqrt, u, inputs, k = PBO.models.learning_stochastic.train_model_fullcov(X, y, \n",
    "                                                                         num_inducing=num_inducing,\n",
    "                                                                         obj_low=objective_low,\n",
    "                                                                         obj_high=objective_high,\n",
    "                                                                         num_steps=3000)\n",
    "    likelihood = gpflow.likelihoods.Gaussian()\n",
    "    model = PBO.models.learning.init_SVGP_fullcov(q_mu, q_sqrt, u, k, likelihood)\n",
    "    u_mean = q_mu.numpy()\n",
    "    inducing_vars = u.numpy()\n",
    "    \n",
    "    # Visualize model\n",
    "    plot_gp(model, inducing_vars, u_mean, title)\n",
    "    \n",
    "    return model, inputs, u_mean, inducing_vars"
   ]
  },
  {
   "cell_type": "code",
   "execution_count": null,
   "metadata": {},
   "outputs": [],
   "source": [
    "def uniform_grid(input_dims, num_discrete_per_dim, low=0., high=1.):\n",
    "    \"\"\"\n",
    "    Returns an array with all possible permutations of discrete values in input_dims number of dimensions.\n",
    "    :param input_dims: int\n",
    "    :param num_discrete_per_dim: int\n",
    "    :param low: int\n",
    "    :param high: int\n",
    "    :return: tensor of shape (num_discrete_per_dim ** input_dims, input_dims)\n",
    "    \"\"\"\n",
    "    num_points = num_discrete_per_dim ** input_dims\n",
    "    out = np.zeros([num_points, input_dims])\n",
    "    discrete_points = np.linspace(low, high, num_discrete_per_dim)\n",
    "    for i in range(num_points):\n",
    "        for dim in range(input_dims):\n",
    "            val = num_discrete_per_dim ** (dim)\n",
    "            out[i, dim] = discrete_points[int((i // val) % num_discrete_per_dim)]\n",
    "    return out"
   ]
  },
  {
   "cell_type": "markdown",
   "metadata": {},
   "source": [
    "This function is our main metric for the performance of the acquisition function: The closer the model's best guess to the global minimum, the better."
   ]
  },
  {
   "cell_type": "code",
   "execution_count": null,
   "metadata": {},
   "outputs": [],
   "source": [
    "def best_guess(model):\n",
    "    \"\"\"\n",
    "    Returns a GP model's best guess of the global maximum of f.\n",
    "    \"\"\"\n",
    "    xx = uniform_grid(input_dims, num_discrete_per_dim, low=objective_low, high=objective_high)\n",
    "    res = model.predict_f(xx)[0].numpy()\n",
    "    return xx[np.argmax(res)]"
   ]
  },
  {
   "cell_type": "markdown",
   "metadata": {},
   "source": [
    "Store the results in these arrays:"
   ]
  },
  {
   "cell_type": "code",
   "execution_count": null,
   "metadata": {},
   "outputs": [],
   "source": [
    "num_data_at_end = int((num_init_points-1) * num_init_points / 2 + num_evals)\n",
    "X_results = np.zeros([num_runs, num_data_at_end, num_choices, input_dims])\n",
    "y_results = np.zeros([num_runs, num_data_at_end, 1])\n",
    "best_guess_results = np.zeros([num_runs, num_evals, input_dims])"
   ]
  },
  {
   "cell_type": "markdown",
   "metadata": {},
   "source": [
    "Create the initial values for each run:"
   ]
  },
  {
   "cell_type": "code",
   "execution_count": null,
   "metadata": {},
   "outputs": [],
   "source": [
    "np.random.seed(0)\n",
    "init_points = np.random.uniform(size=[num_runs, num_init_points, input_dims], low=objective_low, high=objective_high)\n",
    "num_combs = int((num_init_points-1) * num_init_points / 2)\n",
    "init_vals = np.zeros([num_runs, num_combs, num_choices, input_dims])\n",
    "for run in range(num_runs):\n",
    "    cur_idx = 0\n",
    "    for init_point in range(num_init_points-1):\n",
    "        for next_point in range(init_point+1, num_init_points):\n",
    "            init_vals[run, cur_idx, 0] = init_points[run, init_point]\n",
    "            init_vals[run, cur_idx, 1] = init_points[run, next_point]\n",
    "            cur_idx += 1"
   ]
  },
  {
   "cell_type": "markdown",
   "metadata": {},
   "source": [
    "The following loops carry out the Bayesian optimization algorithm over a number of runs, with a fixed number of evaluations per run."
   ]
  },
  {
   "cell_type": "code",
   "execution_count": null,
   "metadata": {
    "scrolled": true
   },
   "outputs": [],
   "source": [
    "for run in range(num_runs):\n",
    "    print(\"Beginning run %s\" % (run))\n",
    "    \n",
    "    X = init_vals[run]\n",
    "    y = get_noisy_observation(X, objective)\n",
    "    \n",
    "    model, inputs, u_mean, inducing_vars = train_and_visualize(X, y, num_inducing_init, \"Run_{}:_Initial_model\".format(run))\n",
    "\n",
    "    for evaluation in range(num_evals):\n",
    "        print(\"Beginning evaluation %s\" % (evaluation)) \n",
    "\n",
    "        # Sample possible next queries\n",
    "        \n",
    "        samples = PBO.acquisitions.pes.sample_inputs(inputs, num_samples, num_choices)\n",
    "\n",
    "        # Sample maximizers\n",
    "        print(\"Evaluation %s: Sampling maximizers\" % (evaluation))\n",
    "        maximizers = PBO.fourier_features.sample_maximizers(X=inducing_vars,\n",
    "                                                            count=num_maximizers,\n",
    "                                                            n_init=10,\n",
    "                                                            D=100,\n",
    "                                                            model=model)\n",
    "        print(maximizers)\n",
    "\n",
    "        # Calculate PES value I for each possible next query\n",
    "        print(\"Evaluation %s: Calculating I\" % (evaluation))\n",
    "        I_vals = PBO.acquisitions.pes.I_batch(samples, maximizers, model)\n",
    "\n",
    "        # Select query that maximizes I\n",
    "        next_idx = np.argmax(I_vals)\n",
    "        next_query = samples[next_idx]\n",
    "        print(\"Evaluation %s: Next query is %s with I value of %s\" % (evaluation, next_query, I_vals[next_idx]))\n",
    "\n",
    "        X = np.concatenate([X, [next_query]])\n",
    "        # Evaluate objective function\n",
    "        y = get_noisy_observation(X, objective)\n",
    "        \n",
    "        print(\"Evaluation %s: Training model\" % (evaluation))\n",
    "        model, inputs, u_mean, inducing_vars = train_and_visualize(X, y, \n",
    "                                                                   num_inducing_init + evaluation + 1, \n",
    "                                                                   \"Run_{}:_Evaluation_{}\".format(run, evaluation))\n",
    "\n",
    "        best_guess_results[run, evaluation, :] = best_guess(model)\n",
    "\n",
    "    X_results[run] = X\n",
    "    y_results[run] = y"
   ]
  },
  {
   "cell_type": "code",
   "execution_count": null,
   "metadata": {},
   "outputs": [],
   "source": [
    "pickle.dump((X_results, y_results, best_guess_results), open(results_dir + \"Xybestguess.p\", \"wb\"))"
   ]
  },
  {
   "cell_type": "code",
   "execution_count": null,
   "metadata": {},
   "outputs": [],
   "source": [
    "xx = uniform_grid(input_dims, num_discrete_per_dim, low=objective_low, high=objective_high)\n",
    "global_min = xx[np.argmin(objective(xx))][0]\n",
    "\n",
    "for i in range(best_guess_results.shape[0]):\n",
    "    diff_from_min = abs(best_guess_results[i] - global_min)\n",
    "    \n",
    "    x_axis = list(range(11, 31))\n",
    "    plt.figure(figsize=(12, 6))\n",
    "    plt.plot(x_axis, diff_from_min, 'kx', mew=2)\n",
    "    plt.xticks(x_axis)\n",
    "    plt.xlabel('Evaluations', fontsize=18)\n",
    "    plt.ylabel('Best guess error', fontsize=16)\n",
    "    plt.title(\"Run %s\" % i)\n",
    "    plt.show()"
   ]
  }
 ],
 "metadata": {
  "kernelspec": {
   "display_name": "Python 3",
   "language": "python",
   "name": "python3"
  },
  "language_info": {
   "codemirror_mode": {
    "name": "ipython",
    "version": 3
   },
   "file_extension": ".py",
   "mimetype": "text/x-python",
   "name": "python",
   "nbconvert_exporter": "python",
   "pygments_lexer": "ipython3",
   "version": "3.6.10"
  }
 },
 "nbformat": 4,
 "nbformat_minor": 2
}
