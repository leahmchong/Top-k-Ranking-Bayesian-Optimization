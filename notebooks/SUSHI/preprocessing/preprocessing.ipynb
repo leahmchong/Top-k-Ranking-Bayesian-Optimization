{
 "cells": [
  {
   "cell_type": "code",
   "execution_count": 2,
   "metadata": {
    "scrolled": true
   },
   "outputs": [],
   "source": [
    "import numpy as np\n",
    "import pandas as pd\n",
    "import pickle"
   ]
  },
  {
   "cell_type": "code",
   "execution_count": 7,
   "metadata": {},
   "outputs": [],
   "source": [
    "ranking_df = pd.read_csv('sushi3b.5000.10.score', sep=' ', header=None)"
   ]
  },
  {
   "cell_type": "code",
   "execution_count": 8,
   "metadata": {},
   "outputs": [
    {
     "data": {
      "text/html": [
       "<div>\n",
       "<style scoped>\n",
       "    .dataframe tbody tr th:only-of-type {\n",
       "        vertical-align: middle;\n",
       "    }\n",
       "\n",
       "    .dataframe tbody tr th {\n",
       "        vertical-align: top;\n",
       "    }\n",
       "\n",
       "    .dataframe thead th {\n",
       "        text-align: right;\n",
       "    }\n",
       "</style>\n",
       "<table border=\"1\" class=\"dataframe\">\n",
       "  <thead>\n",
       "    <tr style=\"text-align: right;\">\n",
       "      <th></th>\n",
       "      <th>0</th>\n",
       "      <th>1</th>\n",
       "      <th>2</th>\n",
       "      <th>3</th>\n",
       "      <th>4</th>\n",
       "      <th>5</th>\n",
       "      <th>6</th>\n",
       "      <th>7</th>\n",
       "      <th>8</th>\n",
       "      <th>9</th>\n",
       "      <th>...</th>\n",
       "      <th>90</th>\n",
       "      <th>91</th>\n",
       "      <th>92</th>\n",
       "      <th>93</th>\n",
       "      <th>94</th>\n",
       "      <th>95</th>\n",
       "      <th>96</th>\n",
       "      <th>97</th>\n",
       "      <th>98</th>\n",
       "      <th>99</th>\n",
       "    </tr>\n",
       "  </thead>\n",
       "  <tbody>\n",
       "    <tr>\n",
       "      <th>0</th>\n",
       "      <td>-1</td>\n",
       "      <td>0</td>\n",
       "      <td>-1</td>\n",
       "      <td>4</td>\n",
       "      <td>2</td>\n",
       "      <td>-1</td>\n",
       "      <td>-1</td>\n",
       "      <td>-1</td>\n",
       "      <td>-1</td>\n",
       "      <td>-1</td>\n",
       "      <td>...</td>\n",
       "      <td>-1</td>\n",
       "      <td>-1</td>\n",
       "      <td>-1</td>\n",
       "      <td>-1</td>\n",
       "      <td>-1</td>\n",
       "      <td>-1</td>\n",
       "      <td>-1</td>\n",
       "      <td>-1</td>\n",
       "      <td>-1</td>\n",
       "      <td>-1</td>\n",
       "    </tr>\n",
       "    <tr>\n",
       "      <th>1</th>\n",
       "      <td>-1</td>\n",
       "      <td>-1</td>\n",
       "      <td>-1</td>\n",
       "      <td>-1</td>\n",
       "      <td>-1</td>\n",
       "      <td>-1</td>\n",
       "      <td>0</td>\n",
       "      <td>-1</td>\n",
       "      <td>1</td>\n",
       "      <td>-1</td>\n",
       "      <td>...</td>\n",
       "      <td>-1</td>\n",
       "      <td>-1</td>\n",
       "      <td>-1</td>\n",
       "      <td>-1</td>\n",
       "      <td>-1</td>\n",
       "      <td>-1</td>\n",
       "      <td>-1</td>\n",
       "      <td>-1</td>\n",
       "      <td>-1</td>\n",
       "      <td>-1</td>\n",
       "    </tr>\n",
       "    <tr>\n",
       "      <th>2</th>\n",
       "      <td>-1</td>\n",
       "      <td>3</td>\n",
       "      <td>4</td>\n",
       "      <td>-1</td>\n",
       "      <td>-1</td>\n",
       "      <td>-1</td>\n",
       "      <td>3</td>\n",
       "      <td>-1</td>\n",
       "      <td>-1</td>\n",
       "      <td>-1</td>\n",
       "      <td>...</td>\n",
       "      <td>-1</td>\n",
       "      <td>-1</td>\n",
       "      <td>-1</td>\n",
       "      <td>-1</td>\n",
       "      <td>-1</td>\n",
       "      <td>-1</td>\n",
       "      <td>-1</td>\n",
       "      <td>-1</td>\n",
       "      <td>-1</td>\n",
       "      <td>-1</td>\n",
       "    </tr>\n",
       "    <tr>\n",
       "      <th>3</th>\n",
       "      <td>4</td>\n",
       "      <td>-1</td>\n",
       "      <td>-1</td>\n",
       "      <td>3</td>\n",
       "      <td>4</td>\n",
       "      <td>1</td>\n",
       "      <td>-1</td>\n",
       "      <td>-1</td>\n",
       "      <td>4</td>\n",
       "      <td>3</td>\n",
       "      <td>...</td>\n",
       "      <td>-1</td>\n",
       "      <td>-1</td>\n",
       "      <td>-1</td>\n",
       "      <td>-1</td>\n",
       "      <td>-1</td>\n",
       "      <td>-1</td>\n",
       "      <td>-1</td>\n",
       "      <td>-1</td>\n",
       "      <td>-1</td>\n",
       "      <td>-1</td>\n",
       "    </tr>\n",
       "    <tr>\n",
       "      <th>4</th>\n",
       "      <td>-1</td>\n",
       "      <td>-1</td>\n",
       "      <td>-1</td>\n",
       "      <td>-1</td>\n",
       "      <td>1</td>\n",
       "      <td>-1</td>\n",
       "      <td>-1</td>\n",
       "      <td>-1</td>\n",
       "      <td>-1</td>\n",
       "      <td>4</td>\n",
       "      <td>...</td>\n",
       "      <td>-1</td>\n",
       "      <td>-1</td>\n",
       "      <td>-1</td>\n",
       "      <td>-1</td>\n",
       "      <td>-1</td>\n",
       "      <td>-1</td>\n",
       "      <td>-1</td>\n",
       "      <td>-1</td>\n",
       "      <td>-1</td>\n",
       "      <td>0</td>\n",
       "    </tr>\n",
       "    <tr>\n",
       "      <th>...</th>\n",
       "      <td>...</td>\n",
       "      <td>...</td>\n",
       "      <td>...</td>\n",
       "      <td>...</td>\n",
       "      <td>...</td>\n",
       "      <td>...</td>\n",
       "      <td>...</td>\n",
       "      <td>...</td>\n",
       "      <td>...</td>\n",
       "      <td>...</td>\n",
       "      <td>...</td>\n",
       "      <td>...</td>\n",
       "      <td>...</td>\n",
       "      <td>...</td>\n",
       "      <td>...</td>\n",
       "      <td>...</td>\n",
       "      <td>...</td>\n",
       "      <td>...</td>\n",
       "      <td>...</td>\n",
       "      <td>...</td>\n",
       "      <td>...</td>\n",
       "    </tr>\n",
       "    <tr>\n",
       "      <th>4995</th>\n",
       "      <td>-1</td>\n",
       "      <td>-1</td>\n",
       "      <td>-1</td>\n",
       "      <td>4</td>\n",
       "      <td>-1</td>\n",
       "      <td>-1</td>\n",
       "      <td>4</td>\n",
       "      <td>-1</td>\n",
       "      <td>4</td>\n",
       "      <td>-1</td>\n",
       "      <td>...</td>\n",
       "      <td>-1</td>\n",
       "      <td>-1</td>\n",
       "      <td>-1</td>\n",
       "      <td>-1</td>\n",
       "      <td>-1</td>\n",
       "      <td>-1</td>\n",
       "      <td>-1</td>\n",
       "      <td>-1</td>\n",
       "      <td>-1</td>\n",
       "      <td>-1</td>\n",
       "    </tr>\n",
       "    <tr>\n",
       "      <th>4996</th>\n",
       "      <td>3</td>\n",
       "      <td>4</td>\n",
       "      <td>2</td>\n",
       "      <td>-1</td>\n",
       "      <td>1</td>\n",
       "      <td>4</td>\n",
       "      <td>-1</td>\n",
       "      <td>-1</td>\n",
       "      <td>4</td>\n",
       "      <td>-1</td>\n",
       "      <td>...</td>\n",
       "      <td>-1</td>\n",
       "      <td>-1</td>\n",
       "      <td>-1</td>\n",
       "      <td>-1</td>\n",
       "      <td>-1</td>\n",
       "      <td>-1</td>\n",
       "      <td>-1</td>\n",
       "      <td>-1</td>\n",
       "      <td>-1</td>\n",
       "      <td>-1</td>\n",
       "    </tr>\n",
       "    <tr>\n",
       "      <th>4997</th>\n",
       "      <td>3</td>\n",
       "      <td>-1</td>\n",
       "      <td>-1</td>\n",
       "      <td>-1</td>\n",
       "      <td>-1</td>\n",
       "      <td>-1</td>\n",
       "      <td>-1</td>\n",
       "      <td>3</td>\n",
       "      <td>-1</td>\n",
       "      <td>-1</td>\n",
       "      <td>...</td>\n",
       "      <td>-1</td>\n",
       "      <td>-1</td>\n",
       "      <td>-1</td>\n",
       "      <td>-1</td>\n",
       "      <td>-1</td>\n",
       "      <td>-1</td>\n",
       "      <td>-1</td>\n",
       "      <td>-1</td>\n",
       "      <td>-1</td>\n",
       "      <td>-1</td>\n",
       "    </tr>\n",
       "    <tr>\n",
       "      <th>4998</th>\n",
       "      <td>-1</td>\n",
       "      <td>4</td>\n",
       "      <td>4</td>\n",
       "      <td>4</td>\n",
       "      <td>0</td>\n",
       "      <td>-1</td>\n",
       "      <td>-1</td>\n",
       "      <td>-1</td>\n",
       "      <td>-1</td>\n",
       "      <td>4</td>\n",
       "      <td>...</td>\n",
       "      <td>-1</td>\n",
       "      <td>-1</td>\n",
       "      <td>-1</td>\n",
       "      <td>-1</td>\n",
       "      <td>-1</td>\n",
       "      <td>-1</td>\n",
       "      <td>-1</td>\n",
       "      <td>-1</td>\n",
       "      <td>-1</td>\n",
       "      <td>-1</td>\n",
       "    </tr>\n",
       "    <tr>\n",
       "      <th>4999</th>\n",
       "      <td>-1</td>\n",
       "      <td>-1</td>\n",
       "      <td>3</td>\n",
       "      <td>4</td>\n",
       "      <td>4</td>\n",
       "      <td>-1</td>\n",
       "      <td>-1</td>\n",
       "      <td>-1</td>\n",
       "      <td>4</td>\n",
       "      <td>4</td>\n",
       "      <td>...</td>\n",
       "      <td>-1</td>\n",
       "      <td>-1</td>\n",
       "      <td>-1</td>\n",
       "      <td>-1</td>\n",
       "      <td>-1</td>\n",
       "      <td>-1</td>\n",
       "      <td>-1</td>\n",
       "      <td>-1</td>\n",
       "      <td>-1</td>\n",
       "      <td>-1</td>\n",
       "    </tr>\n",
       "  </tbody>\n",
       "</table>\n",
       "<p>5000 rows × 100 columns</p>\n",
       "</div>"
      ],
      "text/plain": [
       "      0   1   2   3   4   5   6   7   8   9   ...  90  91  92  93  94  95  96  \\\n",
       "0     -1   0  -1   4   2  -1  -1  -1  -1  -1  ...  -1  -1  -1  -1  -1  -1  -1   \n",
       "1     -1  -1  -1  -1  -1  -1   0  -1   1  -1  ...  -1  -1  -1  -1  -1  -1  -1   \n",
       "2     -1   3   4  -1  -1  -1   3  -1  -1  -1  ...  -1  -1  -1  -1  -1  -1  -1   \n",
       "3      4  -1  -1   3   4   1  -1  -1   4   3  ...  -1  -1  -1  -1  -1  -1  -1   \n",
       "4     -1  -1  -1  -1   1  -1  -1  -1  -1   4  ...  -1  -1  -1  -1  -1  -1  -1   \n",
       "...   ..  ..  ..  ..  ..  ..  ..  ..  ..  ..  ...  ..  ..  ..  ..  ..  ..  ..   \n",
       "4995  -1  -1  -1   4  -1  -1   4  -1   4  -1  ...  -1  -1  -1  -1  -1  -1  -1   \n",
       "4996   3   4   2  -1   1   4  -1  -1   4  -1  ...  -1  -1  -1  -1  -1  -1  -1   \n",
       "4997   3  -1  -1  -1  -1  -1  -1   3  -1  -1  ...  -1  -1  -1  -1  -1  -1  -1   \n",
       "4998  -1   4   4   4   0  -1  -1  -1  -1   4  ...  -1  -1  -1  -1  -1  -1  -1   \n",
       "4999  -1  -1   3   4   4  -1  -1  -1   4   4  ...  -1  -1  -1  -1  -1  -1  -1   \n",
       "\n",
       "      97  98  99  \n",
       "0     -1  -1  -1  \n",
       "1     -1  -1  -1  \n",
       "2     -1  -1  -1  \n",
       "3     -1  -1  -1  \n",
       "4     -1  -1   0  \n",
       "...   ..  ..  ..  \n",
       "4995  -1  -1  -1  \n",
       "4996  -1  -1  -1  \n",
       "4997  -1  -1  -1  \n",
       "4998  -1  -1  -1  \n",
       "4999  -1  -1  -1  \n",
       "\n",
       "[5000 rows x 100 columns]"
      ]
     },
     "execution_count": 8,
     "metadata": {},
     "output_type": "execute_result"
    }
   ],
   "source": [
    "ranking_df"
   ]
  },
  {
   "cell_type": "code",
   "execution_count": 24,
   "metadata": {
    "scrolled": true
   },
   "outputs": [],
   "source": [
    "ranking_arr = ranking_df.to_numpy() + 1"
   ]
  },
  {
   "cell_type": "code",
   "execution_count": 32,
   "metadata": {
    "scrolled": true
   },
   "outputs": [],
   "source": [
    "numnonzero_arr = np.count_nonzero(ranking_arr, axis=0)"
   ]
  },
  {
   "cell_type": "code",
   "execution_count": 34,
   "metadata": {},
   "outputs": [
    {
     "data": {
      "text/plain": [
       "array([1546, 1535, 1406, 1457, 1380, 1447, 1412, 1353, 1321, 1244, 1297,\n",
       "       1213, 1194, 1118, 1112, 1077, 1012, 1016,  968,  957,  939,  945,\n",
       "        868,  857,  841,  847,  785,  775,  699,  694,  696,  619,  512,\n",
       "        567,  560,  545,  500,  532,  509,  453,  433,  468,  413,  334,\n",
       "        336,  327,  358,  366,  347,  348,  355,  385,  287,  282,  231,\n",
       "        199,  214,  218,  219,  236,  219,  234,  213,  215,  234,  155,\n",
       "        142,  138,  135,  155,  141,  164,  169,  133,  165,  148,  144,\n",
       "        131,  150,  153,   78,   67,   88,   50,   66,   80,   52,   77,\n",
       "         85,   84,   74,   80,   76,   75,   72,   95,   68,   79,   75,\n",
       "         77])"
      ]
     },
     "execution_count": 34,
     "metadata": {},
     "output_type": "execute_result"
    }
   ],
   "source": [
    "numnonzero_arr"
   ]
  },
  {
   "cell_type": "code",
   "execution_count": 30,
   "metadata": {},
   "outputs": [],
   "source": [
    "sumrank_arr = np.sum(ranking_arr, axis=0)"
   ]
  },
  {
   "cell_type": "code",
   "execution_count": 35,
   "metadata": {},
   "outputs": [
    {
     "data": {
      "text/plain": [
       "array([6498, 6208, 6095, 5706, 4913, 5381, 5568, 5161, 5857, 5328, 5215,\n",
       "       4996, 4012, 4432, 4079, 4449, 3301, 3007, 3257, 4269, 3845, 3611,\n",
       "       3628, 2852, 2681, 3220, 3228, 3014, 2158, 2332, 2349, 2344, 1733,\n",
       "       1830, 2023, 1773, 1876, 2340, 1737, 1535, 1332, 1930, 1277, 1336,\n",
       "       1229, 1202, 1283, 1575, 1194, 1037, 1279, 1248,  893, 1170,  796,\n",
       "        639,  616,  832,  747,  657,  688, 1001,  738,  715,  732,  571,\n",
       "        469,  455,  433,  457,  487,  618,  611,  499,  565,  497,  570,\n",
       "        385,  448,  641,  236,  191,  288,  158,  204,  252,  145,  236,\n",
       "        334,  244,  192,  260,  221,  211,  201,  344,  247,  168,  236,\n",
       "        231])"
      ]
     },
     "execution_count": 35,
     "metadata": {},
     "output_type": "execute_result"
    }
   ],
   "source": [
    "sumrank_arr"
   ]
  },
  {
   "cell_type": "code",
   "execution_count": 36,
   "metadata": {},
   "outputs": [],
   "source": [
    "meanrank_arr = sumrank_arr / numnonzero_arr"
   ]
  },
  {
   "cell_type": "code",
   "execution_count": 144,
   "metadata": {},
   "outputs": [],
   "source": [
    "inter1 = meanrank_arr - np.min(meanrank_arr)"
   ]
  },
  {
   "cell_type": "code",
   "execution_count": 145,
   "metadata": {},
   "outputs": [],
   "source": [
    "inter2 = inter1 * (9 / np.max(inter1) )"
   ]
  },
  {
   "cell_type": "code",
   "execution_count": 146,
   "metadata": {},
   "outputs": [],
   "source": [
    "scaledrank_arr = inter2 - 4"
   ]
  },
  {
   "cell_type": "code",
   "execution_count": 147,
   "metadata": {
    "scrolled": false
   },
   "outputs": [
    {
     "data": {
      "text/plain": [
       "array([ 4.00635773,  3.39405975,  4.51487296,  2.90040703,  1.5273253 ,\n",
       "        2.13876873,  3.00480462,  2.5079784 ,  4.8956939 ,  4.31424507,\n",
       "        3.30351967,  3.68097558,  0.75615186,  3.08530706,  1.94381541,\n",
       "        3.72803497,  0.37723221, -0.78799363,  0.77363887,  5.        ,\n",
       "        3.58870104,  2.53372529,  3.91620753,  0.63182227,  0.09196711,\n",
       "        2.45849708,  3.65548189,  2.79540191, -0.29592758,  0.7565241 ,\n",
       "        0.81347004,  2.40104755,  0.85112293,  0.24481169,  1.72918848,\n",
       "        0.34389351,  2.26705258,  4.75972008,  0.95834122,  0.86560226,\n",
       "       -0.33855207,  3.7010932 , -0.27764344,  3.22325542,  1.90361104,\n",
       "        1.97340955,  1.61852683,  4.3925939 ,  1.06764337, -0.7099575 ,\n",
       "        1.69185378,  0.29896521, -0.2025022 ,  3.79750215,  1.08678769,\n",
       "        0.18135548, -1.10084545,  2.51579549,  0.95211522, -1.46561512,\n",
       "       -0.08662331,  4.29427114,  1.15966456,  0.62292887, -0.13808624,\n",
       "        2.00437043,  0.5351568 ,  0.51311998,  0.16729055, -0.83140282,\n",
       "        1.11768408,  2.32987157,  1.74031057,  2.26658874,  1.00333192,\n",
       "        0.7483407 ,  3.06260306, -0.86786114, -0.68380994,  3.95406615,\n",
       "       -0.5335382 , -1.20787233,  0.41914152, -0.01549613, -0.28188695,\n",
       "       -0.0540527 , -1.44802086, -0.38203388,  2.95109142, -0.99960658,\n",
       "       -2.19550522,  0.33151296, -0.98752746, -1.35212376, -1.43566298,\n",
       "        1.76216449,  1.80573461, -4.        , -0.06690489, -0.63240119])"
      ]
     },
     "execution_count": 147,
     "metadata": {},
     "output_type": "execute_result"
    }
   ],
   "source": [
    "scaledrank_arr"
   ]
  },
  {
   "cell_type": "code",
   "execution_count": 224,
   "metadata": {},
   "outputs": [],
   "source": [
    "fvals = scaledrank_arr"
   ]
  },
  {
   "cell_type": "code",
   "execution_count": 228,
   "metadata": {
    "scrolled": true
   },
   "outputs": [],
   "source": [
    "pickle.dump(fvals, open(\"fvals.p\", \"wb\"))"
   ]
  },
  {
   "cell_type": "code",
   "execution_count": 148,
   "metadata": {},
   "outputs": [],
   "source": [
    "zipped = list(zip(scaledrank_arr, range(100)))"
   ]
  },
  {
   "cell_type": "code",
   "execution_count": 149,
   "metadata": {},
   "outputs": [],
   "source": [
    "fval_idx = sorted(zipped, reverse=True)"
   ]
  },
  {
   "cell_type": "code",
   "execution_count": 150,
   "metadata": {
    "scrolled": true
   },
   "outputs": [
    {
     "data": {
      "text/plain": [
       "[(5.0, 19),\n",
       " (4.895693902126329, 8),\n",
       " (4.759720082185915, 37),\n",
       " (4.51487295961271, 2),\n",
       " (4.392593898267295, 47),\n",
       " (4.314245069918266, 9),\n",
       " (4.294271143221419, 61),\n",
       " (4.006357731095532, 0),\n",
       " (3.954066148346291, 79),\n",
       " (3.9162075279915234, 22),\n",
       " (3.7975021475526916, 53),\n",
       " (3.728034974613098, 15),\n",
       " (3.701093203439142, 41),\n",
       " (3.6809755765998675, 11),\n",
       " (3.6554818919335927, 26),\n",
       " (3.5887010396625056, 20),\n",
       " (3.3940597504606362, 1),\n",
       " (3.303519665670656, 10),\n",
       " (3.223255418614534, 43),\n",
       " (3.0853070605256336, 13),\n",
       " (3.062603059923502, 76),\n",
       " (3.0048046192612876, 6),\n",
       " (2.9510914227144305, 88),\n",
       " (2.900407027229946, 3),\n",
       " (2.795401911081255, 27),\n",
       " (2.5337252949628635, 21),\n",
       " (2.51579549043384, 57),\n",
       " (2.507978398101022, 7),\n",
       " (2.4584970830274697, 25),\n",
       " (2.4010475473169706, 31),\n",
       " (2.3298715702839123, 71),\n",
       " (2.2670525796855063, 36),\n",
       " (2.2665887412965056, 73),\n",
       " (2.138768729123168, 5),\n",
       " (2.0043704262232156, 65),\n",
       " (1.973409545495307, 45),\n",
       " (1.943815410909692, 14),\n",
       " (1.9036110436524805, 44),\n",
       " (1.8057346066348332, 96),\n",
       " (1.7621644932560896, 95),\n",
       " (1.740310569158848, 72),\n",
       " (1.7291884827879294, 34),\n",
       " (1.6918537797118454, 50),\n",
       " (1.6185268301253357, 46),\n",
       " (1.5273253016500679, 4),\n",
       " (1.1596645576818316, 62),\n",
       " (1.1176840791746168, 70),\n",
       " (1.0867876874506708, 54),\n",
       " (1.0676433665527236, 48),\n",
       " (1.0033319167020824, 74),\n",
       " (0.9583412222160055, 38),\n",
       " (0.9521152245166462, 58),\n",
       " (0.865602260605737, 39),\n",
       " (0.851122934817254, 32),\n",
       " (0.8134700382490436, 30),\n",
       " (0.773638874937217, 18),\n",
       " (0.7565241013066881, 29),\n",
       " (0.7561518600225945, 12),\n",
       " (0.74834070364457, 75),\n",
       " (0.6318222721211422, 23),\n",
       " (0.6229288686387493, 63),\n",
       " (0.5351567971364091, 66),\n",
       " (0.5131199763484169, 67),\n",
       " (0.41914152146196404, 82),\n",
       " (0.37723221049908506, 16),\n",
       " (0.34389351091910747, 35),\n",
       " (0.33151296217594517, 91),\n",
       " (0.29896521158399647, 51),\n",
       " (0.2448116892315788, 33),\n",
       " (0.181355481188346, 55),\n",
       " (0.1672905510695557, 68),\n",
       " (0.09196711461523854, 24),\n",
       " (-0.015496132596684475, 83),\n",
       " (-0.05405269868253315, 85),\n",
       " (-0.06690488737781619, 98),\n",
       " (-0.08662331386920874, 60),\n",
       " (-0.1380862401516887, 64),\n",
       " (-0.20250219528483937, 52),\n",
       " (-0.27764343905930167, 42),\n",
       " (-0.2818869528261798, 84),\n",
       " (-0.2959275803512642, 28),\n",
       " (-0.3385520719949664, 40),\n",
       " (-0.38203387772448494, 87),\n",
       " (-0.5335382000065385, 80),\n",
       " (-0.6324011899702509, 99),\n",
       " (-0.6838099447513808, 78),\n",
       " (-0.7099575010624726, 49),\n",
       " (-0.7879936318521175, 17),\n",
       " (-0.8314028213810789, 69),\n",
       " (-0.8678611355326806, 77),\n",
       " (-0.9875274565504282, 92),\n",
       " (-0.99960658126404, 89),\n",
       " (-1.1008454508263465, 56),\n",
       " (-1.20787232557992, 81),\n",
       " (-1.3521237569060767, 93),\n",
       " (-1.4356629834254147, 94),\n",
       " (-1.4480208571708788, 86),\n",
       " (-1.4656151180966241, 59),\n",
       " (-2.195505220477595, 90),\n",
       " (-4.0, 97)]"
      ]
     },
     "execution_count": 150,
     "metadata": {},
     "output_type": "execute_result"
    }
   ],
   "source": [
    "fval_idx"
   ]
  },
  {
   "cell_type": "code",
   "execution_count": 168,
   "metadata": {},
   "outputs": [],
   "source": [
    "diff = fval_idx[96][0] - fval_idx[97][0]"
   ]
  },
  {
   "cell_type": "code",
   "execution_count": 169,
   "metadata": {},
   "outputs": [
    {
     "data": {
      "text/plain": [
       "0.5043984517673543"
      ]
     },
     "execution_count": 169,
     "metadata": {},
     "output_type": "execute_result"
    }
   ],
   "source": [
    "1 /(1 + np.exp(-diff))"
   ]
  },
  {
   "cell_type": "code",
   "execution_count": 170,
   "metadata": {},
   "outputs": [],
   "source": [
    "pickle.dump(fval_idx, open(\"fval_idx_tuples.p\", \"wb\"))"
   ]
  },
  {
   "cell_type": "code",
   "execution_count": null,
   "metadata": {},
   "outputs": [],
   "source": []
  },
  {
   "cell_type": "code",
   "execution_count": null,
   "metadata": {},
   "outputs": [],
   "source": []
  },
  {
   "cell_type": "code",
   "execution_count": null,
   "metadata": {},
   "outputs": [],
   "source": []
  },
  {
   "cell_type": "code",
   "execution_count": 210,
   "metadata": {},
   "outputs": [],
   "source": [
    "sushi_df = pd.read_csv('sushi3.idata', sep='\\t', header=None)"
   ]
  },
  {
   "cell_type": "code",
   "execution_count": 211,
   "metadata": {},
   "outputs": [],
   "source": [
    "sushi_df = sushi_df.drop(columns=[0, 1, 4])"
   ]
  },
  {
   "cell_type": "code",
   "execution_count": 213,
   "metadata": {},
   "outputs": [],
   "source": [
    "sushi_df.columns = range(sushi_df.shape[1])"
   ]
  },
  {
   "cell_type": "code",
   "execution_count": 214,
   "metadata": {
    "scrolled": false
   },
   "outputs": [
    {
     "data": {
      "text/html": [
       "<div>\n",
       "<style scoped>\n",
       "    .dataframe tbody tr th:only-of-type {\n",
       "        vertical-align: middle;\n",
       "    }\n",
       "\n",
       "    .dataframe tbody tr th {\n",
       "        vertical-align: top;\n",
       "    }\n",
       "\n",
       "    .dataframe thead th {\n",
       "        text-align: right;\n",
       "    }\n",
       "</style>\n",
       "<table border=\"1\" class=\"dataframe\">\n",
       "  <thead>\n",
       "    <tr style=\"text-align: right;\">\n",
       "      <th></th>\n",
       "      <th>0</th>\n",
       "      <th>1</th>\n",
       "      <th>2</th>\n",
       "      <th>3</th>\n",
       "      <th>4</th>\n",
       "      <th>5</th>\n",
       "    </tr>\n",
       "  </thead>\n",
       "  <tbody>\n",
       "    <tr>\n",
       "      <th>0</th>\n",
       "      <td>1</td>\n",
       "      <td>0</td>\n",
       "      <td>2.728978</td>\n",
       "      <td>2.138422</td>\n",
       "      <td>1.838420</td>\n",
       "      <td>0.84</td>\n",
       "    </tr>\n",
       "    <tr>\n",
       "      <th>1</th>\n",
       "      <td>1</td>\n",
       "      <td>0</td>\n",
       "      <td>0.926384</td>\n",
       "      <td>1.990228</td>\n",
       "      <td>1.992459</td>\n",
       "      <td>0.88</td>\n",
       "    </tr>\n",
       "    <tr>\n",
       "      <th>2</th>\n",
       "      <td>1</td>\n",
       "      <td>0</td>\n",
       "      <td>1.769559</td>\n",
       "      <td>2.348506</td>\n",
       "      <td>1.874725</td>\n",
       "      <td>0.88</td>\n",
       "    </tr>\n",
       "    <tr>\n",
       "      <th>3</th>\n",
       "      <td>1</td>\n",
       "      <td>0</td>\n",
       "      <td>2.688401</td>\n",
       "      <td>2.043240</td>\n",
       "      <td>1.515152</td>\n",
       "      <td>0.92</td>\n",
       "    </tr>\n",
       "    <tr>\n",
       "      <th>4</th>\n",
       "      <td>1</td>\n",
       "      <td>0</td>\n",
       "      <td>0.813043</td>\n",
       "      <td>1.643478</td>\n",
       "      <td>3.287282</td>\n",
       "      <td>0.88</td>\n",
       "    </tr>\n",
       "    <tr>\n",
       "      <th>...</th>\n",
       "      <td>...</td>\n",
       "      <td>...</td>\n",
       "      <td>...</td>\n",
       "      <td>...</td>\n",
       "      <td>...</td>\n",
       "      <td>...</td>\n",
       "    </tr>\n",
       "    <tr>\n",
       "      <th>95</th>\n",
       "      <td>1</td>\n",
       "      <td>0</td>\n",
       "      <td>2.600000</td>\n",
       "      <td>1.094737</td>\n",
       "      <td>1.000000</td>\n",
       "      <td>0.04</td>\n",
       "    </tr>\n",
       "    <tr>\n",
       "      <th>96</th>\n",
       "      <td>1</td>\n",
       "      <td>0</td>\n",
       "      <td>1.970588</td>\n",
       "      <td>1.000000</td>\n",
       "      <td>1.000000</td>\n",
       "      <td>0.04</td>\n",
       "    </tr>\n",
       "    <tr>\n",
       "      <th>97</th>\n",
       "      <td>1</td>\n",
       "      <td>0</td>\n",
       "      <td>1.936709</td>\n",
       "      <td>0.443038</td>\n",
       "      <td>1.500000</td>\n",
       "      <td>0.04</td>\n",
       "    </tr>\n",
       "    <tr>\n",
       "      <th>98</th>\n",
       "      <td>1</td>\n",
       "      <td>0</td>\n",
       "      <td>2.160000</td>\n",
       "      <td>0.613333</td>\n",
       "      <td>1.000000</td>\n",
       "      <td>0.04</td>\n",
       "    </tr>\n",
       "    <tr>\n",
       "      <th>99</th>\n",
       "      <td>1</td>\n",
       "      <td>0</td>\n",
       "      <td>1.779221</td>\n",
       "      <td>0.727273</td>\n",
       "      <td>1.250000</td>\n",
       "      <td>0.04</td>\n",
       "    </tr>\n",
       "  </tbody>\n",
       "</table>\n",
       "<p>100 rows × 6 columns</p>\n",
       "</div>"
      ],
      "text/plain": [
       "    0  1         2         3         4     5\n",
       "0   1  0  2.728978  2.138422  1.838420  0.84\n",
       "1   1  0  0.926384  1.990228  1.992459  0.88\n",
       "2   1  0  1.769559  2.348506  1.874725  0.88\n",
       "3   1  0  2.688401  2.043240  1.515152  0.92\n",
       "4   1  0  0.813043  1.643478  3.287282  0.88\n",
       ".. .. ..       ...       ...       ...   ...\n",
       "95  1  0  2.600000  1.094737  1.000000  0.04\n",
       "96  1  0  1.970588  1.000000  1.000000  0.04\n",
       "97  1  0  1.936709  0.443038  1.500000  0.04\n",
       "98  1  0  2.160000  0.613333  1.000000  0.04\n",
       "99  1  0  1.779221  0.727273  1.250000  0.04\n",
       "\n",
       "[100 rows x 6 columns]"
      ]
     },
     "execution_count": 214,
     "metadata": {},
     "output_type": "execute_result"
    }
   ],
   "source": [
    "sushi_df"
   ]
  },
  {
   "cell_type": "code",
   "execution_count": 215,
   "metadata": {},
   "outputs": [],
   "source": [
    "sushi_arr = sushi_df.to_numpy()"
   ]
  },
  {
   "cell_type": "code",
   "execution_count": 216,
   "metadata": {
    "scrolled": true
   },
   "outputs": [],
   "source": [
    "sushi_arr[:, 2] *= 1/4"
   ]
  },
  {
   "cell_type": "code",
   "execution_count": 217,
   "metadata": {},
   "outputs": [],
   "source": [
    "sushi_arr[:, 3] *= 1/3"
   ]
  },
  {
   "cell_type": "code",
   "execution_count": 218,
   "metadata": {},
   "outputs": [],
   "source": [
    "sushi_arr[:, 4] -= np.min(sushi_arr[:, 4])\n",
    "sushi_arr[:, 4] *= 1/np.max(sushi_arr[:, 4])"
   ]
  },
  {
   "cell_type": "code",
   "execution_count": 219,
   "metadata": {
    "scrolled": true
   },
   "outputs": [
    {
     "data": {
      "text/plain": [
       "array([0.24054823, 0.28474297, 0.25096426, 0.14780038, 0.65623633,\n",
       "       0.11026686, 0.4864108 , 0.00931515, 1.        , 0.265381  ,\n",
       "       0.22154805, 0.36185926, 0.66919521, 0.193105  , 0.75927013,\n",
       "       0.14683135, 0.39500377, 0.24575436, 0.13854733, 0.62188977,\n",
       "       0.59365452, 0.3102359 , 0.2977743 , 0.01504755, 0.32276995,\n",
       "       0.3549745 , 0.16635903, 0.41929467, 0.42438272, 0.00573813,\n",
       "       0.00521648, 0.13335845, 0.09780908, 0.37113111, 0.48438781,\n",
       "       0.23908885, 0.28939066, 0.42259731, 0.        , 0.23510404,\n",
       "       0.00956355, 0.58743407, 0.11487133, 0.        , 0.14241002,\n",
       "       0.05738132, 0.61206747, 0.69292297, 0.01147626, 0.3347244 ,\n",
       "       0.04590506, 0.12815163, 0.20083464, 0.46567988, 0.14664116,\n",
       "       0.14345331, 0.04781777, 0.09563554, 0.0836811 , 0.21517997,\n",
       "       0.        , 0.39078744, 0.29733959, 0.28690662, 0.39848142,\n",
       "       0.38254217, 0.24387063, 0.1673622 , 0.43035994, 0.        ,\n",
       "       0.        , 0.        , 0.07172666, 0.17931664, 0.        ,\n",
       "       0.02608242, 0.32276995, 0.        , 0.04303599, 0.63119457,\n",
       "       0.        , 0.57381325, 0.47817771, 0.        , 0.28690662,\n",
       "       0.14345331, 0.14345331, 0.14345331, 0.28690662, 0.28690662,\n",
       "       0.        , 0.        , 0.        , 0.20865936, 0.        ,\n",
       "       0.        , 0.        , 0.14345331, 0.        , 0.07172666])"
      ]
     },
     "execution_count": 219,
     "metadata": {},
     "output_type": "execute_result"
    }
   ],
   "source": [
    "sushi_arr[:, 4]"
   ]
  },
  {
   "cell_type": "code",
   "execution_count": 221,
   "metadata": {
    "scrolled": true
   },
   "outputs": [
    {
     "name": "stdout",
     "output_type": "stream",
     "text": [
      "1.0\n",
      "1.0\n",
      "0.93263688760807\n",
      "0.7828354670459932\n",
      "0.9999999999999999\n",
      "0.92\n"
     ]
    }
   ],
   "source": [
    "for i in range(6):\n",
    "    print(np.max(sushi_arr[:, i]))"
   ]
  },
  {
   "cell_type": "code",
   "execution_count": 223,
   "metadata": {
    "scrolled": true
   },
   "outputs": [
    {
     "data": {
      "text/plain": [
       "(100, 6)"
      ]
     },
     "execution_count": 223,
     "metadata": {},
     "output_type": "execute_result"
    }
   ],
   "source": [
    "sushi_arr.shape"
   ]
  },
  {
   "cell_type": "code",
   "execution_count": 229,
   "metadata": {},
   "outputs": [],
   "source": [
    "pickle.dump(sushi_arr, open(\"sushi_features.p\", \"wb\"))"
   ]
  }
 ],
 "metadata": {
  "kernelspec": {
   "display_name": "Python 3",
   "language": "python",
   "name": "python3"
  },
  "language_info": {
   "codemirror_mode": {
    "name": "ipython",
    "version": 3
   },
   "file_extension": ".py",
   "mimetype": "text/x-python",
   "name": "python",
   "nbconvert_exporter": "python",
   "pygments_lexer": "ipython3",
   "version": "3.6.10"
  }
 },
 "nbformat": 4,
 "nbformat_minor": 4
}
