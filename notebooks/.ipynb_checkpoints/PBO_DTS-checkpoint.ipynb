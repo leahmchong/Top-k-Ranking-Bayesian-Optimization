{
 "cells": [
  {
   "cell_type": "code",
   "execution_count": 1,
   "metadata": {
    "scrolled": true
   },
   "outputs": [],
   "source": [
    "import numpy as np\n",
    "import gpflow\n",
    "import tensorflow as tf\n",
    "import matplotlib.pyplot as plt\n",
    "import sys\n",
    "import os\n",
    "\n",
    "from gpflow.utilities import set_trainable, print_summary\n",
    "gpflow.config.set_default_summary_fmt(\"notebook\")\n",
    "\n",
    "sys.path.append(os.path.split(os.path.split(os.getcwd())[0])[0]) # Move 2 levels up directory to import PBO\n",
    "import PBO"
   ]
  },
  {
   "cell_type": "code",
   "execution_count": 2,
   "metadata": {},
   "outputs": [],
   "source": [
    "def plot_gp(model, X, y, title=\"GP\"):\n",
    "    #Plotting code from GPflow authors\n",
    "\n",
    "    ## generate test points for prediction\n",
    "    xx = np.linspace(-0.1, 1.1, 100).reshape(100, 1)  # test points must be of shape (N, D)\n",
    "\n",
    "    ## predict mean and variance of latent GP at test points\n",
    "    mean, var = model.predict_f(xx)\n",
    "\n",
    "    ## generate 10 samples from posterior\n",
    "    samples = model.predict_f_samples(xx, 10)  # shape (10, 100, 1)\n",
    "\n",
    "    ## plot \n",
    "    plt.figure(figsize=(12, 6))\n",
    "    plt.plot(X, y, 'kx', mew=2)\n",
    "    plt.plot(xx, mean, 'C0', lw=2)\n",
    "    plt.fill_between(xx[:,0],\n",
    "                     mean[:,0] - 1.96 * np.sqrt(var[:,0]),\n",
    "                     mean[:,0] + 1.96 * np.sqrt(var[:,0]),\n",
    "                     color='C0', alpha=0.2)\n",
    "\n",
    "    plt.plot(xx, samples[:, :, 0].numpy().T, 'C0', linewidth=.5)\n",
    "    plt.xlim(-0.1, 1.1)\n",
    "    plt.title(title)"
   ]
  },
  {
   "cell_type": "code",
   "execution_count": 3,
   "metadata": {},
   "outputs": [],
   "source": [
    "def forrester(x):\n",
    "    \"\"\"\n",
    "    1-dimensional test function by Forrester et al. (2008)\n",
    "    Defined as f(x) = (6x-2)^2 * sin(12x-4)\n",
    "    :param x: float in domain [0, 1]\n",
    "    \"\"\"\n",
    "    return (6*x-2)*(6*x-2)*np.sin(12*x-4)"
   ]
  },
  {
   "cell_type": "code",
   "execution_count": 4,
   "metadata": {},
   "outputs": [],
   "source": [
    "X = np.expand_dims(np.linspace(start=0.0, stop=1.0, num=10), axis=1)\n",
    "y = -forrester(X)"
   ]
  },
  {
   "cell_type": "code",
   "execution_count": 5,
   "metadata": {},
   "outputs": [
    {
     "data": {
      "text/plain": [
       "array([[0.        ],\n",
       "       [0.11111111],\n",
       "       [0.22222222],\n",
       "       [0.33333333],\n",
       "       [0.44444444],\n",
       "       [0.55555556],\n",
       "       [0.66666667],\n",
       "       [0.77777778],\n",
       "       [0.88888889],\n",
       "       [1.        ]])"
      ]
     },
     "execution_count": 5,
     "metadata": {},
     "output_type": "execute_result"
    }
   ],
   "source": [
    "X"
   ]
  },
  {
   "cell_type": "code",
   "execution_count": 6,
   "metadata": {
    "scrolled": false
   },
   "outputs": [
    {
     "data": {
      "text/plain": [
       "array([[ -3.02720998],\n",
       "       [  0.81292911],\n",
       "       [  0.4319724 ],\n",
       "       [ -0.        ],\n",
       "       [ -0.4319724 ],\n",
       "       [ -0.81292911],\n",
       "       [  3.02720998],\n",
       "       [  5.78367567],\n",
       "       [ -4.1572359 ],\n",
       "       [-15.82973195]])"
      ]
     },
     "execution_count": 6,
     "metadata": {},
     "output_type": "execute_result"
    }
   ],
   "source": [
    "y"
   ]
  },
  {
   "cell_type": "code",
   "execution_count": 7,
   "metadata": {
    "scrolled": true
   },
   "outputs": [],
   "source": [
    "count = 10\n",
    "n = X.shape[0]\n",
    "d = X.shape[1]\n",
    "D = 100"
   ]
  },
  {
   "cell_type": "code",
   "execution_count": 8,
   "metadata": {},
   "outputs": [],
   "source": [
    "kernel = gpflow.kernels.RBF()\n",
    "kernel.lengthscale.assign(0.1)"
   ]
  },
  {
   "cell_type": "code",
   "execution_count": 9,
   "metadata": {},
   "outputs": [],
   "source": [
    "model = gpflow.models.VGP(data=(X,y),\n",
    "                         kernel=kernel,\n",
    "                         likelihood=gpflow.likelihoods.Gaussian())\n"
   ]
  },
  {
   "cell_type": "code",
   "execution_count": 10,
   "metadata": {
    "scrolled": true
   },
   "outputs": [
    {
     "data": {
      "text/html": [
       "<table>\n",
       "<thead>\n",
       "<tr><th>name                   </th><th>class    </th><th>transform              </th><th>prior  </th><th>trainable  </th><th>shape      </th><th>dtype  </th><th>value             </th></tr>\n",
       "</thead>\n",
       "<tbody>\n",
       "<tr><td>VGP.kernel.variance    </td><td>Parameter</td><td>Softplus               </td><td>       </td><td>True       </td><td>()         </td><td>float64</td><td>1.0               </td></tr>\n",
       "<tr><td>VGP.kernel.lengthscale </td><td>Parameter</td><td>Softplus               </td><td>       </td><td>True       </td><td>()         </td><td>float64</td><td>0.1000000014901161</td></tr>\n",
       "<tr><td>VGP.likelihood.variance</td><td>Parameter</td><td>Softplus + AffineScalar</td><td>       </td><td>True       </td><td>()         </td><td>float64</td><td>1.0               </td></tr>\n",
       "<tr><td>VGP.q_mu               </td><td>Parameter</td><td>                       </td><td>       </td><td>True       </td><td>(10, 1)    </td><td>float64</td><td>[[0....           </td></tr>\n",
       "<tr><td>VGP.q_sqrt             </td><td>Parameter</td><td>FillTriangular         </td><td>       </td><td>True       </td><td>(1, 10, 10)</td><td>float64</td><td>[[[1., 0., 0....  </td></tr>\n",
       "</tbody>\n",
       "</table>"
      ],
      "text/plain": [
       "<IPython.core.display.HTML object>"
      ]
     },
     "metadata": {},
     "output_type": "display_data"
    }
   ],
   "source": [
    "print_summary(model)"
   ]
  },
  {
   "cell_type": "code",
   "execution_count": 11,
   "metadata": {
    "scrolled": false
   },
   "outputs": [
    {
     "data": {
      "image/png": "[encoded data removed]",
      "text/plain": [
       "<Figure size 864x432 with 1 Axes>"
      ]
     },
     "metadata": {
      "needs_background": "light"
     },
     "output_type": "display_data"
    }
   ],
   "source": [
    "plot_gp(model, X, y)"
   ]
  },
  {
   "cell_type": "code",
   "execution_count": 12,
   "metadata": {
    "scrolled": true
   },
   "outputs": [
    {
     "data": {
      "text/plain": [
       "      fun: 27.036982971714906\n",
       " hess_inv: <68x68 LbfgsInvHessProduct with dtype=float64>\n",
       "      jac: array([ 9.49871318e-01, -1.57007901e-02,  1.80378884e-04, -2.22718273e-01,\n",
       "       -2.74786636e-01, -2.28794054e-01, -2.24722812e-01, -2.70908224e-01,\n",
       "       -2.08899908e-01, -5.27577167e-02,  1.40590689e-01,  1.28674649e-01,\n",
       "        3.84578281e-02,  1.07649569e-01, -1.01764817e-01,  4.36725113e-04,\n",
       "        7.14042766e-02,  6.24988085e-02, -8.87184959e-02, -5.92970205e-02,\n",
       "        3.79120040e-02,  1.28528292e-02,  1.68997092e-02,  4.92844055e-01,\n",
       "       -1.77425488e-01,  8.00354366e-02,  7.35319896e-02,  1.25859196e-01,\n",
       "       -6.19174725e-02, -1.70905507e-01,  9.94697358e-04,  1.27054622e-01,\n",
       "       -6.29095684e-02,  7.83363037e-02, -2.47396609e-02, -2.46896311e-02,\n",
       "        5.73545665e-02,  1.70647478e-01, -6.31599776e-03, -1.05926139e-01,\n",
       "       -7.96501093e-03,  1.56734978e-01, -2.02283785e-01, -1.64095279e-03,\n",
       "        4.42291406e-02,  9.11539767e-02,  1.06024415e-01, -9.64400474e-02,\n",
       "       -1.06859581e-01, -1.45884232e-01,  2.07306685e-01,  1.37856773e-01,\n",
       "       -3.10411910e-01, -1.21075172e-01,  1.34553612e-01,  2.34580605e-01,\n",
       "       -2.15806883e-01, -1.99998948e-01, -1.21877261e-01, -1.91485192e-01,\n",
       "        2.48891209e-01,  1.54727881e-01, -3.20554543e-01, -2.42423773e-01,\n",
       "        2.19235788e-01,  1.68133331e-01, -9.30974681e-02, -1.01476903e-01])\n",
       "  message: b'CONVERGENCE: REL_REDUCTION_OF_F_<=_FACTR*EPSMCH'\n",
       "     nfev: 2084\n",
       "      nit: 1890\n",
       "   status: 0\n",
       "  success: True\n",
       "        x: array([-1.77133547e+00,  5.40941296e+01, -9.47690432e+00, -4.11587544e-01,\n",
       "        6.87001270e-01, -6.59616508e-01,  5.37378992e-01, -5.58769691e-01,\n",
       "        3.06816234e-01,  1.05286556e+00, -1.60555394e-01, -2.82796948e+00,\n",
       "       -5.91404613e-01,  3.23183808e-03, -6.32257919e-03,  7.63799264e-03,\n",
       "       -7.42191132e-03,  6.36391442e-03, -4.94947190e-03,  3.51366609e-03,\n",
       "       -2.18746335e-03,  1.08637591e-03, -3.35456611e-04,  1.19800234e-03,\n",
       "        3.21337408e-03, -6.23748428e-03,  7.44981424e-03, -7.10588145e-03,\n",
       "        5.86509947e-03, -4.31038480e-03,  2.74156247e-03, -1.38052720e-03,\n",
       "        4.30494954e-04, -1.48671836e-03,  1.90877708e-03,  3.18275072e-03,\n",
       "       -6.10689535e-03,  7.15536255e-03, -6.57282026e-03,  5.12551503e-03,\n",
       "       -3.37758356e-03,  1.73954879e-03, -5.49766524e-04,  1.45581591e-03,\n",
       "       -3.00194387e-03,  2.40020922e-03,  3.13523794e-03, -5.89816921e-03,\n",
       "        6.66039107e-03, -5.77683278e-03,  4.04227424e-03, -2.15922047e-03,\n",
       "        6.96622598e-04, -1.28572413e-03,  3.25733259e-03, -4.18482701e-03,\n",
       "        2.72265205e-03,  3.05731758e-03, -5.54907694e-03,  5.91101407e-03,\n",
       "       -4.60290791e-03,  2.61454971e-03, -8.73848168e-04,  1.07590184e-03,\n",
       "       -3.03317618e-03,  4.79283694e-03, -5.00892554e-03,  2.92800957e-03])"
      ]
     },
     "execution_count": 12,
     "metadata": {},
     "output_type": "execute_result"
    }
   ],
   "source": [
    "optimizer = gpflow.optimizers.Scipy()\n",
    "optimizer.minimize(lambda: -model.log_likelihood(), model.trainable_variables)"
   ]
  },
  {
   "cell_type": "code",
   "execution_count": 13,
   "metadata": {},
   "outputs": [
    {
     "data": {
      "text/html": [
       "<table>\n",
       "<thead>\n",
       "<tr><th>name                   </th><th>class    </th><th>transform              </th><th>prior  </th><th>trainable  </th><th>shape      </th><th>dtype  </th><th>value                 </th></tr>\n",
       "</thead>\n",
       "<tbody>\n",
       "<tr><td>VGP.kernel.variance    </td><td>Parameter</td><td>Softplus               </td><td>       </td><td>True       </td><td>()         </td><td>float64</td><td>54.09412963774126     </td></tr>\n",
       "<tr><td>VGP.kernel.lengthscale </td><td>Parameter</td><td>Softplus               </td><td>       </td><td>True       </td><td>()         </td><td>float64</td><td>0.15709405698241347   </td></tr>\n",
       "<tr><td>VGP.likelihood.variance</td><td>Parameter</td><td>Softplus + AffineScalar</td><td>       </td><td>True       </td><td>()         </td><td>float64</td><td>7.759776814576974e-05 </td></tr>\n",
       "<tr><td>VGP.q_mu               </td><td>Parameter</td><td>                       </td><td>       </td><td>True       </td><td>(10, 1)    </td><td>float64</td><td>[[-0.41158754...      </td></tr>\n",
       "<tr><td>VGP.q_sqrt             </td><td>Parameter</td><td>FillTriangular         </td><td>       </td><td>True       </td><td>(1, 10, 10)</td><td>float64</td><td>[[[0.001198, 0., 0....</td></tr>\n",
       "</tbody>\n",
       "</table>"
      ],
      "text/plain": [
       "<IPython.core.display.HTML object>"
      ]
     },
     "metadata": {},
     "output_type": "display_data"
    }
   ],
   "source": [
    "print_summary(model)"
   ]
  },
  {
   "cell_type": "code",
   "execution_count": 14,
   "metadata": {
    "scrolled": false
   },
   "outputs": [
    {
     "data": {
      "image/png": "[encoded data removed]",
      "text/plain": [
       "<Figure size 864x432 with 1 Axes>"
      ]
     },
     "metadata": {
      "needs_background": "light"
     },
     "output_type": "display_data"
    }
   ],
   "source": [
    "plot_gp(model, X, y)"
   ]
  },
  {
   "cell_type": "code",
   "execution_count": 15,
   "metadata": {
    "scrolled": false
   },
   "outputs": [
    {
     "data": {
      "text/plain": [
       "<tf.Tensor: id=832683, shape=(10, 10), dtype=float64, numpy=\n",
       "array([[5.40941296e+01, 4.21230817e+01, 1.98897870e+01, 5.69482160e+00,\n",
       "        9.88712701e-01, 1.04087865e-01, 6.64461899e-03, 2.57205389e-04,\n",
       "        6.03712322e-06, 8.59250937e-08],\n",
       "       [4.21230817e+01, 5.40941296e+01, 4.21230817e+01, 1.98897870e+01,\n",
       "        5.69482160e+00, 9.88712701e-01, 1.04087865e-01, 6.64461899e-03,\n",
       "        2.57205389e-04, 6.03712322e-06],\n",
       "       [1.98897870e+01, 4.21230817e+01, 5.40941296e+01, 4.21230817e+01,\n",
       "        1.98897870e+01, 5.69482160e+00, 9.88712701e-01, 1.04087865e-01,\n",
       "        6.64461899e-03, 2.57205389e-04],\n",
       "       [5.69482160e+00, 1.98897870e+01, 4.21230817e+01, 5.40941296e+01,\n",
       "        4.21230817e+01, 1.98897870e+01, 5.69482160e+00, 9.88712701e-01,\n",
       "        1.04087865e-01, 6.64461899e-03],\n",
       "       [9.88712701e-01, 5.69482160e+00, 1.98897870e+01, 4.21230817e+01,\n",
       "        5.40941296e+01, 4.21230817e+01, 1.98897870e+01, 5.69482160e+00,\n",
       "        9.88712701e-01, 1.04087865e-01],\n",
       "       [1.04087865e-01, 9.88712701e-01, 5.69482160e+00, 1.98897870e+01,\n",
       "        4.21230817e+01, 5.40941296e+01, 4.21230817e+01, 1.98897870e+01,\n",
       "        5.69482160e+00, 9.88712701e-01],\n",
       "       [6.64461899e-03, 1.04087865e-01, 9.88712701e-01, 5.69482160e+00,\n",
       "        1.98897870e+01, 4.21230817e+01, 5.40941296e+01, 4.21230817e+01,\n",
       "        1.98897870e+01, 5.69482160e+00],\n",
       "       [2.57205389e-04, 6.64461899e-03, 1.04087865e-01, 9.88712701e-01,\n",
       "        5.69482160e+00, 1.98897870e+01, 4.21230817e+01, 5.40941296e+01,\n",
       "        4.21230817e+01, 1.98897870e+01],\n",
       "       [6.03712322e-06, 2.57205389e-04, 6.64461899e-03, 1.04087865e-01,\n",
       "        9.88712701e-01, 5.69482160e+00, 1.98897870e+01, 4.21230817e+01,\n",
       "        5.40941296e+01, 4.21230817e+01],\n",
       "       [8.59250937e-08, 6.03712322e-06, 2.57205389e-04, 6.64461899e-03,\n",
       "        1.04087865e-01, 9.88712701e-01, 5.69482160e+00, 1.98897870e+01,\n",
       "        4.21230817e+01, 5.40941296e+01]])>"
      ]
     },
     "execution_count": 15,
     "metadata": {},
     "output_type": "execute_result"
    }
   ],
   "source": [
    "kernel.K(X)"
   ]
  },
  {
   "cell_type": "code",
   "execution_count": 16,
   "metadata": {},
   "outputs": [
    {
     "data": {
      "text/plain": [
       "<tf.Tensor: id=871684, shape=(1, 10, 10), dtype=float64, numpy=\n",
       "array([[[54.26478604, 52.19642456, 46.4310237 , 38.18923793,\n",
       "         29.03322383, 20.38970205, 13.21200391,  7.87838321,\n",
       "          4.29727263,  2.11228593],\n",
       "        [52.19642456, 54.25356195, 52.15367456, 46.36670463,\n",
       "         38.12217072, 28.98290428, 20.36512094, 13.20513833,\n",
       "          7.86739636,  4.2584208 ],\n",
       "        [46.4310237 , 52.15367456, 54.18924288, 52.08660735,\n",
       "         46.31638508, 38.09758961, 28.9760387 , 20.35413409,\n",
       "         13.1662865 ,  7.78935699],\n",
       "        [38.18923793, 46.36670463, 52.08660735, 54.13892333,\n",
       "         52.06202624, 46.30951951, 38.08660276, 28.93718686,\n",
       "         20.27609472, 13.05866181],\n",
       "        [29.03322383, 38.12217072, 46.31638508, 52.06202624,\n",
       "         54.13205776, 52.05103939, 46.27066767, 38.00856339,\n",
       "         28.82956218, 20.16618796],\n",
       "        [20.38970205, 28.98290428, 38.09758961, 46.30951951,\n",
       "         52.05103939, 54.09320592, 51.97300002, 46.16304299,\n",
       "         37.89865663, 28.74802249],\n",
       "        [13.21200391, 20.36512094, 28.9760387 , 38.08660276,\n",
       "         46.27066767, 51.97300002, 53.98558123, 51.86309326,\n",
       "         46.08150329, 37.86246628],\n",
       "        [ 7.87838321, 13.20513833, 20.35413409, 28.93718686,\n",
       "         38.00856339, 46.16304299, 51.86309326, 53.90404154,\n",
       "         51.82690291, 46.08610515],\n",
       "        [ 4.29727263,  7.86739636, 13.1662865 , 20.27609472,\n",
       "         28.82956218, 37.89865663, 46.08150329, 51.82690291,\n",
       "         53.9086434 , 51.85338031],\n",
       "        [ 2.11228593,  4.2584208 ,  7.78935699, 13.05866181,\n",
       "         20.16618796, 28.74802249, 37.86246628, 46.08610515,\n",
       "         51.85338031, 53.93981022]]])>"
      ]
     },
     "execution_count": 16,
     "metadata": {},
     "output_type": "execute_result"
    }
   ],
   "source": [
    "phi, W, b = PBO.acquisitions.pes.fourier_features(np.expand_dims(X, axis=0), kernel)\n",
    "mat = phi @ tf.linalg.matrix_transpose(phi)\n",
    "for i in range(999):\n",
    "    phi, W, b = PBO.acquisitions.pes.fourier_features(np.expand_dims(X, axis=0), kernel)\n",
    "    mat += phi @ tf.linalg.matrix_transpose(phi)\n",
    "mat/1000"
   ]
  },
  {
   "cell_type": "code",
   "execution_count": 17,
   "metadata": {
    "scrolled": false
   },
   "outputs": [
    {
     "name": "stdout",
     "output_type": "stream",
     "text": [
      "Loss at step 0: -42.13286836618551\n",
      "Loss at step 200: -83.03334300307725\n",
      "Loss at step 400: -120.93600643322588\n",
      "Loss at step 600: -147.6124852202878\n",
      "Loss at step 800: -161.70420430442465\n",
      "Loss at step 1000: -167.82932539051473\n",
      "Loss at step 1200: -170.23851797689102\n",
      "Loss at step 1400: -171.1486574874018\n",
      "Loss at step 1600: -171.48198273414968\n",
      "Loss at step 1800: -171.5970254956419\n",
      "Loss at step 2000: -171.63302953438114\n",
      "Loss at step 2200: -171.64291347495174\n",
      "Loss at step 2400: -171.64523135045414\n",
      "Loss at step 2600: -171.6456850949074\n",
      "Loss at step 2800: -171.64575759253654\n"
     ]
    },
    {
     "data": {
      "text/plain": [
       "<tf.Tensor: id=1277222, shape=(50, 1), dtype=float64, numpy=\n",
       "array([[0.73191958],\n",
       "       [0.73200452],\n",
       "       [0.74490891],\n",
       "       [0.73419559],\n",
       "       [0.17884118],\n",
       "       [0.73225948],\n",
       "       [0.73575491],\n",
       "       [0.20907176],\n",
       "       [0.20832576],\n",
       "       [0.73555968],\n",
       "       [0.72970336],\n",
       "       [0.73428683],\n",
       "       [0.73995188],\n",
       "       [0.21712329],\n",
       "       [0.15023394],\n",
       "       [0.7309648 ],\n",
       "       [0.73077474],\n",
       "       [0.20713015],\n",
       "       [0.73571464],\n",
       "       [0.18801555],\n",
       "       [0.73447887],\n",
       "       [0.73219431],\n",
       "       [0.73295192],\n",
       "       [0.18472934],\n",
       "       [0.17162488],\n",
       "       [0.17695996],\n",
       "       [0.73049666],\n",
       "       [0.7310121 ],\n",
       "       [0.73934811],\n",
       "       [0.73396919],\n",
       "       [0.17696142],\n",
       "       [0.73203704],\n",
       "       [0.20004496],\n",
       "       [0.73032475],\n",
       "       [0.73615488],\n",
       "       [0.7321237 ],\n",
       "       [0.73602505],\n",
       "       [0.20207799],\n",
       "       [0.72759197],\n",
       "       [0.73086698],\n",
       "       [0.7405883 ],\n",
       "       [0.73739444],\n",
       "       [0.20415597],\n",
       "       [0.72976724],\n",
       "       [0.73425743],\n",
       "       [0.73187486],\n",
       "       [0.20283629],\n",
       "       [0.73640788],\n",
       "       [0.73349986],\n",
       "       [0.21102947]])>"
      ]
     },
     "execution_count": 17,
     "metadata": {},
     "output_type": "execute_result"
    }
   ],
   "source": [
    "samples = PBO.acquisitions.pes.sample_maximizers(X=X,\n",
    "                                      y=y,\n",
    "                                      count=50,\n",
    "                                      D=100,\n",
    "                                      model=model)\n",
    "samples"
   ]
  },
  {
   "cell_type": "code",
   "execution_count": null,
   "metadata": {},
   "outputs": [],
   "source": []
  },
  {
   "cell_type": "code",
   "execution_count": null,
   "metadata": {},
   "outputs": [],
   "source": []
  },
  {
   "cell_type": "code",
   "execution_count": null,
   "metadata": {},
   "outputs": [],
   "source": []
  },
  {
   "cell_type": "code",
   "execution_count": null,
   "metadata": {},
   "outputs": [],
   "source": []
  },
  {
   "cell_type": "code",
   "execution_count": null,
   "metadata": {},
   "outputs": [],
   "source": []
  },
  {
   "cell_type": "code",
   "execution_count": null,
   "metadata": {},
   "outputs": [],
   "source": []
  },
  {
   "cell_type": "code",
   "execution_count": null,
   "metadata": {},
   "outputs": [],
   "source": []
  },
  {
   "cell_type": "code",
   "execution_count": 2,
   "metadata": {},
   "outputs": [],
   "source": [
    "#Setup simple dataset\n",
    "#Rule: Prefer values closer to 0.7\n",
    "\n",
    "x_0 = np.array([0.1, 0.2])\n",
    "y_0 = np.array([0])\n",
    "x_1 = np.array([0.2, 0.4])\n",
    "y_1 = np.array([0])\n",
    "x_2 = np.array([0.7, 0.5])\n",
    "y_2 = np.array([1])\n",
    "x_3 = np.array([0.9, 1.0])\n",
    "y_3 = np.array([1])\n",
    "x_4 = np.array([0.6, 0.4])\n",
    "y_4 = np.array([1])\n",
    "x_5 = np.array([0.1, 0.3])\n",
    "y_5 = np.array([0])\n",
    "x_6 = np.array([0.2, 0.5])\n",
    "y_6 = np.array([0])\n",
    "x_7 = np.array([0.7, 0.3])\n",
    "y_7 = np.array([1])\n",
    "x_8 = np.array([0.8, 1.0])\n",
    "y_8 = np.array([1])\n",
    "x_9 = np.array([0.7, 0.9])\n",
    "y_9 = np.array([1])\n",
    "x_10 = np.array([0.2, 0.1])\n",
    "y_10 = np.array([1])\n",
    "x_11 = np.array([0.4, 0.2])\n",
    "y_11 = np.array([1])\n",
    "x_12 = np.array([0.5, 0.7])\n",
    "y_12 = np.array([0])\n",
    "x_13 = np.array([1.0, 0.9])\n",
    "y_13 = np.array([0])\n",
    "x_14 = np.array([0.4, 0.6])\n",
    "y_14 = np.array([0])\n",
    "x_15 = np.array([0.3, 0.1])\n",
    "y_15 = np.array([1])\n",
    "x_16 = np.array([0.5, 0.2])\n",
    "y_16 = np.array([1])\n",
    "x_17 = np.array([0.3, 0.7])\n",
    "y_17 = np.array([0])\n",
    "x_18 = np.array([1.0, 0.8])\n",
    "y_18 = np.array([0])\n",
    "x_19 = np.array([0.9, 0.7])\n",
    "y_19 = np.array([0])\n",
    "x_20 = np.array([0.95, 0.6])\n",
    "y_20 = np.array([0])\n",
    "x_21 = np.array([0.15, 0.25])\n",
    "y_21 = np.array([0])\n",
    "x_22 = np.array([0.25, 0.45])\n",
    "y_22 = np.array([0])\n",
    "x_23 = np.array([0.75, 0.55])\n",
    "y_23 = np.array([1])\n",
    "x_24 = np.array([0.95, 0.9])\n",
    "y_24 = np.array([0])\n",
    "x_25 = np.array([0.65, 0.45])\n",
    "y_25 = np.array([1])\n",
    "x_26 = np.array([0.15, 0.35])\n",
    "y_26 = np.array([0])\n",
    "x_27 = np.array([0.25, 0.55])\n",
    "y_27 = np.array([0])\n",
    "x_28 = np.array([0.75, 0.35])\n",
    "y_28 = np.array([1])\n",
    "x_29 = np.array([0.85, 0.95])\n",
    "y_29 = np.array([1])\n",
    "x_30 = np.array([0.75, 0.95])\n",
    "y_30 = np.array([1])\n",
    "x_31 = np.array([0.25, 0.15])\n",
    "y_31 = np.array([1])\n",
    "x_32 = np.array([0.45, 0.25])\n",
    "y_32 = np.array([1])\n",
    "x_33 = np.array([0.55, 0.75])\n",
    "y_33 = np.array([0])\n",
    "x_34 = np.array([0.95, 0.9])\n",
    "y_34 = np.array([0])\n",
    "x_35 = np.array([0.7, 0.09])\n",
    "y_35 = np.array([1])\n",
    "x_36 = np.array([0.7, 0.1])\n",
    "y_36 = np.array([1])\n",
    "x_37 = np.array([0.7, 0.1])\n",
    "y_37 = np.array([1])\n",
    "x_38 = np.array([0.7, 0.1])\n",
    "y_38 = np.array([1])\n",
    "x_39 = np.array([0.67, 0.1])\n",
    "y_39 = np.array([1])\n",
    "x_40 = np.array([0.71, 0.1])\n",
    "y_40 = np.array([1])\n",
    "x_41 = np.array([0.7, 0.1])\n",
    "y_41 = np.array([1])\n",
    "\n",
    "Xtrain = np.stack([x_0, x_1, x_2, x_3, x_4, x_5, x_6, x_7, x_8, x_9, \n",
    "                   x_10, x_11, x_12, x_13, x_14, x_15, x_16, x_17, x_18, x_19, \n",
    "                   x_20, x_21, x_22, x_23, x_24, x_25, x_26, x_27, x_28, x_29, \n",
    "                   x_30, x_31, x_32, x_33, x_34, x_35, x_36, x_37, x_38, x_39, \n",
    "                   x_40, x_41])\n",
    "Ytrain = np.stack([y_0, y_1, y_2, y_3, y_4, y_5, y_6, y_7, y_8, y_9, \n",
    "                   y_10, y_11, y_12, y_13, y_14, y_15, y_16, y_17, y_18, y_19, \n",
    "                   y_20, y_21, y_22, y_23, y_24, y_25, y_26, y_27, y_28, y_29, \n",
    "                   y_30, y_31, y_32, y_33, y_34, y_35, y_36, y_37, y_38, y_39, \n",
    "                   y_40, y_41])"
   ]
  },
  {
   "cell_type": "code",
   "execution_count": 3,
   "metadata": {},
   "outputs": [],
   "source": [
    "def log(message):\n",
    "    print(str(datetime.datetime.now()) + ': ' + message)"
   ]
  },
  {
   "cell_type": "code",
   "execution_count": 4,
   "metadata": {},
   "outputs": [],
   "source": [
    "class RFFApproximationKernel(Stationary):\n",
    "    \"\"\"\n",
    "    Approximates the radial basis function kernel using rff_z function\n",
    "    \n",
    "    :param D: Number of random Fourier features to use\n",
    "    \"\"\"\n",
    "    def rff_z(self, X, W):\n",
    "        \"\"\"\n",
    "        From RandomFourierFeatures by Tetsuya Ishikawa\n",
    "        If W is generated from standard normal distribution, outputs z(x) where z(x)'z(y) approximates rbf_k(x, y)\n",
    "\n",
    "        :param X: a matrix of size n x d\n",
    "        :param W: a matrix of size d x D\n",
    "\n",
    "        \"\"\"\n",
    "        D = tf.dtypes.cast(W.shape[1], dtype=tf.float64)\n",
    "        ts = tf.tensordot(X, W, axes=1)\n",
    "        cs = tf.cos(ts)\n",
    "        ss = tf.sin(ts)\n",
    "        return tf.sqrt(1/D)*tf.concat([cs, ss], axis=1)\n",
    "    \n",
    "    def __init__(self, input_dim, D=100, variance=1.0, lengthscales=1.0,\n",
    "                 active_dims=None, ARD=None, name=None):\n",
    "        super().__init__(input_dim)\n",
    "        self.W = np.random.randn(input_dim, D)\n",
    "        \n",
    "    @params_as_tensors\n",
    "    def K(self, X, X2=None):\n",
    "        z_X = self.rff_z(X, self.W)\n",
    "        if X2 is None:\n",
    "            return self.variance*tf.tensordot(z_X, tf.transpose(z_X), axes=1)\n",
    "        else:\n",
    "            z_X2 = self.rff_z(X2, self.W)\n",
    "            return self.variance*tf.tensordot(z_X, tf.transpose(z_X2), axes=1)\n",
    "        \n",
    "    @params_as_tensors\n",
    "    def Kdiag(self, X, presliced=False):\n",
    "        return tf.fill(tf.shape(X)[:-1], tf.squeeze(self.variance))"
   ]
  },
  {
   "cell_type": "code",
   "execution_count": 58,
   "metadata": {
    "scrolled": false
   },
   "outputs": [
    {
     "name": "stdout",
     "output_type": "stream",
     "text": [
      "INFO:tensorflow:Optimization terminated with:\n",
      "  Message: b'CONVERGENCE: REL_REDUCTION_OF_F_<=_FACTR*EPSMCH'\n",
      "  Objective function value: 12.490350\n",
      "  Number of iterations: 132\n",
      "  Number of functions evaluations: 142\n"
     ]
    },
    {
     "name": "stderr",
     "output_type": "stream",
     "text": [
      "INFO:tensorflow:Optimization terminated with:\n",
      "  Message: b'CONVERGENCE: REL_REDUCTION_OF_F_<=_FACTR*EPSMCH'\n",
      "  Objective function value: 12.490350\n",
      "  Number of iterations: 132\n",
      "  Number of functions evaluations: 142\n"
     ]
    }
   ],
   "source": [
    "m = gpflow.models.VGP(Xtrain, Ytrain,\n",
    "                      kern=gpflow.kernels.RBF(input_dim=2),\n",
    "                      likelihood=gpflow.likelihoods.Bernoulli())\n",
    "r = gpflow.train.ScipyOptimizer().minimize(m, maxiter=2000)\n",
    "models = []\n",
    "models.append(m)"
   ]
  },
  {
   "cell_type": "code",
   "execution_count": 81,
   "metadata": {},
   "outputs": [
    {
     "data": {
      "text/plain": [
       "12.490350358497544"
      ]
     },
     "execution_count": 81,
     "metadata": {},
     "output_type": "execute_result"
    }
   ],
   "source": [
    "m.objective.eval(session=gpflow.get_default_session())"
   ]
  },
  {
   "cell_type": "code",
   "execution_count": 49,
   "metadata": {
    "scrolled": false
   },
   "outputs": [
    {
     "ename": "NameError",
     "evalue": "name 'RFFApproximationKernel' is not defined",
     "output_type": "error",
     "traceback": [
      "\u001b[1;31m---------------------------------------------------------------------------\u001b[0m",
      "\u001b[1;31mNameError\u001b[0m                                 Traceback (most recent call last)",
      "\u001b[1;32m<ipython-input-49-c9efec9e3c58>\u001b[0m in \u001b[0;36m<module>\u001b[1;34m\u001b[0m\n\u001b[0;32m      1\u001b[0m m2 = gpflow.models.VGP(Xtrain, Ytrain,\n\u001b[1;32m----> 2\u001b[1;33m                       \u001b[0mkern\u001b[0m\u001b[1;33m=\u001b[0m\u001b[0mRFFApproximationKernel\u001b[0m\u001b[1;33m(\u001b[0m\u001b[0minput_dim\u001b[0m\u001b[1;33m=\u001b[0m\u001b[1;36m2\u001b[0m\u001b[1;33m)\u001b[0m\u001b[1;33m,\u001b[0m\u001b[1;33m\u001b[0m\u001b[1;33m\u001b[0m\u001b[0m\n\u001b[0m\u001b[0;32m      3\u001b[0m                       likelihood=gpflow.likelihoods.Bernoulli())\n\u001b[0;32m      4\u001b[0m \u001b[0mgpflow\u001b[0m\u001b[1;33m.\u001b[0m\u001b[0mtrain\u001b[0m\u001b[1;33m.\u001b[0m\u001b[0mAdamOptimizer\u001b[0m\u001b[1;33m(\u001b[0m\u001b[1;33m)\u001b[0m\u001b[1;33m.\u001b[0m\u001b[0mminimize\u001b[0m\u001b[1;33m(\u001b[0m\u001b[0mm2\u001b[0m\u001b[1;33m,\u001b[0m \u001b[0mmaxiter\u001b[0m\u001b[1;33m=\u001b[0m\u001b[1;36m5000\u001b[0m\u001b[1;33m)\u001b[0m\u001b[1;33m\u001b[0m\u001b[1;33m\u001b[0m\u001b[0m\n",
      "\u001b[1;31mNameError\u001b[0m: name 'RFFApproximationKernel' is not defined"
     ]
    }
   ],
   "source": [
    "m2 = gpflow.models.VGP(Xtrain, Ytrain,\n",
    "                      kern=RFFApproximationKernel(input_dim=2),\n",
    "                      likelihood=gpflow.likelihoods.Bernoulli())\n",
    "gpflow.train.ScipyOptimizer().minimize(m2, maxiter=5000)"
   ]
  },
  {
   "cell_type": "code",
   "execution_count": null,
   "metadata": {
    "scrolled": true
   },
   "outputs": [],
   "source": [
    "def combinations(points):\n",
    "    n = points.shape[0]\n",
    "    d = points.shape[1]\n",
    "\n",
    "    out = np.zeros((n*n, d*2))\n",
    "    for i in range(n):\n",
    "        for j in range(n):\n",
    "            out[i*n+j][0:d] = points[i]\n",
    "            out[i*n+j][d:d*2] = points[j]\n",
    "    return out\n",
    "\n",
    "X1 = np.matrix([[0.1],\n",
    "                [0.2],\n",
    "                [0.3],\n",
    "                [0.4],\n",
    "                [0.5],\n",
    "                [0.6],\n",
    "                [0.7],\n",
    "                [0.8],\n",
    "                [0.9],\n",
    "                [1.0]])\n",
    "Xcombs = combinations(X1)\n",
    "m_pred = m.predict_y(Xcombs)\n",
    "m2_pred = m2.predict_y(Xcombs)\n",
    "\n",
    "X = np.matrix([[0.1, 0.1],\n",
    "               [0.2, 0.2],\n",
    "               [0.3, 0.3],\n",
    "               [0.7, 0.7]])\n",
    "X2 = np.matrix([[0.2, 0.2],\n",
    "                [0.3, 0.3]])\n",
    "\n",
    "fake_kern = RFFApproximationKernel(input_dim=2)\n",
    "rbf_kern = gpflow.kernels.RBF(input_dim=2)\n",
    "\n",
    "print(fake_kern.compute_K_symm(X)-rbf_kern.compute_K_symm(X))\n",
    "print(fake_kern.compute_K(X, X2)-rbf_kern.compute_K(X, X2))\n",
    "print(fake_kern.compute_K(X2, X)-rbf_kern.compute_K(X2, X))\n",
    "print(m2_pred[0] - m_pred[0])"
   ]
  },
  {
   "cell_type": "code",
   "execution_count": null,
   "metadata": {},
   "outputs": [],
   "source": [
    "X1 = np.matrix([[0.1],\n",
    "                [0.2],\n",
    "                [0.3],\n",
    "                [0.4],\n",
    "                [0.5],\n",
    "                [0.6],\n",
    "                [0.7],\n",
    "                [0.8],\n",
    "                [0.9],\n",
    "                [1.0]])\n",
    "Xcombs = combinations(X1)\n",
    "m_pred = m.predict_f(Xcombs)\n",
    "m2_pred = m2.predict_y(Xcombs)\n"
   ]
  },
  {
   "cell_type": "code",
   "execution_count": null,
   "metadata": {},
   "outputs": [],
   "source": [
    "def logistic(x):\n",
    "    \"\"\"\n",
    "    :param x: Input of shape ?xD\n",
    "    \"\"\"\n",
    "    return (1/(1+tf.math.exp(-x)))"
   ]
  },
  {
   "cell_type": "code",
   "execution_count": null,
   "metadata": {},
   "outputs": [],
   "source": [
    "def logistic_square(x):\n",
    "    \"\"\"\n",
    "    Integrand function for gpflow mvquad function\n",
    "    :param x: Input of shape ?xD\n",
    "    \"\"\"\n",
    "    return tf.math.square(logistic(x))"
   ]
  },
  {
   "cell_type": "code",
   "execution_count": null,
   "metadata": {},
   "outputs": [],
   "source": [
    "def variance_integral(means, variances):\n",
    "    return mvnquad(logistic_square, means, variances, H=100, Din=1)"
   ]
  },
  {
   "cell_type": "code",
   "execution_count": null,
   "metadata": {},
   "outputs": [],
   "source": [
    "def expected_integral(means, variances):\n",
    "    return mvnquad(logistic, means, variances, H=100, Din=1)"
   ]
  },
  {
   "cell_type": "code",
   "execution_count": null,
   "metadata": {
    "scrolled": true
   },
   "outputs": [],
   "source": [
    "def variance_logistic_f(m, x):\n",
    "    log(\"Calculating variance of logistic f\")\n",
    "    means, variances = m.predict_f(x)\n",
    "    variances = np.expand_dims(variances, axis=1)\n",
    "    expected_logistic_squared = tf.math.square(expected_integral(means, variances))\n",
    "    return (variance_integral(means, variances)-expected_logistic_squared).eval(session=tf.Session())"
   ]
  },
  {
   "cell_type": "code",
   "execution_count": null,
   "metadata": {},
   "outputs": [],
   "source": [
    "X1 = np.matrix([[0.7, 0.1],\n",
    "                [0.7, 0.2],\n",
    "                [0.7, 0.3],\n",
    "                [0.7, 0.4],\n",
    "                [0.7, 0.5],\n",
    "                [0.7, 0.6],\n",
    "                [0.7, 0.7],\n",
    "                [0.7, 0.8],\n",
    "                [0.7, 0.9],\n",
    "                [0.7, 1.0],\n",
    "                [0.7, 1.1]])\n",
    "variance_logistic_f(m, X1)"
   ]
  },
  {
   "cell_type": "code",
   "execution_count": null,
   "metadata": {
    "scrolled": false
   },
   "outputs": [],
   "source": [
    "means, variances = m.predict_f(X1)\n",
    "means"
   ]
  },
  {
   "cell_type": "code",
   "execution_count": null,
   "metadata": {
    "scrolled": true
   },
   "outputs": [],
   "source": [
    "variances"
   ]
  },
  {
   "cell_type": "code",
   "execution_count": null,
   "metadata": {
    "scrolled": false
   },
   "outputs": [],
   "source": [
    "variance_integral(means, np.expand_dims(variances, axis=1)).eval(session=tf.Session())"
   ]
  },
  {
   "cell_type": "code",
   "execution_count": null,
   "metadata": {},
   "outputs": [],
   "source": [
    "tf.square(logistic(means)).eval(session=tf.Session())"
   ]
  },
  {
   "cell_type": "code",
   "execution_count": null,
   "metadata": {
    "scrolled": true
   },
   "outputs": [],
   "source": [
    "def gridParams():\n",
    "    mins = [-3.25,-2.85 ]\n",
    "    maxs = [ 3.65, 3.4 ]\n",
    "    nGrid = 50\n",
    "    xspaced = np.linspace(mins[0], maxs[0], nGrid)\n",
    "    yspaced = np.linspace(mins[1], maxs[1], nGrid)\n",
    "    xx, yy = np.meshgrid(xspaced, yspaced)\n",
    "    Xplot = np.vstack((xx.flatten(),yy.flatten())).T\n",
    "    return mins, maxs, xx, yy, Xplot\n",
    "\n",
    "def plot(m, ax):\n",
    "    col1 = '#0172B2'\n",
    "    col2 = '#CC6600'\n",
    "    mins, maxs, xx, yy, Xplot = gridParams()\n",
    "    p = m.predict_y(Xplot)[0]\n",
    "    ax.plot(Xtrain[:,0][Ytrain[:,0]==1], Xtrain[:,1][Ytrain[:,0]==1], 'o', color=col1, mew=0, alpha=0.5)\n",
    "    ax.plot(Xtrain[:,0][Ytrain[:,0]==0], Xtrain[:,1][Ytrain[:,0]==0], 'o', color=col2, mew=0, alpha=0.5)\n",
    "    if hasattr(m, 'feat') and hasattr(m.feat, 'Z'):\n",
    "        Z = m.feature.Z.read_value()\n",
    "        ax.plot(Z[:,0], Z[:,1], 'ko', mew=0, ms=4)\n",
    "        ax.set_title('m={}'.format(Z.shape[0]))\n",
    "    else:\n",
    "        ax.set_title('full')\n",
    "    ax.contour(xx, yy, p.reshape(*xx.shape), [0.5], colors='k', linewidths=1.8, zorder=100)\n",
    "\n",
    "mins, maxs, xx, yy, Xplot = gridParams()\n",
    "Xplot.shape    \n",
    "    \n",
    "# make plots.\n",
    "fig, axes = plt.subplots(1, len(models), figsize=(8, 8), sharex=True, sharey=True)\n",
    "plot(m, axes)"
   ]
  },
  {
   "cell_type": "code",
   "execution_count": null,
   "metadata": {},
   "outputs": [],
   "source": [
    "def soft_copeland(m, x):\n",
    "    \"\"\"\"\n",
    "    Average of the probability that x is the winner of a duel against all elements in x\n",
    "    \n",
    "    :param m: a gpflow model that predicts pi[x, x']\n",
    "    :param x: a matrix of size n x d/2\n",
    "    \n",
    "    Returns a 1 x n matrix of means\n",
    "    \"\"\"   \n",
    "    n = x.shape[0]\n",
    "    d = x.shape[1]*2\n",
    "    \n",
    "    def combinations(points):\n",
    "        n = points.shape[0]\n",
    "        d = points.shape[1]\n",
    "\n",
    "        out = np.zeros((n*n, d*2))\n",
    "        for i in range(n):\n",
    "            for j in range(n):\n",
    "                out[i*n+j][0:d] = points[i]\n",
    "                out[i*n+j][d:d*2] = points[j]\n",
    "        return out\n",
    "\n",
    "    combs = np.matrix(combinations(x))\n",
    "    preds = m.predict_y(combs)\n",
    "    means = np.zeros(n)\n",
    "    for i in range(n):\n",
    "        means[i] = np.mean(preds[0][i*n:(i+1)*n])\n",
    "    return np.matrix(means)"
   ]
  },
  {
   "cell_type": "code",
   "execution_count": null,
   "metadata": {},
   "outputs": [],
   "source": [
    "def sample_variances(m, x, x_other):\n",
    "    x_tiled = np.tile(x, (x_other.shape[0], 1))\n",
    "    x_xprime = np.bmat([x_tiled, x_other])\n",
    "    return variance_logistic_f(m, x_xprime)"
   ]
  },
  {
   "cell_type": "code",
   "execution_count": null,
   "metadata": {},
   "outputs": [],
   "source": [
    "def uniform_sample_func(input_dim, low=0.0, high=1.0):\n",
    "    def func(num_points):\n",
    "        return np.random.uniform(low, high, [num_points, input_dim])\n",
    "    return func\n",
    "\n",
    "def dueling_thompson_sampling(m, m_approx, sample_func, num_sample_points=500):\n",
    "    \"\"\"\n",
    "    Dueling-Thompson sampling. Returns x and x' as the next input points to evaluate\n",
    "    \n",
    "    :param m: Trained model f\n",
    "    :param m_approx: Sample model f\n",
    "    :param sample_func: function that takes num_sample_points as a parameter\n",
    "    :param num_sample_points: number of uniformly sampled points over input space to take the argmax over\n",
    "    \"\"\"\n",
    "    \n",
    "    #Step 1: selecting x    \n",
    "    #Pick num_sample_points random points in input space using sample_func\n",
    "    sample_points = sample_func(num_sample_points)\n",
    "    means = soft_copeland(m_approx, sample_points)\n",
    "    x_idx = np.argmax(means)\n",
    "    x = sample_points[x_idx][0]\n",
    "    log(\"Picked x with value \" + str(x) + \" and soft Copeland score \" + str(means.item(x_idx)))\n",
    "    \n",
    "    # Remove x from sample_points so that we will not pick x' to be the same value\n",
    "    sample_points[x_idx] = sample_points[0]\n",
    "    \n",
    "    #Step 2: selecting x'\n",
    "    variances = sample_variances(m, x, sample_points).squeeze()\n",
    "    var_idx = np.argmax(variances)\n",
    "    x_prime = sample_points[var_idx][0]\n",
    "    log(\"Picked x' with value \" + str(x_prime) + \" and variance \" + str(variances.item(var_idx)))\n",
    "    \n",
    "    return np.matrix([x, x_prime])"
   ]
  },
  {
   "cell_type": "code",
   "execution_count": null,
   "metadata": {},
   "outputs": [],
   "source": [
    "def forrester(x):\n",
    "    \"\"\"\n",
    "    Simple one-dimensional test function by Forrester et al. (2008)\n",
    "    Defined as f(x) = (6x-2)^2 * sin(12x-4)\n",
    "    \"\"\"\n",
    "    return (6*x-2)*(6*x-2)*np.sin(12*x-4)"
   ]
  },
  {
   "cell_type": "code",
   "execution_count": null,
   "metadata": {
    "scrolled": true
   },
   "outputs": [],
   "source": [
    "def forrester_get_y(pairs):\n",
    "    \"\"\"\n",
    "    :param pairs: n x 2 matrix of input pairs [x, x'], x and x' are floats in [0, 1]\n",
    "    \n",
    "    Returns n x 1 matrix of y values indicating 1 if x wins the duel and 0 if x' wins the duel\n",
    "    \"\"\"\n",
    "    n = pairs.shape[0]\n",
    "    \n",
    "    out = np.zeros([n, 1])\n",
    "    for i in range(n):\n",
    "        out[i][0] = int(forrester(pairs.item((i, 0))) <= forrester(pairs.item(i, 1)))\n",
    "    \n",
    "    return np.matrix(out)"
   ]
  },
  {
   "cell_type": "code",
   "execution_count": null,
   "metadata": {},
   "outputs": [],
   "source": [
    "def PBO(X, Y, n, acquisition_func, winner_func):\n",
    "    \"\"\"\n",
    "    Preferential Bayesian optimization algorithm (Algorithm 1) described in Preferential Bayesian Optimization by\n",
    "    Gonzalez et al. (2017), to find Condorcet's winner\n",
    "    \n",
    "    :param X: matrix of size N x d. Training input points\n",
    "    :param Y: matrix of size N x 1. Training target classifications\n",
    "    :param acquisition_func: Function that returns next duel pair\n",
    "    :param winner_func: Function that determines the winners of duel pairs\n",
    "    \"\"\"\n",
    "    d = X.shape[1]\n",
    "    \n",
    "    for j in range(n):\n",
    "        log(\"Starting iteration \" + str(j))\n",
    "        print(X)\n",
    "        print(Y)\n",
    "        \n",
    "        #1. Fit a GP with kernel k to Dj and learn pi(x).\n",
    "                \n",
    "        # Train real f\n",
    "        log(\"Training GP f\")\n",
    "        kern_rbf = gpflow.kernels.RBF(input_dim=d)\n",
    "        kern_rbf.lengthscales.trainable = False\n",
    "        kern_rbf.lengthscales = 0.1\n",
    "        m = gpflow.models.VGP(X, Y, \n",
    "                               kern=kern_rbf, \n",
    "                               likelihood=gpflow.likelihoods.Bernoulli())\n",
    "        gpflow.train.ScipyOptimizer().minimize(m)\n",
    "        \n",
    "        # Sample f using RFF\n",
    "        log(\"Training RFF approximation GP of f\")\n",
    "        kern_rff = RFFApproximationKernel(input_dim=d) #Have to instantiate every time to obtain a different sample of f\n",
    "        kern_rff.lengthscales.trainable = False\n",
    "        kern_rff.lengthscales = 0.1\n",
    "        m_approx = gpflow.models.VGP(X, Y, \n",
    "                               kern=kern_rff, \n",
    "                               likelihood=gpflow.likelihoods.Bernoulli())\n",
    "        gpflow.train.ScipyOptimizer().minimize(m_approx)\n",
    "\n",
    "        # 2 and 3. Compute the acquisition for duels alpha and get next duel\n",
    "        log(\"Computing acquisition function\")\n",
    "        x_xprime_next = acquisition_func(m, m_approx, uniform_sample_func(1))\n",
    "        log(\"x and x_prime: \" + str(x_xprime_next))\n",
    "        \n",
    "        # 4. Run the duel and get y\n",
    "        y_next = winner_func(x_xprime_next)\n",
    "        log(\"y_next: \" + str(y_next))\n",
    "        \n",
    "        # 5. Augment X and Y\n",
    "        X = np.vstack([X, x_xprime_next])\n",
    "        Y = np.vstack([Y, y_next])\n",
    "    \n",
    "    #Fit a GP with kernel k to Dn\n",
    "    log(\"Training final GP\")\n",
    "    kern_rbf = gpflow.kernels.RBF(input_dim=d)\n",
    "    kern_rbf.lengthscales.trainable = False\n",
    "    kern_rbf.lengthscales = 0.1\n",
    "    m_final = gpflow.models.VGP(X, Y, \n",
    "                                 kern=kern_rbf, \n",
    "                                 likelihood=gpflow.likelihoods.Bernoulli())\n",
    "    gpflow.train.ScipyOptimizer().minimize(m_final)\n",
    "    \n",
    "    #Return current Condorcet's winner x*\n",
    "    sample_points = uniform_sample_func(1)(1000)\n",
    "    x_final = sample_points[np.argmax(soft_copeland(m_final, sample_points))][0]\n",
    "    return X, Y, m_final, x_final"
   ]
  },
  {
   "cell_type": "code",
   "execution_count": null,
   "metadata": {
    "scrolled": true
   },
   "outputs": [],
   "source": [
    "Xtest = np.matrix([[0.1, 0.4],\n",
    "                   [0.5, 0.2],\n",
    "                   [0.8, 0.9],\n",
    "                   [0.24, 0.7],\n",
    "                   [0.6, 0.52]])\n",
    "Ytest = forrester_get_y(Xtest)\n",
    "X, Y, m_final, result = PBO(Xtest, Ytest, 30, dueling_thompson_sampling, forrester_get_y)"
   ]
  }
 ],
 "metadata": {
  "kernelspec": {
   "display_name": "Python 3",
   "language": "python",
   "name": "python3"
  },
  "language_info": {
   "codemirror_mode": {
    "name": "ipython",
    "version": 3
   },
   "file_extension": ".py",
   "mimetype": "text/x-python",
   "name": "python",
   "nbconvert_exporter": "python",
   "pygments_lexer": "ipython3",
   "version": "3.7.5"
  }
 },
 "nbformat": 4,
 "nbformat_minor": 4
}
